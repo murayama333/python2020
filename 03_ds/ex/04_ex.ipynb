{
  "nbformat": 4,
  "nbformat_minor": 0,
  "metadata": {
    "colab": {
      "name": "pandas_text_ex2_preview.ipynb",
      "provenance": [],
      "toc_visible": true
    },
    "kernelspec": {
      "name": "python3",
      "display_name": "Python 3"
    }
  },
  "cells": [
    {
      "cell_type": "markdown",
      "metadata": {
        "id": "ml4wNPaFD9Tx"
      },
      "source": [
        "# pandas - part5 - DataFrameのソート - Exercise\n",
        "\n",
        "---"
      ]
    },
    {
      "cell_type": "code",
      "metadata": {
        "id": "68gCmXza2zFi"
      },
      "source": [
        "!wget https://gist.githubusercontent.com/murayama333/bb6e828389735f1fad0c2bc339d3f441/raw/9981807fc80526faa01e6185845363e137c0d9be/staffs.csv"
      ],
      "execution_count": null,
      "outputs": []
    },
    {
      "cell_type": "code",
      "metadata": {
        "colab": {
          "base_uri": "https://localhost:8080/",
          "height": 359
        },
        "id": "5fEVsJrsC7tA",
        "outputId": "e825f095-cc97-41fd-a4c2-d945b3763322"
      },
      "source": [
        "import pandas as pd\n",
        "pd.options.display.precision = 2\n",
        "pd.options.display.float_format = '{:.2f}'.format\n",
        "\n",
        "staffs = pd.read_csv(\"staffs.csv\", index_col=0)\n",
        "staffs"
      ],
      "execution_count": 3,
      "outputs": [
        {
          "output_type": "execute_result",
          "data": {
            "text/html": [
              "<div>\n",
              "<style scoped>\n",
              "    .dataframe tbody tr th:only-of-type {\n",
              "        vertical-align: middle;\n",
              "    }\n",
              "\n",
              "    .dataframe tbody tr th {\n",
              "        vertical-align: top;\n",
              "    }\n",
              "\n",
              "    .dataframe thead th {\n",
              "        text-align: right;\n",
              "    }\n",
              "</style>\n",
              "<table border=\"1\" class=\"dataframe\">\n",
              "  <thead>\n",
              "    <tr style=\"text-align: right;\">\n",
              "      <th></th>\n",
              "      <th>name</th>\n",
              "      <th>age</th>\n",
              "      <th>sal</th>\n",
              "      <th>job</th>\n",
              "    </tr>\n",
              "    <tr>\n",
              "      <th>id</th>\n",
              "      <th></th>\n",
              "      <th></th>\n",
              "      <th></th>\n",
              "      <th></th>\n",
              "    </tr>\n",
              "  </thead>\n",
              "  <tbody>\n",
              "    <tr>\n",
              "      <th>1</th>\n",
              "      <td>Andy</td>\n",
              "      <td>27</td>\n",
              "      <td>650</td>\n",
              "      <td>sales</td>\n",
              "    </tr>\n",
              "    <tr>\n",
              "      <th>2</th>\n",
              "      <td>Betty</td>\n",
              "      <td>28</td>\n",
              "      <td>800</td>\n",
              "      <td>engineer</td>\n",
              "    </tr>\n",
              "    <tr>\n",
              "      <th>3</th>\n",
              "      <td>Charol</td>\n",
              "      <td>28</td>\n",
              "      <td>700</td>\n",
              "      <td>designer</td>\n",
              "    </tr>\n",
              "    <tr>\n",
              "      <th>4</th>\n",
              "      <td>Daniel</td>\n",
              "      <td>22</td>\n",
              "      <td>650</td>\n",
              "      <td>marketer</td>\n",
              "    </tr>\n",
              "    <tr>\n",
              "      <th>5</th>\n",
              "      <td>Ellen</td>\n",
              "      <td>24</td>\n",
              "      <td>700</td>\n",
              "      <td>sales</td>\n",
              "    </tr>\n",
              "    <tr>\n",
              "      <th>6</th>\n",
              "      <td>Flora</td>\n",
              "      <td>30</td>\n",
              "      <td>750</td>\n",
              "      <td>engineer</td>\n",
              "    </tr>\n",
              "    <tr>\n",
              "      <th>7</th>\n",
              "      <td>George</td>\n",
              "      <td>24</td>\n",
              "      <td>500</td>\n",
              "      <td>designer</td>\n",
              "    </tr>\n",
              "    <tr>\n",
              "      <th>8</th>\n",
              "      <td>Holly</td>\n",
              "      <td>32</td>\n",
              "      <td>650</td>\n",
              "      <td>engineer</td>\n",
              "    </tr>\n",
              "    <tr>\n",
              "      <th>9</th>\n",
              "      <td>Ian</td>\n",
              "      <td>32</td>\n",
              "      <td>700</td>\n",
              "      <td>manager</td>\n",
              "    </tr>\n",
              "  </tbody>\n",
              "</table>\n",
              "</div>"
            ],
            "text/plain": [
              "      name  age  sal       job\n",
              "id                            \n",
              "1     Andy   27  650     sales\n",
              "2    Betty   28  800  engineer\n",
              "3   Charol   28  700  designer\n",
              "4   Daniel   22  650  marketer\n",
              "5    Ellen   24  700     sales\n",
              "6    Flora   30  750  engineer\n",
              "7   George   24  500  designer\n",
              "8    Holly   32  650  engineer\n",
              "9      Ian   32  700   manager"
            ]
          },
          "metadata": {
            "tags": []
          },
          "execution_count": 3
        }
      ]
    },
    {
      "cell_type": "markdown",
      "metadata": {
        "id": "ylyumfL-saJM"
      },
      "source": [
        "## 5.1 age の昇順で出力してください。"
      ]
    },
    {
      "cell_type": "code",
      "metadata": {
        "colab": {
          "base_uri": "https://localhost:8080/",
          "height": 359
        },
        "id": "AkdB_l6UDInv",
        "outputId": "919a93f0-97a8-4c2a-c3b5-fe1aaf35d821"
      },
      "source": [
        ""
      ],
      "execution_count": 4,
      "outputs": [
        {
          "output_type": "execute_result",
          "data": {
            "text/html": [
              "<div>\n",
              "<style scoped>\n",
              "    .dataframe tbody tr th:only-of-type {\n",
              "        vertical-align: middle;\n",
              "    }\n",
              "\n",
              "    .dataframe tbody tr th {\n",
              "        vertical-align: top;\n",
              "    }\n",
              "\n",
              "    .dataframe thead th {\n",
              "        text-align: right;\n",
              "    }\n",
              "</style>\n",
              "<table border=\"1\" class=\"dataframe\">\n",
              "  <thead>\n",
              "    <tr style=\"text-align: right;\">\n",
              "      <th></th>\n",
              "      <th>name</th>\n",
              "      <th>age</th>\n",
              "      <th>sal</th>\n",
              "      <th>job</th>\n",
              "    </tr>\n",
              "    <tr>\n",
              "      <th>id</th>\n",
              "      <th></th>\n",
              "      <th></th>\n",
              "      <th></th>\n",
              "      <th></th>\n",
              "    </tr>\n",
              "  </thead>\n",
              "  <tbody>\n",
              "    <tr>\n",
              "      <th>4</th>\n",
              "      <td>Daniel</td>\n",
              "      <td>22</td>\n",
              "      <td>650</td>\n",
              "      <td>marketer</td>\n",
              "    </tr>\n",
              "    <tr>\n",
              "      <th>5</th>\n",
              "      <td>Ellen</td>\n",
              "      <td>24</td>\n",
              "      <td>700</td>\n",
              "      <td>sales</td>\n",
              "    </tr>\n",
              "    <tr>\n",
              "      <th>7</th>\n",
              "      <td>George</td>\n",
              "      <td>24</td>\n",
              "      <td>500</td>\n",
              "      <td>designer</td>\n",
              "    </tr>\n",
              "    <tr>\n",
              "      <th>1</th>\n",
              "      <td>Andy</td>\n",
              "      <td>27</td>\n",
              "      <td>650</td>\n",
              "      <td>sales</td>\n",
              "    </tr>\n",
              "    <tr>\n",
              "      <th>2</th>\n",
              "      <td>Betty</td>\n",
              "      <td>28</td>\n",
              "      <td>800</td>\n",
              "      <td>engineer</td>\n",
              "    </tr>\n",
              "    <tr>\n",
              "      <th>3</th>\n",
              "      <td>Charol</td>\n",
              "      <td>28</td>\n",
              "      <td>700</td>\n",
              "      <td>designer</td>\n",
              "    </tr>\n",
              "    <tr>\n",
              "      <th>6</th>\n",
              "      <td>Flora</td>\n",
              "      <td>30</td>\n",
              "      <td>750</td>\n",
              "      <td>engineer</td>\n",
              "    </tr>\n",
              "    <tr>\n",
              "      <th>8</th>\n",
              "      <td>Holly</td>\n",
              "      <td>32</td>\n",
              "      <td>650</td>\n",
              "      <td>engineer</td>\n",
              "    </tr>\n",
              "    <tr>\n",
              "      <th>9</th>\n",
              "      <td>Ian</td>\n",
              "      <td>32</td>\n",
              "      <td>700</td>\n",
              "      <td>manager</td>\n",
              "    </tr>\n",
              "  </tbody>\n",
              "</table>\n",
              "</div>"
            ],
            "text/plain": [
              "      name  age  sal       job\n",
              "id                            \n",
              "4   Daniel   22  650  marketer\n",
              "5    Ellen   24  700     sales\n",
              "7   George   24  500  designer\n",
              "1     Andy   27  650     sales\n",
              "2    Betty   28  800  engineer\n",
              "3   Charol   28  700  designer\n",
              "6    Flora   30  750  engineer\n",
              "8    Holly   32  650  engineer\n",
              "9      Ian   32  700   manager"
            ]
          },
          "metadata": {
            "tags": []
          },
          "execution_count": 4
        }
      ]
    },
    {
      "cell_type": "markdown",
      "metadata": {
        "id": "03EsYo4lshG7"
      },
      "source": [
        "## 5.2 sal の降順で出力してください。"
      ]
    },
    {
      "cell_type": "code",
      "metadata": {
        "colab": {
          "base_uri": "https://localhost:8080/",
          "height": 359
        },
        "id": "LYSfAIo5DBcs",
        "outputId": "a0cc0d5d-8021-4d57-c4c7-116da0e9823f"
      },
      "source": [
        ""
      ],
      "execution_count": 5,
      "outputs": [
        {
          "output_type": "execute_result",
          "data": {
            "text/html": [
              "<div>\n",
              "<style scoped>\n",
              "    .dataframe tbody tr th:only-of-type {\n",
              "        vertical-align: middle;\n",
              "    }\n",
              "\n",
              "    .dataframe tbody tr th {\n",
              "        vertical-align: top;\n",
              "    }\n",
              "\n",
              "    .dataframe thead th {\n",
              "        text-align: right;\n",
              "    }\n",
              "</style>\n",
              "<table border=\"1\" class=\"dataframe\">\n",
              "  <thead>\n",
              "    <tr style=\"text-align: right;\">\n",
              "      <th></th>\n",
              "      <th>name</th>\n",
              "      <th>age</th>\n",
              "      <th>sal</th>\n",
              "      <th>job</th>\n",
              "    </tr>\n",
              "    <tr>\n",
              "      <th>id</th>\n",
              "      <th></th>\n",
              "      <th></th>\n",
              "      <th></th>\n",
              "      <th></th>\n",
              "    </tr>\n",
              "  </thead>\n",
              "  <tbody>\n",
              "    <tr>\n",
              "      <th>2</th>\n",
              "      <td>Betty</td>\n",
              "      <td>28</td>\n",
              "      <td>800</td>\n",
              "      <td>engineer</td>\n",
              "    </tr>\n",
              "    <tr>\n",
              "      <th>6</th>\n",
              "      <td>Flora</td>\n",
              "      <td>30</td>\n",
              "      <td>750</td>\n",
              "      <td>engineer</td>\n",
              "    </tr>\n",
              "    <tr>\n",
              "      <th>3</th>\n",
              "      <td>Charol</td>\n",
              "      <td>28</td>\n",
              "      <td>700</td>\n",
              "      <td>designer</td>\n",
              "    </tr>\n",
              "    <tr>\n",
              "      <th>5</th>\n",
              "      <td>Ellen</td>\n",
              "      <td>24</td>\n",
              "      <td>700</td>\n",
              "      <td>sales</td>\n",
              "    </tr>\n",
              "    <tr>\n",
              "      <th>9</th>\n",
              "      <td>Ian</td>\n",
              "      <td>32</td>\n",
              "      <td>700</td>\n",
              "      <td>manager</td>\n",
              "    </tr>\n",
              "    <tr>\n",
              "      <th>1</th>\n",
              "      <td>Andy</td>\n",
              "      <td>27</td>\n",
              "      <td>650</td>\n",
              "      <td>sales</td>\n",
              "    </tr>\n",
              "    <tr>\n",
              "      <th>4</th>\n",
              "      <td>Daniel</td>\n",
              "      <td>22</td>\n",
              "      <td>650</td>\n",
              "      <td>marketer</td>\n",
              "    </tr>\n",
              "    <tr>\n",
              "      <th>8</th>\n",
              "      <td>Holly</td>\n",
              "      <td>32</td>\n",
              "      <td>650</td>\n",
              "      <td>engineer</td>\n",
              "    </tr>\n",
              "    <tr>\n",
              "      <th>7</th>\n",
              "      <td>George</td>\n",
              "      <td>24</td>\n",
              "      <td>500</td>\n",
              "      <td>designer</td>\n",
              "    </tr>\n",
              "  </tbody>\n",
              "</table>\n",
              "</div>"
            ],
            "text/plain": [
              "      name  age  sal       job\n",
              "id                            \n",
              "2    Betty   28  800  engineer\n",
              "6    Flora   30  750  engineer\n",
              "3   Charol   28  700  designer\n",
              "5    Ellen   24  700     sales\n",
              "9      Ian   32  700   manager\n",
              "1     Andy   27  650     sales\n",
              "4   Daniel   22  650  marketer\n",
              "8    Holly   32  650  engineer\n",
              "7   George   24  500  designer"
            ]
          },
          "metadata": {
            "tags": []
          },
          "execution_count": 5
        }
      ]
    },
    {
      "cell_type": "markdown",
      "metadata": {
        "id": "3v2YlhXdsmuP"
      },
      "source": [
        "## 5.3 job の昇順、sal の降順で出力してください。"
      ]
    },
    {
      "cell_type": "code",
      "metadata": {
        "colab": {
          "base_uri": "https://localhost:8080/",
          "height": 359
        },
        "id": "gHrA270NDOQo",
        "outputId": "c8f788e6-6976-4941-dd2c-39e405d4a48f"
      },
      "source": [
        ""
      ],
      "execution_count": 6,
      "outputs": [
        {
          "output_type": "execute_result",
          "data": {
            "text/html": [
              "<div>\n",
              "<style scoped>\n",
              "    .dataframe tbody tr th:only-of-type {\n",
              "        vertical-align: middle;\n",
              "    }\n",
              "\n",
              "    .dataframe tbody tr th {\n",
              "        vertical-align: top;\n",
              "    }\n",
              "\n",
              "    .dataframe thead th {\n",
              "        text-align: right;\n",
              "    }\n",
              "</style>\n",
              "<table border=\"1\" class=\"dataframe\">\n",
              "  <thead>\n",
              "    <tr style=\"text-align: right;\">\n",
              "      <th></th>\n",
              "      <th>name</th>\n",
              "      <th>age</th>\n",
              "      <th>sal</th>\n",
              "      <th>job</th>\n",
              "    </tr>\n",
              "    <tr>\n",
              "      <th>id</th>\n",
              "      <th></th>\n",
              "      <th></th>\n",
              "      <th></th>\n",
              "      <th></th>\n",
              "    </tr>\n",
              "  </thead>\n",
              "  <tbody>\n",
              "    <tr>\n",
              "      <th>3</th>\n",
              "      <td>Charol</td>\n",
              "      <td>28</td>\n",
              "      <td>700</td>\n",
              "      <td>designer</td>\n",
              "    </tr>\n",
              "    <tr>\n",
              "      <th>7</th>\n",
              "      <td>George</td>\n",
              "      <td>24</td>\n",
              "      <td>500</td>\n",
              "      <td>designer</td>\n",
              "    </tr>\n",
              "    <tr>\n",
              "      <th>2</th>\n",
              "      <td>Betty</td>\n",
              "      <td>28</td>\n",
              "      <td>800</td>\n",
              "      <td>engineer</td>\n",
              "    </tr>\n",
              "    <tr>\n",
              "      <th>6</th>\n",
              "      <td>Flora</td>\n",
              "      <td>30</td>\n",
              "      <td>750</td>\n",
              "      <td>engineer</td>\n",
              "    </tr>\n",
              "    <tr>\n",
              "      <th>8</th>\n",
              "      <td>Holly</td>\n",
              "      <td>32</td>\n",
              "      <td>650</td>\n",
              "      <td>engineer</td>\n",
              "    </tr>\n",
              "    <tr>\n",
              "      <th>9</th>\n",
              "      <td>Ian</td>\n",
              "      <td>32</td>\n",
              "      <td>700</td>\n",
              "      <td>manager</td>\n",
              "    </tr>\n",
              "    <tr>\n",
              "      <th>4</th>\n",
              "      <td>Daniel</td>\n",
              "      <td>22</td>\n",
              "      <td>650</td>\n",
              "      <td>marketer</td>\n",
              "    </tr>\n",
              "    <tr>\n",
              "      <th>5</th>\n",
              "      <td>Ellen</td>\n",
              "      <td>24</td>\n",
              "      <td>700</td>\n",
              "      <td>sales</td>\n",
              "    </tr>\n",
              "    <tr>\n",
              "      <th>1</th>\n",
              "      <td>Andy</td>\n",
              "      <td>27</td>\n",
              "      <td>650</td>\n",
              "      <td>sales</td>\n",
              "    </tr>\n",
              "  </tbody>\n",
              "</table>\n",
              "</div>"
            ],
            "text/plain": [
              "      name  age  sal       job\n",
              "id                            \n",
              "3   Charol   28  700  designer\n",
              "7   George   24  500  designer\n",
              "2    Betty   28  800  engineer\n",
              "6    Flora   30  750  engineer\n",
              "8    Holly   32  650  engineer\n",
              "9      Ian   32  700   manager\n",
              "4   Daniel   22  650  marketer\n",
              "5    Ellen   24  700     sales\n",
              "1     Andy   27  650     sales"
            ]
          },
          "metadata": {
            "tags": []
          },
          "execution_count": 6
        }
      ]
    },
    {
      "cell_type": "markdown",
      "metadata": {
        "id": "8-2yFpSmD5Ng"
      },
      "source": [
        "# pandas - part6 - DataFrameのグループ化 - Exercise\n",
        "\n",
        "---"
      ]
    },
    {
      "cell_type": "code",
      "metadata": {
        "colab": {
          "base_uri": "https://localhost:8080/",
          "height": 359
        },
        "id": "NdFCEC95HtZk",
        "outputId": "a8b3985f-5ff8-4565-c54f-a3d3875a510d"
      },
      "source": [
        "import pandas as pd\n",
        "pd.options.display.precision = 2\n",
        "pd.options.display.float_format = '{:.2f}'.format\n",
        "\n",
        "staffs = pd.read_csv(\"staffs.csv\", index_col=0)\n",
        "staffs"
      ],
      "execution_count": 7,
      "outputs": [
        {
          "output_type": "execute_result",
          "data": {
            "text/html": [
              "<div>\n",
              "<style scoped>\n",
              "    .dataframe tbody tr th:only-of-type {\n",
              "        vertical-align: middle;\n",
              "    }\n",
              "\n",
              "    .dataframe tbody tr th {\n",
              "        vertical-align: top;\n",
              "    }\n",
              "\n",
              "    .dataframe thead th {\n",
              "        text-align: right;\n",
              "    }\n",
              "</style>\n",
              "<table border=\"1\" class=\"dataframe\">\n",
              "  <thead>\n",
              "    <tr style=\"text-align: right;\">\n",
              "      <th></th>\n",
              "      <th>name</th>\n",
              "      <th>age</th>\n",
              "      <th>sal</th>\n",
              "      <th>job</th>\n",
              "    </tr>\n",
              "    <tr>\n",
              "      <th>id</th>\n",
              "      <th></th>\n",
              "      <th></th>\n",
              "      <th></th>\n",
              "      <th></th>\n",
              "    </tr>\n",
              "  </thead>\n",
              "  <tbody>\n",
              "    <tr>\n",
              "      <th>1</th>\n",
              "      <td>Andy</td>\n",
              "      <td>27</td>\n",
              "      <td>650</td>\n",
              "      <td>sales</td>\n",
              "    </tr>\n",
              "    <tr>\n",
              "      <th>2</th>\n",
              "      <td>Betty</td>\n",
              "      <td>28</td>\n",
              "      <td>800</td>\n",
              "      <td>engineer</td>\n",
              "    </tr>\n",
              "    <tr>\n",
              "      <th>3</th>\n",
              "      <td>Charol</td>\n",
              "      <td>28</td>\n",
              "      <td>700</td>\n",
              "      <td>designer</td>\n",
              "    </tr>\n",
              "    <tr>\n",
              "      <th>4</th>\n",
              "      <td>Daniel</td>\n",
              "      <td>22</td>\n",
              "      <td>650</td>\n",
              "      <td>marketer</td>\n",
              "    </tr>\n",
              "    <tr>\n",
              "      <th>5</th>\n",
              "      <td>Ellen</td>\n",
              "      <td>24</td>\n",
              "      <td>700</td>\n",
              "      <td>sales</td>\n",
              "    </tr>\n",
              "    <tr>\n",
              "      <th>6</th>\n",
              "      <td>Flora</td>\n",
              "      <td>30</td>\n",
              "      <td>750</td>\n",
              "      <td>engineer</td>\n",
              "    </tr>\n",
              "    <tr>\n",
              "      <th>7</th>\n",
              "      <td>George</td>\n",
              "      <td>24</td>\n",
              "      <td>500</td>\n",
              "      <td>designer</td>\n",
              "    </tr>\n",
              "    <tr>\n",
              "      <th>8</th>\n",
              "      <td>Holly</td>\n",
              "      <td>32</td>\n",
              "      <td>650</td>\n",
              "      <td>engineer</td>\n",
              "    </tr>\n",
              "    <tr>\n",
              "      <th>9</th>\n",
              "      <td>Ian</td>\n",
              "      <td>32</td>\n",
              "      <td>700</td>\n",
              "      <td>manager</td>\n",
              "    </tr>\n",
              "  </tbody>\n",
              "</table>\n",
              "</div>"
            ],
            "text/plain": [
              "      name  age  sal       job\n",
              "id                            \n",
              "1     Andy   27  650     sales\n",
              "2    Betty   28  800  engineer\n",
              "3   Charol   28  700  designer\n",
              "4   Daniel   22  650  marketer\n",
              "5    Ellen   24  700     sales\n",
              "6    Flora   30  750  engineer\n",
              "7   George   24  500  designer\n",
              "8    Holly   32  650  engineer\n",
              "9      Ian   32  700   manager"
            ]
          },
          "metadata": {
            "tags": []
          },
          "execution_count": 7
        }
      ]
    },
    {
      "cell_type": "markdown",
      "metadata": {
        "id": "vinAkcZqswUJ"
      },
      "source": [
        "## 6.1 job でグループ化して age sal の平均値を出力してください。"
      ]
    },
    {
      "cell_type": "code",
      "metadata": {
        "colab": {
          "base_uri": "https://localhost:8080/",
          "height": 235
        },
        "id": "QpI6P4SiD8Ln",
        "outputId": "298d3f68-15c4-496f-b1b4-a81521481f46"
      },
      "source": [
        ""
      ],
      "execution_count": 8,
      "outputs": [
        {
          "output_type": "execute_result",
          "data": {
            "text/html": [
              "<div>\n",
              "<style scoped>\n",
              "    .dataframe tbody tr th:only-of-type {\n",
              "        vertical-align: middle;\n",
              "    }\n",
              "\n",
              "    .dataframe tbody tr th {\n",
              "        vertical-align: top;\n",
              "    }\n",
              "\n",
              "    .dataframe thead th {\n",
              "        text-align: right;\n",
              "    }\n",
              "</style>\n",
              "<table border=\"1\" class=\"dataframe\">\n",
              "  <thead>\n",
              "    <tr style=\"text-align: right;\">\n",
              "      <th></th>\n",
              "      <th>age</th>\n",
              "      <th>sal</th>\n",
              "    </tr>\n",
              "    <tr>\n",
              "      <th>job</th>\n",
              "      <th></th>\n",
              "      <th></th>\n",
              "    </tr>\n",
              "  </thead>\n",
              "  <tbody>\n",
              "    <tr>\n",
              "      <th>designer</th>\n",
              "      <td>26.00</td>\n",
              "      <td>600.00</td>\n",
              "    </tr>\n",
              "    <tr>\n",
              "      <th>engineer</th>\n",
              "      <td>30.00</td>\n",
              "      <td>733.33</td>\n",
              "    </tr>\n",
              "    <tr>\n",
              "      <th>manager</th>\n",
              "      <td>32.00</td>\n",
              "      <td>700.00</td>\n",
              "    </tr>\n",
              "    <tr>\n",
              "      <th>marketer</th>\n",
              "      <td>22.00</td>\n",
              "      <td>650.00</td>\n",
              "    </tr>\n",
              "    <tr>\n",
              "      <th>sales</th>\n",
              "      <td>25.50</td>\n",
              "      <td>675.00</td>\n",
              "    </tr>\n",
              "  </tbody>\n",
              "</table>\n",
              "</div>"
            ],
            "text/plain": [
              "           age    sal\n",
              "job                  \n",
              "designer 26.00 600.00\n",
              "engineer 30.00 733.33\n",
              "manager  32.00 700.00\n",
              "marketer 22.00 650.00\n",
              "sales    25.50 675.00"
            ]
          },
          "metadata": {
            "tags": []
          },
          "execution_count": 8
        }
      ]
    },
    {
      "cell_type": "markdown",
      "metadata": {
        "id": "9-7ZSzk6s5U3"
      },
      "source": [
        "## 6.2 age でグループ化して sal の平均値を出力してください。"
      ]
    },
    {
      "cell_type": "code",
      "metadata": {
        "colab": {
          "base_uri": "https://localhost:8080/",
          "height": 266
        },
        "id": "C_ApaFHJEek2",
        "outputId": "fecfee9e-f887-4d69-f1f4-d76da7961599"
      },
      "source": [
        ""
      ],
      "execution_count": 9,
      "outputs": [
        {
          "output_type": "execute_result",
          "data": {
            "text/html": [
              "<div>\n",
              "<style scoped>\n",
              "    .dataframe tbody tr th:only-of-type {\n",
              "        vertical-align: middle;\n",
              "    }\n",
              "\n",
              "    .dataframe tbody tr th {\n",
              "        vertical-align: top;\n",
              "    }\n",
              "\n",
              "    .dataframe thead th {\n",
              "        text-align: right;\n",
              "    }\n",
              "</style>\n",
              "<table border=\"1\" class=\"dataframe\">\n",
              "  <thead>\n",
              "    <tr style=\"text-align: right;\">\n",
              "      <th></th>\n",
              "      <th>sal</th>\n",
              "    </tr>\n",
              "    <tr>\n",
              "      <th>age</th>\n",
              "      <th></th>\n",
              "    </tr>\n",
              "  </thead>\n",
              "  <tbody>\n",
              "    <tr>\n",
              "      <th>22</th>\n",
              "      <td>650</td>\n",
              "    </tr>\n",
              "    <tr>\n",
              "      <th>24</th>\n",
              "      <td>600</td>\n",
              "    </tr>\n",
              "    <tr>\n",
              "      <th>27</th>\n",
              "      <td>650</td>\n",
              "    </tr>\n",
              "    <tr>\n",
              "      <th>28</th>\n",
              "      <td>750</td>\n",
              "    </tr>\n",
              "    <tr>\n",
              "      <th>30</th>\n",
              "      <td>750</td>\n",
              "    </tr>\n",
              "    <tr>\n",
              "      <th>32</th>\n",
              "      <td>675</td>\n",
              "    </tr>\n",
              "  </tbody>\n",
              "</table>\n",
              "</div>"
            ],
            "text/plain": [
              "     sal\n",
              "age     \n",
              "22   650\n",
              "24   600\n",
              "27   650\n",
              "28   750\n",
              "30   750\n",
              "32   675"
            ]
          },
          "metadata": {
            "tags": []
          },
          "execution_count": 9
        }
      ]
    },
    {
      "cell_type": "markdown",
      "metadata": {
        "id": "_OD4d-25tAjG"
      },
      "source": [
        "## 6.3 age を20代、30代でグループ化して sal の平均値を出力してください。"
      ]
    },
    {
      "cell_type": "code",
      "metadata": {
        "colab": {
          "base_uri": "https://localhost:8080/",
          "height": 142
        },
        "id": "w3f-LqU6EnBj",
        "outputId": "a282ec0a-0864-490e-bb4f-84ae5d8f096d"
      },
      "source": [
        ""
      ],
      "execution_count": 13,
      "outputs": [
        {
          "output_type": "execute_result",
          "data": {
            "text/html": [
              "<div>\n",
              "<style scoped>\n",
              "    .dataframe tbody tr th:only-of-type {\n",
              "        vertical-align: middle;\n",
              "    }\n",
              "\n",
              "    .dataframe tbody tr th {\n",
              "        vertical-align: top;\n",
              "    }\n",
              "\n",
              "    .dataframe thead th {\n",
              "        text-align: right;\n",
              "    }\n",
              "</style>\n",
              "<table border=\"1\" class=\"dataframe\">\n",
              "  <thead>\n",
              "    <tr style=\"text-align: right;\">\n",
              "      <th></th>\n",
              "      <th>sal</th>\n",
              "    </tr>\n",
              "    <tr>\n",
              "      <th>age_group</th>\n",
              "      <th></th>\n",
              "    </tr>\n",
              "  </thead>\n",
              "  <tbody>\n",
              "    <tr>\n",
              "      <th>20</th>\n",
              "      <td>4000</td>\n",
              "    </tr>\n",
              "    <tr>\n",
              "      <th>30</th>\n",
              "      <td>2100</td>\n",
              "    </tr>\n",
              "  </tbody>\n",
              "</table>\n",
              "</div>"
            ],
            "text/plain": [
              "            sal\n",
              "age_group      \n",
              "20         4000\n",
              "30         2100"
            ]
          },
          "metadata": {
            "tags": []
          },
          "execution_count": 13
        }
      ]
    },
    {
      "cell_type": "markdown",
      "metadata": {
        "id": "FxIh_iCbtKM4"
      },
      "source": [
        "## 6.4 Pivotテーブルによって age_group, age をインデックスとして sal を出力してください。"
      ]
    },
    {
      "cell_type": "code",
      "metadata": {
        "colab": {
          "base_uri": "https://localhost:8080/",
          "height": 359
        },
        "id": "5mLf-hOpIa8S",
        "outputId": "2bad1da0-4e39-4199-9b8c-3a387fe63d81"
      },
      "source": [
        ""
      ],
      "execution_count": 14,
      "outputs": [
        {
          "output_type": "execute_result",
          "data": {
            "text/html": [
              "<div>\n",
              "<style scoped>\n",
              "    .dataframe tbody tr th:only-of-type {\n",
              "        vertical-align: middle;\n",
              "    }\n",
              "\n",
              "    .dataframe tbody tr th {\n",
              "        vertical-align: top;\n",
              "    }\n",
              "\n",
              "    .dataframe thead th {\n",
              "        text-align: right;\n",
              "    }\n",
              "</style>\n",
              "<table border=\"1\" class=\"dataframe\">\n",
              "  <thead>\n",
              "    <tr style=\"text-align: right;\">\n",
              "      <th></th>\n",
              "      <th></th>\n",
              "      <th>sal</th>\n",
              "    </tr>\n",
              "    <tr>\n",
              "      <th>age_group</th>\n",
              "      <th>age</th>\n",
              "      <th></th>\n",
              "    </tr>\n",
              "  </thead>\n",
              "  <tbody>\n",
              "    <tr>\n",
              "      <th rowspan=\"6\" valign=\"top\">20</th>\n",
              "      <th>22</th>\n",
              "      <td>650</td>\n",
              "    </tr>\n",
              "    <tr>\n",
              "      <th>24</th>\n",
              "      <td>700</td>\n",
              "    </tr>\n",
              "    <tr>\n",
              "      <th>24</th>\n",
              "      <td>500</td>\n",
              "    </tr>\n",
              "    <tr>\n",
              "      <th>27</th>\n",
              "      <td>650</td>\n",
              "    </tr>\n",
              "    <tr>\n",
              "      <th>28</th>\n",
              "      <td>800</td>\n",
              "    </tr>\n",
              "    <tr>\n",
              "      <th>28</th>\n",
              "      <td>700</td>\n",
              "    </tr>\n",
              "    <tr>\n",
              "      <th rowspan=\"3\" valign=\"top\">30</th>\n",
              "      <th>30</th>\n",
              "      <td>750</td>\n",
              "    </tr>\n",
              "    <tr>\n",
              "      <th>32</th>\n",
              "      <td>650</td>\n",
              "    </tr>\n",
              "    <tr>\n",
              "      <th>32</th>\n",
              "      <td>700</td>\n",
              "    </tr>\n",
              "  </tbody>\n",
              "</table>\n",
              "</div>"
            ],
            "text/plain": [
              "               sal\n",
              "age_group age     \n",
              "20        22   650\n",
              "          24   700\n",
              "          24   500\n",
              "          27   650\n",
              "          28   800\n",
              "          28   700\n",
              "30        30   750\n",
              "          32   650\n",
              "          32   700"
            ]
          },
          "metadata": {
            "tags": []
          },
          "execution_count": 14
        }
      ]
    },
    {
      "cell_type": "markdown",
      "metadata": {
        "id": "wnv9n8H6tJwA"
      },
      "source": [
        "## 6.5 Pivotテーブルによって age をインデックス、カラムに sal を指定して age を出力してください。"
      ]
    },
    {
      "cell_type": "code",
      "metadata": {
        "colab": {
          "base_uri": "https://localhost:8080/",
          "height": 297
        },
        "id": "BV4IVrhBJCf1",
        "outputId": "1e7932a3-783c-4ad3-b25f-649dbbeac302"
      },
      "source": [
        ""
      ],
      "execution_count": 15,
      "outputs": [
        {
          "output_type": "execute_result",
          "data": {
            "text/html": [
              "<div>\n",
              "<style scoped>\n",
              "    .dataframe tbody tr th:only-of-type {\n",
              "        vertical-align: middle;\n",
              "    }\n",
              "\n",
              "    .dataframe tbody tr th {\n",
              "        vertical-align: top;\n",
              "    }\n",
              "\n",
              "    .dataframe thead tr th {\n",
              "        text-align: left;\n",
              "    }\n",
              "\n",
              "    .dataframe thead tr:last-of-type th {\n",
              "        text-align: right;\n",
              "    }\n",
              "</style>\n",
              "<table border=\"1\" class=\"dataframe\">\n",
              "  <thead>\n",
              "    <tr>\n",
              "      <th></th>\n",
              "      <th colspan=\"5\" halign=\"left\">sal</th>\n",
              "    </tr>\n",
              "    <tr>\n",
              "      <th>job</th>\n",
              "      <th>designer</th>\n",
              "      <th>engineer</th>\n",
              "      <th>manager</th>\n",
              "      <th>marketer</th>\n",
              "      <th>sales</th>\n",
              "    </tr>\n",
              "    <tr>\n",
              "      <th>age</th>\n",
              "      <th></th>\n",
              "      <th></th>\n",
              "      <th></th>\n",
              "      <th></th>\n",
              "      <th></th>\n",
              "    </tr>\n",
              "  </thead>\n",
              "  <tbody>\n",
              "    <tr>\n",
              "      <th>22</th>\n",
              "      <td>nan</td>\n",
              "      <td>nan</td>\n",
              "      <td>nan</td>\n",
              "      <td>650.00</td>\n",
              "      <td>nan</td>\n",
              "    </tr>\n",
              "    <tr>\n",
              "      <th>24</th>\n",
              "      <td>500.00</td>\n",
              "      <td>nan</td>\n",
              "      <td>nan</td>\n",
              "      <td>nan</td>\n",
              "      <td>700.00</td>\n",
              "    </tr>\n",
              "    <tr>\n",
              "      <th>27</th>\n",
              "      <td>nan</td>\n",
              "      <td>nan</td>\n",
              "      <td>nan</td>\n",
              "      <td>nan</td>\n",
              "      <td>650.00</td>\n",
              "    </tr>\n",
              "    <tr>\n",
              "      <th>28</th>\n",
              "      <td>700.00</td>\n",
              "      <td>800.00</td>\n",
              "      <td>nan</td>\n",
              "      <td>nan</td>\n",
              "      <td>nan</td>\n",
              "    </tr>\n",
              "    <tr>\n",
              "      <th>30</th>\n",
              "      <td>nan</td>\n",
              "      <td>750.00</td>\n",
              "      <td>nan</td>\n",
              "      <td>nan</td>\n",
              "      <td>nan</td>\n",
              "    </tr>\n",
              "    <tr>\n",
              "      <th>32</th>\n",
              "      <td>nan</td>\n",
              "      <td>650.00</td>\n",
              "      <td>700.00</td>\n",
              "      <td>nan</td>\n",
              "      <td>nan</td>\n",
              "    </tr>\n",
              "  </tbody>\n",
              "</table>\n",
              "</div>"
            ],
            "text/plain": [
              "         sal                                 \n",
              "job designer engineer manager marketer  sales\n",
              "age                                          \n",
              "22       nan      nan     nan   650.00    nan\n",
              "24    500.00      nan     nan      nan 700.00\n",
              "27       nan      nan     nan      nan 650.00\n",
              "28    700.00   800.00     nan      nan    nan\n",
              "30       nan   750.00     nan      nan    nan\n",
              "32       nan   650.00  700.00      nan    nan"
            ]
          },
          "metadata": {
            "tags": []
          },
          "execution_count": 15
        }
      ]
    },
    {
      "cell_type": "markdown",
      "metadata": {
        "id": "ET0D_kb9GX8z"
      },
      "source": [
        "# pandas - part7 - DataFrameの結合 - Exercise\n",
        "\n",
        "---"
      ]
    },
    {
      "cell_type": "code",
      "metadata": {
        "id": "a4Lktbo8fTW_"
      },
      "source": [
        "!wget https://gist.githubusercontent.com/murayama333/ea9aedf998d73c2367044ae295e48e9c/raw/3bad253e0f7bb9987d2fdc0f9051f4acaa6d9eec/staffs2.csv"
      ],
      "execution_count": null,
      "outputs": []
    },
    {
      "cell_type": "code",
      "metadata": {
        "id": "OLEkX6plfUEL"
      },
      "source": [
        "!wget https://gist.githubusercontent.com/murayama333/328c72b8c2d0c6cf26b765e227e63756/raw/fd251b7c37e3574e458443a93cd5bb00dd09e12d/jobs.csv"
      ],
      "execution_count": null,
      "outputs": []
    },
    {
      "cell_type": "code",
      "metadata": {
        "colab": {
          "base_uri": "https://localhost:8080/",
          "height": 359
        },
        "id": "ewu3-20YfZaB",
        "outputId": "e6b38f4d-8821-4b22-a10f-c2aa5a3a5314"
      },
      "source": [
        "import pandas as pd\n",
        "pd.options.display.precision = 2\n",
        "pd.options.display.float_format = '{:.2f}'.format\n",
        "\n",
        "staffs = pd.read_csv(\"staffs2.csv\", index_col=0)\n",
        "staffs"
      ],
      "execution_count": 18,
      "outputs": [
        {
          "output_type": "execute_result",
          "data": {
            "text/html": [
              "<div>\n",
              "<style scoped>\n",
              "    .dataframe tbody tr th:only-of-type {\n",
              "        vertical-align: middle;\n",
              "    }\n",
              "\n",
              "    .dataframe tbody tr th {\n",
              "        vertical-align: top;\n",
              "    }\n",
              "\n",
              "    .dataframe thead th {\n",
              "        text-align: right;\n",
              "    }\n",
              "</style>\n",
              "<table border=\"1\" class=\"dataframe\">\n",
              "  <thead>\n",
              "    <tr style=\"text-align: right;\">\n",
              "      <th></th>\n",
              "      <th>name</th>\n",
              "      <th>age</th>\n",
              "      <th>sal</th>\n",
              "      <th>job_id</th>\n",
              "    </tr>\n",
              "    <tr>\n",
              "      <th>id</th>\n",
              "      <th></th>\n",
              "      <th></th>\n",
              "      <th></th>\n",
              "      <th></th>\n",
              "    </tr>\n",
              "  </thead>\n",
              "  <tbody>\n",
              "    <tr>\n",
              "      <th>1</th>\n",
              "      <td>Andy</td>\n",
              "      <td>27</td>\n",
              "      <td>650</td>\n",
              "      <td>1</td>\n",
              "    </tr>\n",
              "    <tr>\n",
              "      <th>2</th>\n",
              "      <td>Betty</td>\n",
              "      <td>28</td>\n",
              "      <td>800</td>\n",
              "      <td>2</td>\n",
              "    </tr>\n",
              "    <tr>\n",
              "      <th>3</th>\n",
              "      <td>Charol</td>\n",
              "      <td>28</td>\n",
              "      <td>700</td>\n",
              "      <td>3</td>\n",
              "    </tr>\n",
              "    <tr>\n",
              "      <th>4</th>\n",
              "      <td>Daniel</td>\n",
              "      <td>22</td>\n",
              "      <td>650</td>\n",
              "      <td>4</td>\n",
              "    </tr>\n",
              "    <tr>\n",
              "      <th>5</th>\n",
              "      <td>Ellen</td>\n",
              "      <td>24</td>\n",
              "      <td>700</td>\n",
              "      <td>1</td>\n",
              "    </tr>\n",
              "    <tr>\n",
              "      <th>6</th>\n",
              "      <td>Flora</td>\n",
              "      <td>30</td>\n",
              "      <td>750</td>\n",
              "      <td>2</td>\n",
              "    </tr>\n",
              "    <tr>\n",
              "      <th>7</th>\n",
              "      <td>George</td>\n",
              "      <td>24</td>\n",
              "      <td>500</td>\n",
              "      <td>3</td>\n",
              "    </tr>\n",
              "    <tr>\n",
              "      <th>8</th>\n",
              "      <td>Holly</td>\n",
              "      <td>32</td>\n",
              "      <td>650</td>\n",
              "      <td>2</td>\n",
              "    </tr>\n",
              "    <tr>\n",
              "      <th>9</th>\n",
              "      <td>Ian</td>\n",
              "      <td>32</td>\n",
              "      <td>700</td>\n",
              "      <td>5</td>\n",
              "    </tr>\n",
              "  </tbody>\n",
              "</table>\n",
              "</div>"
            ],
            "text/plain": [
              "      name  age  sal  job_id\n",
              "id                          \n",
              "1     Andy   27  650       1\n",
              "2    Betty   28  800       2\n",
              "3   Charol   28  700       3\n",
              "4   Daniel   22  650       4\n",
              "5    Ellen   24  700       1\n",
              "6    Flora   30  750       2\n",
              "7   George   24  500       3\n",
              "8    Holly   32  650       2\n",
              "9      Ian   32  700       5"
            ]
          },
          "metadata": {
            "tags": []
          },
          "execution_count": 18
        }
      ]
    },
    {
      "cell_type": "code",
      "metadata": {
        "colab": {
          "base_uri": "https://localhost:8080/",
          "height": 204
        },
        "id": "zTcGgt_1fawm",
        "outputId": "008355b5-6891-419b-9bd1-6e6a716c7741"
      },
      "source": [
        "jobs = pd.read_csv(\"jobs.csv\", index_col=0)\n",
        "jobs"
      ],
      "execution_count": 19,
      "outputs": [
        {
          "output_type": "execute_result",
          "data": {
            "text/html": [
              "<div>\n",
              "<style scoped>\n",
              "    .dataframe tbody tr th:only-of-type {\n",
              "        vertical-align: middle;\n",
              "    }\n",
              "\n",
              "    .dataframe tbody tr th {\n",
              "        vertical-align: top;\n",
              "    }\n",
              "\n",
              "    .dataframe thead th {\n",
              "        text-align: right;\n",
              "    }\n",
              "</style>\n",
              "<table border=\"1\" class=\"dataframe\">\n",
              "  <thead>\n",
              "    <tr style=\"text-align: right;\">\n",
              "      <th></th>\n",
              "      <th>name</th>\n",
              "    </tr>\n",
              "    <tr>\n",
              "      <th>id</th>\n",
              "      <th></th>\n",
              "    </tr>\n",
              "  </thead>\n",
              "  <tbody>\n",
              "    <tr>\n",
              "      <th>1</th>\n",
              "      <td>sales</td>\n",
              "    </tr>\n",
              "    <tr>\n",
              "      <th>2</th>\n",
              "      <td>engineer</td>\n",
              "    </tr>\n",
              "    <tr>\n",
              "      <th>3</th>\n",
              "      <td>designer</td>\n",
              "    </tr>\n",
              "    <tr>\n",
              "      <th>4</th>\n",
              "      <td>marketer</td>\n",
              "    </tr>\n",
              "  </tbody>\n",
              "</table>\n",
              "</div>"
            ],
            "text/plain": [
              "        name\n",
              "id          \n",
              "1      sales\n",
              "2   engineer\n",
              "3   designer\n",
              "4   marketer"
            ]
          },
          "metadata": {
            "tags": []
          },
          "execution_count": 19
        }
      ]
    },
    {
      "cell_type": "markdown",
      "metadata": {
        "id": "_lYCxpmmtxJk"
      },
      "source": [
        "## 7.1 staffs と jobs を左外部結合して出力してください。"
      ]
    },
    {
      "cell_type": "code",
      "metadata": {
        "colab": {
          "base_uri": "https://localhost:8080/",
          "height": 359
        },
        "id": "bI4PkKtBfwva",
        "outputId": "e63b4f95-205b-4b52-b0c4-a795d1763db4"
      },
      "source": [
        ""
      ],
      "execution_count": 20,
      "outputs": [
        {
          "output_type": "execute_result",
          "data": {
            "text/html": [
              "<div>\n",
              "<style scoped>\n",
              "    .dataframe tbody tr th:only-of-type {\n",
              "        vertical-align: middle;\n",
              "    }\n",
              "\n",
              "    .dataframe tbody tr th {\n",
              "        vertical-align: top;\n",
              "    }\n",
              "\n",
              "    .dataframe thead th {\n",
              "        text-align: right;\n",
              "    }\n",
              "</style>\n",
              "<table border=\"1\" class=\"dataframe\">\n",
              "  <thead>\n",
              "    <tr style=\"text-align: right;\">\n",
              "      <th></th>\n",
              "      <th>name</th>\n",
              "      <th>age</th>\n",
              "      <th>sal</th>\n",
              "      <th>job_id</th>\n",
              "      <th>name_jobs</th>\n",
              "    </tr>\n",
              "    <tr>\n",
              "      <th>id</th>\n",
              "      <th></th>\n",
              "      <th></th>\n",
              "      <th></th>\n",
              "      <th></th>\n",
              "      <th></th>\n",
              "    </tr>\n",
              "  </thead>\n",
              "  <tbody>\n",
              "    <tr>\n",
              "      <th>1</th>\n",
              "      <td>Andy</td>\n",
              "      <td>27</td>\n",
              "      <td>650</td>\n",
              "      <td>1</td>\n",
              "      <td>sales</td>\n",
              "    </tr>\n",
              "    <tr>\n",
              "      <th>2</th>\n",
              "      <td>Betty</td>\n",
              "      <td>28</td>\n",
              "      <td>800</td>\n",
              "      <td>2</td>\n",
              "      <td>engineer</td>\n",
              "    </tr>\n",
              "    <tr>\n",
              "      <th>3</th>\n",
              "      <td>Charol</td>\n",
              "      <td>28</td>\n",
              "      <td>700</td>\n",
              "      <td>3</td>\n",
              "      <td>designer</td>\n",
              "    </tr>\n",
              "    <tr>\n",
              "      <th>4</th>\n",
              "      <td>Daniel</td>\n",
              "      <td>22</td>\n",
              "      <td>650</td>\n",
              "      <td>4</td>\n",
              "      <td>marketer</td>\n",
              "    </tr>\n",
              "    <tr>\n",
              "      <th>5</th>\n",
              "      <td>Ellen</td>\n",
              "      <td>24</td>\n",
              "      <td>700</td>\n",
              "      <td>1</td>\n",
              "      <td>sales</td>\n",
              "    </tr>\n",
              "    <tr>\n",
              "      <th>6</th>\n",
              "      <td>Flora</td>\n",
              "      <td>30</td>\n",
              "      <td>750</td>\n",
              "      <td>2</td>\n",
              "      <td>engineer</td>\n",
              "    </tr>\n",
              "    <tr>\n",
              "      <th>7</th>\n",
              "      <td>George</td>\n",
              "      <td>24</td>\n",
              "      <td>500</td>\n",
              "      <td>3</td>\n",
              "      <td>designer</td>\n",
              "    </tr>\n",
              "    <tr>\n",
              "      <th>8</th>\n",
              "      <td>Holly</td>\n",
              "      <td>32</td>\n",
              "      <td>650</td>\n",
              "      <td>2</td>\n",
              "      <td>engineer</td>\n",
              "    </tr>\n",
              "    <tr>\n",
              "      <th>9</th>\n",
              "      <td>Ian</td>\n",
              "      <td>32</td>\n",
              "      <td>700</td>\n",
              "      <td>5</td>\n",
              "      <td>NaN</td>\n",
              "    </tr>\n",
              "  </tbody>\n",
              "</table>\n",
              "</div>"
            ],
            "text/plain": [
              "      name  age  sal  job_id name_jobs\n",
              "id                                    \n",
              "1     Andy   27  650       1     sales\n",
              "2    Betty   28  800       2  engineer\n",
              "3   Charol   28  700       3  designer\n",
              "4   Daniel   22  650       4  marketer\n",
              "5    Ellen   24  700       1     sales\n",
              "6    Flora   30  750       2  engineer\n",
              "7   George   24  500       3  designer\n",
              "8    Holly   32  650       2  engineer\n",
              "9      Ian   32  700       5       NaN"
            ]
          },
          "metadata": {
            "tags": []
          },
          "execution_count": 20
        }
      ]
    },
    {
      "cell_type": "markdown",
      "metadata": {
        "id": "phRRZsJkt7G5"
      },
      "source": [
        "## 7.2 staffs と jobs を内部結合して出力してください。"
      ]
    },
    {
      "cell_type": "code",
      "metadata": {
        "colab": {
          "base_uri": "https://localhost:8080/",
          "height": 328
        },
        "id": "x1gAMjpvhN-o",
        "outputId": "7b15ee7d-ccd1-404d-fcf1-d262d24d6b17"
      },
      "source": [
        ""
      ],
      "execution_count": 21,
      "outputs": [
        {
          "output_type": "execute_result",
          "data": {
            "text/html": [
              "<div>\n",
              "<style scoped>\n",
              "    .dataframe tbody tr th:only-of-type {\n",
              "        vertical-align: middle;\n",
              "    }\n",
              "\n",
              "    .dataframe tbody tr th {\n",
              "        vertical-align: top;\n",
              "    }\n",
              "\n",
              "    .dataframe thead th {\n",
              "        text-align: right;\n",
              "    }\n",
              "</style>\n",
              "<table border=\"1\" class=\"dataframe\">\n",
              "  <thead>\n",
              "    <tr style=\"text-align: right;\">\n",
              "      <th></th>\n",
              "      <th>name</th>\n",
              "      <th>age</th>\n",
              "      <th>sal</th>\n",
              "      <th>job_id</th>\n",
              "      <th>name_jobs</th>\n",
              "    </tr>\n",
              "    <tr>\n",
              "      <th>id</th>\n",
              "      <th></th>\n",
              "      <th></th>\n",
              "      <th></th>\n",
              "      <th></th>\n",
              "      <th></th>\n",
              "    </tr>\n",
              "  </thead>\n",
              "  <tbody>\n",
              "    <tr>\n",
              "      <th>1</th>\n",
              "      <td>Andy</td>\n",
              "      <td>27</td>\n",
              "      <td>650</td>\n",
              "      <td>1</td>\n",
              "      <td>sales</td>\n",
              "    </tr>\n",
              "    <tr>\n",
              "      <th>2</th>\n",
              "      <td>Betty</td>\n",
              "      <td>28</td>\n",
              "      <td>800</td>\n",
              "      <td>2</td>\n",
              "      <td>engineer</td>\n",
              "    </tr>\n",
              "    <tr>\n",
              "      <th>3</th>\n",
              "      <td>Charol</td>\n",
              "      <td>28</td>\n",
              "      <td>700</td>\n",
              "      <td>3</td>\n",
              "      <td>designer</td>\n",
              "    </tr>\n",
              "    <tr>\n",
              "      <th>4</th>\n",
              "      <td>Daniel</td>\n",
              "      <td>22</td>\n",
              "      <td>650</td>\n",
              "      <td>4</td>\n",
              "      <td>marketer</td>\n",
              "    </tr>\n",
              "    <tr>\n",
              "      <th>5</th>\n",
              "      <td>Ellen</td>\n",
              "      <td>24</td>\n",
              "      <td>700</td>\n",
              "      <td>1</td>\n",
              "      <td>sales</td>\n",
              "    </tr>\n",
              "    <tr>\n",
              "      <th>6</th>\n",
              "      <td>Flora</td>\n",
              "      <td>30</td>\n",
              "      <td>750</td>\n",
              "      <td>2</td>\n",
              "      <td>engineer</td>\n",
              "    </tr>\n",
              "    <tr>\n",
              "      <th>7</th>\n",
              "      <td>George</td>\n",
              "      <td>24</td>\n",
              "      <td>500</td>\n",
              "      <td>3</td>\n",
              "      <td>designer</td>\n",
              "    </tr>\n",
              "    <tr>\n",
              "      <th>8</th>\n",
              "      <td>Holly</td>\n",
              "      <td>32</td>\n",
              "      <td>650</td>\n",
              "      <td>2</td>\n",
              "      <td>engineer</td>\n",
              "    </tr>\n",
              "  </tbody>\n",
              "</table>\n",
              "</div>"
            ],
            "text/plain": [
              "      name  age  sal  job_id name_jobs\n",
              "id                                    \n",
              "1     Andy   27  650       1     sales\n",
              "2    Betty   28  800       2  engineer\n",
              "3   Charol   28  700       3  designer\n",
              "4   Daniel   22  650       4  marketer\n",
              "5    Ellen   24  700       1     sales\n",
              "6    Flora   30  750       2  engineer\n",
              "7   George   24  500       3  designer\n",
              "8    Holly   32  650       2  engineer"
            ]
          },
          "metadata": {
            "tags": []
          },
          "execution_count": 21
        }
      ]
    },
    {
      "cell_type": "markdown",
      "metadata": {
        "id": "X334xXh7t-Ez"
      },
      "source": [
        "## 7.3 staffs と jobs を内部結合し、name_jobs でグループ化して sa lの平均値を出力してください。"
      ]
    },
    {
      "cell_type": "code",
      "metadata": {
        "colab": {
          "base_uri": "https://localhost:8080/",
          "height": 204
        },
        "id": "fIX_2inshfm_",
        "outputId": "545cc43b-0998-4b9d-a5fc-82636562f008"
      },
      "source": [
        ""
      ],
      "execution_count": 22,
      "outputs": [
        {
          "output_type": "execute_result",
          "data": {
            "text/html": [
              "<div>\n",
              "<style scoped>\n",
              "    .dataframe tbody tr th:only-of-type {\n",
              "        vertical-align: middle;\n",
              "    }\n",
              "\n",
              "    .dataframe tbody tr th {\n",
              "        vertical-align: top;\n",
              "    }\n",
              "\n",
              "    .dataframe thead th {\n",
              "        text-align: right;\n",
              "    }\n",
              "</style>\n",
              "<table border=\"1\" class=\"dataframe\">\n",
              "  <thead>\n",
              "    <tr style=\"text-align: right;\">\n",
              "      <th></th>\n",
              "      <th>sal</th>\n",
              "    </tr>\n",
              "    <tr>\n",
              "      <th>name_jobs</th>\n",
              "      <th></th>\n",
              "    </tr>\n",
              "  </thead>\n",
              "  <tbody>\n",
              "    <tr>\n",
              "      <th>designer</th>\n",
              "      <td>600.00</td>\n",
              "    </tr>\n",
              "    <tr>\n",
              "      <th>engineer</th>\n",
              "      <td>733.33</td>\n",
              "    </tr>\n",
              "    <tr>\n",
              "      <th>marketer</th>\n",
              "      <td>650.00</td>\n",
              "    </tr>\n",
              "    <tr>\n",
              "      <th>sales</th>\n",
              "      <td>675.00</td>\n",
              "    </tr>\n",
              "  </tbody>\n",
              "</table>\n",
              "</div>"
            ],
            "text/plain": [
              "             sal\n",
              "name_jobs       \n",
              "designer  600.00\n",
              "engineer  733.33\n",
              "marketer  650.00\n",
              "sales     675.00"
            ]
          },
          "metadata": {
            "tags": []
          },
          "execution_count": 22
        }
      ]
    },
    {
      "cell_type": "markdown",
      "metadata": {
        "id": "wuS2dAi4h8NN"
      },
      "source": [
        "# pandas - part8 - 欠損値の補完 - Exercise\n",
        "\n",
        "---\n"
      ]
    },
    {
      "cell_type": "code",
      "metadata": {
        "id": "pSL-VPkSiDLe"
      },
      "source": [
        "!wget https://gist.githubusercontent.com/murayama333/9adfdf22c897fc818a0e4c845e8cb7cd/raw/5daa5ad4fe36a77df11e8f439543d8f2c60a4fee/staffs3.csv"
      ],
      "execution_count": null,
      "outputs": []
    },
    {
      "cell_type": "code",
      "metadata": {
        "colab": {
          "base_uri": "https://localhost:8080/",
          "height": 359
        },
        "id": "LBH_sU1PiVzd",
        "outputId": "3ff0e7ff-6aca-4e7c-9903-acf866fded8d"
      },
      "source": [
        "import pandas as pd\n",
        "pd.options.display.precision = 2\n",
        "pd.options.display.float_format = '{:.2f}'.format\n",
        "\n",
        "staffs = pd.read_csv(\"staffs3.csv\", index_col=0)\n",
        "\n",
        "staffs"
      ],
      "execution_count": 25,
      "outputs": [
        {
          "output_type": "execute_result",
          "data": {
            "text/html": [
              "<div>\n",
              "<style scoped>\n",
              "    .dataframe tbody tr th:only-of-type {\n",
              "        vertical-align: middle;\n",
              "    }\n",
              "\n",
              "    .dataframe tbody tr th {\n",
              "        vertical-align: top;\n",
              "    }\n",
              "\n",
              "    .dataframe thead th {\n",
              "        text-align: right;\n",
              "    }\n",
              "</style>\n",
              "<table border=\"1\" class=\"dataframe\">\n",
              "  <thead>\n",
              "    <tr style=\"text-align: right;\">\n",
              "      <th></th>\n",
              "      <th>name</th>\n",
              "      <th>age</th>\n",
              "      <th>sal</th>\n",
              "      <th>job_id</th>\n",
              "    </tr>\n",
              "    <tr>\n",
              "      <th>id</th>\n",
              "      <th></th>\n",
              "      <th></th>\n",
              "      <th></th>\n",
              "      <th></th>\n",
              "    </tr>\n",
              "  </thead>\n",
              "  <tbody>\n",
              "    <tr>\n",
              "      <th>1</th>\n",
              "      <td>Andy</td>\n",
              "      <td>27</td>\n",
              "      <td>650.00</td>\n",
              "      <td>1</td>\n",
              "    </tr>\n",
              "    <tr>\n",
              "      <th>2</th>\n",
              "      <td>Betty</td>\n",
              "      <td>28</td>\n",
              "      <td>800.00</td>\n",
              "      <td>2</td>\n",
              "    </tr>\n",
              "    <tr>\n",
              "      <th>3</th>\n",
              "      <td>Charol</td>\n",
              "      <td>28</td>\n",
              "      <td>700.00</td>\n",
              "      <td>3</td>\n",
              "    </tr>\n",
              "    <tr>\n",
              "      <th>4</th>\n",
              "      <td>Daniel</td>\n",
              "      <td>22</td>\n",
              "      <td>650.00</td>\n",
              "      <td>4</td>\n",
              "    </tr>\n",
              "    <tr>\n",
              "      <th>5</th>\n",
              "      <td>Ellen</td>\n",
              "      <td>24</td>\n",
              "      <td>nan</td>\n",
              "      <td>1</td>\n",
              "    </tr>\n",
              "    <tr>\n",
              "      <th>6</th>\n",
              "      <td>Flora</td>\n",
              "      <td>30</td>\n",
              "      <td>750.00</td>\n",
              "      <td>2</td>\n",
              "    </tr>\n",
              "    <tr>\n",
              "      <th>7</th>\n",
              "      <td>George</td>\n",
              "      <td>24</td>\n",
              "      <td>500.00</td>\n",
              "      <td>3</td>\n",
              "    </tr>\n",
              "    <tr>\n",
              "      <th>8</th>\n",
              "      <td>Holly</td>\n",
              "      <td>32</td>\n",
              "      <td>nan</td>\n",
              "      <td>2</td>\n",
              "    </tr>\n",
              "    <tr>\n",
              "      <th>9</th>\n",
              "      <td>Ian</td>\n",
              "      <td>32</td>\n",
              "      <td>700.00</td>\n",
              "      <td>5</td>\n",
              "    </tr>\n",
              "  </tbody>\n",
              "</table>\n",
              "</div>"
            ],
            "text/plain": [
              "      name  age    sal  job_id\n",
              "id                            \n",
              "1     Andy   27 650.00       1\n",
              "2    Betty   28 800.00       2\n",
              "3   Charol   28 700.00       3\n",
              "4   Daniel   22 650.00       4\n",
              "5    Ellen   24    nan       1\n",
              "6    Flora   30 750.00       2\n",
              "7   George   24 500.00       3\n",
              "8    Holly   32    nan       2\n",
              "9      Ian   32 700.00       5"
            ]
          },
          "metadata": {
            "tags": []
          },
          "execution_count": 25
        }
      ]
    },
    {
      "cell_type": "markdown",
      "metadata": {
        "id": "eQF_04ijuOsv"
      },
      "source": [
        "## 8.1 欠損値を含むレコードを削除して結果を出力してください。"
      ]
    },
    {
      "cell_type": "code",
      "metadata": {
        "colab": {
          "base_uri": "https://localhost:8080/",
          "height": 297
        },
        "id": "vnW4ahE6j6Li",
        "outputId": "906c62e8-df1b-45c9-890f-facd4883197b"
      },
      "source": [
        ""
      ],
      "execution_count": 26,
      "outputs": [
        {
          "output_type": "execute_result",
          "data": {
            "text/html": [
              "<div>\n",
              "<style scoped>\n",
              "    .dataframe tbody tr th:only-of-type {\n",
              "        vertical-align: middle;\n",
              "    }\n",
              "\n",
              "    .dataframe tbody tr th {\n",
              "        vertical-align: top;\n",
              "    }\n",
              "\n",
              "    .dataframe thead th {\n",
              "        text-align: right;\n",
              "    }\n",
              "</style>\n",
              "<table border=\"1\" class=\"dataframe\">\n",
              "  <thead>\n",
              "    <tr style=\"text-align: right;\">\n",
              "      <th></th>\n",
              "      <th>name</th>\n",
              "      <th>age</th>\n",
              "      <th>sal</th>\n",
              "      <th>job_id</th>\n",
              "    </tr>\n",
              "    <tr>\n",
              "      <th>id</th>\n",
              "      <th></th>\n",
              "      <th></th>\n",
              "      <th></th>\n",
              "      <th></th>\n",
              "    </tr>\n",
              "  </thead>\n",
              "  <tbody>\n",
              "    <tr>\n",
              "      <th>1</th>\n",
              "      <td>Andy</td>\n",
              "      <td>27</td>\n",
              "      <td>650.00</td>\n",
              "      <td>1</td>\n",
              "    </tr>\n",
              "    <tr>\n",
              "      <th>2</th>\n",
              "      <td>Betty</td>\n",
              "      <td>28</td>\n",
              "      <td>800.00</td>\n",
              "      <td>2</td>\n",
              "    </tr>\n",
              "    <tr>\n",
              "      <th>3</th>\n",
              "      <td>Charol</td>\n",
              "      <td>28</td>\n",
              "      <td>700.00</td>\n",
              "      <td>3</td>\n",
              "    </tr>\n",
              "    <tr>\n",
              "      <th>4</th>\n",
              "      <td>Daniel</td>\n",
              "      <td>22</td>\n",
              "      <td>650.00</td>\n",
              "      <td>4</td>\n",
              "    </tr>\n",
              "    <tr>\n",
              "      <th>6</th>\n",
              "      <td>Flora</td>\n",
              "      <td>30</td>\n",
              "      <td>750.00</td>\n",
              "      <td>2</td>\n",
              "    </tr>\n",
              "    <tr>\n",
              "      <th>7</th>\n",
              "      <td>George</td>\n",
              "      <td>24</td>\n",
              "      <td>500.00</td>\n",
              "      <td>3</td>\n",
              "    </tr>\n",
              "    <tr>\n",
              "      <th>9</th>\n",
              "      <td>Ian</td>\n",
              "      <td>32</td>\n",
              "      <td>700.00</td>\n",
              "      <td>5</td>\n",
              "    </tr>\n",
              "  </tbody>\n",
              "</table>\n",
              "</div>"
            ],
            "text/plain": [
              "      name  age    sal  job_id\n",
              "id                            \n",
              "1     Andy   27 650.00       1\n",
              "2    Betty   28 800.00       2\n",
              "3   Charol   28 700.00       3\n",
              "4   Daniel   22 650.00       4\n",
              "6    Flora   30 750.00       2\n",
              "7   George   24 500.00       3\n",
              "9      Ian   32 700.00       5"
            ]
          },
          "metadata": {
            "tags": []
          },
          "execution_count": 26
        }
      ]
    },
    {
      "cell_type": "markdown",
      "metadata": {
        "id": "Is1nHeayuW_3"
      },
      "source": [
        "## 8.2 欠損値を平均値で補完して結果を出力してください。"
      ]
    },
    {
      "cell_type": "code",
      "metadata": {
        "colab": {
          "base_uri": "https://localhost:8080/",
          "height": 359
        },
        "id": "uHGbkUWCkAMD",
        "outputId": "fe1cb02e-0afa-4d70-f6a4-01e673856814"
      },
      "source": [
        ""
      ],
      "execution_count": 27,
      "outputs": [
        {
          "output_type": "execute_result",
          "data": {
            "text/html": [
              "<div>\n",
              "<style scoped>\n",
              "    .dataframe tbody tr th:only-of-type {\n",
              "        vertical-align: middle;\n",
              "    }\n",
              "\n",
              "    .dataframe tbody tr th {\n",
              "        vertical-align: top;\n",
              "    }\n",
              "\n",
              "    .dataframe thead th {\n",
              "        text-align: right;\n",
              "    }\n",
              "</style>\n",
              "<table border=\"1\" class=\"dataframe\">\n",
              "  <thead>\n",
              "    <tr style=\"text-align: right;\">\n",
              "      <th></th>\n",
              "      <th>name</th>\n",
              "      <th>age</th>\n",
              "      <th>sal</th>\n",
              "      <th>job_id</th>\n",
              "    </tr>\n",
              "    <tr>\n",
              "      <th>id</th>\n",
              "      <th></th>\n",
              "      <th></th>\n",
              "      <th></th>\n",
              "      <th></th>\n",
              "    </tr>\n",
              "  </thead>\n",
              "  <tbody>\n",
              "    <tr>\n",
              "      <th>1</th>\n",
              "      <td>Andy</td>\n",
              "      <td>27</td>\n",
              "      <td>650.00</td>\n",
              "      <td>1</td>\n",
              "    </tr>\n",
              "    <tr>\n",
              "      <th>2</th>\n",
              "      <td>Betty</td>\n",
              "      <td>28</td>\n",
              "      <td>800.00</td>\n",
              "      <td>2</td>\n",
              "    </tr>\n",
              "    <tr>\n",
              "      <th>3</th>\n",
              "      <td>Charol</td>\n",
              "      <td>28</td>\n",
              "      <td>700.00</td>\n",
              "      <td>3</td>\n",
              "    </tr>\n",
              "    <tr>\n",
              "      <th>4</th>\n",
              "      <td>Daniel</td>\n",
              "      <td>22</td>\n",
              "      <td>650.00</td>\n",
              "      <td>4</td>\n",
              "    </tr>\n",
              "    <tr>\n",
              "      <th>5</th>\n",
              "      <td>Ellen</td>\n",
              "      <td>24</td>\n",
              "      <td>678.57</td>\n",
              "      <td>1</td>\n",
              "    </tr>\n",
              "    <tr>\n",
              "      <th>6</th>\n",
              "      <td>Flora</td>\n",
              "      <td>30</td>\n",
              "      <td>750.00</td>\n",
              "      <td>2</td>\n",
              "    </tr>\n",
              "    <tr>\n",
              "      <th>7</th>\n",
              "      <td>George</td>\n",
              "      <td>24</td>\n",
              "      <td>500.00</td>\n",
              "      <td>3</td>\n",
              "    </tr>\n",
              "    <tr>\n",
              "      <th>8</th>\n",
              "      <td>Holly</td>\n",
              "      <td>32</td>\n",
              "      <td>678.57</td>\n",
              "      <td>2</td>\n",
              "    </tr>\n",
              "    <tr>\n",
              "      <th>9</th>\n",
              "      <td>Ian</td>\n",
              "      <td>32</td>\n",
              "      <td>700.00</td>\n",
              "      <td>5</td>\n",
              "    </tr>\n",
              "  </tbody>\n",
              "</table>\n",
              "</div>"
            ],
            "text/plain": [
              "      name  age    sal  job_id\n",
              "id                            \n",
              "1     Andy   27 650.00       1\n",
              "2    Betty   28 800.00       2\n",
              "3   Charol   28 700.00       3\n",
              "4   Daniel   22 650.00       4\n",
              "5    Ellen   24 678.57       1\n",
              "6    Flora   30 750.00       2\n",
              "7   George   24 500.00       3\n",
              "8    Holly   32 678.57       2\n",
              "9      Ian   32 700.00       5"
            ]
          },
          "metadata": {
            "tags": []
          },
          "execution_count": 27
        }
      ]
    },
    {
      "cell_type": "markdown",
      "metadata": {
        "id": "oqSHcRF5uj0s"
      },
      "source": [
        "## 8.3 欠損値を一つ前のレコードから補完して結果を出力してください。"
      ]
    },
    {
      "cell_type": "code",
      "metadata": {
        "colab": {
          "base_uri": "https://localhost:8080/",
          "height": 359
        },
        "id": "s1z6kCYrkRtd",
        "outputId": "6a78c317-1b71-4af6-8b0f-dd4f41c597bf"
      },
      "source": [
        ""
      ],
      "execution_count": 28,
      "outputs": [
        {
          "output_type": "execute_result",
          "data": {
            "text/html": [
              "<div>\n",
              "<style scoped>\n",
              "    .dataframe tbody tr th:only-of-type {\n",
              "        vertical-align: middle;\n",
              "    }\n",
              "\n",
              "    .dataframe tbody tr th {\n",
              "        vertical-align: top;\n",
              "    }\n",
              "\n",
              "    .dataframe thead th {\n",
              "        text-align: right;\n",
              "    }\n",
              "</style>\n",
              "<table border=\"1\" class=\"dataframe\">\n",
              "  <thead>\n",
              "    <tr style=\"text-align: right;\">\n",
              "      <th></th>\n",
              "      <th>name</th>\n",
              "      <th>age</th>\n",
              "      <th>sal</th>\n",
              "      <th>job_id</th>\n",
              "    </tr>\n",
              "    <tr>\n",
              "      <th>id</th>\n",
              "      <th></th>\n",
              "      <th></th>\n",
              "      <th></th>\n",
              "      <th></th>\n",
              "    </tr>\n",
              "  </thead>\n",
              "  <tbody>\n",
              "    <tr>\n",
              "      <th>1</th>\n",
              "      <td>Andy</td>\n",
              "      <td>27</td>\n",
              "      <td>650.00</td>\n",
              "      <td>1</td>\n",
              "    </tr>\n",
              "    <tr>\n",
              "      <th>2</th>\n",
              "      <td>Betty</td>\n",
              "      <td>28</td>\n",
              "      <td>800.00</td>\n",
              "      <td>2</td>\n",
              "    </tr>\n",
              "    <tr>\n",
              "      <th>3</th>\n",
              "      <td>Charol</td>\n",
              "      <td>28</td>\n",
              "      <td>700.00</td>\n",
              "      <td>3</td>\n",
              "    </tr>\n",
              "    <tr>\n",
              "      <th>4</th>\n",
              "      <td>Daniel</td>\n",
              "      <td>22</td>\n",
              "      <td>650.00</td>\n",
              "      <td>4</td>\n",
              "    </tr>\n",
              "    <tr>\n",
              "      <th>5</th>\n",
              "      <td>Ellen</td>\n",
              "      <td>24</td>\n",
              "      <td>650.00</td>\n",
              "      <td>1</td>\n",
              "    </tr>\n",
              "    <tr>\n",
              "      <th>6</th>\n",
              "      <td>Flora</td>\n",
              "      <td>30</td>\n",
              "      <td>750.00</td>\n",
              "      <td>2</td>\n",
              "    </tr>\n",
              "    <tr>\n",
              "      <th>7</th>\n",
              "      <td>George</td>\n",
              "      <td>24</td>\n",
              "      <td>500.00</td>\n",
              "      <td>3</td>\n",
              "    </tr>\n",
              "    <tr>\n",
              "      <th>8</th>\n",
              "      <td>Holly</td>\n",
              "      <td>32</td>\n",
              "      <td>500.00</td>\n",
              "      <td>2</td>\n",
              "    </tr>\n",
              "    <tr>\n",
              "      <th>9</th>\n",
              "      <td>Ian</td>\n",
              "      <td>32</td>\n",
              "      <td>700.00</td>\n",
              "      <td>5</td>\n",
              "    </tr>\n",
              "  </tbody>\n",
              "</table>\n",
              "</div>"
            ],
            "text/plain": [
              "      name  age    sal  job_id\n",
              "id                            \n",
              "1     Andy   27 650.00       1\n",
              "2    Betty   28 800.00       2\n",
              "3   Charol   28 700.00       3\n",
              "4   Daniel   22 650.00       4\n",
              "5    Ellen   24 650.00       1\n",
              "6    Flora   30 750.00       2\n",
              "7   George   24 500.00       3\n",
              "8    Holly   32 500.00       2\n",
              "9      Ian   32 700.00       5"
            ]
          },
          "metadata": {
            "tags": []
          },
          "execution_count": 28
        }
      ]
    },
    {
      "cell_type": "markdown",
      "metadata": {
        "id": "DIsl2PTEuqe8"
      },
      "source": [
        "## 8.4 欠損値を job_id ごとの平均値で補完して結果を出力してください。"
      ]
    },
    {
      "cell_type": "code",
      "metadata": {
        "colab": {
          "base_uri": "https://localhost:8080/",
          "height": 359
        },
        "id": "VhozBNVPkZLj",
        "outputId": "2a255bd1-5db2-4650-85f9-be689e0a071c"
      },
      "source": [
        ""
      ],
      "execution_count": 29,
      "outputs": [
        {
          "output_type": "execute_result",
          "data": {
            "text/html": [
              "<div>\n",
              "<style scoped>\n",
              "    .dataframe tbody tr th:only-of-type {\n",
              "        vertical-align: middle;\n",
              "    }\n",
              "\n",
              "    .dataframe tbody tr th {\n",
              "        vertical-align: top;\n",
              "    }\n",
              "\n",
              "    .dataframe thead th {\n",
              "        text-align: right;\n",
              "    }\n",
              "</style>\n",
              "<table border=\"1\" class=\"dataframe\">\n",
              "  <thead>\n",
              "    <tr style=\"text-align: right;\">\n",
              "      <th></th>\n",
              "      <th>name</th>\n",
              "      <th>age</th>\n",
              "      <th>sal</th>\n",
              "      <th>job_id</th>\n",
              "    </tr>\n",
              "    <tr>\n",
              "      <th>id</th>\n",
              "      <th></th>\n",
              "      <th></th>\n",
              "      <th></th>\n",
              "      <th></th>\n",
              "    </tr>\n",
              "  </thead>\n",
              "  <tbody>\n",
              "    <tr>\n",
              "      <th>1</th>\n",
              "      <td>Andy</td>\n",
              "      <td>27</td>\n",
              "      <td>650.00</td>\n",
              "      <td>1</td>\n",
              "    </tr>\n",
              "    <tr>\n",
              "      <th>2</th>\n",
              "      <td>Betty</td>\n",
              "      <td>28</td>\n",
              "      <td>800.00</td>\n",
              "      <td>2</td>\n",
              "    </tr>\n",
              "    <tr>\n",
              "      <th>3</th>\n",
              "      <td>Charol</td>\n",
              "      <td>28</td>\n",
              "      <td>700.00</td>\n",
              "      <td>3</td>\n",
              "    </tr>\n",
              "    <tr>\n",
              "      <th>4</th>\n",
              "      <td>Daniel</td>\n",
              "      <td>22</td>\n",
              "      <td>650.00</td>\n",
              "      <td>4</td>\n",
              "    </tr>\n",
              "    <tr>\n",
              "      <th>5</th>\n",
              "      <td>Ellen</td>\n",
              "      <td>24</td>\n",
              "      <td>650.00</td>\n",
              "      <td>1</td>\n",
              "    </tr>\n",
              "    <tr>\n",
              "      <th>6</th>\n",
              "      <td>Flora</td>\n",
              "      <td>30</td>\n",
              "      <td>750.00</td>\n",
              "      <td>2</td>\n",
              "    </tr>\n",
              "    <tr>\n",
              "      <th>7</th>\n",
              "      <td>George</td>\n",
              "      <td>24</td>\n",
              "      <td>500.00</td>\n",
              "      <td>3</td>\n",
              "    </tr>\n",
              "    <tr>\n",
              "      <th>8</th>\n",
              "      <td>Holly</td>\n",
              "      <td>32</td>\n",
              "      <td>775.00</td>\n",
              "      <td>2</td>\n",
              "    </tr>\n",
              "    <tr>\n",
              "      <th>9</th>\n",
              "      <td>Ian</td>\n",
              "      <td>32</td>\n",
              "      <td>700.00</td>\n",
              "      <td>5</td>\n",
              "    </tr>\n",
              "  </tbody>\n",
              "</table>\n",
              "</div>"
            ],
            "text/plain": [
              "      name  age    sal  job_id\n",
              "id                            \n",
              "1     Andy   27 650.00       1\n",
              "2    Betty   28 800.00       2\n",
              "3   Charol   28 700.00       3\n",
              "4   Daniel   22 650.00       4\n",
              "5    Ellen   24 650.00       1\n",
              "6    Flora   30 750.00       2\n",
              "7   George   24 500.00       3\n",
              "8    Holly   32 775.00       2\n",
              "9      Ian   32 700.00       5"
            ]
          },
          "metadata": {
            "tags": []
          },
          "execution_count": 29
        }
      ]
    }
  ]
}