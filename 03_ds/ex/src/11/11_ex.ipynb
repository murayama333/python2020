{
  "nbformat": 4,
  "nbformat_minor": 0,
  "metadata": {
    "colab": {
      "name": "ml-classification-exercise-answer.ipynb",
      "provenance": [],
      "collapsed_sections": []
    },
    "kernelspec": {
      "name": "python3",
      "display_name": "Python 3"
    }
  },
  "cells": [
    {
      "cell_type": "markdown",
      "metadata": {
        "id": "THYAvmSq1JIs"
      },
      "source": [
        "# 演習1 - ロジスティック回帰"
      ]
    },
    {
      "cell_type": "markdown",
      "metadata": {
        "id": "PwvJoEID1Q7a"
      },
      "source": [
        "## 1.1 wgetコマンド以下のURLからでファイル（mytype.csv）をダウンロードしてください。\n",
        "\n",
        "```\n",
        "https://gist.githubusercontent.com/murayama333/11171cac80fddfc1ef0f5ad753ae0076/raw/3c79d9ddbfa5fc3e622f37631f95602fe1da1266/mytype.csv\n",
        "```"
      ]
    },
    {
      "cell_type": "code",
      "metadata": {
        "colab": {
          "base_uri": "https://localhost:8080/"
        },
        "id": "Hljz1U3doztW",
        "outputId": "f6ae738e-cd2f-46fa-84f4-a8b765bc9443"
      },
      "source": [
        "!wget https://gist.githubusercontent.com/murayama333/11171cac80fddfc1ef0f5ad753ae0076/raw/3c79d9ddbfa5fc3e622f37631f95602fe1da1266/mytype.csv"
      ],
      "execution_count": null,
      "outputs": [
        {
          "output_type": "stream",
          "text": [
            "--2021-02-22 10:08:07--  https://gist.githubusercontent.com/murayama333/11171cac80fddfc1ef0f5ad753ae0076/raw/3c79d9ddbfa5fc3e622f37631f95602fe1da1266/mytype.csv\n",
            "Resolving gist.githubusercontent.com (gist.githubusercontent.com)... 185.199.110.133, 185.199.108.133, 185.199.109.133, ...\n",
            "Connecting to gist.githubusercontent.com (gist.githubusercontent.com)|185.199.110.133|:443... connected.\n",
            "HTTP request sent, awaiting response... 200 OK\n",
            "Length: 11558 (11K) [text/plain]\n",
            "Saving to: ‘mytype.csv’\n",
            "\n",
            "\rmytype.csv            0%[                    ]       0  --.-KB/s               \rmytype.csv          100%[===================>]  11.29K  --.-KB/s    in 0s      \n",
            "\n",
            "2021-02-22 10:08:07 (73.6 MB/s) - ‘mytype.csv’ saved [11558/11558]\n",
            "\n"
          ],
          "name": "stdout"
        }
      ]
    },
    {
      "cell_type": "markdown",
      "metadata": {
        "id": "Vd8zXcpF1U0h"
      },
      "source": [
        "## 1.2 pandasのDataFrameで mytype.csv を表示してください。\n",
        "\n",
        "> DataFrameを代入する変数名は `mytype_df` とします。"
      ]
    },
    {
      "cell_type": "code",
      "metadata": {
        "colab": {
          "base_uri": "https://localhost:8080/",
          "height": 406
        },
        "id": "bxJsG1bRo00y",
        "outputId": "203968de-fe06-4c59-d9c1-11fd046640d5"
      },
      "source": [
        "import pandas as pd\n",
        "\n",
        "mytype_df = pd.read_csv(\"mytype.csv\")\n",
        "mytype_df"
      ],
      "execution_count": null,
      "outputs": [
        {
          "output_type": "execute_result",
          "data": {
            "text/html": [
              "<div>\n",
              "<style scoped>\n",
              "    .dataframe tbody tr th:only-of-type {\n",
              "        vertical-align: middle;\n",
              "    }\n",
              "\n",
              "    .dataframe tbody tr th {\n",
              "        vertical-align: top;\n",
              "    }\n",
              "\n",
              "    .dataframe thead th {\n",
              "        text-align: right;\n",
              "    }\n",
              "</style>\n",
              "<table border=\"1\" class=\"dataframe\">\n",
              "  <thead>\n",
              "    <tr style=\"text-align: right;\">\n",
              "      <th></th>\n",
              "      <th>f1</th>\n",
              "      <th>f2</th>\n",
              "      <th>type</th>\n",
              "    </tr>\n",
              "  </thead>\n",
              "  <tbody>\n",
              "    <tr>\n",
              "      <th>0</th>\n",
              "      <td>2.286632</td>\n",
              "      <td>5.994033</td>\n",
              "      <td>0</td>\n",
              "    </tr>\n",
              "    <tr>\n",
              "      <th>1</th>\n",
              "      <td>4.184063</td>\n",
              "      <td>6.213322</td>\n",
              "      <td>0</td>\n",
              "    </tr>\n",
              "    <tr>\n",
              "      <th>2</th>\n",
              "      <td>8.176970</td>\n",
              "      <td>13.296028</td>\n",
              "      <td>1</td>\n",
              "    </tr>\n",
              "    <tr>\n",
              "      <th>3</th>\n",
              "      <td>3.020003</td>\n",
              "      <td>5.302735</td>\n",
              "      <td>0</td>\n",
              "    </tr>\n",
              "    <tr>\n",
              "      <th>4</th>\n",
              "      <td>3.471054</td>\n",
              "      <td>6.921841</td>\n",
              "      <td>0</td>\n",
              "    </tr>\n",
              "    <tr>\n",
              "      <th>...</th>\n",
              "      <td>...</td>\n",
              "      <td>...</td>\n",
              "      <td>...</td>\n",
              "    </tr>\n",
              "    <tr>\n",
              "      <th>295</th>\n",
              "      <td>1.693205</td>\n",
              "      <td>7.712895</td>\n",
              "      <td>0</td>\n",
              "    </tr>\n",
              "    <tr>\n",
              "      <th>296</th>\n",
              "      <td>9.860533</td>\n",
              "      <td>11.758099</td>\n",
              "      <td>1</td>\n",
              "    </tr>\n",
              "    <tr>\n",
              "      <th>297</th>\n",
              "      <td>4.805633</td>\n",
              "      <td>9.018470</td>\n",
              "      <td>0</td>\n",
              "    </tr>\n",
              "    <tr>\n",
              "      <th>298</th>\n",
              "      <td>9.143350</td>\n",
              "      <td>12.887626</td>\n",
              "      <td>1</td>\n",
              "    </tr>\n",
              "    <tr>\n",
              "      <th>299</th>\n",
              "      <td>11.186263</td>\n",
              "      <td>11.773378</td>\n",
              "      <td>1</td>\n",
              "    </tr>\n",
              "  </tbody>\n",
              "</table>\n",
              "<p>300 rows × 3 columns</p>\n",
              "</div>"
            ],
            "text/plain": [
              "            f1         f2  type\n",
              "0     2.286632   5.994033     0\n",
              "1     4.184063   6.213322     0\n",
              "2     8.176970  13.296028     1\n",
              "3     3.020003   5.302735     0\n",
              "4     3.471054   6.921841     0\n",
              "..         ...        ...   ...\n",
              "295   1.693205   7.712895     0\n",
              "296   9.860533  11.758099     1\n",
              "297   4.805633   9.018470     0\n",
              "298   9.143350  12.887626     1\n",
              "299  11.186263  11.773378     1\n",
              "\n",
              "[300 rows x 3 columns]"
            ]
          },
          "metadata": {
            "tags": []
          },
          "execution_count": 2
        }
      ]
    },
    {
      "cell_type": "markdown",
      "metadata": {
        "id": "B19usAsh163W"
      },
      "source": [
        "## 1.3 DataFrame（`mytype_df`）の `f1` と `f2` の散布図を表示してください。"
      ]
    },
    {
      "cell_type": "code",
      "metadata": {
        "colab": {
          "base_uri": "https://localhost:8080/",
          "height": 295
        },
        "id": "rG1-_BGvpLIZ",
        "outputId": "49355bf4-d75b-4f14-ffd0-45e261877ab5"
      },
      "source": [
        "mytype_df.plot.scatter(\"f1\", \"f2\")"
      ],
      "execution_count": null,
      "outputs": [
        {
          "output_type": "execute_result",
          "data": {
            "text/plain": [
              "<matplotlib.axes._subplots.AxesSubplot at 0x7f90dec0ffd0>"
            ]
          },
          "metadata": {
            "tags": []
          },
          "execution_count": 3
        },
        {
          "output_type": "display_data",
          "data": {
            "image/png": "[encoded data removed]",
            "text/plain": [
              "<Figure size 432x288 with 1 Axes>"
            ]
          },
          "metadata": {
            "tags": [],
            "needs_background": "light"
          }
        }
      ]
    },
    {
      "cell_type": "markdown",
      "metadata": {
        "id": "2WsyCoR32KOv"
      },
      "source": [
        "## 1.4 DataFrame（`mytype_df`）の `f1` と `f2` の散布図を表示してください。ただし、type == 0 のデータは赤色、type == 1 のデータは青色で表示してください。"
      ]
    },
    {
      "cell_type": "code",
      "metadata": {
        "colab": {
          "base_uri": "https://localhost:8080/",
          "height": 295
        },
        "id": "BFKB8E4dqsEm",
        "outputId": "aab8142c-78e6-4573-e35c-1ff22dec7780"
      },
      "source": [
        "ax = mytype_df[mytype_df[\"type\"] == 0].plot.scatter(\"f1\", \"f2\", color=\"red\")\n",
        "mytype_df[mytype_df[\"type\"] == 1].plot.scatter(\"f1\", \"f2\", color=\"blue\", ax=ax)"
      ],
      "execution_count": null,
      "outputs": [
        {
          "output_type": "execute_result",
          "data": {
            "text/plain": [
              "<matplotlib.axes._subplots.AxesSubplot at 0x7f90de48e5c0>"
            ]
          },
          "metadata": {
            "tags": []
          },
          "execution_count": 4
        },
        {
          "output_type": "display_data",
          "data": {
            "image/png": "[encoded data removed]",
            "text/plain": [
              "<Figure size 432x288 with 1 Axes>"
            ]
          },
          "metadata": {
            "tags": [],
            "needs_background": "light"
          }
        }
      ]
    },
    {
      "cell_type": "markdown",
      "metadata": {
        "id": "SeSOfT_12iaC"
      },
      "source": [
        "## 1.5 DataFrame（mytype_df）のデータを訓練データ75件、テストデータ25件に分割してください。"
      ]
    },
    {
      "cell_type": "code",
      "metadata": {
        "colab": {
          "base_uri": "https://localhost:8080/"
        },
        "id": "PMrAA69irmTY",
        "outputId": "81fe5227-9a51-4add-e8a2-ba41ddb1df50"
      },
      "source": [
        "from sklearn.model_selection import train_test_split\n",
        "\n",
        "x_train, x_test, y_train, y_test = train_test_split(mytype_df[[\"f1\", \"f2\"]].values, mytype_df[\"type\"].values, random_state=1)\n",
        "print(x_train.shape)\n",
        "print(x_test.shape)\n",
        "print(y_train.shape)\n",
        "print(y_test.shape)"
      ],
      "execution_count": null,
      "outputs": [
        {
          "output_type": "stream",
          "text": [
            "(225, 2)\n",
            "(75, 2)\n",
            "(225,)\n",
            "(75,)\n"
          ],
          "name": "stdout"
        }
      ]
    },
    {
      "cell_type": "markdown",
      "metadata": {
        "id": "TW5tRxs82xCI"
      },
      "source": [
        "## 1.6 ロジスティック回帰によって、DataFrame（mytype_df）の訓練データで学習して、係数と切片を表示してください。"
      ]
    },
    {
      "cell_type": "code",
      "metadata": {
        "colab": {
          "base_uri": "https://localhost:8080/"
        },
        "id": "HR4XADaWsoIM",
        "outputId": "c6c1153a-bee3-4419-b515-02a3129e57d0"
      },
      "source": [
        "from sklearn.linear_model import LogisticRegression\n",
        "\n",
        "clf = LogisticRegression()\n",
        "clf.fit(x_train, y_train)\n",
        "\n",
        "print(clf.coef_)\n",
        "print(clf.intercept_)"
      ],
      "execution_count": null,
      "outputs": [
        {
          "output_type": "stream",
          "text": [
            "[[1.86005888 1.04551713]]\n",
            "[-21.10019839]\n"
          ],
          "name": "stdout"
        }
      ]
    },
    {
      "cell_type": "markdown",
      "metadata": {
        "id": "Io2jH-4e3Gtt"
      },
      "source": [
        "## 1.7 以下のデータ sample_x を使って、結果を推論してください。"
      ]
    },
    {
      "cell_type": "code",
      "metadata": {
        "colab": {
          "base_uri": "https://localhost:8080/"
        },
        "id": "jfrhGyCXs7Lj",
        "outputId": "eebb91d2-4ab9-463c-b1c6-34f251f72171"
      },
      "source": [
        "sample_x = [[5.5, 4.2], [12.5, 10.8]]\n",
        "clf.predict(sample_x)"
      ],
      "execution_count": null,
      "outputs": [
        {
          "output_type": "execute_result",
          "data": {
            "text/plain": [
              "array([0, 1])"
            ]
          },
          "metadata": {
            "tags": []
          },
          "execution_count": 7
        }
      ]
    },
    {
      "cell_type": "markdown",
      "metadata": {
        "id": "T4i21BVl3OCh"
      },
      "source": [
        "## 1.8 テストデータを使ってモデルを評価して、正答率（Accuracy） を表示してください。"
      ]
    },
    {
      "cell_type": "code",
      "metadata": {
        "colab": {
          "base_uri": "https://localhost:8080/"
        },
        "id": "fFqijgQ3svak",
        "outputId": "4d092a52-3f87-43b4-d704-9cd37889f31c"
      },
      "source": [
        "clf.score(x_test, y_test)"
      ],
      "execution_count": null,
      "outputs": [
        {
          "output_type": "execute_result",
          "data": {
            "text/plain": [
              "1.0"
            ]
          },
          "metadata": {
            "tags": []
          },
          "execution_count": 8
        }
      ]
    },
    {
      "cell_type": "markdown",
      "metadata": {
        "id": "968HLusYGcxx"
      },
      "source": [
        "## 1.9 `mlextend` を使って散布図に境界線を描画してください。"
      ]
    },
    {
      "cell_type": "code",
      "metadata": {
        "colab": {
          "base_uri": "https://localhost:8080/",
          "height": 314
        },
        "id": "gLzVK89cMxF0",
        "outputId": "a00ce063-ed56-493e-b1c3-ba951f4376fe"
      },
      "source": [
        "from mlxtend.plotting import plot_decision_regions\n",
        "\n",
        "plot_decision_regions(x_train, y_train, clf=clf)"
      ],
      "execution_count": null,
      "outputs": [
        {
          "output_type": "stream",
          "text": [
            "/usr/local/lib/python3.6/dist-packages/mlxtend/plotting/decision_regions.py:244: MatplotlibDeprecationWarning: Passing unsupported keyword arguments to axis() will raise a TypeError in 3.3.\n",
            "  ax.axis(xmin=xx.min(), xmax=xx.max(), y_min=yy.min(), y_max=yy.max())\n"
          ],
          "name": "stderr"
        },
        {
          "output_type": "execute_result",
          "data": {
            "text/plain": [
              "<matplotlib.axes._subplots.AxesSubplot at 0x7f90cbf85fd0>"
            ]
          },
          "metadata": {
            "tags": []
          },
          "execution_count": 9
        },
        {
          "output_type": "display_data",
          "data": {
            "image/png": "[encoded data removed]",
            "text/plain": [
              "<Figure size 432x288 with 1 Axes>"
            ]
          },
          "metadata": {
            "tags": [],
            "needs_background": "light"
          }
        }
      ]
    },
    {
      "cell_type": "markdown",
      "metadata": {
        "id": "13SJ7tMo97HT"
      },
      "source": [
        "# 演習2 k−NN法"
      ]
    },
    {
      "cell_type": "markdown",
      "metadata": {
        "id": "gB13OR7_Gv9F"
      },
      "source": [
        "## 2.1 wgetコマンド以下のURLからでファイル（sepal_iris.csv）をダウンロードしてください。\n",
        "\n",
        "```\n",
        "https://gist.githubusercontent.com/murayama333/85cf39da7271abc8506118a6796d52a5/raw/478374786d259ed3d341ea06b59fec73f27129a0/sepal_iris.csv\n",
        "```"
      ]
    },
    {
      "cell_type": "code",
      "metadata": {
        "colab": {
          "base_uri": "https://localhost:8080/"
        },
        "id": "eMLLniBv9gwb",
        "outputId": "1eb32961-e512-45b5-d044-e848d6c0d37a"
      },
      "source": [
        "!wget https://gist.githubusercontent.com/murayama333/85cf39da7271abc8506118a6796d52a5/raw/478374786d259ed3d341ea06b59fec73f27129a0/sepal_iris.csv\n",
        "# !wget https://gist.githubusercontent.com/murayama333/76b67a67c79c722cad976708f85b461d/raw/0d7b10b41dd279325b85352e99d8edf31abb4dd9/sepal_iris2.csv"
      ],
      "execution_count": null,
      "outputs": [
        {
          "output_type": "stream",
          "text": [
            "--2021-02-22 10:08:09--  https://gist.githubusercontent.com/murayama333/85cf39da7271abc8506118a6796d52a5/raw/478374786d259ed3d341ea06b59fec73f27129a0/sepal_iris.csv\n",
            "Resolving gist.githubusercontent.com (gist.githubusercontent.com)... 185.199.110.133, 185.199.108.133, 185.199.109.133, ...\n",
            "Connecting to gist.githubusercontent.com (gist.githubusercontent.com)|185.199.110.133|:443... connected.\n",
            "HTTP request sent, awaiting response... 200 OK\n",
            "Length: 1123 (1.1K) [text/plain]\n",
            "Saving to: ‘sepal_iris.csv’\n",
            "\n",
            "\rsepal_iris.csv        0%[                    ]       0  --.-KB/s               \rsepal_iris.csv      100%[===================>]   1.10K  --.-KB/s    in 0s      \n",
            "\n",
            "2021-02-22 10:08:09 (33.1 MB/s) - ‘sepal_iris.csv’ saved [1123/1123]\n",
            "\n"
          ],
          "name": "stdout"
        }
      ]
    },
    {
      "cell_type": "markdown",
      "metadata": {
        "id": "XgF8KAh_Hjws"
      },
      "source": [
        "## 2.2 pandasのDataFrameで sepal_iris.csv を表示してください。\n",
        "\n",
        "> DataFrameを代入する変数名は `iris_df` とします。"
      ]
    },
    {
      "cell_type": "code",
      "metadata": {
        "colab": {
          "base_uri": "https://localhost:8080/",
          "height": 406
        },
        "id": "-zrJCmqm9ibS",
        "outputId": "60123cf1-cb13-472a-cee1-afe5615a1bb3"
      },
      "source": [
        "import pandas as pd\n",
        "\n",
        "iris_df = pd.read_csv(\"sepal_iris.csv\")\n",
        "iris_df"
      ],
      "execution_count": null,
      "outputs": [
        {
          "output_type": "execute_result",
          "data": {
            "text/html": [
              "<div>\n",
              "<style scoped>\n",
              "    .dataframe tbody tr th:only-of-type {\n",
              "        vertical-align: middle;\n",
              "    }\n",
              "\n",
              "    .dataframe tbody tr th {\n",
              "        vertical-align: top;\n",
              "    }\n",
              "\n",
              "    .dataframe thead th {\n",
              "        text-align: right;\n",
              "    }\n",
              "</style>\n",
              "<table border=\"1\" class=\"dataframe\">\n",
              "  <thead>\n",
              "    <tr style=\"text-align: right;\">\n",
              "      <th></th>\n",
              "      <th>length_mm</th>\n",
              "      <th>width_cm</th>\n",
              "      <th>cls</th>\n",
              "    </tr>\n",
              "  </thead>\n",
              "  <tbody>\n",
              "    <tr>\n",
              "      <th>0</th>\n",
              "      <td>51.0</td>\n",
              "      <td>3.5</td>\n",
              "      <td>0</td>\n",
              "    </tr>\n",
              "    <tr>\n",
              "      <th>1</th>\n",
              "      <td>49.0</td>\n",
              "      <td>3.0</td>\n",
              "      <td>0</td>\n",
              "    </tr>\n",
              "    <tr>\n",
              "      <th>2</th>\n",
              "      <td>47.0</td>\n",
              "      <td>3.2</td>\n",
              "      <td>0</td>\n",
              "    </tr>\n",
              "    <tr>\n",
              "      <th>3</th>\n",
              "      <td>46.0</td>\n",
              "      <td>3.1</td>\n",
              "      <td>0</td>\n",
              "    </tr>\n",
              "    <tr>\n",
              "      <th>4</th>\n",
              "      <td>50.0</td>\n",
              "      <td>3.6</td>\n",
              "      <td>0</td>\n",
              "    </tr>\n",
              "    <tr>\n",
              "      <th>...</th>\n",
              "      <td>...</td>\n",
              "      <td>...</td>\n",
              "      <td>...</td>\n",
              "    </tr>\n",
              "    <tr>\n",
              "      <th>95</th>\n",
              "      <td>57.0</td>\n",
              "      <td>3.0</td>\n",
              "      <td>1</td>\n",
              "    </tr>\n",
              "    <tr>\n",
              "      <th>96</th>\n",
              "      <td>57.0</td>\n",
              "      <td>2.9</td>\n",
              "      <td>1</td>\n",
              "    </tr>\n",
              "    <tr>\n",
              "      <th>97</th>\n",
              "      <td>62.0</td>\n",
              "      <td>2.9</td>\n",
              "      <td>1</td>\n",
              "    </tr>\n",
              "    <tr>\n",
              "      <th>98</th>\n",
              "      <td>51.0</td>\n",
              "      <td>2.5</td>\n",
              "      <td>1</td>\n",
              "    </tr>\n",
              "    <tr>\n",
              "      <th>99</th>\n",
              "      <td>57.0</td>\n",
              "      <td>2.8</td>\n",
              "      <td>1</td>\n",
              "    </tr>\n",
              "  </tbody>\n",
              "</table>\n",
              "<p>100 rows × 3 columns</p>\n",
              "</div>"
            ],
            "text/plain": [
              "    length_mm  width_cm  cls\n",
              "0        51.0       3.5    0\n",
              "1        49.0       3.0    0\n",
              "2        47.0       3.2    0\n",
              "3        46.0       3.1    0\n",
              "4        50.0       3.6    0\n",
              "..        ...       ...  ...\n",
              "95       57.0       3.0    1\n",
              "96       57.0       2.9    1\n",
              "97       62.0       2.9    1\n",
              "98       51.0       2.5    1\n",
              "99       57.0       2.8    1\n",
              "\n",
              "[100 rows x 3 columns]"
            ]
          },
          "metadata": {
            "tags": []
          },
          "execution_count": 11
        }
      ]
    },
    {
      "cell_type": "markdown",
      "metadata": {
        "id": "FwbblgpQHi5g"
      },
      "source": [
        "## 2.3 DataFrame(`iris_df`) の`length_mm` 列の単位を変更して `length_cm` 列を追加して表示してください。\n",
        "\n",
        "> 単位を mm から cm　に変更します。"
      ]
    },
    {
      "cell_type": "code",
      "metadata": {
        "colab": {
          "base_uri": "https://localhost:8080/",
          "height": 406
        },
        "id": "7dKk9HnV96rS",
        "outputId": "12c105e7-df59-460e-d256-262656d78495"
      },
      "source": [
        "iris_df[\"length_cm\"] = iris_df[\"length_mm\"] * 0.1\n",
        "iris_df"
      ],
      "execution_count": null,
      "outputs": [
        {
          "output_type": "execute_result",
          "data": {
            "text/html": [
              "<div>\n",
              "<style scoped>\n",
              "    .dataframe tbody tr th:only-of-type {\n",
              "        vertical-align: middle;\n",
              "    }\n",
              "\n",
              "    .dataframe tbody tr th {\n",
              "        vertical-align: top;\n",
              "    }\n",
              "\n",
              "    .dataframe thead th {\n",
              "        text-align: right;\n",
              "    }\n",
              "</style>\n",
              "<table border=\"1\" class=\"dataframe\">\n",
              "  <thead>\n",
              "    <tr style=\"text-align: right;\">\n",
              "      <th></th>\n",
              "      <th>length_mm</th>\n",
              "      <th>width_cm</th>\n",
              "      <th>cls</th>\n",
              "      <th>length_cm</th>\n",
              "    </tr>\n",
              "  </thead>\n",
              "  <tbody>\n",
              "    <tr>\n",
              "      <th>0</th>\n",
              "      <td>51.0</td>\n",
              "      <td>3.5</td>\n",
              "      <td>0</td>\n",
              "      <td>5.1</td>\n",
              "    </tr>\n",
              "    <tr>\n",
              "      <th>1</th>\n",
              "      <td>49.0</td>\n",
              "      <td>3.0</td>\n",
              "      <td>0</td>\n",
              "      <td>4.9</td>\n",
              "    </tr>\n",
              "    <tr>\n",
              "      <th>2</th>\n",
              "      <td>47.0</td>\n",
              "      <td>3.2</td>\n",
              "      <td>0</td>\n",
              "      <td>4.7</td>\n",
              "    </tr>\n",
              "    <tr>\n",
              "      <th>3</th>\n",
              "      <td>46.0</td>\n",
              "      <td>3.1</td>\n",
              "      <td>0</td>\n",
              "      <td>4.6</td>\n",
              "    </tr>\n",
              "    <tr>\n",
              "      <th>4</th>\n",
              "      <td>50.0</td>\n",
              "      <td>3.6</td>\n",
              "      <td>0</td>\n",
              "      <td>5.0</td>\n",
              "    </tr>\n",
              "    <tr>\n",
              "      <th>...</th>\n",
              "      <td>...</td>\n",
              "      <td>...</td>\n",
              "      <td>...</td>\n",
              "      <td>...</td>\n",
              "    </tr>\n",
              "    <tr>\n",
              "      <th>95</th>\n",
              "      <td>57.0</td>\n",
              "      <td>3.0</td>\n",
              "      <td>1</td>\n",
              "      <td>5.7</td>\n",
              "    </tr>\n",
              "    <tr>\n",
              "      <th>96</th>\n",
              "      <td>57.0</td>\n",
              "      <td>2.9</td>\n",
              "      <td>1</td>\n",
              "      <td>5.7</td>\n",
              "    </tr>\n",
              "    <tr>\n",
              "      <th>97</th>\n",
              "      <td>62.0</td>\n",
              "      <td>2.9</td>\n",
              "      <td>1</td>\n",
              "      <td>6.2</td>\n",
              "    </tr>\n",
              "    <tr>\n",
              "      <th>98</th>\n",
              "      <td>51.0</td>\n",
              "      <td>2.5</td>\n",
              "      <td>1</td>\n",
              "      <td>5.1</td>\n",
              "    </tr>\n",
              "    <tr>\n",
              "      <th>99</th>\n",
              "      <td>57.0</td>\n",
              "      <td>2.8</td>\n",
              "      <td>1</td>\n",
              "      <td>5.7</td>\n",
              "    </tr>\n",
              "  </tbody>\n",
              "</table>\n",
              "<p>100 rows × 4 columns</p>\n",
              "</div>"
            ],
            "text/plain": [
              "    length_mm  width_cm  cls  length_cm\n",
              "0        51.0       3.5    0        5.1\n",
              "1        49.0       3.0    0        4.9\n",
              "2        47.0       3.2    0        4.7\n",
              "3        46.0       3.1    0        4.6\n",
              "4        50.0       3.6    0        5.0\n",
              "..        ...       ...  ...        ...\n",
              "95       57.0       3.0    1        5.7\n",
              "96       57.0       2.9    1        5.7\n",
              "97       62.0       2.9    1        6.2\n",
              "98       51.0       2.5    1        5.1\n",
              "99       57.0       2.8    1        5.7\n",
              "\n",
              "[100 rows x 4 columns]"
            ]
          },
          "metadata": {
            "tags": []
          },
          "execution_count": 12
        }
      ]
    },
    {
      "cell_type": "markdown",
      "metadata": {
        "id": "1IPZKJa1ILT7"
      },
      "source": [
        "## 2.4 DataFrame（`iris_df`）の `length_cm` と `width_cm` の散布図を表示してください。ただし `cls == 0` のデータは赤色、`cls == 1` のデータは青色で表示するものとします。"
      ]
    },
    {
      "cell_type": "code",
      "metadata": {
        "colab": {
          "base_uri": "https://localhost:8080/",
          "height": 300
        },
        "id": "YsKqpWSK-L0H",
        "outputId": "236b7a91-c440-451b-c323-566b218e0d1a"
      },
      "source": [
        "ax = iris_df[iris_df[\"cls\"] == 0].plot.scatter(\"length_cm\", \"width_cm\", color=\"red\")\n",
        "iris_df[iris_df[\"cls\"] == 1].plot.scatter(\"length_cm\", \"width_cm\", color=\"blue\", ax=ax)"
      ],
      "execution_count": null,
      "outputs": [
        {
          "output_type": "execute_result",
          "data": {
            "text/plain": [
              "<matplotlib.axes._subplots.AxesSubplot at 0x7f90c3501860>"
            ]
          },
          "metadata": {
            "tags": []
          },
          "execution_count": 13
        },
        {
          "output_type": "display_data",
          "data": {
            "image/png": "[encoded data removed]",
            "text/plain": [
              "<Figure size 432x288 with 1 Axes>"
            ]
          },
          "metadata": {
            "tags": [],
            "needs_background": "light"
          }
        }
      ]
    },
    {
      "cell_type": "markdown",
      "metadata": {
        "id": "Mw0K8LvrIsfU"
      },
      "source": [
        "## 2.5 DataFrame(`iris_df`）のデータを訓練データ50件、テストデータ50件に分割してください。"
      ]
    },
    {
      "cell_type": "code",
      "metadata": {
        "colab": {
          "base_uri": "https://localhost:8080/"
        },
        "id": "RBrzd_WrBpmN",
        "outputId": "fb41fa83-5c67-4e74-8b6b-a9aa7579cea5"
      },
      "source": [
        "from sklearn.model_selection import train_test_split\n",
        "\n",
        "x_train, x_test, y_train, y_test = train_test_split(iris_df[[\"length_cm\", \"width_cm\"]].values, iris_df[\"cls\"].values, train_size=0.5, random_state=1)\n",
        "print(x_train.shape)\n",
        "print(x_test.shape)\n",
        "print(y_train.shape)\n",
        "print(y_test.shape)"
      ],
      "execution_count": null,
      "outputs": [
        {
          "output_type": "stream",
          "text": [
            "(50, 2)\n",
            "(50, 2)\n",
            "(50,)\n",
            "(50,)\n"
          ],
          "name": "stdout"
        }
      ]
    },
    {
      "cell_type": "markdown",
      "metadata": {
        "id": "frhIBIMMJDaX"
      },
      "source": [
        "## 2.6 k-NN法によって、DataFrame（iris_df）の訓練データで学習して、正答率（Accuracy）を表示してください。\n",
        "\n",
        "> k-NN法では最寄りの3点から学習するものとします。"
      ]
    },
    {
      "cell_type": "code",
      "metadata": {
        "colab": {
          "base_uri": "https://localhost:8080/"
        },
        "id": "JnBPqwHHJDww",
        "outputId": "07e9b548-063f-4389-8a8a-e131dcb7f18b"
      },
      "source": [
        "from sklearn.neighbors import KNeighborsClassifier\n",
        "\n",
        "clf = KNeighborsClassifier(n_neighbors=3)\n",
        "clf.fit(x_train, y_train)\n",
        "print(clf.score(x_test, y_test))"
      ],
      "execution_count": null,
      "outputs": [
        {
          "output_type": "stream",
          "text": [
            "0.98\n"
          ],
          "name": "stdout"
        }
      ]
    },
    {
      "cell_type": "markdown",
      "metadata": {
        "id": "ebMeMBXeJi3z"
      },
      "source": [
        "## 2.7 `mlextend` を使って散布図に境界線を描画してください。"
      ]
    },
    {
      "cell_type": "code",
      "metadata": {
        "colab": {
          "base_uri": "https://localhost:8080/",
          "height": 314
        },
        "id": "4EpC1nDQIx8s",
        "outputId": "66e1defa-487b-4f89-d8ab-b8fd6d9b0387"
      },
      "source": [
        "from mlxtend.plotting import plot_decision_regions\n",
        "\n",
        "plot_decision_regions(iris_df[[\"length_cm\", \"width_cm\"]].values, iris_df[\"cls\"].values, clf=clf)"
      ],
      "execution_count": null,
      "outputs": [
        {
          "output_type": "stream",
          "text": [
            "/usr/local/lib/python3.6/dist-packages/mlxtend/plotting/decision_regions.py:244: MatplotlibDeprecationWarning: Passing unsupported keyword arguments to axis() will raise a TypeError in 3.3.\n",
            "  ax.axis(xmin=xx.min(), xmax=xx.max(), y_min=yy.min(), y_max=yy.max())\n"
          ],
          "name": "stderr"
        },
        {
          "output_type": "execute_result",
          "data": {
            "text/plain": [
              "<matplotlib.axes._subplots.AxesSubplot at 0x7f90c28712e8>"
            ]
          },
          "metadata": {
            "tags": []
          },
          "execution_count": 16
        },
        {
          "output_type": "display_data",
          "data": {
            "image/png": "[encoded data removed]",
            "text/plain": [
              "<Figure size 432x288 with 1 Axes>"
            ]
          },
          "metadata": {
            "tags": [],
            "needs_background": "light"
          }
        }
      ]
    },
    {
      "cell_type": "markdown",
      "metadata": {
        "id": "RmV3TyrWLYmy"
      },
      "source": [
        "## （参考） 2.8 LogistRegressionによって、DataFrame（iris_df）の訓練データで学習して、テストデータによる正答率（Accuracy）を表示してください。"
      ]
    },
    {
      "cell_type": "code",
      "metadata": {
        "colab": {
          "base_uri": "https://localhost:8080/"
        },
        "id": "6R6xxjutCAb-",
        "outputId": "90118a6d-38ac-4d32-929d-55ce63e9b0c6"
      },
      "source": [
        "from sklearn.linear_model import LogisticRegression\n",
        "\n",
        "clf = LogisticRegression()\n",
        "clf.fit(x_train, y_train)\n",
        "print(clf.score(x_test, y_test))"
      ],
      "execution_count": null,
      "outputs": [
        {
          "output_type": "stream",
          "text": [
            "1.0\n"
          ],
          "name": "stdout"
        }
      ]
    },
    {
      "cell_type": "markdown",
      "metadata": {
        "id": "dGel5O6uLmjr"
      },
      "source": [
        "## （参考） 2.9 `mlextend` を使って散布図に境界線を描画してください。"
      ]
    },
    {
      "cell_type": "code",
      "metadata": {
        "colab": {
          "base_uri": "https://localhost:8080/",
          "height": 314
        },
        "id": "IRtUAdkU-vpD",
        "outputId": "8b174632-9cea-44c7-8a07-4193c2bb118f"
      },
      "source": [
        "from mlxtend.plotting import plot_decision_regions\n",
        "\n",
        "plot_decision_regions(iris_df[[\"length_cm\", \"width_cm\"]].values, iris_df[\"cls\"].values, clf=clf)"
      ],
      "execution_count": null,
      "outputs": [
        {
          "output_type": "stream",
          "text": [
            "/usr/local/lib/python3.6/dist-packages/mlxtend/plotting/decision_regions.py:244: MatplotlibDeprecationWarning: Passing unsupported keyword arguments to axis() will raise a TypeError in 3.3.\n",
            "  ax.axis(xmin=xx.min(), xmax=xx.max(), y_min=yy.min(), y_max=yy.max())\n"
          ],
          "name": "stderr"
        },
        {
          "output_type": "execute_result",
          "data": {
            "text/plain": [
              "<matplotlib.axes._subplots.AxesSubplot at 0x7f90c25ea668>"
            ]
          },
          "metadata": {
            "tags": []
          },
          "execution_count": 18
        },
        {
          "output_type": "display_data",
          "data": {
            "image/png": "[encoded data removed]",
            "text/plain": [
              "<Figure size 432x288 with 1 Axes>"
            ]
          },
          "metadata": {
            "tags": [],
            "needs_background": "light"
          }
        }
      ]
    },
    {
      "cell_type": "markdown",
      "metadata": {
        "id": "sd_Ll_FDLxnj"
      },
      "source": [
        "## （参考） 2.10 ## wgetコマンド以下のURLからでファイル（sepal_iris2.csv）をダウンロードしてください。\n",
        "\n",
        "> ロジスティック回帰やk-NN法で分類にチャレンジしてください。\n",
        "\n",
        "```\n",
        "!wget https://gist.githubusercontent.com/murayama333/76b67a67c79c722cad976708f85b461d/raw/0d7b10b41dd279325b85352e99d8edf31abb4dd9/sepal_iris2.csv\n",
        "```"
      ]
    },
    {
      "cell_type": "code",
      "metadata": {
        "colab": {
          "base_uri": "https://localhost:8080/"
        },
        "id": "9zzcKLbmKZZL",
        "outputId": "11d7e187-f42c-4380-ae40-53163f2b9a07"
      },
      "source": [
        "!wget https://gist.githubusercontent.com/murayama333/76b67a67c79c722cad976708f85b461d/raw/0d7b10b41dd279325b85352e99d8edf31abb4dd9/sepal_iris2.csv"
      ],
      "execution_count": null,
      "outputs": [
        {
          "output_type": "stream",
          "text": [
            "--2021-02-22 10:08:14--  https://gist.githubusercontent.com/murayama333/76b67a67c79c722cad976708f85b461d/raw/0d7b10b41dd279325b85352e99d8edf31abb4dd9/sepal_iris2.csv\n",
            "Resolving gist.githubusercontent.com (gist.githubusercontent.com)... 185.199.108.133, 185.199.109.133, 185.199.110.133, ...\n",
            "Connecting to gist.githubusercontent.com (gist.githubusercontent.com)|185.199.108.133|:443... connected.\n",
            "HTTP request sent, awaiting response... 200 OK\n",
            "Length: 1123 (1.1K) [text/plain]\n",
            "Saving to: ‘sepal_iris2.csv’\n",
            "\n",
            "\rsepal_iris2.csv       0%[                    ]       0  --.-KB/s               \rsepal_iris2.csv     100%[===================>]   1.10K  --.-KB/s    in 0s      \n",
            "\n",
            "2021-02-22 10:08:14 (31.5 MB/s) - ‘sepal_iris2.csv’ saved [1123/1123]\n",
            "\n"
          ],
          "name": "stdout"
        }
      ]
    },
    {
      "cell_type": "code",
      "metadata": {
        "colab": {
          "base_uri": "https://localhost:8080/",
          "height": 406
        },
        "id": "p-xcuy9CKit3",
        "outputId": "424a10d9-165c-4806-975b-a48f15a624f2"
      },
      "source": [
        "import pandas as pd\n",
        "\n",
        "iris_df = pd.read_csv(\"sepal_iris2.csv\")\n",
        "iris_df"
      ],
      "execution_count": null,
      "outputs": [
        {
          "output_type": "execute_result",
          "data": {
            "text/html": [
              "<div>\n",
              "<style scoped>\n",
              "    .dataframe tbody tr th:only-of-type {\n",
              "        vertical-align: middle;\n",
              "    }\n",
              "\n",
              "    .dataframe tbody tr th {\n",
              "        vertical-align: top;\n",
              "    }\n",
              "\n",
              "    .dataframe thead th {\n",
              "        text-align: right;\n",
              "    }\n",
              "</style>\n",
              "<table border=\"1\" class=\"dataframe\">\n",
              "  <thead>\n",
              "    <tr style=\"text-align: right;\">\n",
              "      <th></th>\n",
              "      <th>length_mm</th>\n",
              "      <th>width_cm</th>\n",
              "      <th>cls</th>\n",
              "    </tr>\n",
              "  </thead>\n",
              "  <tbody>\n",
              "    <tr>\n",
              "      <th>0</th>\n",
              "      <td>70.0</td>\n",
              "      <td>3.2</td>\n",
              "      <td>1</td>\n",
              "    </tr>\n",
              "    <tr>\n",
              "      <th>1</th>\n",
              "      <td>64.0</td>\n",
              "      <td>3.2</td>\n",
              "      <td>1</td>\n",
              "    </tr>\n",
              "    <tr>\n",
              "      <th>2</th>\n",
              "      <td>69.0</td>\n",
              "      <td>3.1</td>\n",
              "      <td>1</td>\n",
              "    </tr>\n",
              "    <tr>\n",
              "      <th>3</th>\n",
              "      <td>55.0</td>\n",
              "      <td>2.3</td>\n",
              "      <td>1</td>\n",
              "    </tr>\n",
              "    <tr>\n",
              "      <th>4</th>\n",
              "      <td>65.0</td>\n",
              "      <td>2.8</td>\n",
              "      <td>1</td>\n",
              "    </tr>\n",
              "    <tr>\n",
              "      <th>...</th>\n",
              "      <td>...</td>\n",
              "      <td>...</td>\n",
              "      <td>...</td>\n",
              "    </tr>\n",
              "    <tr>\n",
              "      <th>95</th>\n",
              "      <td>67.0</td>\n",
              "      <td>3.0</td>\n",
              "      <td>2</td>\n",
              "    </tr>\n",
              "    <tr>\n",
              "      <th>96</th>\n",
              "      <td>63.0</td>\n",
              "      <td>2.5</td>\n",
              "      <td>2</td>\n",
              "    </tr>\n",
              "    <tr>\n",
              "      <th>97</th>\n",
              "      <td>65.0</td>\n",
              "      <td>3.0</td>\n",
              "      <td>2</td>\n",
              "    </tr>\n",
              "    <tr>\n",
              "      <th>98</th>\n",
              "      <td>62.0</td>\n",
              "      <td>3.4</td>\n",
              "      <td>2</td>\n",
              "    </tr>\n",
              "    <tr>\n",
              "      <th>99</th>\n",
              "      <td>59.0</td>\n",
              "      <td>3.0</td>\n",
              "      <td>2</td>\n",
              "    </tr>\n",
              "  </tbody>\n",
              "</table>\n",
              "<p>100 rows × 3 columns</p>\n",
              "</div>"
            ],
            "text/plain": [
              "    length_mm  width_cm  cls\n",
              "0        70.0       3.2    1\n",
              "1        64.0       3.2    1\n",
              "2        69.0       3.1    1\n",
              "3        55.0       2.3    1\n",
              "4        65.0       2.8    1\n",
              "..        ...       ...  ...\n",
              "95       67.0       3.0    2\n",
              "96       63.0       2.5    2\n",
              "97       65.0       3.0    2\n",
              "98       62.0       3.4    2\n",
              "99       59.0       3.0    2\n",
              "\n",
              "[100 rows x 3 columns]"
            ]
          },
          "metadata": {
            "tags": []
          },
          "execution_count": 20
        }
      ]
    },
    {
      "cell_type": "code",
      "metadata": {
        "colab": {
          "base_uri": "https://localhost:8080/",
          "height": 406
        },
        "id": "sAq1FSRlKyJl",
        "outputId": "1e29c74b-c9d3-447e-9f32-d469e0ea5013"
      },
      "source": [
        "iris_df[\"length_cm\"] = iris_df[\"length_mm\"] * 0.1\n",
        "iris_df"
      ],
      "execution_count": null,
      "outputs": [
        {
          "output_type": "execute_result",
          "data": {
            "text/html": [
              "<div>\n",
              "<style scoped>\n",
              "    .dataframe tbody tr th:only-of-type {\n",
              "        vertical-align: middle;\n",
              "    }\n",
              "\n",
              "    .dataframe tbody tr th {\n",
              "        vertical-align: top;\n",
              "    }\n",
              "\n",
              "    .dataframe thead th {\n",
              "        text-align: right;\n",
              "    }\n",
              "</style>\n",
              "<table border=\"1\" class=\"dataframe\">\n",
              "  <thead>\n",
              "    <tr style=\"text-align: right;\">\n",
              "      <th></th>\n",
              "      <th>length_mm</th>\n",
              "      <th>width_cm</th>\n",
              "      <th>cls</th>\n",
              "      <th>length_cm</th>\n",
              "    </tr>\n",
              "  </thead>\n",
              "  <tbody>\n",
              "    <tr>\n",
              "      <th>0</th>\n",
              "      <td>70.0</td>\n",
              "      <td>3.2</td>\n",
              "      <td>1</td>\n",
              "      <td>7.0</td>\n",
              "    </tr>\n",
              "    <tr>\n",
              "      <th>1</th>\n",
              "      <td>64.0</td>\n",
              "      <td>3.2</td>\n",
              "      <td>1</td>\n",
              "      <td>6.4</td>\n",
              "    </tr>\n",
              "    <tr>\n",
              "      <th>2</th>\n",
              "      <td>69.0</td>\n",
              "      <td>3.1</td>\n",
              "      <td>1</td>\n",
              "      <td>6.9</td>\n",
              "    </tr>\n",
              "    <tr>\n",
              "      <th>3</th>\n",
              "      <td>55.0</td>\n",
              "      <td>2.3</td>\n",
              "      <td>1</td>\n",
              "      <td>5.5</td>\n",
              "    </tr>\n",
              "    <tr>\n",
              "      <th>4</th>\n",
              "      <td>65.0</td>\n",
              "      <td>2.8</td>\n",
              "      <td>1</td>\n",
              "      <td>6.5</td>\n",
              "    </tr>\n",
              "    <tr>\n",
              "      <th>...</th>\n",
              "      <td>...</td>\n",
              "      <td>...</td>\n",
              "      <td>...</td>\n",
              "      <td>...</td>\n",
              "    </tr>\n",
              "    <tr>\n",
              "      <th>95</th>\n",
              "      <td>67.0</td>\n",
              "      <td>3.0</td>\n",
              "      <td>2</td>\n",
              "      <td>6.7</td>\n",
              "    </tr>\n",
              "    <tr>\n",
              "      <th>96</th>\n",
              "      <td>63.0</td>\n",
              "      <td>2.5</td>\n",
              "      <td>2</td>\n",
              "      <td>6.3</td>\n",
              "    </tr>\n",
              "    <tr>\n",
              "      <th>97</th>\n",
              "      <td>65.0</td>\n",
              "      <td>3.0</td>\n",
              "      <td>2</td>\n",
              "      <td>6.5</td>\n",
              "    </tr>\n",
              "    <tr>\n",
              "      <th>98</th>\n",
              "      <td>62.0</td>\n",
              "      <td>3.4</td>\n",
              "      <td>2</td>\n",
              "      <td>6.2</td>\n",
              "    </tr>\n",
              "    <tr>\n",
              "      <th>99</th>\n",
              "      <td>59.0</td>\n",
              "      <td>3.0</td>\n",
              "      <td>2</td>\n",
              "      <td>5.9</td>\n",
              "    </tr>\n",
              "  </tbody>\n",
              "</table>\n",
              "<p>100 rows × 4 columns</p>\n",
              "</div>"
            ],
            "text/plain": [
              "    length_mm  width_cm  cls  length_cm\n",
              "0        70.0       3.2    1        7.0\n",
              "1        64.0       3.2    1        6.4\n",
              "2        69.0       3.1    1        6.9\n",
              "3        55.0       2.3    1        5.5\n",
              "4        65.0       2.8    1        6.5\n",
              "..        ...       ...  ...        ...\n",
              "95       67.0       3.0    2        6.7\n",
              "96       63.0       2.5    2        6.3\n",
              "97       65.0       3.0    2        6.5\n",
              "98       62.0       3.4    2        6.2\n",
              "99       59.0       3.0    2        5.9\n",
              "\n",
              "[100 rows x 4 columns]"
            ]
          },
          "metadata": {
            "tags": []
          },
          "execution_count": 21
        }
      ]
    },
    {
      "cell_type": "code",
      "metadata": {
        "colab": {
          "base_uri": "https://localhost:8080/",
          "height": 296
        },
        "id": "P0hIs4iaKque",
        "outputId": "0cd507dc-d7c8-4b21-f81d-645d390f60cb"
      },
      "source": [
        "ax = iris_df[iris_df[\"cls\"] == 2].plot.scatter(\"length_cm\", \"width_cm\", color=\"red\")\n",
        "iris_df[iris_df[\"cls\"] == 1].plot.scatter(\"length_cm\", \"width_cm\", color=\"blue\", ax=ax)"
      ],
      "execution_count": null,
      "outputs": [
        {
          "output_type": "execute_result",
          "data": {
            "text/plain": [
              "<matplotlib.axes._subplots.AxesSubplot at 0x7f90c255e588>"
            ]
          },
          "metadata": {
            "tags": []
          },
          "execution_count": 22
        },
        {
          "output_type": "display_data",
          "data": {
            "image/png": "[encoded data removed]",
            "text/plain": [
              "<Figure size 432x288 with 1 Axes>"
            ]
          },
          "metadata": {
            "tags": [],
            "needs_background": "light"
          }
        }
      ]
    },
    {
      "cell_type": "code",
      "metadata": {
        "colab": {
          "base_uri": "https://localhost:8080/"
        },
        "id": "ebs_IpfUK6va",
        "outputId": "75b7d624-ed42-4ac6-e544-0fb07b3c6c4c"
      },
      "source": [
        "from sklearn.model_selection import train_test_split\n",
        "\n",
        "x_train, x_test, y_train, y_test = train_test_split(iris_df[[\"length_cm\", \"width_cm\"]].values, iris_df[\"cls\"].values, train_size=0.5, random_state=1)\n",
        "print(x_train.shape)\n",
        "print(x_test.shape)\n",
        "print(y_train.shape)\n",
        "print(y_test.shape)"
      ],
      "execution_count": null,
      "outputs": [
        {
          "output_type": "stream",
          "text": [
            "(50, 2)\n",
            "(50, 2)\n",
            "(50,)\n",
            "(50,)\n"
          ],
          "name": "stdout"
        }
      ]
    },
    {
      "cell_type": "code",
      "metadata": {
        "colab": {
          "base_uri": "https://localhost:8080/"
        },
        "id": "h2GsPxEZLBsC",
        "outputId": "cc82f4d1-edcd-48cd-b914-d2cd8864da0e"
      },
      "source": [
        "from sklearn.neighbors import KNeighborsClassifier\n",
        "\n",
        "clf = KNeighborsClassifier(n_neighbors=3)\n",
        "clf.fit(x_train, y_train)\n",
        "print(clf.score(x_test, y_test))"
      ],
      "execution_count": null,
      "outputs": [
        {
          "output_type": "stream",
          "text": [
            "0.66\n"
          ],
          "name": "stdout"
        }
      ]
    },
    {
      "cell_type": "code",
      "metadata": {
        "colab": {
          "base_uri": "https://localhost:8080/",
          "height": 314
        },
        "id": "_WYd57vQLOok",
        "outputId": "d77cb298-b081-46d9-8002-7e0a44f41e61"
      },
      "source": [
        "from mlxtend.plotting import plot_decision_regions\n",
        "\n",
        "plot_decision_regions(iris_df[[\"length_cm\", \"width_cm\"]].values, iris_df[\"cls\"].values, clf=clf)"
      ],
      "execution_count": null,
      "outputs": [
        {
          "output_type": "stream",
          "text": [
            "/usr/local/lib/python3.6/dist-packages/mlxtend/plotting/decision_regions.py:244: MatplotlibDeprecationWarning: Passing unsupported keyword arguments to axis() will raise a TypeError in 3.3.\n",
            "  ax.axis(xmin=xx.min(), xmax=xx.max(), y_min=yy.min(), y_max=yy.max())\n"
          ],
          "name": "stderr"
        },
        {
          "output_type": "execute_result",
          "data": {
            "text/plain": [
              "<matplotlib.axes._subplots.AxesSubplot at 0x7f90c254e198>"
            ]
          },
          "metadata": {
            "tags": []
          },
          "execution_count": 25
        },
        {
          "output_type": "display_data",
          "data": {
            "image/png": "[encoded data removed]",
            "text/plain": [
              "<Figure size 432x288 with 1 Axes>"
            ]
          },
          "metadata": {
            "tags": [],
            "needs_background": "light"
          }
        }
      ]
    },
    {
      "cell_type": "code",
      "metadata": {
        "colab": {
          "base_uri": "https://localhost:8080/"
        },
        "id": "8aBaLX6IK2eF",
        "outputId": "72203194-2b45-4d26-ce33-86be7822d806"
      },
      "source": [
        "from sklearn.linear_model import LogisticRegression\n",
        "\n",
        "clf = LogisticRegression()\n",
        "clf.fit(x_train, y_train)\n",
        "print(clf.score(x_test, y_test))"
      ],
      "execution_count": null,
      "outputs": [
        {
          "output_type": "stream",
          "text": [
            "0.6\n"
          ],
          "name": "stdout"
        }
      ]
    },
    {
      "cell_type": "code",
      "metadata": {
        "colab": {
          "base_uri": "https://localhost:8080/",
          "height": 314
        },
        "id": "WLXHZwd2K-tD",
        "outputId": "330c77c4-e4bb-49ca-822a-326622616697"
      },
      "source": [
        "from mlxtend.plotting import plot_decision_regions\n",
        "\n",
        "plot_decision_regions(iris_df[[\"length_cm\", \"width_cm\"]].values, iris_df[\"cls\"].values, clf=clf)"
      ],
      "execution_count": null,
      "outputs": [
        {
          "output_type": "stream",
          "text": [
            "/usr/local/lib/python3.6/dist-packages/mlxtend/plotting/decision_regions.py:244: MatplotlibDeprecationWarning: Passing unsupported keyword arguments to axis() will raise a TypeError in 3.3.\n",
            "  ax.axis(xmin=xx.min(), xmax=xx.max(), y_min=yy.min(), y_max=yy.max())\n"
          ],
          "name": "stderr"
        },
        {
          "output_type": "execute_result",
          "data": {
            "text/plain": [
              "<matplotlib.axes._subplots.AxesSubplot at 0x7f90c2454400>"
            ]
          },
          "metadata": {
            "tags": []
          },
          "execution_count": 27
        },
        {
          "output_type": "display_data",
          "data": {
            "image/png": "[encoded data removed]",
            "text/plain": [
              "<Figure size 432x288 with 1 Axes>"
            ]
          },
          "metadata": {
            "tags": [],
            "needs_background": "light"
          }
        }
      ]
    }
  ]
}