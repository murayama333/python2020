{
  "nbformat": 4,
  "nbformat_minor": 0,
  "metadata": {
    "colab": {
      "name": "pandas_text_ex2.ipynb",
      "provenance": []
    },
    "kernelspec": {
      "name": "python3",
      "display_name": "Python 3"
    }
  },
  "cells": [
    {
      "cell_type": "markdown",
      "metadata": {
        "id": "ml4wNPaFD9Tx"
      },
      "source": [
        "# pandas - part5 - DataFrameのソート - Exercise\n",
        "\n",
        "---"
      ]
    },
    {
      "cell_type": "code",
      "metadata": {
        "colab": {
          "base_uri": "https://localhost:8080/"
        },
        "id": "68gCmXza2zFi",
        "outputId": "c8cab604-d6e8-4f1a-b4f8-c0adbe78b209"
      },
      "source": [
        "!wget https://gist.githubusercontent.com/murayama333/bb6e828389735f1fad0c2bc339d3f441/raw/9981807fc80526faa01e6185845363e137c0d9be/staffs.csv"
      ],
      "execution_count": 1,
      "outputs": [
        {
          "output_type": "stream",
          "text": [
            "--2021-01-12 06:56:45--  https://gist.githubusercontent.com/murayama333/bb6e828389735f1fad0c2bc339d3f441/raw/9981807fc80526faa01e6185845363e137c0d9be/staffs.csv\n",
            "Resolving gist.githubusercontent.com (gist.githubusercontent.com)... 151.101.0.133, 151.101.64.133, 151.101.128.133, ...\n",
            "Connecting to gist.githubusercontent.com (gist.githubusercontent.com)|151.101.0.133|:443... connected.\n",
            "HTTP request sent, awaiting response... 200 OK\n",
            "Length: 229 [text/plain]\n",
            "Saving to: ‘staffs.csv’\n",
            "\n",
            "\rstaffs.csv            0%[                    ]       0  --.-KB/s               \rstaffs.csv          100%[===================>]     229  --.-KB/s    in 0s      \n",
            "\n",
            "2021-01-12 06:56:45 (13.7 MB/s) - ‘staffs.csv’ saved [229/229]\n",
            "\n"
          ],
          "name": "stdout"
        }
      ]
    },
    {
      "cell_type": "code",
      "metadata": {
        "colab": {
          "base_uri": "https://localhost:8080/"
        },
        "id": "J4IaoDoIC2Iq",
        "outputId": "48887dd7-1294-4728-dd7b-c06c1db01997"
      },
      "source": [
        "!cat staffs.csv"
      ],
      "execution_count": 2,
      "outputs": [
        {
          "output_type": "stream",
          "text": [
            "id,name,age,sal,job\n",
            "1,Andy,27,650,sales\n",
            "2,Betty,28,800,engineer\n",
            "3,Charol,28,700,designer\n",
            "4,Daniel,22,650,marketer\n",
            "5,Ellen,24,700,sales\n",
            "6,Flora,30,750,engineer\n",
            "7,George,24,500,designer\n",
            "8,Holly,32,650,engineer\n",
            "9,Ian,32,700,manager\n"
          ],
          "name": "stdout"
        }
      ]
    },
    {
      "cell_type": "code",
      "metadata": {
        "colab": {
          "base_uri": "https://localhost:8080/",
          "height": 359
        },
        "id": "5fEVsJrsC7tA",
        "outputId": "019bbd81-3bdc-45c6-e312-b7948abf7ffb"
      },
      "source": [
        "import pandas as pd\n",
        "pd.options.display.precision = 2\n",
        "pd.options.display.float_format = '{:.2f}'.format\n",
        "\n",
        "staffs = pd.read_csv(\"staffs.csv\", index_col=0)\n",
        "staffs"
      ],
      "execution_count": 3,
      "outputs": [
        {
          "output_type": "execute_result",
          "data": {
            "text/html": [
              "<div>\n",
              "<style scoped>\n",
              "    .dataframe tbody tr th:only-of-type {\n",
              "        vertical-align: middle;\n",
              "    }\n",
              "\n",
              "    .dataframe tbody tr th {\n",
              "        vertical-align: top;\n",
              "    }\n",
              "\n",
              "    .dataframe thead th {\n",
              "        text-align: right;\n",
              "    }\n",
              "</style>\n",
              "<table border=\"1\" class=\"dataframe\">\n",
              "  <thead>\n",
              "    <tr style=\"text-align: right;\">\n",
              "      <th></th>\n",
              "      <th>name</th>\n",
              "      <th>age</th>\n",
              "      <th>sal</th>\n",
              "      <th>job</th>\n",
              "    </tr>\n",
              "    <tr>\n",
              "      <th>id</th>\n",
              "      <th></th>\n",
              "      <th></th>\n",
              "      <th></th>\n",
              "      <th></th>\n",
              "    </tr>\n",
              "  </thead>\n",
              "  <tbody>\n",
              "    <tr>\n",
              "      <th>1</th>\n",
              "      <td>Andy</td>\n",
              "      <td>27</td>\n",
              "      <td>650</td>\n",
              "      <td>sales</td>\n",
              "    </tr>\n",
              "    <tr>\n",
              "      <th>2</th>\n",
              "      <td>Betty</td>\n",
              "      <td>28</td>\n",
              "      <td>800</td>\n",
              "      <td>engineer</td>\n",
              "    </tr>\n",
              "    <tr>\n",
              "      <th>3</th>\n",
              "      <td>Charol</td>\n",
              "      <td>28</td>\n",
              "      <td>700</td>\n",
              "      <td>designer</td>\n",
              "    </tr>\n",
              "    <tr>\n",
              "      <th>4</th>\n",
              "      <td>Daniel</td>\n",
              "      <td>22</td>\n",
              "      <td>650</td>\n",
              "      <td>marketer</td>\n",
              "    </tr>\n",
              "    <tr>\n",
              "      <th>5</th>\n",
              "      <td>Ellen</td>\n",
              "      <td>24</td>\n",
              "      <td>700</td>\n",
              "      <td>sales</td>\n",
              "    </tr>\n",
              "    <tr>\n",
              "      <th>6</th>\n",
              "      <td>Flora</td>\n",
              "      <td>30</td>\n",
              "      <td>750</td>\n",
              "      <td>engineer</td>\n",
              "    </tr>\n",
              "    <tr>\n",
              "      <th>7</th>\n",
              "      <td>George</td>\n",
              "      <td>24</td>\n",
              "      <td>500</td>\n",
              "      <td>designer</td>\n",
              "    </tr>\n",
              "    <tr>\n",
              "      <th>8</th>\n",
              "      <td>Holly</td>\n",
              "      <td>32</td>\n",
              "      <td>650</td>\n",
              "      <td>engineer</td>\n",
              "    </tr>\n",
              "    <tr>\n",
              "      <th>9</th>\n",
              "      <td>Ian</td>\n",
              "      <td>32</td>\n",
              "      <td>700</td>\n",
              "      <td>manager</td>\n",
              "    </tr>\n",
              "  </tbody>\n",
              "</table>\n",
              "</div>"
            ],
            "text/plain": [
              "      name  age  sal       job\n",
              "id                            \n",
              "1     Andy   27  650     sales\n",
              "2    Betty   28  800  engineer\n",
              "3   Charol   28  700  designer\n",
              "4   Daniel   22  650  marketer\n",
              "5    Ellen   24  700     sales\n",
              "6    Flora   30  750  engineer\n",
              "7   George   24  500  designer\n",
              "8    Holly   32  650  engineer\n",
              "9      Ian   32  700   manager"
            ]
          },
          "metadata": {
            "tags": []
          },
          "execution_count": 3
        }
      ]
    },
    {
      "cell_type": "markdown",
      "metadata": {
        "id": "ylyumfL-saJM"
      },
      "source": [
        "## 5.1 age の昇順で出力してください。"
      ]
    },
    {
      "cell_type": "code",
      "metadata": {
        "colab": {
          "base_uri": "https://localhost:8080/",
          "height": 359
        },
        "id": "AkdB_l6UDInv",
        "outputId": "aa8facca-c044-48be-cf8f-86062d3af261"
      },
      "source": [
        "staffs.sort_values(\"age\")"
      ],
      "execution_count": 4,
      "outputs": [
        {
          "output_type": "execute_result",
          "data": {
            "text/html": [
              "<div>\n",
              "<style scoped>\n",
              "    .dataframe tbody tr th:only-of-type {\n",
              "        vertical-align: middle;\n",
              "    }\n",
              "\n",
              "    .dataframe tbody tr th {\n",
              "        vertical-align: top;\n",
              "    }\n",
              "\n",
              "    .dataframe thead th {\n",
              "        text-align: right;\n",
              "    }\n",
              "</style>\n",
              "<table border=\"1\" class=\"dataframe\">\n",
              "  <thead>\n",
              "    <tr style=\"text-align: right;\">\n",
              "      <th></th>\n",
              "      <th>name</th>\n",
              "      <th>age</th>\n",
              "      <th>sal</th>\n",
              "      <th>job</th>\n",
              "    </tr>\n",
              "    <tr>\n",
              "      <th>id</th>\n",
              "      <th></th>\n",
              "      <th></th>\n",
              "      <th></th>\n",
              "      <th></th>\n",
              "    </tr>\n",
              "  </thead>\n",
              "  <tbody>\n",
              "    <tr>\n",
              "      <th>4</th>\n",
              "      <td>Daniel</td>\n",
              "      <td>22</td>\n",
              "      <td>650</td>\n",
              "      <td>marketer</td>\n",
              "    </tr>\n",
              "    <tr>\n",
              "      <th>5</th>\n",
              "      <td>Ellen</td>\n",
              "      <td>24</td>\n",
              "      <td>700</td>\n",
              "      <td>sales</td>\n",
              "    </tr>\n",
              "    <tr>\n",
              "      <th>7</th>\n",
              "      <td>George</td>\n",
              "      <td>24</td>\n",
              "      <td>500</td>\n",
              "      <td>designer</td>\n",
              "    </tr>\n",
              "    <tr>\n",
              "      <th>1</th>\n",
              "      <td>Andy</td>\n",
              "      <td>27</td>\n",
              "      <td>650</td>\n",
              "      <td>sales</td>\n",
              "    </tr>\n",
              "    <tr>\n",
              "      <th>2</th>\n",
              "      <td>Betty</td>\n",
              "      <td>28</td>\n",
              "      <td>800</td>\n",
              "      <td>engineer</td>\n",
              "    </tr>\n",
              "    <tr>\n",
              "      <th>3</th>\n",
              "      <td>Charol</td>\n",
              "      <td>28</td>\n",
              "      <td>700</td>\n",
              "      <td>designer</td>\n",
              "    </tr>\n",
              "    <tr>\n",
              "      <th>6</th>\n",
              "      <td>Flora</td>\n",
              "      <td>30</td>\n",
              "      <td>750</td>\n",
              "      <td>engineer</td>\n",
              "    </tr>\n",
              "    <tr>\n",
              "      <th>8</th>\n",
              "      <td>Holly</td>\n",
              "      <td>32</td>\n",
              "      <td>650</td>\n",
              "      <td>engineer</td>\n",
              "    </tr>\n",
              "    <tr>\n",
              "      <th>9</th>\n",
              "      <td>Ian</td>\n",
              "      <td>32</td>\n",
              "      <td>700</td>\n",
              "      <td>manager</td>\n",
              "    </tr>\n",
              "  </tbody>\n",
              "</table>\n",
              "</div>"
            ],
            "text/plain": [
              "      name  age  sal       job\n",
              "id                            \n",
              "4   Daniel   22  650  marketer\n",
              "5    Ellen   24  700     sales\n",
              "7   George   24  500  designer\n",
              "1     Andy   27  650     sales\n",
              "2    Betty   28  800  engineer\n",
              "3   Charol   28  700  designer\n",
              "6    Flora   30  750  engineer\n",
              "8    Holly   32  650  engineer\n",
              "9      Ian   32  700   manager"
            ]
          },
          "metadata": {
            "tags": []
          },
          "execution_count": 4
        }
      ]
    },
    {
      "cell_type": "markdown",
      "metadata": {
        "id": "03EsYo4lshG7"
      },
      "source": [
        "## 5.2 sal の降順で出力してください。"
      ]
    },
    {
      "cell_type": "code",
      "metadata": {
        "colab": {
          "base_uri": "https://localhost:8080/",
          "height": 359
        },
        "id": "LYSfAIo5DBcs",
        "outputId": "bd35a9d2-4a75-442d-b08c-182fefd201cf"
      },
      "source": [
        "staffs.sort_values(\"sal\", ascending=False)"
      ],
      "execution_count": 5,
      "outputs": [
        {
          "output_type": "execute_result",
          "data": {
            "text/html": [
              "<div>\n",
              "<style scoped>\n",
              "    .dataframe tbody tr th:only-of-type {\n",
              "        vertical-align: middle;\n",
              "    }\n",
              "\n",
              "    .dataframe tbody tr th {\n",
              "        vertical-align: top;\n",
              "    }\n",
              "\n",
              "    .dataframe thead th {\n",
              "        text-align: right;\n",
              "    }\n",
              "</style>\n",
              "<table border=\"1\" class=\"dataframe\">\n",
              "  <thead>\n",
              "    <tr style=\"text-align: right;\">\n",
              "      <th></th>\n",
              "      <th>name</th>\n",
              "      <th>age</th>\n",
              "      <th>sal</th>\n",
              "      <th>job</th>\n",
              "    </tr>\n",
              "    <tr>\n",
              "      <th>id</th>\n",
              "      <th></th>\n",
              "      <th></th>\n",
              "      <th></th>\n",
              "      <th></th>\n",
              "    </tr>\n",
              "  </thead>\n",
              "  <tbody>\n",
              "    <tr>\n",
              "      <th>2</th>\n",
              "      <td>Betty</td>\n",
              "      <td>28</td>\n",
              "      <td>800</td>\n",
              "      <td>engineer</td>\n",
              "    </tr>\n",
              "    <tr>\n",
              "      <th>6</th>\n",
              "      <td>Flora</td>\n",
              "      <td>30</td>\n",
              "      <td>750</td>\n",
              "      <td>engineer</td>\n",
              "    </tr>\n",
              "    <tr>\n",
              "      <th>3</th>\n",
              "      <td>Charol</td>\n",
              "      <td>28</td>\n",
              "      <td>700</td>\n",
              "      <td>designer</td>\n",
              "    </tr>\n",
              "    <tr>\n",
              "      <th>5</th>\n",
              "      <td>Ellen</td>\n",
              "      <td>24</td>\n",
              "      <td>700</td>\n",
              "      <td>sales</td>\n",
              "    </tr>\n",
              "    <tr>\n",
              "      <th>9</th>\n",
              "      <td>Ian</td>\n",
              "      <td>32</td>\n",
              "      <td>700</td>\n",
              "      <td>manager</td>\n",
              "    </tr>\n",
              "    <tr>\n",
              "      <th>1</th>\n",
              "      <td>Andy</td>\n",
              "      <td>27</td>\n",
              "      <td>650</td>\n",
              "      <td>sales</td>\n",
              "    </tr>\n",
              "    <tr>\n",
              "      <th>4</th>\n",
              "      <td>Daniel</td>\n",
              "      <td>22</td>\n",
              "      <td>650</td>\n",
              "      <td>marketer</td>\n",
              "    </tr>\n",
              "    <tr>\n",
              "      <th>8</th>\n",
              "      <td>Holly</td>\n",
              "      <td>32</td>\n",
              "      <td>650</td>\n",
              "      <td>engineer</td>\n",
              "    </tr>\n",
              "    <tr>\n",
              "      <th>7</th>\n",
              "      <td>George</td>\n",
              "      <td>24</td>\n",
              "      <td>500</td>\n",
              "      <td>designer</td>\n",
              "    </tr>\n",
              "  </tbody>\n",
              "</table>\n",
              "</div>"
            ],
            "text/plain": [
              "      name  age  sal       job\n",
              "id                            \n",
              "2    Betty   28  800  engineer\n",
              "6    Flora   30  750  engineer\n",
              "3   Charol   28  700  designer\n",
              "5    Ellen   24  700     sales\n",
              "9      Ian   32  700   manager\n",
              "1     Andy   27  650     sales\n",
              "4   Daniel   22  650  marketer\n",
              "8    Holly   32  650  engineer\n",
              "7   George   24  500  designer"
            ]
          },
          "metadata": {
            "tags": []
          },
          "execution_count": 5
        }
      ]
    },
    {
      "cell_type": "markdown",
      "metadata": {
        "id": "3v2YlhXdsmuP"
      },
      "source": [
        "## 5.3 job の昇順、sal の降順で出力してください。"
      ]
    },
    {
      "cell_type": "code",
      "metadata": {
        "colab": {
          "base_uri": "https://localhost:8080/",
          "height": 359
        },
        "id": "gHrA270NDOQo",
        "outputId": "35a11a31-d768-4b91-d5f3-cf40c2baceeb"
      },
      "source": [
        "staffs.sort_values([\"job\", \"sal\"], ascending=[True, False])"
      ],
      "execution_count": 6,
      "outputs": [
        {
          "output_type": "execute_result",
          "data": {
            "text/html": [
              "<div>\n",
              "<style scoped>\n",
              "    .dataframe tbody tr th:only-of-type {\n",
              "        vertical-align: middle;\n",
              "    }\n",
              "\n",
              "    .dataframe tbody tr th {\n",
              "        vertical-align: top;\n",
              "    }\n",
              "\n",
              "    .dataframe thead th {\n",
              "        text-align: right;\n",
              "    }\n",
              "</style>\n",
              "<table border=\"1\" class=\"dataframe\">\n",
              "  <thead>\n",
              "    <tr style=\"text-align: right;\">\n",
              "      <th></th>\n",
              "      <th>name</th>\n",
              "      <th>age</th>\n",
              "      <th>sal</th>\n",
              "      <th>job</th>\n",
              "    </tr>\n",
              "    <tr>\n",
              "      <th>id</th>\n",
              "      <th></th>\n",
              "      <th></th>\n",
              "      <th></th>\n",
              "      <th></th>\n",
              "    </tr>\n",
              "  </thead>\n",
              "  <tbody>\n",
              "    <tr>\n",
              "      <th>3</th>\n",
              "      <td>Charol</td>\n",
              "      <td>28</td>\n",
              "      <td>700</td>\n",
              "      <td>designer</td>\n",
              "    </tr>\n",
              "    <tr>\n",
              "      <th>7</th>\n",
              "      <td>George</td>\n",
              "      <td>24</td>\n",
              "      <td>500</td>\n",
              "      <td>designer</td>\n",
              "    </tr>\n",
              "    <tr>\n",
              "      <th>2</th>\n",
              "      <td>Betty</td>\n",
              "      <td>28</td>\n",
              "      <td>800</td>\n",
              "      <td>engineer</td>\n",
              "    </tr>\n",
              "    <tr>\n",
              "      <th>6</th>\n",
              "      <td>Flora</td>\n",
              "      <td>30</td>\n",
              "      <td>750</td>\n",
              "      <td>engineer</td>\n",
              "    </tr>\n",
              "    <tr>\n",
              "      <th>8</th>\n",
              "      <td>Holly</td>\n",
              "      <td>32</td>\n",
              "      <td>650</td>\n",
              "      <td>engineer</td>\n",
              "    </tr>\n",
              "    <tr>\n",
              "      <th>9</th>\n",
              "      <td>Ian</td>\n",
              "      <td>32</td>\n",
              "      <td>700</td>\n",
              "      <td>manager</td>\n",
              "    </tr>\n",
              "    <tr>\n",
              "      <th>4</th>\n",
              "      <td>Daniel</td>\n",
              "      <td>22</td>\n",
              "      <td>650</td>\n",
              "      <td>marketer</td>\n",
              "    </tr>\n",
              "    <tr>\n",
              "      <th>5</th>\n",
              "      <td>Ellen</td>\n",
              "      <td>24</td>\n",
              "      <td>700</td>\n",
              "      <td>sales</td>\n",
              "    </tr>\n",
              "    <tr>\n",
              "      <th>1</th>\n",
              "      <td>Andy</td>\n",
              "      <td>27</td>\n",
              "      <td>650</td>\n",
              "      <td>sales</td>\n",
              "    </tr>\n",
              "  </tbody>\n",
              "</table>\n",
              "</div>"
            ],
            "text/plain": [
              "      name  age  sal       job\n",
              "id                            \n",
              "3   Charol   28  700  designer\n",
              "7   George   24  500  designer\n",
              "2    Betty   28  800  engineer\n",
              "6    Flora   30  750  engineer\n",
              "8    Holly   32  650  engineer\n",
              "9      Ian   32  700   manager\n",
              "4   Daniel   22  650  marketer\n",
              "5    Ellen   24  700     sales\n",
              "1     Andy   27  650     sales"
            ]
          },
          "metadata": {
            "tags": []
          },
          "execution_count": 6
        }
      ]
    },
    {
      "cell_type": "markdown",
      "metadata": {
        "id": "8-2yFpSmD5Ng"
      },
      "source": [
        "# pandas - part6 - DataFrameのグループ化 - Exercise\n",
        "\n",
        "---"
      ]
    },
    {
      "cell_type": "code",
      "metadata": {
        "colab": {
          "base_uri": "https://localhost:8080/",
          "height": 359
        },
        "id": "NdFCEC95HtZk",
        "outputId": "f4a2ba34-098d-4f12-aabd-5973c5c8c746"
      },
      "source": [
        "import pandas as pd\n",
        "pd.options.display.precision = 2\n",
        "pd.options.display.float_format = '{:.2f}'.format\n",
        "\n",
        "staffs = pd.read_csv(\"staffs.csv\", index_col=0)\n",
        "staffs"
      ],
      "execution_count": 7,
      "outputs": [
        {
          "output_type": "execute_result",
          "data": {
            "text/html": [
              "<div>\n",
              "<style scoped>\n",
              "    .dataframe tbody tr th:only-of-type {\n",
              "        vertical-align: middle;\n",
              "    }\n",
              "\n",
              "    .dataframe tbody tr th {\n",
              "        vertical-align: top;\n",
              "    }\n",
              "\n",
              "    .dataframe thead th {\n",
              "        text-align: right;\n",
              "    }\n",
              "</style>\n",
              "<table border=\"1\" class=\"dataframe\">\n",
              "  <thead>\n",
              "    <tr style=\"text-align: right;\">\n",
              "      <th></th>\n",
              "      <th>name</th>\n",
              "      <th>age</th>\n",
              "      <th>sal</th>\n",
              "      <th>job</th>\n",
              "    </tr>\n",
              "    <tr>\n",
              "      <th>id</th>\n",
              "      <th></th>\n",
              "      <th></th>\n",
              "      <th></th>\n",
              "      <th></th>\n",
              "    </tr>\n",
              "  </thead>\n",
              "  <tbody>\n",
              "    <tr>\n",
              "      <th>1</th>\n",
              "      <td>Andy</td>\n",
              "      <td>27</td>\n",
              "      <td>650</td>\n",
              "      <td>sales</td>\n",
              "    </tr>\n",
              "    <tr>\n",
              "      <th>2</th>\n",
              "      <td>Betty</td>\n",
              "      <td>28</td>\n",
              "      <td>800</td>\n",
              "      <td>engineer</td>\n",
              "    </tr>\n",
              "    <tr>\n",
              "      <th>3</th>\n",
              "      <td>Charol</td>\n",
              "      <td>28</td>\n",
              "      <td>700</td>\n",
              "      <td>designer</td>\n",
              "    </tr>\n",
              "    <tr>\n",
              "      <th>4</th>\n",
              "      <td>Daniel</td>\n",
              "      <td>22</td>\n",
              "      <td>650</td>\n",
              "      <td>marketer</td>\n",
              "    </tr>\n",
              "    <tr>\n",
              "      <th>5</th>\n",
              "      <td>Ellen</td>\n",
              "      <td>24</td>\n",
              "      <td>700</td>\n",
              "      <td>sales</td>\n",
              "    </tr>\n",
              "    <tr>\n",
              "      <th>6</th>\n",
              "      <td>Flora</td>\n",
              "      <td>30</td>\n",
              "      <td>750</td>\n",
              "      <td>engineer</td>\n",
              "    </tr>\n",
              "    <tr>\n",
              "      <th>7</th>\n",
              "      <td>George</td>\n",
              "      <td>24</td>\n",
              "      <td>500</td>\n",
              "      <td>designer</td>\n",
              "    </tr>\n",
              "    <tr>\n",
              "      <th>8</th>\n",
              "      <td>Holly</td>\n",
              "      <td>32</td>\n",
              "      <td>650</td>\n",
              "      <td>engineer</td>\n",
              "    </tr>\n",
              "    <tr>\n",
              "      <th>9</th>\n",
              "      <td>Ian</td>\n",
              "      <td>32</td>\n",
              "      <td>700</td>\n",
              "      <td>manager</td>\n",
              "    </tr>\n",
              "  </tbody>\n",
              "</table>\n",
              "</div>"
            ],
            "text/plain": [
              "      name  age  sal       job\n",
              "id                            \n",
              "1     Andy   27  650     sales\n",
              "2    Betty   28  800  engineer\n",
              "3   Charol   28  700  designer\n",
              "4   Daniel   22  650  marketer\n",
              "5    Ellen   24  700     sales\n",
              "6    Flora   30  750  engineer\n",
              "7   George   24  500  designer\n",
              "8    Holly   32  650  engineer\n",
              "9      Ian   32  700   manager"
            ]
          },
          "metadata": {
            "tags": []
          },
          "execution_count": 7
        }
      ]
    },
    {
      "cell_type": "markdown",
      "metadata": {
        "id": "vinAkcZqswUJ"
      },
      "source": [
        "## 6.1 job でグループ化して age sal の平均値を出力してください。"
      ]
    },
    {
      "cell_type": "code",
      "metadata": {
        "colab": {
          "base_uri": "https://localhost:8080/",
          "height": 235
        },
        "id": "QpI6P4SiD8Ln",
        "outputId": "b6c06798-76a1-4780-b424-7802fc08a7fa"
      },
      "source": [
        "staffs.groupby(\"job\").mean()"
      ],
      "execution_count": 8,
      "outputs": [
        {
          "output_type": "execute_result",
          "data": {
            "text/html": [
              "<div>\n",
              "<style scoped>\n",
              "    .dataframe tbody tr th:only-of-type {\n",
              "        vertical-align: middle;\n",
              "    }\n",
              "\n",
              "    .dataframe tbody tr th {\n",
              "        vertical-align: top;\n",
              "    }\n",
              "\n",
              "    .dataframe thead th {\n",
              "        text-align: right;\n",
              "    }\n",
              "</style>\n",
              "<table border=\"1\" class=\"dataframe\">\n",
              "  <thead>\n",
              "    <tr style=\"text-align: right;\">\n",
              "      <th></th>\n",
              "      <th>age</th>\n",
              "      <th>sal</th>\n",
              "    </tr>\n",
              "    <tr>\n",
              "      <th>job</th>\n",
              "      <th></th>\n",
              "      <th></th>\n",
              "    </tr>\n",
              "  </thead>\n",
              "  <tbody>\n",
              "    <tr>\n",
              "      <th>designer</th>\n",
              "      <td>26.00</td>\n",
              "      <td>600.00</td>\n",
              "    </tr>\n",
              "    <tr>\n",
              "      <th>engineer</th>\n",
              "      <td>30.00</td>\n",
              "      <td>733.33</td>\n",
              "    </tr>\n",
              "    <tr>\n",
              "      <th>manager</th>\n",
              "      <td>32.00</td>\n",
              "      <td>700.00</td>\n",
              "    </tr>\n",
              "    <tr>\n",
              "      <th>marketer</th>\n",
              "      <td>22.00</td>\n",
              "      <td>650.00</td>\n",
              "    </tr>\n",
              "    <tr>\n",
              "      <th>sales</th>\n",
              "      <td>25.50</td>\n",
              "      <td>675.00</td>\n",
              "    </tr>\n",
              "  </tbody>\n",
              "</table>\n",
              "</div>"
            ],
            "text/plain": [
              "           age    sal\n",
              "job                  \n",
              "designer 26.00 600.00\n",
              "engineer 30.00 733.33\n",
              "manager  32.00 700.00\n",
              "marketer 22.00 650.00\n",
              "sales    25.50 675.00"
            ]
          },
          "metadata": {
            "tags": []
          },
          "execution_count": 8
        }
      ]
    },
    {
      "cell_type": "markdown",
      "metadata": {
        "id": "9-7ZSzk6s5U3"
      },
      "source": [
        "## 6.2 age でグループ化して sal の平均値を出力してください。"
      ]
    },
    {
      "cell_type": "code",
      "metadata": {
        "colab": {
          "base_uri": "https://localhost:8080/",
          "height": 266
        },
        "id": "C_ApaFHJEek2",
        "outputId": "30bff0e1-ae56-4dcd-8082-40d447aa94b4"
      },
      "source": [
        "staffs.groupby(\"age\").mean()"
      ],
      "execution_count": 9,
      "outputs": [
        {
          "output_type": "execute_result",
          "data": {
            "text/html": [
              "<div>\n",
              "<style scoped>\n",
              "    .dataframe tbody tr th:only-of-type {\n",
              "        vertical-align: middle;\n",
              "    }\n",
              "\n",
              "    .dataframe tbody tr th {\n",
              "        vertical-align: top;\n",
              "    }\n",
              "\n",
              "    .dataframe thead th {\n",
              "        text-align: right;\n",
              "    }\n",
              "</style>\n",
              "<table border=\"1\" class=\"dataframe\">\n",
              "  <thead>\n",
              "    <tr style=\"text-align: right;\">\n",
              "      <th></th>\n",
              "      <th>sal</th>\n",
              "    </tr>\n",
              "    <tr>\n",
              "      <th>age</th>\n",
              "      <th></th>\n",
              "    </tr>\n",
              "  </thead>\n",
              "  <tbody>\n",
              "    <tr>\n",
              "      <th>22</th>\n",
              "      <td>650</td>\n",
              "    </tr>\n",
              "    <tr>\n",
              "      <th>24</th>\n",
              "      <td>600</td>\n",
              "    </tr>\n",
              "    <tr>\n",
              "      <th>27</th>\n",
              "      <td>650</td>\n",
              "    </tr>\n",
              "    <tr>\n",
              "      <th>28</th>\n",
              "      <td>750</td>\n",
              "    </tr>\n",
              "    <tr>\n",
              "      <th>30</th>\n",
              "      <td>750</td>\n",
              "    </tr>\n",
              "    <tr>\n",
              "      <th>32</th>\n",
              "      <td>675</td>\n",
              "    </tr>\n",
              "  </tbody>\n",
              "</table>\n",
              "</div>"
            ],
            "text/plain": [
              "     sal\n",
              "age     \n",
              "22   650\n",
              "24   600\n",
              "27   650\n",
              "28   750\n",
              "30   750\n",
              "32   675"
            ]
          },
          "metadata": {
            "tags": []
          },
          "execution_count": 9
        }
      ]
    },
    {
      "cell_type": "code",
      "metadata": {
        "colab": {
          "base_uri": "https://localhost:8080/",
          "height": 359
        },
        "id": "SdqWulT1rUlC",
        "outputId": "5ea0d38a-a7d4-4fad-9ee1-1b617f823ad7"
      },
      "source": [
        "staffs"
      ],
      "execution_count": 10,
      "outputs": [
        {
          "output_type": "execute_result",
          "data": {
            "text/html": [
              "<div>\n",
              "<style scoped>\n",
              "    .dataframe tbody tr th:only-of-type {\n",
              "        vertical-align: middle;\n",
              "    }\n",
              "\n",
              "    .dataframe tbody tr th {\n",
              "        vertical-align: top;\n",
              "    }\n",
              "\n",
              "    .dataframe thead th {\n",
              "        text-align: right;\n",
              "    }\n",
              "</style>\n",
              "<table border=\"1\" class=\"dataframe\">\n",
              "  <thead>\n",
              "    <tr style=\"text-align: right;\">\n",
              "      <th></th>\n",
              "      <th>name</th>\n",
              "      <th>age</th>\n",
              "      <th>sal</th>\n",
              "      <th>job</th>\n",
              "    </tr>\n",
              "    <tr>\n",
              "      <th>id</th>\n",
              "      <th></th>\n",
              "      <th></th>\n",
              "      <th></th>\n",
              "      <th></th>\n",
              "    </tr>\n",
              "  </thead>\n",
              "  <tbody>\n",
              "    <tr>\n",
              "      <th>1</th>\n",
              "      <td>Andy</td>\n",
              "      <td>27</td>\n",
              "      <td>650</td>\n",
              "      <td>sales</td>\n",
              "    </tr>\n",
              "    <tr>\n",
              "      <th>2</th>\n",
              "      <td>Betty</td>\n",
              "      <td>28</td>\n",
              "      <td>800</td>\n",
              "      <td>engineer</td>\n",
              "    </tr>\n",
              "    <tr>\n",
              "      <th>3</th>\n",
              "      <td>Charol</td>\n",
              "      <td>28</td>\n",
              "      <td>700</td>\n",
              "      <td>designer</td>\n",
              "    </tr>\n",
              "    <tr>\n",
              "      <th>4</th>\n",
              "      <td>Daniel</td>\n",
              "      <td>22</td>\n",
              "      <td>650</td>\n",
              "      <td>marketer</td>\n",
              "    </tr>\n",
              "    <tr>\n",
              "      <th>5</th>\n",
              "      <td>Ellen</td>\n",
              "      <td>24</td>\n",
              "      <td>700</td>\n",
              "      <td>sales</td>\n",
              "    </tr>\n",
              "    <tr>\n",
              "      <th>6</th>\n",
              "      <td>Flora</td>\n",
              "      <td>30</td>\n",
              "      <td>750</td>\n",
              "      <td>engineer</td>\n",
              "    </tr>\n",
              "    <tr>\n",
              "      <th>7</th>\n",
              "      <td>George</td>\n",
              "      <td>24</td>\n",
              "      <td>500</td>\n",
              "      <td>designer</td>\n",
              "    </tr>\n",
              "    <tr>\n",
              "      <th>8</th>\n",
              "      <td>Holly</td>\n",
              "      <td>32</td>\n",
              "      <td>650</td>\n",
              "      <td>engineer</td>\n",
              "    </tr>\n",
              "    <tr>\n",
              "      <th>9</th>\n",
              "      <td>Ian</td>\n",
              "      <td>32</td>\n",
              "      <td>700</td>\n",
              "      <td>manager</td>\n",
              "    </tr>\n",
              "  </tbody>\n",
              "</table>\n",
              "</div>"
            ],
            "text/plain": [
              "      name  age  sal       job\n",
              "id                            \n",
              "1     Andy   27  650     sales\n",
              "2    Betty   28  800  engineer\n",
              "3   Charol   28  700  designer\n",
              "4   Daniel   22  650  marketer\n",
              "5    Ellen   24  700     sales\n",
              "6    Flora   30  750  engineer\n",
              "7   George   24  500  designer\n",
              "8    Holly   32  650  engineer\n",
              "9      Ian   32  700   manager"
            ]
          },
          "metadata": {
            "tags": []
          },
          "execution_count": 10
        }
      ]
    },
    {
      "cell_type": "code",
      "metadata": {
        "id": "9eDfIWdsrXpH"
      },
      "source": [
        "staffs.loc[staffs[\"age\"] >= 30, [\"age_group\"]] = 30\n"
      ],
      "execution_count": 11,
      "outputs": []
    },
    {
      "cell_type": "code",
      "metadata": {
        "colab": {
          "base_uri": "https://localhost:8080/",
          "height": 359
        },
        "id": "tNDPQOlvrZc5",
        "outputId": "193f1479-1f8f-45cf-b13a-3ddb7ced73d6"
      },
      "source": [
        "staffs"
      ],
      "execution_count": 12,
      "outputs": [
        {
          "output_type": "execute_result",
          "data": {
            "text/html": [
              "<div>\n",
              "<style scoped>\n",
              "    .dataframe tbody tr th:only-of-type {\n",
              "        vertical-align: middle;\n",
              "    }\n",
              "\n",
              "    .dataframe tbody tr th {\n",
              "        vertical-align: top;\n",
              "    }\n",
              "\n",
              "    .dataframe thead th {\n",
              "        text-align: right;\n",
              "    }\n",
              "</style>\n",
              "<table border=\"1\" class=\"dataframe\">\n",
              "  <thead>\n",
              "    <tr style=\"text-align: right;\">\n",
              "      <th></th>\n",
              "      <th>name</th>\n",
              "      <th>age</th>\n",
              "      <th>sal</th>\n",
              "      <th>job</th>\n",
              "      <th>age_group</th>\n",
              "    </tr>\n",
              "    <tr>\n",
              "      <th>id</th>\n",
              "      <th></th>\n",
              "      <th></th>\n",
              "      <th></th>\n",
              "      <th></th>\n",
              "      <th></th>\n",
              "    </tr>\n",
              "  </thead>\n",
              "  <tbody>\n",
              "    <tr>\n",
              "      <th>1</th>\n",
              "      <td>Andy</td>\n",
              "      <td>27</td>\n",
              "      <td>650</td>\n",
              "      <td>sales</td>\n",
              "      <td>nan</td>\n",
              "    </tr>\n",
              "    <tr>\n",
              "      <th>2</th>\n",
              "      <td>Betty</td>\n",
              "      <td>28</td>\n",
              "      <td>800</td>\n",
              "      <td>engineer</td>\n",
              "      <td>nan</td>\n",
              "    </tr>\n",
              "    <tr>\n",
              "      <th>3</th>\n",
              "      <td>Charol</td>\n",
              "      <td>28</td>\n",
              "      <td>700</td>\n",
              "      <td>designer</td>\n",
              "      <td>nan</td>\n",
              "    </tr>\n",
              "    <tr>\n",
              "      <th>4</th>\n",
              "      <td>Daniel</td>\n",
              "      <td>22</td>\n",
              "      <td>650</td>\n",
              "      <td>marketer</td>\n",
              "      <td>nan</td>\n",
              "    </tr>\n",
              "    <tr>\n",
              "      <th>5</th>\n",
              "      <td>Ellen</td>\n",
              "      <td>24</td>\n",
              "      <td>700</td>\n",
              "      <td>sales</td>\n",
              "      <td>nan</td>\n",
              "    </tr>\n",
              "    <tr>\n",
              "      <th>6</th>\n",
              "      <td>Flora</td>\n",
              "      <td>30</td>\n",
              "      <td>750</td>\n",
              "      <td>engineer</td>\n",
              "      <td>30.00</td>\n",
              "    </tr>\n",
              "    <tr>\n",
              "      <th>7</th>\n",
              "      <td>George</td>\n",
              "      <td>24</td>\n",
              "      <td>500</td>\n",
              "      <td>designer</td>\n",
              "      <td>nan</td>\n",
              "    </tr>\n",
              "    <tr>\n",
              "      <th>8</th>\n",
              "      <td>Holly</td>\n",
              "      <td>32</td>\n",
              "      <td>650</td>\n",
              "      <td>engineer</td>\n",
              "      <td>30.00</td>\n",
              "    </tr>\n",
              "    <tr>\n",
              "      <th>9</th>\n",
              "      <td>Ian</td>\n",
              "      <td>32</td>\n",
              "      <td>700</td>\n",
              "      <td>manager</td>\n",
              "      <td>30.00</td>\n",
              "    </tr>\n",
              "  </tbody>\n",
              "</table>\n",
              "</div>"
            ],
            "text/plain": [
              "      name  age  sal       job  age_group\n",
              "id                                       \n",
              "1     Andy   27  650     sales        nan\n",
              "2    Betty   28  800  engineer        nan\n",
              "3   Charol   28  700  designer        nan\n",
              "4   Daniel   22  650  marketer        nan\n",
              "5    Ellen   24  700     sales        nan\n",
              "6    Flora   30  750  engineer      30.00\n",
              "7   George   24  500  designer        nan\n",
              "8    Holly   32  650  engineer      30.00\n",
              "9      Ian   32  700   manager      30.00"
            ]
          },
          "metadata": {
            "tags": []
          },
          "execution_count": 12
        }
      ]
    },
    {
      "cell_type": "markdown",
      "metadata": {
        "id": "_OD4d-25tAjG"
      },
      "source": [
        "## 6.3 age を20代、30代でグループ化して sal の平均値を出力してください。"
      ]
    },
    {
      "cell_type": "code",
      "metadata": {
        "colab": {
          "base_uri": "https://localhost:8080/",
          "height": 142
        },
        "id": "w3f-LqU6EnBj",
        "outputId": "6a1cc1d2-c199-4c37-fe58-26a502b764a0"
      },
      "source": [
        "staffs.loc[staffs[\"age\"] >= 30, [\"age_group\"]] = 30\n",
        "staffs.loc[staffs[\"age\"] < 30, [\"age_group\"]] = 20\n",
        "staffs[\"age_group\"] = staffs[\"age_group\"].astype(int)\n",
        "staffs[[\"age_group\", \"sal\"]].groupby(\"age_group\").sum()"
      ],
      "execution_count": 13,
      "outputs": [
        {
          "output_type": "execute_result",
          "data": {
            "text/html": [
              "<div>\n",
              "<style scoped>\n",
              "    .dataframe tbody tr th:only-of-type {\n",
              "        vertical-align: middle;\n",
              "    }\n",
              "\n",
              "    .dataframe tbody tr th {\n",
              "        vertical-align: top;\n",
              "    }\n",
              "\n",
              "    .dataframe thead th {\n",
              "        text-align: right;\n",
              "    }\n",
              "</style>\n",
              "<table border=\"1\" class=\"dataframe\">\n",
              "  <thead>\n",
              "    <tr style=\"text-align: right;\">\n",
              "      <th></th>\n",
              "      <th>sal</th>\n",
              "    </tr>\n",
              "    <tr>\n",
              "      <th>age_group</th>\n",
              "      <th></th>\n",
              "    </tr>\n",
              "  </thead>\n",
              "  <tbody>\n",
              "    <tr>\n",
              "      <th>20</th>\n",
              "      <td>4000</td>\n",
              "    </tr>\n",
              "    <tr>\n",
              "      <th>30</th>\n",
              "      <td>2100</td>\n",
              "    </tr>\n",
              "  </tbody>\n",
              "</table>\n",
              "</div>"
            ],
            "text/plain": [
              "            sal\n",
              "age_group      \n",
              "20         4000\n",
              "30         2100"
            ]
          },
          "metadata": {
            "tags": []
          },
          "execution_count": 13
        }
      ]
    },
    {
      "cell_type": "markdown",
      "metadata": {
        "id": "FxIh_iCbtKM4"
      },
      "source": [
        "## 6.4 Pivotテーブルによって age_group, age をインデックスとして sal を出力してください。"
      ]
    },
    {
      "cell_type": "code",
      "metadata": {
        "colab": {
          "base_uri": "https://localhost:8080/",
          "height": 359
        },
        "id": "5mLf-hOpIa8S",
        "outputId": "a3ff9bde-5bb7-4939-96d7-88438a68554a"
      },
      "source": [
        "staffs.pivot(index=[\"age_group\", \"age\"], columns=[], values=[\"sal\"]).sort_values([\"age_group\", \"age\"])"
      ],
      "execution_count": 14,
      "outputs": [
        {
          "output_type": "execute_result",
          "data": {
            "text/html": [
              "<div>\n",
              "<style scoped>\n",
              "    .dataframe tbody tr th:only-of-type {\n",
              "        vertical-align: middle;\n",
              "    }\n",
              "\n",
              "    .dataframe tbody tr th {\n",
              "        vertical-align: top;\n",
              "    }\n",
              "\n",
              "    .dataframe thead th {\n",
              "        text-align: right;\n",
              "    }\n",
              "</style>\n",
              "<table border=\"1\" class=\"dataframe\">\n",
              "  <thead>\n",
              "    <tr style=\"text-align: right;\">\n",
              "      <th></th>\n",
              "      <th></th>\n",
              "      <th>sal</th>\n",
              "    </tr>\n",
              "    <tr>\n",
              "      <th>age_group</th>\n",
              "      <th>age</th>\n",
              "      <th></th>\n",
              "    </tr>\n",
              "  </thead>\n",
              "  <tbody>\n",
              "    <tr>\n",
              "      <th rowspan=\"6\" valign=\"top\">20</th>\n",
              "      <th>22</th>\n",
              "      <td>650</td>\n",
              "    </tr>\n",
              "    <tr>\n",
              "      <th>24</th>\n",
              "      <td>700</td>\n",
              "    </tr>\n",
              "    <tr>\n",
              "      <th>24</th>\n",
              "      <td>500</td>\n",
              "    </tr>\n",
              "    <tr>\n",
              "      <th>27</th>\n",
              "      <td>650</td>\n",
              "    </tr>\n",
              "    <tr>\n",
              "      <th>28</th>\n",
              "      <td>800</td>\n",
              "    </tr>\n",
              "    <tr>\n",
              "      <th>28</th>\n",
              "      <td>700</td>\n",
              "    </tr>\n",
              "    <tr>\n",
              "      <th rowspan=\"3\" valign=\"top\">30</th>\n",
              "      <th>30</th>\n",
              "      <td>750</td>\n",
              "    </tr>\n",
              "    <tr>\n",
              "      <th>32</th>\n",
              "      <td>650</td>\n",
              "    </tr>\n",
              "    <tr>\n",
              "      <th>32</th>\n",
              "      <td>700</td>\n",
              "    </tr>\n",
              "  </tbody>\n",
              "</table>\n",
              "</div>"
            ],
            "text/plain": [
              "               sal\n",
              "age_group age     \n",
              "20        22   650\n",
              "          24   700\n",
              "          24   500\n",
              "          27   650\n",
              "          28   800\n",
              "          28   700\n",
              "30        30   750\n",
              "          32   650\n",
              "          32   700"
            ]
          },
          "metadata": {
            "tags": []
          },
          "execution_count": 14
        }
      ]
    },
    {
      "cell_type": "markdown",
      "metadata": {
        "id": "wnv9n8H6tJwA"
      },
      "source": [
        "## 6.5 Pivotテーブルによって age をインデックス、カラムに sal を指定して age を出力してください。"
      ]
    },
    {
      "cell_type": "code",
      "metadata": {
        "colab": {
          "base_uri": "https://localhost:8080/",
          "height": 297
        },
        "id": "BV4IVrhBJCf1",
        "outputId": "83527fec-3ff7-4518-ce53-2abedad700d4"
      },
      "source": [
        "staffs.pivot(index=[\"age\"], columns=[\"job\"], values=[\"sal\"]).sort_values(\"age\")"
      ],
      "execution_count": 15,
      "outputs": [
        {
          "output_type": "execute_result",
          "data": {
            "text/html": [
              "<div>\n",
              "<style scoped>\n",
              "    .dataframe tbody tr th:only-of-type {\n",
              "        vertical-align: middle;\n",
              "    }\n",
              "\n",
              "    .dataframe tbody tr th {\n",
              "        vertical-align: top;\n",
              "    }\n",
              "\n",
              "    .dataframe thead tr th {\n",
              "        text-align: left;\n",
              "    }\n",
              "\n",
              "    .dataframe thead tr:last-of-type th {\n",
              "        text-align: right;\n",
              "    }\n",
              "</style>\n",
              "<table border=\"1\" class=\"dataframe\">\n",
              "  <thead>\n",
              "    <tr>\n",
              "      <th></th>\n",
              "      <th colspan=\"5\" halign=\"left\">sal</th>\n",
              "    </tr>\n",
              "    <tr>\n",
              "      <th>job</th>\n",
              "      <th>designer</th>\n",
              "      <th>engineer</th>\n",
              "      <th>manager</th>\n",
              "      <th>marketer</th>\n",
              "      <th>sales</th>\n",
              "    </tr>\n",
              "    <tr>\n",
              "      <th>age</th>\n",
              "      <th></th>\n",
              "      <th></th>\n",
              "      <th></th>\n",
              "      <th></th>\n",
              "      <th></th>\n",
              "    </tr>\n",
              "  </thead>\n",
              "  <tbody>\n",
              "    <tr>\n",
              "      <th>22</th>\n",
              "      <td>nan</td>\n",
              "      <td>nan</td>\n",
              "      <td>nan</td>\n",
              "      <td>650.00</td>\n",
              "      <td>nan</td>\n",
              "    </tr>\n",
              "    <tr>\n",
              "      <th>24</th>\n",
              "      <td>500.00</td>\n",
              "      <td>nan</td>\n",
              "      <td>nan</td>\n",
              "      <td>nan</td>\n",
              "      <td>700.00</td>\n",
              "    </tr>\n",
              "    <tr>\n",
              "      <th>27</th>\n",
              "      <td>nan</td>\n",
              "      <td>nan</td>\n",
              "      <td>nan</td>\n",
              "      <td>nan</td>\n",
              "      <td>650.00</td>\n",
              "    </tr>\n",
              "    <tr>\n",
              "      <th>28</th>\n",
              "      <td>700.00</td>\n",
              "      <td>800.00</td>\n",
              "      <td>nan</td>\n",
              "      <td>nan</td>\n",
              "      <td>nan</td>\n",
              "    </tr>\n",
              "    <tr>\n",
              "      <th>30</th>\n",
              "      <td>nan</td>\n",
              "      <td>750.00</td>\n",
              "      <td>nan</td>\n",
              "      <td>nan</td>\n",
              "      <td>nan</td>\n",
              "    </tr>\n",
              "    <tr>\n",
              "      <th>32</th>\n",
              "      <td>nan</td>\n",
              "      <td>650.00</td>\n",
              "      <td>700.00</td>\n",
              "      <td>nan</td>\n",
              "      <td>nan</td>\n",
              "    </tr>\n",
              "  </tbody>\n",
              "</table>\n",
              "</div>"
            ],
            "text/plain": [
              "         sal                                 \n",
              "job designer engineer manager marketer  sales\n",
              "age                                          \n",
              "22       nan      nan     nan   650.00    nan\n",
              "24    500.00      nan     nan      nan 700.00\n",
              "27       nan      nan     nan      nan 650.00\n",
              "28    700.00   800.00     nan      nan    nan\n",
              "30       nan   750.00     nan      nan    nan\n",
              "32       nan   650.00  700.00      nan    nan"
            ]
          },
          "metadata": {
            "tags": []
          },
          "execution_count": 15
        }
      ]
    },
    {
      "cell_type": "markdown",
      "metadata": {
        "id": "ET0D_kb9GX8z"
      },
      "source": [
        "# pandas - part7 - DataFrameの結合 - Exercise\n",
        "\n",
        "---"
      ]
    },
    {
      "cell_type": "code",
      "metadata": {
        "colab": {
          "base_uri": "https://localhost:8080/"
        },
        "id": "a4Lktbo8fTW_",
        "outputId": "21a4d162-220d-49c4-d9d7-e1a2e0a49567"
      },
      "source": [
        "!wget https://gist.githubusercontent.com/murayama333/ea9aedf998d73c2367044ae295e48e9c/raw/3bad253e0f7bb9987d2fdc0f9051f4acaa6d9eec/staffs2.csv"
      ],
      "execution_count": 16,
      "outputs": [
        {
          "output_type": "stream",
          "text": [
            "--2021-01-12 06:56:45--  https://gist.githubusercontent.com/murayama333/ea9aedf998d73c2367044ae295e48e9c/raw/3bad253e0f7bb9987d2fdc0f9051f4acaa6d9eec/staffs2.csv\n",
            "Resolving gist.githubusercontent.com (gist.githubusercontent.com)... 151.101.0.133, 151.101.64.133, 151.101.128.133, ...\n",
            "Connecting to gist.githubusercontent.com (gist.githubusercontent.com)|151.101.0.133|:443... connected.\n",
            "HTTP request sent, awaiting response... 200 OK\n",
            "Length: 176 [text/plain]\n",
            "Saving to: ‘staffs2.csv’\n",
            "\n",
            "staffs2.csv         100%[===================>]     176  --.-KB/s    in 0s      \n",
            "\n",
            "2021-01-12 06:56:46 (12.5 MB/s) - ‘staffs2.csv’ saved [176/176]\n",
            "\n"
          ],
          "name": "stdout"
        }
      ]
    },
    {
      "cell_type": "code",
      "metadata": {
        "colab": {
          "base_uri": "https://localhost:8080/"
        },
        "id": "OLEkX6plfUEL",
        "outputId": "b56a9ed3-90ed-44a6-ef38-c4436973b4ea"
      },
      "source": [
        "!wget https://gist.githubusercontent.com/murayama333/328c72b8c2d0c6cf26b765e227e63756/raw/fd251b7c37e3574e458443a93cd5bb00dd09e12d/jobs.csv"
      ],
      "execution_count": 17,
      "outputs": [
        {
          "output_type": "stream",
          "text": [
            "--2021-01-12 06:56:46--  https://gist.githubusercontent.com/murayama333/328c72b8c2d0c6cf26b765e227e63756/raw/fd251b7c37e3574e458443a93cd5bb00dd09e12d/jobs.csv\n",
            "Resolving gist.githubusercontent.com (gist.githubusercontent.com)... 151.101.0.133, 151.101.64.133, 151.101.128.133, ...\n",
            "Connecting to gist.githubusercontent.com (gist.githubusercontent.com)|151.101.0.133|:443... connected.\n",
            "HTTP request sent, awaiting response... 200 OK\n",
            "Length: 49 [text/plain]\n",
            "Saving to: ‘jobs.csv’\n",
            "\n",
            "jobs.csv            100%[===================>]      49  --.-KB/s    in 0s      \n",
            "\n",
            "2021-01-12 06:56:46 (3.01 MB/s) - ‘jobs.csv’ saved [49/49]\n",
            "\n"
          ],
          "name": "stdout"
        }
      ]
    },
    {
      "cell_type": "code",
      "metadata": {
        "colab": {
          "base_uri": "https://localhost:8080/",
          "height": 359
        },
        "id": "ewu3-20YfZaB",
        "outputId": "dabe2029-21c1-47d9-a3c4-680ed00e1d41"
      },
      "source": [
        "import pandas as pd\n",
        "pd.options.display.precision = 2\n",
        "pd.options.display.float_format = '{:.2f}'.format\n",
        "\n",
        "staffs = pd.read_csv(\"staffs2.csv\", index_col=0)\n",
        "staffs"
      ],
      "execution_count": 18,
      "outputs": [
        {
          "output_type": "execute_result",
          "data": {
            "text/html": [
              "<div>\n",
              "<style scoped>\n",
              "    .dataframe tbody tr th:only-of-type {\n",
              "        vertical-align: middle;\n",
              "    }\n",
              "\n",
              "    .dataframe tbody tr th {\n",
              "        vertical-align: top;\n",
              "    }\n",
              "\n",
              "    .dataframe thead th {\n",
              "        text-align: right;\n",
              "    }\n",
              "</style>\n",
              "<table border=\"1\" class=\"dataframe\">\n",
              "  <thead>\n",
              "    <tr style=\"text-align: right;\">\n",
              "      <th></th>\n",
              "      <th>name</th>\n",
              "      <th>age</th>\n",
              "      <th>sal</th>\n",
              "      <th>job_id</th>\n",
              "    </tr>\n",
              "    <tr>\n",
              "      <th>id</th>\n",
              "      <th></th>\n",
              "      <th></th>\n",
              "      <th></th>\n",
              "      <th></th>\n",
              "    </tr>\n",
              "  </thead>\n",
              "  <tbody>\n",
              "    <tr>\n",
              "      <th>1</th>\n",
              "      <td>Andy</td>\n",
              "      <td>27</td>\n",
              "      <td>650</td>\n",
              "      <td>1</td>\n",
              "    </tr>\n",
              "    <tr>\n",
              "      <th>2</th>\n",
              "      <td>Betty</td>\n",
              "      <td>28</td>\n",
              "      <td>800</td>\n",
              "      <td>2</td>\n",
              "    </tr>\n",
              "    <tr>\n",
              "      <th>3</th>\n",
              "      <td>Charol</td>\n",
              "      <td>28</td>\n",
              "      <td>700</td>\n",
              "      <td>3</td>\n",
              "    </tr>\n",
              "    <tr>\n",
              "      <th>4</th>\n",
              "      <td>Daniel</td>\n",
              "      <td>22</td>\n",
              "      <td>650</td>\n",
              "      <td>4</td>\n",
              "    </tr>\n",
              "    <tr>\n",
              "      <th>5</th>\n",
              "      <td>Ellen</td>\n",
              "      <td>24</td>\n",
              "      <td>700</td>\n",
              "      <td>1</td>\n",
              "    </tr>\n",
              "    <tr>\n",
              "      <th>6</th>\n",
              "      <td>Flora</td>\n",
              "      <td>30</td>\n",
              "      <td>750</td>\n",
              "      <td>2</td>\n",
              "    </tr>\n",
              "    <tr>\n",
              "      <th>7</th>\n",
              "      <td>George</td>\n",
              "      <td>24</td>\n",
              "      <td>500</td>\n",
              "      <td>3</td>\n",
              "    </tr>\n",
              "    <tr>\n",
              "      <th>8</th>\n",
              "      <td>Holly</td>\n",
              "      <td>32</td>\n",
              "      <td>650</td>\n",
              "      <td>2</td>\n",
              "    </tr>\n",
              "    <tr>\n",
              "      <th>9</th>\n",
              "      <td>Ian</td>\n",
              "      <td>32</td>\n",
              "      <td>700</td>\n",
              "      <td>5</td>\n",
              "    </tr>\n",
              "  </tbody>\n",
              "</table>\n",
              "</div>"
            ],
            "text/plain": [
              "      name  age  sal  job_id\n",
              "id                          \n",
              "1     Andy   27  650       1\n",
              "2    Betty   28  800       2\n",
              "3   Charol   28  700       3\n",
              "4   Daniel   22  650       4\n",
              "5    Ellen   24  700       1\n",
              "6    Flora   30  750       2\n",
              "7   George   24  500       3\n",
              "8    Holly   32  650       2\n",
              "9      Ian   32  700       5"
            ]
          },
          "metadata": {
            "tags": []
          },
          "execution_count": 18
        }
      ]
    },
    {
      "cell_type": "code",
      "metadata": {
        "colab": {
          "base_uri": "https://localhost:8080/",
          "height": 204
        },
        "id": "zTcGgt_1fawm",
        "outputId": "e0e8461e-e261-4e58-ac56-87bb66f52ca0"
      },
      "source": [
        "jobs = pd.read_csv(\"jobs.csv\", index_col=0)\n",
        "jobs"
      ],
      "execution_count": 19,
      "outputs": [
        {
          "output_type": "execute_result",
          "data": {
            "text/html": [
              "<div>\n",
              "<style scoped>\n",
              "    .dataframe tbody tr th:only-of-type {\n",
              "        vertical-align: middle;\n",
              "    }\n",
              "\n",
              "    .dataframe tbody tr th {\n",
              "        vertical-align: top;\n",
              "    }\n",
              "\n",
              "    .dataframe thead th {\n",
              "        text-align: right;\n",
              "    }\n",
              "</style>\n",
              "<table border=\"1\" class=\"dataframe\">\n",
              "  <thead>\n",
              "    <tr style=\"text-align: right;\">\n",
              "      <th></th>\n",
              "      <th>name</th>\n",
              "    </tr>\n",
              "    <tr>\n",
              "      <th>id</th>\n",
              "      <th></th>\n",
              "    </tr>\n",
              "  </thead>\n",
              "  <tbody>\n",
              "    <tr>\n",
              "      <th>1</th>\n",
              "      <td>sales</td>\n",
              "    </tr>\n",
              "    <tr>\n",
              "      <th>2</th>\n",
              "      <td>engineer</td>\n",
              "    </tr>\n",
              "    <tr>\n",
              "      <th>3</th>\n",
              "      <td>designer</td>\n",
              "    </tr>\n",
              "    <tr>\n",
              "      <th>4</th>\n",
              "      <td>marketer</td>\n",
              "    </tr>\n",
              "  </tbody>\n",
              "</table>\n",
              "</div>"
            ],
            "text/plain": [
              "        name\n",
              "id          \n",
              "1      sales\n",
              "2   engineer\n",
              "3   designer\n",
              "4   marketer"
            ]
          },
          "metadata": {
            "tags": []
          },
          "execution_count": 19
        }
      ]
    },
    {
      "cell_type": "markdown",
      "metadata": {
        "id": "_lYCxpmmtxJk"
      },
      "source": [
        "## 7.1 staffs と jobs を左外部結合して出力してください。"
      ]
    },
    {
      "cell_type": "code",
      "metadata": {
        "colab": {
          "base_uri": "https://localhost:8080/",
          "height": 359
        },
        "id": "bI4PkKtBfwva",
        "outputId": "b8509755-fc1f-4a24-a634-dfc8204fb8aa"
      },
      "source": [
        "staffs.join(jobs, on=\"job_id\", rsuffix=\"_jobs\").sort_values(\"id\")"
      ],
      "execution_count": 20,
      "outputs": [
        {
          "output_type": "execute_result",
          "data": {
            "text/html": [
              "<div>\n",
              "<style scoped>\n",
              "    .dataframe tbody tr th:only-of-type {\n",
              "        vertical-align: middle;\n",
              "    }\n",
              "\n",
              "    .dataframe tbody tr th {\n",
              "        vertical-align: top;\n",
              "    }\n",
              "\n",
              "    .dataframe thead th {\n",
              "        text-align: right;\n",
              "    }\n",
              "</style>\n",
              "<table border=\"1\" class=\"dataframe\">\n",
              "  <thead>\n",
              "    <tr style=\"text-align: right;\">\n",
              "      <th></th>\n",
              "      <th>name</th>\n",
              "      <th>age</th>\n",
              "      <th>sal</th>\n",
              "      <th>job_id</th>\n",
              "      <th>name_jobs</th>\n",
              "    </tr>\n",
              "    <tr>\n",
              "      <th>id</th>\n",
              "      <th></th>\n",
              "      <th></th>\n",
              "      <th></th>\n",
              "      <th></th>\n",
              "      <th></th>\n",
              "    </tr>\n",
              "  </thead>\n",
              "  <tbody>\n",
              "    <tr>\n",
              "      <th>1</th>\n",
              "      <td>Andy</td>\n",
              "      <td>27</td>\n",
              "      <td>650</td>\n",
              "      <td>1</td>\n",
              "      <td>sales</td>\n",
              "    </tr>\n",
              "    <tr>\n",
              "      <th>2</th>\n",
              "      <td>Betty</td>\n",
              "      <td>28</td>\n",
              "      <td>800</td>\n",
              "      <td>2</td>\n",
              "      <td>engineer</td>\n",
              "    </tr>\n",
              "    <tr>\n",
              "      <th>3</th>\n",
              "      <td>Charol</td>\n",
              "      <td>28</td>\n",
              "      <td>700</td>\n",
              "      <td>3</td>\n",
              "      <td>designer</td>\n",
              "    </tr>\n",
              "    <tr>\n",
              "      <th>4</th>\n",
              "      <td>Daniel</td>\n",
              "      <td>22</td>\n",
              "      <td>650</td>\n",
              "      <td>4</td>\n",
              "      <td>marketer</td>\n",
              "    </tr>\n",
              "    <tr>\n",
              "      <th>5</th>\n",
              "      <td>Ellen</td>\n",
              "      <td>24</td>\n",
              "      <td>700</td>\n",
              "      <td>1</td>\n",
              "      <td>sales</td>\n",
              "    </tr>\n",
              "    <tr>\n",
              "      <th>6</th>\n",
              "      <td>Flora</td>\n",
              "      <td>30</td>\n",
              "      <td>750</td>\n",
              "      <td>2</td>\n",
              "      <td>engineer</td>\n",
              "    </tr>\n",
              "    <tr>\n",
              "      <th>7</th>\n",
              "      <td>George</td>\n",
              "      <td>24</td>\n",
              "      <td>500</td>\n",
              "      <td>3</td>\n",
              "      <td>designer</td>\n",
              "    </tr>\n",
              "    <tr>\n",
              "      <th>8</th>\n",
              "      <td>Holly</td>\n",
              "      <td>32</td>\n",
              "      <td>650</td>\n",
              "      <td>2</td>\n",
              "      <td>engineer</td>\n",
              "    </tr>\n",
              "    <tr>\n",
              "      <th>9</th>\n",
              "      <td>Ian</td>\n",
              "      <td>32</td>\n",
              "      <td>700</td>\n",
              "      <td>5</td>\n",
              "      <td>NaN</td>\n",
              "    </tr>\n",
              "  </tbody>\n",
              "</table>\n",
              "</div>"
            ],
            "text/plain": [
              "      name  age  sal  job_id name_jobs\n",
              "id                                    \n",
              "1     Andy   27  650       1     sales\n",
              "2    Betty   28  800       2  engineer\n",
              "3   Charol   28  700       3  designer\n",
              "4   Daniel   22  650       4  marketer\n",
              "5    Ellen   24  700       1     sales\n",
              "6    Flora   30  750       2  engineer\n",
              "7   George   24  500       3  designer\n",
              "8    Holly   32  650       2  engineer\n",
              "9      Ian   32  700       5       NaN"
            ]
          },
          "metadata": {
            "tags": []
          },
          "execution_count": 20
        }
      ]
    },
    {
      "cell_type": "markdown",
      "metadata": {
        "id": "phRRZsJkt7G5"
      },
      "source": [
        "## 7.2 staffs と jobs を内部結合して出力してください。"
      ]
    },
    {
      "cell_type": "code",
      "metadata": {
        "colab": {
          "base_uri": "https://localhost:8080/",
          "height": 328
        },
        "id": "x1gAMjpvhN-o",
        "outputId": "7d3a2fe8-99e8-4eab-accc-50b7dc5d7368"
      },
      "source": [
        "staffs.join(jobs, on=\"job_id\", how=\"inner\", rsuffix=\"_jobs\").sort_values(\"id\")"
      ],
      "execution_count": 21,
      "outputs": [
        {
          "output_type": "execute_result",
          "data": {
            "text/html": [
              "<div>\n",
              "<style scoped>\n",
              "    .dataframe tbody tr th:only-of-type {\n",
              "        vertical-align: middle;\n",
              "    }\n",
              "\n",
              "    .dataframe tbody tr th {\n",
              "        vertical-align: top;\n",
              "    }\n",
              "\n",
              "    .dataframe thead th {\n",
              "        text-align: right;\n",
              "    }\n",
              "</style>\n",
              "<table border=\"1\" class=\"dataframe\">\n",
              "  <thead>\n",
              "    <tr style=\"text-align: right;\">\n",
              "      <th></th>\n",
              "      <th>name</th>\n",
              "      <th>age</th>\n",
              "      <th>sal</th>\n",
              "      <th>job_id</th>\n",
              "      <th>name_jobs</th>\n",
              "    </tr>\n",
              "    <tr>\n",
              "      <th>id</th>\n",
              "      <th></th>\n",
              "      <th></th>\n",
              "      <th></th>\n",
              "      <th></th>\n",
              "      <th></th>\n",
              "    </tr>\n",
              "  </thead>\n",
              "  <tbody>\n",
              "    <tr>\n",
              "      <th>1</th>\n",
              "      <td>Andy</td>\n",
              "      <td>27</td>\n",
              "      <td>650</td>\n",
              "      <td>1</td>\n",
              "      <td>sales</td>\n",
              "    </tr>\n",
              "    <tr>\n",
              "      <th>2</th>\n",
              "      <td>Betty</td>\n",
              "      <td>28</td>\n",
              "      <td>800</td>\n",
              "      <td>2</td>\n",
              "      <td>engineer</td>\n",
              "    </tr>\n",
              "    <tr>\n",
              "      <th>3</th>\n",
              "      <td>Charol</td>\n",
              "      <td>28</td>\n",
              "      <td>700</td>\n",
              "      <td>3</td>\n",
              "      <td>designer</td>\n",
              "    </tr>\n",
              "    <tr>\n",
              "      <th>4</th>\n",
              "      <td>Daniel</td>\n",
              "      <td>22</td>\n",
              "      <td>650</td>\n",
              "      <td>4</td>\n",
              "      <td>marketer</td>\n",
              "    </tr>\n",
              "    <tr>\n",
              "      <th>5</th>\n",
              "      <td>Ellen</td>\n",
              "      <td>24</td>\n",
              "      <td>700</td>\n",
              "      <td>1</td>\n",
              "      <td>sales</td>\n",
              "    </tr>\n",
              "    <tr>\n",
              "      <th>6</th>\n",
              "      <td>Flora</td>\n",
              "      <td>30</td>\n",
              "      <td>750</td>\n",
              "      <td>2</td>\n",
              "      <td>engineer</td>\n",
              "    </tr>\n",
              "    <tr>\n",
              "      <th>7</th>\n",
              "      <td>George</td>\n",
              "      <td>24</td>\n",
              "      <td>500</td>\n",
              "      <td>3</td>\n",
              "      <td>designer</td>\n",
              "    </tr>\n",
              "    <tr>\n",
              "      <th>8</th>\n",
              "      <td>Holly</td>\n",
              "      <td>32</td>\n",
              "      <td>650</td>\n",
              "      <td>2</td>\n",
              "      <td>engineer</td>\n",
              "    </tr>\n",
              "  </tbody>\n",
              "</table>\n",
              "</div>"
            ],
            "text/plain": [
              "      name  age  sal  job_id name_jobs\n",
              "id                                    \n",
              "1     Andy   27  650       1     sales\n",
              "2    Betty   28  800       2  engineer\n",
              "3   Charol   28  700       3  designer\n",
              "4   Daniel   22  650       4  marketer\n",
              "5    Ellen   24  700       1     sales\n",
              "6    Flora   30  750       2  engineer\n",
              "7   George   24  500       3  designer\n",
              "8    Holly   32  650       2  engineer"
            ]
          },
          "metadata": {
            "tags": []
          },
          "execution_count": 21
        }
      ]
    },
    {
      "cell_type": "markdown",
      "metadata": {
        "id": "X334xXh7t-Ez"
      },
      "source": [
        "## 7.3 staffs と jobs を内部結合し、name_jobs でグループ化して sa lの平均値を出力してください。"
      ]
    },
    {
      "cell_type": "code",
      "metadata": {
        "colab": {
          "base_uri": "https://localhost:8080/",
          "height": 204
        },
        "id": "fIX_2inshfm_",
        "outputId": "cf19e24e-1478-4e05-ce37-3f913e261a2f"
      },
      "source": [
        "staffs.join(jobs, on=\"job_id\", how=\"inner\", rsuffix=\"_jobs\").groupby(\"name_jobs\")[[\"sal\"]].mean()"
      ],
      "execution_count": 22,
      "outputs": [
        {
          "output_type": "execute_result",
          "data": {
            "text/html": [
              "<div>\n",
              "<style scoped>\n",
              "    .dataframe tbody tr th:only-of-type {\n",
              "        vertical-align: middle;\n",
              "    }\n",
              "\n",
              "    .dataframe tbody tr th {\n",
              "        vertical-align: top;\n",
              "    }\n",
              "\n",
              "    .dataframe thead th {\n",
              "        text-align: right;\n",
              "    }\n",
              "</style>\n",
              "<table border=\"1\" class=\"dataframe\">\n",
              "  <thead>\n",
              "    <tr style=\"text-align: right;\">\n",
              "      <th></th>\n",
              "      <th>sal</th>\n",
              "    </tr>\n",
              "    <tr>\n",
              "      <th>name_jobs</th>\n",
              "      <th></th>\n",
              "    </tr>\n",
              "  </thead>\n",
              "  <tbody>\n",
              "    <tr>\n",
              "      <th>designer</th>\n",
              "      <td>600.00</td>\n",
              "    </tr>\n",
              "    <tr>\n",
              "      <th>engineer</th>\n",
              "      <td>733.33</td>\n",
              "    </tr>\n",
              "    <tr>\n",
              "      <th>marketer</th>\n",
              "      <td>650.00</td>\n",
              "    </tr>\n",
              "    <tr>\n",
              "      <th>sales</th>\n",
              "      <td>675.00</td>\n",
              "    </tr>\n",
              "  </tbody>\n",
              "</table>\n",
              "</div>"
            ],
            "text/plain": [
              "             sal\n",
              "name_jobs       \n",
              "designer  600.00\n",
              "engineer  733.33\n",
              "marketer  650.00\n",
              "sales     675.00"
            ]
          },
          "metadata": {
            "tags": []
          },
          "execution_count": 22
        }
      ]
    },
    {
      "cell_type": "markdown",
      "metadata": {
        "id": "wuS2dAi4h8NN"
      },
      "source": [
        "# pandas - part8 - 欠損値の補完 - Exercise\n",
        "\n",
        "---\n"
      ]
    },
    {
      "cell_type": "code",
      "metadata": {
        "colab": {
          "base_uri": "https://localhost:8080/"
        },
        "id": "pSL-VPkSiDLe",
        "outputId": "81fceabb-c565-40a5-8d0a-bcdccf54963c"
      },
      "source": [
        "!wget https://gist.githubusercontent.com/murayama333/9adfdf22c897fc818a0e4c845e8cb7cd/raw/5daa5ad4fe36a77df11e8f439543d8f2c60a4fee/staffs3.csv"
      ],
      "execution_count": 23,
      "outputs": [
        {
          "output_type": "stream",
          "text": [
            "--2021-01-12 06:56:46--  https://gist.githubusercontent.com/murayama333/9adfdf22c897fc818a0e4c845e8cb7cd/raw/5daa5ad4fe36a77df11e8f439543d8f2c60a4fee/staffs3.csv\n",
            "Resolving gist.githubusercontent.com (gist.githubusercontent.com)... 151.101.0.133, 151.101.64.133, 151.101.128.133, ...\n",
            "Connecting to gist.githubusercontent.com (gist.githubusercontent.com)|151.101.0.133|:443... connected.\n",
            "HTTP request sent, awaiting response... 200 OK\n",
            "Length: 169 [text/plain]\n",
            "Saving to: ‘staffs3.csv’\n",
            "\n",
            "staffs3.csv         100%[===================>]     169  --.-KB/s    in 0s      \n",
            "\n",
            "2021-01-12 06:56:47 (11.4 MB/s) - ‘staffs3.csv’ saved [169/169]\n",
            "\n"
          ],
          "name": "stdout"
        }
      ]
    },
    {
      "cell_type": "code",
      "metadata": {
        "colab": {
          "base_uri": "https://localhost:8080/"
        },
        "id": "wBzBEY0xieip",
        "outputId": "d4fd5017-64c2-4f8f-a8b2-54b86a2448b5"
      },
      "source": [
        "!cat staffs3.csv"
      ],
      "execution_count": 24,
      "outputs": [
        {
          "output_type": "stream",
          "text": [
            "id,name,age,sal,job_id\n",
            "1,Andy,27,650,1\n",
            "2,Betty,28,800,2\n",
            "3,Charol,28,700,3\n",
            "4,Daniel,22,650,4\n",
            "5,Ellen,24,,1\n",
            "6,Flora,30,750,2\n",
            "7,George,24,500,3\n",
            "8,Holly,32,,2\n",
            "9,Ian,32,700,5"
          ],
          "name": "stdout"
        }
      ]
    },
    {
      "cell_type": "code",
      "metadata": {
        "colab": {
          "base_uri": "https://localhost:8080/",
          "height": 359
        },
        "id": "LBH_sU1PiVzd",
        "outputId": "129b208c-d3e8-40d5-daad-82e54362e9cd"
      },
      "source": [
        "import pandas as pd\n",
        "pd.options.display.precision = 2\n",
        "pd.options.display.float_format = '{:.2f}'.format\n",
        "\n",
        "# staffs = pd.read_csv(\"staffs3.csv\", index_col=0, dtype={'id':'int', 'name':'str', 'age':'float', 'sal':'float','job_id':'int'})\n",
        "staffs = pd.read_csv(\"staffs3.csv\", index_col=0)\n",
        "\n",
        "staffs"
      ],
      "execution_count": 25,
      "outputs": [
        {
          "output_type": "execute_result",
          "data": {
            "text/html": [
              "<div>\n",
              "<style scoped>\n",
              "    .dataframe tbody tr th:only-of-type {\n",
              "        vertical-align: middle;\n",
              "    }\n",
              "\n",
              "    .dataframe tbody tr th {\n",
              "        vertical-align: top;\n",
              "    }\n",
              "\n",
              "    .dataframe thead th {\n",
              "        text-align: right;\n",
              "    }\n",
              "</style>\n",
              "<table border=\"1\" class=\"dataframe\">\n",
              "  <thead>\n",
              "    <tr style=\"text-align: right;\">\n",
              "      <th></th>\n",
              "      <th>name</th>\n",
              "      <th>age</th>\n",
              "      <th>sal</th>\n",
              "      <th>job_id</th>\n",
              "    </tr>\n",
              "    <tr>\n",
              "      <th>id</th>\n",
              "      <th></th>\n",
              "      <th></th>\n",
              "      <th></th>\n",
              "      <th></th>\n",
              "    </tr>\n",
              "  </thead>\n",
              "  <tbody>\n",
              "    <tr>\n",
              "      <th>1</th>\n",
              "      <td>Andy</td>\n",
              "      <td>27</td>\n",
              "      <td>650.00</td>\n",
              "      <td>1</td>\n",
              "    </tr>\n",
              "    <tr>\n",
              "      <th>2</th>\n",
              "      <td>Betty</td>\n",
              "      <td>28</td>\n",
              "      <td>800.00</td>\n",
              "      <td>2</td>\n",
              "    </tr>\n",
              "    <tr>\n",
              "      <th>3</th>\n",
              "      <td>Charol</td>\n",
              "      <td>28</td>\n",
              "      <td>700.00</td>\n",
              "      <td>3</td>\n",
              "    </tr>\n",
              "    <tr>\n",
              "      <th>4</th>\n",
              "      <td>Daniel</td>\n",
              "      <td>22</td>\n",
              "      <td>650.00</td>\n",
              "      <td>4</td>\n",
              "    </tr>\n",
              "    <tr>\n",
              "      <th>5</th>\n",
              "      <td>Ellen</td>\n",
              "      <td>24</td>\n",
              "      <td>nan</td>\n",
              "      <td>1</td>\n",
              "    </tr>\n",
              "    <tr>\n",
              "      <th>6</th>\n",
              "      <td>Flora</td>\n",
              "      <td>30</td>\n",
              "      <td>750.00</td>\n",
              "      <td>2</td>\n",
              "    </tr>\n",
              "    <tr>\n",
              "      <th>7</th>\n",
              "      <td>George</td>\n",
              "      <td>24</td>\n",
              "      <td>500.00</td>\n",
              "      <td>3</td>\n",
              "    </tr>\n",
              "    <tr>\n",
              "      <th>8</th>\n",
              "      <td>Holly</td>\n",
              "      <td>32</td>\n",
              "      <td>nan</td>\n",
              "      <td>2</td>\n",
              "    </tr>\n",
              "    <tr>\n",
              "      <th>9</th>\n",
              "      <td>Ian</td>\n",
              "      <td>32</td>\n",
              "      <td>700.00</td>\n",
              "      <td>5</td>\n",
              "    </tr>\n",
              "  </tbody>\n",
              "</table>\n",
              "</div>"
            ],
            "text/plain": [
              "      name  age    sal  job_id\n",
              "id                            \n",
              "1     Andy   27 650.00       1\n",
              "2    Betty   28 800.00       2\n",
              "3   Charol   28 700.00       3\n",
              "4   Daniel   22 650.00       4\n",
              "5    Ellen   24    nan       1\n",
              "6    Flora   30 750.00       2\n",
              "7   George   24 500.00       3\n",
              "8    Holly   32    nan       2\n",
              "9      Ian   32 700.00       5"
            ]
          },
          "metadata": {
            "tags": []
          },
          "execution_count": 25
        }
      ]
    },
    {
      "cell_type": "markdown",
      "metadata": {
        "id": "eQF_04ijuOsv"
      },
      "source": [
        "## 8.1 欠損値を含むレコードを削除して結果を出力してください。"
      ]
    },
    {
      "cell_type": "code",
      "metadata": {
        "colab": {
          "base_uri": "https://localhost:8080/",
          "height": 297
        },
        "id": "vnW4ahE6j6Li",
        "outputId": "291415d5-f3a4-4058-f524-8677d692cb5d"
      },
      "source": [
        "staffs.dropna()"
      ],
      "execution_count": 26,
      "outputs": [
        {
          "output_type": "execute_result",
          "data": {
            "text/html": [
              "<div>\n",
              "<style scoped>\n",
              "    .dataframe tbody tr th:only-of-type {\n",
              "        vertical-align: middle;\n",
              "    }\n",
              "\n",
              "    .dataframe tbody tr th {\n",
              "        vertical-align: top;\n",
              "    }\n",
              "\n",
              "    .dataframe thead th {\n",
              "        text-align: right;\n",
              "    }\n",
              "</style>\n",
              "<table border=\"1\" class=\"dataframe\">\n",
              "  <thead>\n",
              "    <tr style=\"text-align: right;\">\n",
              "      <th></th>\n",
              "      <th>name</th>\n",
              "      <th>age</th>\n",
              "      <th>sal</th>\n",
              "      <th>job_id</th>\n",
              "    </tr>\n",
              "    <tr>\n",
              "      <th>id</th>\n",
              "      <th></th>\n",
              "      <th></th>\n",
              "      <th></th>\n",
              "      <th></th>\n",
              "    </tr>\n",
              "  </thead>\n",
              "  <tbody>\n",
              "    <tr>\n",
              "      <th>1</th>\n",
              "      <td>Andy</td>\n",
              "      <td>27</td>\n",
              "      <td>650.00</td>\n",
              "      <td>1</td>\n",
              "    </tr>\n",
              "    <tr>\n",
              "      <th>2</th>\n",
              "      <td>Betty</td>\n",
              "      <td>28</td>\n",
              "      <td>800.00</td>\n",
              "      <td>2</td>\n",
              "    </tr>\n",
              "    <tr>\n",
              "      <th>3</th>\n",
              "      <td>Charol</td>\n",
              "      <td>28</td>\n",
              "      <td>700.00</td>\n",
              "      <td>3</td>\n",
              "    </tr>\n",
              "    <tr>\n",
              "      <th>4</th>\n",
              "      <td>Daniel</td>\n",
              "      <td>22</td>\n",
              "      <td>650.00</td>\n",
              "      <td>4</td>\n",
              "    </tr>\n",
              "    <tr>\n",
              "      <th>6</th>\n",
              "      <td>Flora</td>\n",
              "      <td>30</td>\n",
              "      <td>750.00</td>\n",
              "      <td>2</td>\n",
              "    </tr>\n",
              "    <tr>\n",
              "      <th>7</th>\n",
              "      <td>George</td>\n",
              "      <td>24</td>\n",
              "      <td>500.00</td>\n",
              "      <td>3</td>\n",
              "    </tr>\n",
              "    <tr>\n",
              "      <th>9</th>\n",
              "      <td>Ian</td>\n",
              "      <td>32</td>\n",
              "      <td>700.00</td>\n",
              "      <td>5</td>\n",
              "    </tr>\n",
              "  </tbody>\n",
              "</table>\n",
              "</div>"
            ],
            "text/plain": [
              "      name  age    sal  job_id\n",
              "id                            \n",
              "1     Andy   27 650.00       1\n",
              "2    Betty   28 800.00       2\n",
              "3   Charol   28 700.00       3\n",
              "4   Daniel   22 650.00       4\n",
              "6    Flora   30 750.00       2\n",
              "7   George   24 500.00       3\n",
              "9      Ian   32 700.00       5"
            ]
          },
          "metadata": {
            "tags": []
          },
          "execution_count": 26
        }
      ]
    },
    {
      "cell_type": "markdown",
      "metadata": {
        "id": "Is1nHeayuW_3"
      },
      "source": [
        "## 8.2 欠損値を平均値で補完して結果を出力してください。"
      ]
    },
    {
      "cell_type": "code",
      "metadata": {
        "colab": {
          "base_uri": "https://localhost:8080/",
          "height": 359
        },
        "id": "uHGbkUWCkAMD",
        "outputId": "35b92f95-0073-49d2-8a3e-f33b3915214e"
      },
      "source": [
        "staffs.fillna(staffs.mean())"
      ],
      "execution_count": 27,
      "outputs": [
        {
          "output_type": "execute_result",
          "data": {
            "text/html": [
              "<div>\n",
              "<style scoped>\n",
              "    .dataframe tbody tr th:only-of-type {\n",
              "        vertical-align: middle;\n",
              "    }\n",
              "\n",
              "    .dataframe tbody tr th {\n",
              "        vertical-align: top;\n",
              "    }\n",
              "\n",
              "    .dataframe thead th {\n",
              "        text-align: right;\n",
              "    }\n",
              "</style>\n",
              "<table border=\"1\" class=\"dataframe\">\n",
              "  <thead>\n",
              "    <tr style=\"text-align: right;\">\n",
              "      <th></th>\n",
              "      <th>name</th>\n",
              "      <th>age</th>\n",
              "      <th>sal</th>\n",
              "      <th>job_id</th>\n",
              "    </tr>\n",
              "    <tr>\n",
              "      <th>id</th>\n",
              "      <th></th>\n",
              "      <th></th>\n",
              "      <th></th>\n",
              "      <th></th>\n",
              "    </tr>\n",
              "  </thead>\n",
              "  <tbody>\n",
              "    <tr>\n",
              "      <th>1</th>\n",
              "      <td>Andy</td>\n",
              "      <td>27</td>\n",
              "      <td>650.00</td>\n",
              "      <td>1</td>\n",
              "    </tr>\n",
              "    <tr>\n",
              "      <th>2</th>\n",
              "      <td>Betty</td>\n",
              "      <td>28</td>\n",
              "      <td>800.00</td>\n",
              "      <td>2</td>\n",
              "    </tr>\n",
              "    <tr>\n",
              "      <th>3</th>\n",
              "      <td>Charol</td>\n",
              "      <td>28</td>\n",
              "      <td>700.00</td>\n",
              "      <td>3</td>\n",
              "    </tr>\n",
              "    <tr>\n",
              "      <th>4</th>\n",
              "      <td>Daniel</td>\n",
              "      <td>22</td>\n",
              "      <td>650.00</td>\n",
              "      <td>4</td>\n",
              "    </tr>\n",
              "    <tr>\n",
              "      <th>5</th>\n",
              "      <td>Ellen</td>\n",
              "      <td>24</td>\n",
              "      <td>678.57</td>\n",
              "      <td>1</td>\n",
              "    </tr>\n",
              "    <tr>\n",
              "      <th>6</th>\n",
              "      <td>Flora</td>\n",
              "      <td>30</td>\n",
              "      <td>750.00</td>\n",
              "      <td>2</td>\n",
              "    </tr>\n",
              "    <tr>\n",
              "      <th>7</th>\n",
              "      <td>George</td>\n",
              "      <td>24</td>\n",
              "      <td>500.00</td>\n",
              "      <td>3</td>\n",
              "    </tr>\n",
              "    <tr>\n",
              "      <th>8</th>\n",
              "      <td>Holly</td>\n",
              "      <td>32</td>\n",
              "      <td>678.57</td>\n",
              "      <td>2</td>\n",
              "    </tr>\n",
              "    <tr>\n",
              "      <th>9</th>\n",
              "      <td>Ian</td>\n",
              "      <td>32</td>\n",
              "      <td>700.00</td>\n",
              "      <td>5</td>\n",
              "    </tr>\n",
              "  </tbody>\n",
              "</table>\n",
              "</div>"
            ],
            "text/plain": [
              "      name  age    sal  job_id\n",
              "id                            \n",
              "1     Andy   27 650.00       1\n",
              "2    Betty   28 800.00       2\n",
              "3   Charol   28 700.00       3\n",
              "4   Daniel   22 650.00       4\n",
              "5    Ellen   24 678.57       1\n",
              "6    Flora   30 750.00       2\n",
              "7   George   24 500.00       3\n",
              "8    Holly   32 678.57       2\n",
              "9      Ian   32 700.00       5"
            ]
          },
          "metadata": {
            "tags": []
          },
          "execution_count": 27
        }
      ]
    },
    {
      "cell_type": "markdown",
      "metadata": {
        "id": "oqSHcRF5uj0s"
      },
      "source": [
        "## 8.3 欠損値を一つ前のレコードから補完して結果を出力してください。"
      ]
    },
    {
      "cell_type": "code",
      "metadata": {
        "colab": {
          "base_uri": "https://localhost:8080/",
          "height": 359
        },
        "id": "s1z6kCYrkRtd",
        "outputId": "29c2876a-d70a-42ec-dc16-f4cbfd585bc7"
      },
      "source": [
        "staffs.fillna(method=\"ffill\")"
      ],
      "execution_count": 28,
      "outputs": [
        {
          "output_type": "execute_result",
          "data": {
            "text/html": [
              "<div>\n",
              "<style scoped>\n",
              "    .dataframe tbody tr th:only-of-type {\n",
              "        vertical-align: middle;\n",
              "    }\n",
              "\n",
              "    .dataframe tbody tr th {\n",
              "        vertical-align: top;\n",
              "    }\n",
              "\n",
              "    .dataframe thead th {\n",
              "        text-align: right;\n",
              "    }\n",
              "</style>\n",
              "<table border=\"1\" class=\"dataframe\">\n",
              "  <thead>\n",
              "    <tr style=\"text-align: right;\">\n",
              "      <th></th>\n",
              "      <th>name</th>\n",
              "      <th>age</th>\n",
              "      <th>sal</th>\n",
              "      <th>job_id</th>\n",
              "    </tr>\n",
              "    <tr>\n",
              "      <th>id</th>\n",
              "      <th></th>\n",
              "      <th></th>\n",
              "      <th></th>\n",
              "      <th></th>\n",
              "    </tr>\n",
              "  </thead>\n",
              "  <tbody>\n",
              "    <tr>\n",
              "      <th>1</th>\n",
              "      <td>Andy</td>\n",
              "      <td>27</td>\n",
              "      <td>650.00</td>\n",
              "      <td>1</td>\n",
              "    </tr>\n",
              "    <tr>\n",
              "      <th>2</th>\n",
              "      <td>Betty</td>\n",
              "      <td>28</td>\n",
              "      <td>800.00</td>\n",
              "      <td>2</td>\n",
              "    </tr>\n",
              "    <tr>\n",
              "      <th>3</th>\n",
              "      <td>Charol</td>\n",
              "      <td>28</td>\n",
              "      <td>700.00</td>\n",
              "      <td>3</td>\n",
              "    </tr>\n",
              "    <tr>\n",
              "      <th>4</th>\n",
              "      <td>Daniel</td>\n",
              "      <td>22</td>\n",
              "      <td>650.00</td>\n",
              "      <td>4</td>\n",
              "    </tr>\n",
              "    <tr>\n",
              "      <th>5</th>\n",
              "      <td>Ellen</td>\n",
              "      <td>24</td>\n",
              "      <td>650.00</td>\n",
              "      <td>1</td>\n",
              "    </tr>\n",
              "    <tr>\n",
              "      <th>6</th>\n",
              "      <td>Flora</td>\n",
              "      <td>30</td>\n",
              "      <td>750.00</td>\n",
              "      <td>2</td>\n",
              "    </tr>\n",
              "    <tr>\n",
              "      <th>7</th>\n",
              "      <td>George</td>\n",
              "      <td>24</td>\n",
              "      <td>500.00</td>\n",
              "      <td>3</td>\n",
              "    </tr>\n",
              "    <tr>\n",
              "      <th>8</th>\n",
              "      <td>Holly</td>\n",
              "      <td>32</td>\n",
              "      <td>500.00</td>\n",
              "      <td>2</td>\n",
              "    </tr>\n",
              "    <tr>\n",
              "      <th>9</th>\n",
              "      <td>Ian</td>\n",
              "      <td>32</td>\n",
              "      <td>700.00</td>\n",
              "      <td>5</td>\n",
              "    </tr>\n",
              "  </tbody>\n",
              "</table>\n",
              "</div>"
            ],
            "text/plain": [
              "      name  age    sal  job_id\n",
              "id                            \n",
              "1     Andy   27 650.00       1\n",
              "2    Betty   28 800.00       2\n",
              "3   Charol   28 700.00       3\n",
              "4   Daniel   22 650.00       4\n",
              "5    Ellen   24 650.00       1\n",
              "6    Flora   30 750.00       2\n",
              "7   George   24 500.00       3\n",
              "8    Holly   32 500.00       2\n",
              "9      Ian   32 700.00       5"
            ]
          },
          "metadata": {
            "tags": []
          },
          "execution_count": 28
        }
      ]
    },
    {
      "cell_type": "markdown",
      "metadata": {
        "id": "DIsl2PTEuqe8"
      },
      "source": [
        "## 8.4 欠損値を job_id ごとの平均値で補完して結果を出力してください。"
      ]
    },
    {
      "cell_type": "code",
      "metadata": {
        "colab": {
          "base_uri": "https://localhost:8080/",
          "height": 359
        },
        "id": "VhozBNVPkZLj",
        "outputId": "65cdce11-a4e2-46e0-f757-fdd6eb4c05ac"
      },
      "source": [
        "job_sal = staffs.dropna().groupby(\"job_id\").mean()\n",
        "sales_sal_mean = job_sal[job_sal.index == 1][\"sal\"].mean()\n",
        "staffs[staffs[\"job_id\"] == 1] = staffs[staffs[\"job_id\"] == 1].fillna(sales_sal_mean)\n",
        "\n",
        "engineer_sal_mean = job_sal[job_sal.index == 2][\"sal\"].mean()\n",
        "staffs[staffs[\"job_id\"] == 2] = staffs[staffs[\"job_id\"] == 2].fillna(engineer_sal_mean)\n",
        "\n",
        "staffs"
      ],
      "execution_count": 29,
      "outputs": [
        {
          "output_type": "execute_result",
          "data": {
            "text/html": [
              "<div>\n",
              "<style scoped>\n",
              "    .dataframe tbody tr th:only-of-type {\n",
              "        vertical-align: middle;\n",
              "    }\n",
              "\n",
              "    .dataframe tbody tr th {\n",
              "        vertical-align: top;\n",
              "    }\n",
              "\n",
              "    .dataframe thead th {\n",
              "        text-align: right;\n",
              "    }\n",
              "</style>\n",
              "<table border=\"1\" class=\"dataframe\">\n",
              "  <thead>\n",
              "    <tr style=\"text-align: right;\">\n",
              "      <th></th>\n",
              "      <th>name</th>\n",
              "      <th>age</th>\n",
              "      <th>sal</th>\n",
              "      <th>job_id</th>\n",
              "    </tr>\n",
              "    <tr>\n",
              "      <th>id</th>\n",
              "      <th></th>\n",
              "      <th></th>\n",
              "      <th></th>\n",
              "      <th></th>\n",
              "    </tr>\n",
              "  </thead>\n",
              "  <tbody>\n",
              "    <tr>\n",
              "      <th>1</th>\n",
              "      <td>Andy</td>\n",
              "      <td>27</td>\n",
              "      <td>650.00</td>\n",
              "      <td>1</td>\n",
              "    </tr>\n",
              "    <tr>\n",
              "      <th>2</th>\n",
              "      <td>Betty</td>\n",
              "      <td>28</td>\n",
              "      <td>800.00</td>\n",
              "      <td>2</td>\n",
              "    </tr>\n",
              "    <tr>\n",
              "      <th>3</th>\n",
              "      <td>Charol</td>\n",
              "      <td>28</td>\n",
              "      <td>700.00</td>\n",
              "      <td>3</td>\n",
              "    </tr>\n",
              "    <tr>\n",
              "      <th>4</th>\n",
              "      <td>Daniel</td>\n",
              "      <td>22</td>\n",
              "      <td>650.00</td>\n",
              "      <td>4</td>\n",
              "    </tr>\n",
              "    <tr>\n",
              "      <th>5</th>\n",
              "      <td>Ellen</td>\n",
              "      <td>24</td>\n",
              "      <td>650.00</td>\n",
              "      <td>1</td>\n",
              "    </tr>\n",
              "    <tr>\n",
              "      <th>6</th>\n",
              "      <td>Flora</td>\n",
              "      <td>30</td>\n",
              "      <td>750.00</td>\n",
              "      <td>2</td>\n",
              "    </tr>\n",
              "    <tr>\n",
              "      <th>7</th>\n",
              "      <td>George</td>\n",
              "      <td>24</td>\n",
              "      <td>500.00</td>\n",
              "      <td>3</td>\n",
              "    </tr>\n",
              "    <tr>\n",
              "      <th>8</th>\n",
              "      <td>Holly</td>\n",
              "      <td>32</td>\n",
              "      <td>775.00</td>\n",
              "      <td>2</td>\n",
              "    </tr>\n",
              "    <tr>\n",
              "      <th>9</th>\n",
              "      <td>Ian</td>\n",
              "      <td>32</td>\n",
              "      <td>700.00</td>\n",
              "      <td>5</td>\n",
              "    </tr>\n",
              "  </tbody>\n",
              "</table>\n",
              "</div>"
            ],
            "text/plain": [
              "      name  age    sal  job_id\n",
              "id                            \n",
              "1     Andy   27 650.00       1\n",
              "2    Betty   28 800.00       2\n",
              "3   Charol   28 700.00       3\n",
              "4   Daniel   22 650.00       4\n",
              "5    Ellen   24 650.00       1\n",
              "6    Flora   30 750.00       2\n",
              "7   George   24 500.00       3\n",
              "8    Holly   32 775.00       2\n",
              "9      Ian   32 700.00       5"
            ]
          },
          "metadata": {
            "tags": []
          },
          "execution_count": 29
        }
      ]
    }
  ]
}