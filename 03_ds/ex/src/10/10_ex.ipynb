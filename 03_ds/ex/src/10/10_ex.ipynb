{
  "nbformat": 4,
  "nbformat_minor": 0,
  "metadata": {
    "colab": {
      "name": "ml-regression-exercise-answer.ipynb",
      "provenance": [],
      "collapsed_sections": []
    },
    "kernelspec": {
      "display_name": "Python 3",
      "name": "python3"
    }
  },
  "cells": [
    {
      "cell_type": "markdown",
      "metadata": {
        "id": "3R31m96qKyHR"
      },
      "source": [
        "## 演習1"
      ]
    },
    {
      "cell_type": "markdown",
      "metadata": {
        "id": "Am9DKRh_K0em"
      },
      "source": [
        "### 次のDataFrameを準備します。"
      ]
    },
    {
      "cell_type": "code",
      "metadata": {
        "colab": {
          "base_uri": "https://localhost:8080/",
          "height": 348
        },
        "id": "86oyc4bi_8j-",
        "outputId": "fcf8b5a1-a1ab-4d07-e497-1af2ee35d84c"
      },
      "source": [
        "import numpy as np\n",
        "import pandas as pd\n",
        "\n",
        "df = pd.DataFrame({\n",
        "    \"x\": np.array([0, 1, 2, 3, 4, 5, 6, 7, 8, 9]),\n",
        "    \"y\": np.array([50, 45, 40, 35, 30, 25 ,20, 15, 10, 5])\n",
        "})\n",
        "df"
      ],
      "execution_count": null,
      "outputs": [
        {
          "output_type": "execute_result",
          "data": {
            "text/html": [
              "<div>\n",
              "<style scoped>\n",
              "    .dataframe tbody tr th:only-of-type {\n",
              "        vertical-align: middle;\n",
              "    }\n",
              "\n",
              "    .dataframe tbody tr th {\n",
              "        vertical-align: top;\n",
              "    }\n",
              "\n",
              "    .dataframe thead th {\n",
              "        text-align: right;\n",
              "    }\n",
              "</style>\n",
              "<table border=\"1\" class=\"dataframe\">\n",
              "  <thead>\n",
              "    <tr style=\"text-align: right;\">\n",
              "      <th></th>\n",
              "      <th>x</th>\n",
              "      <th>y</th>\n",
              "    </tr>\n",
              "  </thead>\n",
              "  <tbody>\n",
              "    <tr>\n",
              "      <th>0</th>\n",
              "      <td>0</td>\n",
              "      <td>50</td>\n",
              "    </tr>\n",
              "    <tr>\n",
              "      <th>1</th>\n",
              "      <td>1</td>\n",
              "      <td>45</td>\n",
              "    </tr>\n",
              "    <tr>\n",
              "      <th>2</th>\n",
              "      <td>2</td>\n",
              "      <td>40</td>\n",
              "    </tr>\n",
              "    <tr>\n",
              "      <th>3</th>\n",
              "      <td>3</td>\n",
              "      <td>35</td>\n",
              "    </tr>\n",
              "    <tr>\n",
              "      <th>4</th>\n",
              "      <td>4</td>\n",
              "      <td>30</td>\n",
              "    </tr>\n",
              "    <tr>\n",
              "      <th>5</th>\n",
              "      <td>5</td>\n",
              "      <td>25</td>\n",
              "    </tr>\n",
              "    <tr>\n",
              "      <th>6</th>\n",
              "      <td>6</td>\n",
              "      <td>20</td>\n",
              "    </tr>\n",
              "    <tr>\n",
              "      <th>7</th>\n",
              "      <td>7</td>\n",
              "      <td>15</td>\n",
              "    </tr>\n",
              "    <tr>\n",
              "      <th>8</th>\n",
              "      <td>8</td>\n",
              "      <td>10</td>\n",
              "    </tr>\n",
              "    <tr>\n",
              "      <th>9</th>\n",
              "      <td>9</td>\n",
              "      <td>5</td>\n",
              "    </tr>\n",
              "  </tbody>\n",
              "</table>\n",
              "</div>"
            ],
            "text/plain": [
              "   x   y\n",
              "0  0  50\n",
              "1  1  45\n",
              "2  2  40\n",
              "3  3  35\n",
              "4  4  30\n",
              "5  5  25\n",
              "6  6  20\n",
              "7  7  15\n",
              "8  8  10\n",
              "9  9   5"
            ]
          },
          "metadata": {
            "tags": []
          },
          "execution_count": 1
        }
      ]
    },
    {
      "cell_type": "markdown",
      "metadata": {
        "id": "WqkRMI6-K5ju"
      },
      "source": [
        "### 1.1 DataFrame(df) の x, y についての散布図を出力してください。"
      ]
    },
    {
      "cell_type": "code",
      "metadata": {
        "colab": {
          "base_uri": "https://localhost:8080/",
          "height": 296
        },
        "id": "rVNwQCiEBWsT",
        "outputId": "9bc405c0-ac57-4cc3-b592-4c7eaa469ede"
      },
      "source": [
        "df.plot.scatter(\"x\", \"y\")"
      ],
      "execution_count": null,
      "outputs": [
        {
          "output_type": "execute_result",
          "data": {
            "text/plain": [
              "<matplotlib.axes._subplots.AxesSubplot at 0x7f9309b91470>"
            ]
          },
          "metadata": {
            "tags": []
          },
          "execution_count": 2
        },
        {
          "output_type": "display_data",
          "data": {
            "image/png": "[encoded data removed]",
            "text/plain": [
              "<Figure size 432x288 with 1 Axes>"
            ]
          },
          "metadata": {
            "tags": [],
            "needs_background": "light"
          }
        }
      ]
    },
    {
      "cell_type": "markdown",
      "metadata": {
        "id": "dGnlm1NhLEch"
      },
      "source": [
        "### 1.2 `y` を目的変数、`x` を説明変数として線形回帰によって分析し、係数と切片を表示してください。"
      ]
    },
    {
      "cell_type": "code",
      "metadata": {
        "colab": {
          "base_uri": "https://localhost:8080/"
        },
        "id": "-uOQxFTpBfYN",
        "outputId": "dd769612-3f98-4469-e67a-e82159b81689"
      },
      "source": [
        "from sklearn.linear_model import LinearRegression\n",
        "\n",
        "reg = LinearRegression()\n",
        "reg.fit(df[[\"x\"]], df[\"y\"])\n",
        "\n",
        "print(\"coef_:\", reg.coef_)\n",
        "print(\"intercept_:\", reg.intercept_)"
      ],
      "execution_count": null,
      "outputs": [
        {
          "output_type": "stream",
          "text": [
            "coef_: [-5.]\n",
            "intercept_: 50.00000000000001\n"
          ],
          "name": "stdout"
        }
      ]
    },
    {
      "cell_type": "markdown",
      "metadata": {
        "id": "TLCf53oYLTUU"
      },
      "source": [
        "### 1.3 DataFrame（df） に 推論したyである preg_y を追加して表示してください。"
      ]
    },
    {
      "cell_type": "code",
      "metadata": {
        "colab": {
          "base_uri": "https://localhost:8080/",
          "height": 348
        },
        "id": "ccKpHMIiCnkE",
        "outputId": "cdbc1f6e-ab19-437f-a348-f035a13c15fc"
      },
      "source": [
        "df[\"preg_y\"] = reg.predict(df[[\"x\"]])\n",
        "df"
      ],
      "execution_count": null,
      "outputs": [
        {
          "output_type": "execute_result",
          "data": {
            "text/html": [
              "<div>\n",
              "<style scoped>\n",
              "    .dataframe tbody tr th:only-of-type {\n",
              "        vertical-align: middle;\n",
              "    }\n",
              "\n",
              "    .dataframe tbody tr th {\n",
              "        vertical-align: top;\n",
              "    }\n",
              "\n",
              "    .dataframe thead th {\n",
              "        text-align: right;\n",
              "    }\n",
              "</style>\n",
              "<table border=\"1\" class=\"dataframe\">\n",
              "  <thead>\n",
              "    <tr style=\"text-align: right;\">\n",
              "      <th></th>\n",
              "      <th>x</th>\n",
              "      <th>y</th>\n",
              "      <th>preg_y</th>\n",
              "    </tr>\n",
              "  </thead>\n",
              "  <tbody>\n",
              "    <tr>\n",
              "      <th>0</th>\n",
              "      <td>0</td>\n",
              "      <td>50</td>\n",
              "      <td>50.0</td>\n",
              "    </tr>\n",
              "    <tr>\n",
              "      <th>1</th>\n",
              "      <td>1</td>\n",
              "      <td>45</td>\n",
              "      <td>45.0</td>\n",
              "    </tr>\n",
              "    <tr>\n",
              "      <th>2</th>\n",
              "      <td>2</td>\n",
              "      <td>40</td>\n",
              "      <td>40.0</td>\n",
              "    </tr>\n",
              "    <tr>\n",
              "      <th>3</th>\n",
              "      <td>3</td>\n",
              "      <td>35</td>\n",
              "      <td>35.0</td>\n",
              "    </tr>\n",
              "    <tr>\n",
              "      <th>4</th>\n",
              "      <td>4</td>\n",
              "      <td>30</td>\n",
              "      <td>30.0</td>\n",
              "    </tr>\n",
              "    <tr>\n",
              "      <th>5</th>\n",
              "      <td>5</td>\n",
              "      <td>25</td>\n",
              "      <td>25.0</td>\n",
              "    </tr>\n",
              "    <tr>\n",
              "      <th>6</th>\n",
              "      <td>6</td>\n",
              "      <td>20</td>\n",
              "      <td>20.0</td>\n",
              "    </tr>\n",
              "    <tr>\n",
              "      <th>7</th>\n",
              "      <td>7</td>\n",
              "      <td>15</td>\n",
              "      <td>15.0</td>\n",
              "    </tr>\n",
              "    <tr>\n",
              "      <th>8</th>\n",
              "      <td>8</td>\n",
              "      <td>10</td>\n",
              "      <td>10.0</td>\n",
              "    </tr>\n",
              "    <tr>\n",
              "      <th>9</th>\n",
              "      <td>9</td>\n",
              "      <td>5</td>\n",
              "      <td>5.0</td>\n",
              "    </tr>\n",
              "  </tbody>\n",
              "</table>\n",
              "</div>"
            ],
            "text/plain": [
              "   x   y  preg_y\n",
              "0  0  50    50.0\n",
              "1  1  45    45.0\n",
              "2  2  40    40.0\n",
              "3  3  35    35.0\n",
              "4  4  30    30.0\n",
              "5  5  25    25.0\n",
              "6  6  20    20.0\n",
              "7  7  15    15.0\n",
              "8  8  10    10.0\n",
              "9  9   5     5.0"
            ]
          },
          "metadata": {
            "tags": []
          },
          "execution_count": 4
        }
      ]
    },
    {
      "cell_type": "markdown",
      "metadata": {
        "id": "wyqO8fzOLiw3"
      },
      "source": [
        "### 1.4 DataFrame（df）の散布図に回帰式を表示してください。"
      ]
    },
    {
      "cell_type": "code",
      "metadata": {
        "colab": {
          "base_uri": "https://localhost:8080/",
          "height": 296
        },
        "id": "5JM337qkBAI-",
        "outputId": "e581fd92-e5d1-4c3c-c5a3-c052bc427a4d"
      },
      "source": [
        "ax = df.plot.scatter(\"x\", \"y\")\n",
        "# ax.plot(df[\"x\"], reg.predict(df[[\"x\"]]), color=\"red\")\n",
        "df.plot(\"x\", \"preg_y\", ax=ax, color=\"red\")"
      ],
      "execution_count": null,
      "outputs": [
        {
          "output_type": "execute_result",
          "data": {
            "text/plain": [
              "<matplotlib.axes._subplots.AxesSubplot at 0x7f92f6e4fa90>"
            ]
          },
          "metadata": {
            "tags": []
          },
          "execution_count": 5
        },
        {
          "output_type": "display_data",
          "data": {
            "image/png": "[encoded data removed]",
            "text/plain": [
              "<Figure size 432x288 with 1 Axes>"
            ]
          },
          "metadata": {
            "tags": [],
            "needs_background": "light"
          }
        }
      ]
    },
    {
      "cell_type": "markdown",
      "metadata": {
        "id": "sgoJB8x_Lq6K"
      },
      "source": [
        "### 1.5 `x` が100のとき、推論した `y` を表示してください。"
      ]
    },
    {
      "cell_type": "code",
      "metadata": {
        "colab": {
          "base_uri": "https://localhost:8080/"
        },
        "id": "ex9S1-BVDNU4",
        "outputId": "fd550f0a-0662-40ed-f080-476f703dec5d"
      },
      "source": [
        "print(reg.predict([[100]])[0])"
      ],
      "execution_count": null,
      "outputs": [
        {
          "output_type": "stream",
          "text": [
            "-450.00000000000017\n"
          ],
          "name": "stdout"
        }
      ]
    },
    {
      "cell_type": "markdown",
      "metadata": {
        "id": "Qf0LI0YcMUui"
      },
      "source": [
        "## 演習2"
      ]
    },
    {
      "cell_type": "markdown",
      "metadata": {
        "id": "Gm20lFOWMWpY"
      },
      "source": [
        "### 2.1 wgetコマンド以下のURLからでファイル（mydata.csv）をダウンロードしてください。\n",
        "\n",
        "```\n",
        "https://gist.githubusercontent.com/murayama333/b897efa5d90a96f2b851bf14f1a6f8d3/raw/874c9771da2ea22365873112ef481537d094052c/mydata.csv\n",
        "```"
      ]
    },
    {
      "cell_type": "code",
      "metadata": {
        "colab": {
          "base_uri": "https://localhost:8080/"
        },
        "id": "HBVhOFl3ESGN",
        "outputId": "0124a147-686a-482e-f440-5235bd3c927e"
      },
      "source": [
        "!wget https://gist.githubusercontent.com/murayama333/b897efa5d90a96f2b851bf14f1a6f8d3/raw/874c9771da2ea22365873112ef481537d094052c/mydata.csv"
      ],
      "execution_count": null,
      "outputs": [
        {
          "output_type": "stream",
          "text": [
            "--2021-02-15 06:46:32--  https://gist.githubusercontent.com/murayama333/b897efa5d90a96f2b851bf14f1a6f8d3/raw/874c9771da2ea22365873112ef481537d094052c/mydata.csv\n",
            "Resolving gist.githubusercontent.com (gist.githubusercontent.com)... 185.199.108.133, 185.199.109.133, 185.199.110.133, ...\n",
            "Connecting to gist.githubusercontent.com (gist.githubusercontent.com)|185.199.108.133|:443... connected.\n",
            "HTTP request sent, awaiting response... 200 OK\n",
            "Length: 53 [text/plain]\n",
            "Saving to: ‘mydata.csv.8’\n",
            "\n",
            "mydata.csv.8        100%[===================>]      53  --.-KB/s    in 0s      \n",
            "\n",
            "2021-02-15 06:46:32 (2.97 MB/s) - ‘mydata.csv.8’ saved [53/53]\n",
            "\n"
          ],
          "name": "stdout"
        }
      ]
    },
    {
      "cell_type": "markdown",
      "metadata": {
        "id": "ZAz_NbJJMltP"
      },
      "source": [
        "### 2.2 pandasのDataFrameで mydata.csv を表示してください。\n",
        "\n",
        "> DataFrameを代入する変数名は mydata_df とします。"
      ]
    },
    {
      "cell_type": "code",
      "metadata": {
        "colab": {
          "base_uri": "https://localhost:8080/",
          "height": 348
        },
        "id": "EulsqoCjETNN",
        "outputId": "b0515b3e-0eab-49ef-e42b-1befe07926a0"
      },
      "source": [
        "mydata_df = pd.read_csv(\"mydata.csv\")\n",
        "mydata_df"
      ],
      "execution_count": null,
      "outputs": [
        {
          "output_type": "execute_result",
          "data": {
            "text/html": [
              "<div>\n",
              "<style scoped>\n",
              "    .dataframe tbody tr th:only-of-type {\n",
              "        vertical-align: middle;\n",
              "    }\n",
              "\n",
              "    .dataframe tbody tr th {\n",
              "        vertical-align: top;\n",
              "    }\n",
              "\n",
              "    .dataframe thead th {\n",
              "        text-align: right;\n",
              "    }\n",
              "</style>\n",
              "<table border=\"1\" class=\"dataframe\">\n",
              "  <thead>\n",
              "    <tr style=\"text-align: right;\">\n",
              "      <th></th>\n",
              "      <th>x</th>\n",
              "      <th>y</th>\n",
              "    </tr>\n",
              "  </thead>\n",
              "  <tbody>\n",
              "    <tr>\n",
              "      <th>0</th>\n",
              "      <td>0</td>\n",
              "      <td>55</td>\n",
              "    </tr>\n",
              "    <tr>\n",
              "      <th>1</th>\n",
              "      <td>1</td>\n",
              "      <td>42</td>\n",
              "    </tr>\n",
              "    <tr>\n",
              "      <th>2</th>\n",
              "      <td>2</td>\n",
              "      <td>45</td>\n",
              "    </tr>\n",
              "    <tr>\n",
              "      <th>3</th>\n",
              "      <td>3</td>\n",
              "      <td>35</td>\n",
              "    </tr>\n",
              "    <tr>\n",
              "      <th>4</th>\n",
              "      <td>4</td>\n",
              "      <td>26</td>\n",
              "    </tr>\n",
              "    <tr>\n",
              "      <th>5</th>\n",
              "      <td>5</td>\n",
              "      <td>18</td>\n",
              "    </tr>\n",
              "    <tr>\n",
              "      <th>6</th>\n",
              "      <td>6</td>\n",
              "      <td>24</td>\n",
              "    </tr>\n",
              "    <tr>\n",
              "      <th>7</th>\n",
              "      <td>7</td>\n",
              "      <td>15</td>\n",
              "    </tr>\n",
              "    <tr>\n",
              "      <th>8</th>\n",
              "      <td>8</td>\n",
              "      <td>12</td>\n",
              "    </tr>\n",
              "    <tr>\n",
              "      <th>9</th>\n",
              "      <td>9</td>\n",
              "      <td>2</td>\n",
              "    </tr>\n",
              "  </tbody>\n",
              "</table>\n",
              "</div>"
            ],
            "text/plain": [
              "   x   y\n",
              "0  0  55\n",
              "1  1  42\n",
              "2  2  45\n",
              "3  3  35\n",
              "4  4  26\n",
              "5  5  18\n",
              "6  6  24\n",
              "7  7  15\n",
              "8  8  12\n",
              "9  9   2"
            ]
          },
          "metadata": {
            "tags": []
          },
          "execution_count": 8
        }
      ]
    },
    {
      "cell_type": "markdown",
      "metadata": {
        "id": "oQMrXWmdM-1A"
      },
      "source": [
        "### 2.3 DataFrame（mydata_df）の `x` と `y` の散布図を表示してください。"
      ]
    },
    {
      "cell_type": "code",
      "metadata": {
        "colab": {
          "base_uri": "https://localhost:8080/",
          "height": 296
        },
        "id": "-8KICiZ0E5IJ",
        "outputId": "33a46338-b7be-42a2-a298-ecced79caeda"
      },
      "source": [
        "mydata_df.plot.scatter(\"x\", \"y\")"
      ],
      "execution_count": null,
      "outputs": [
        {
          "output_type": "execute_result",
          "data": {
            "text/plain": [
              "<matplotlib.axes._subplots.AxesSubplot at 0x7f92f66a3550>"
            ]
          },
          "metadata": {
            "tags": []
          },
          "execution_count": 9
        },
        {
          "output_type": "display_data",
          "data": {
            "image/png": "[encoded data removed]",
            "text/plain": [
              "<Figure size 432x288 with 1 Axes>"
            ]
          },
          "metadata": {
            "tags": [],
            "needs_background": "light"
          }
        }
      ]
    },
    {
      "cell_type": "markdown",
      "metadata": {
        "id": "3pQb7hSCQEGB"
      },
      "source": [
        "### 2.4 DataFrame（mydata_df）の `x` と `y` について相関係数を表示してください。"
      ]
    },
    {
      "cell_type": "code",
      "metadata": {
        "colab": {
          "base_uri": "https://localhost:8080/",
          "height": 108
        },
        "id": "nfhKbd9vQB1X",
        "outputId": "6409d838-806c-4107-fe3f-cbb5b24de280"
      },
      "source": [
        "mydata_df.corr()"
      ],
      "execution_count": null,
      "outputs": [
        {
          "output_type": "execute_result",
          "data": {
            "text/html": [
              "<div>\n",
              "<style scoped>\n",
              "    .dataframe tbody tr th:only-of-type {\n",
              "        vertical-align: middle;\n",
              "    }\n",
              "\n",
              "    .dataframe tbody tr th {\n",
              "        vertical-align: top;\n",
              "    }\n",
              "\n",
              "    .dataframe thead th {\n",
              "        text-align: right;\n",
              "    }\n",
              "</style>\n",
              "<table border=\"1\" class=\"dataframe\">\n",
              "  <thead>\n",
              "    <tr style=\"text-align: right;\">\n",
              "      <th></th>\n",
              "      <th>x</th>\n",
              "      <th>y</th>\n",
              "    </tr>\n",
              "  </thead>\n",
              "  <tbody>\n",
              "    <tr>\n",
              "      <th>x</th>\n",
              "      <td>1.000000</td>\n",
              "      <td>-0.970458</td>\n",
              "    </tr>\n",
              "    <tr>\n",
              "      <th>y</th>\n",
              "      <td>-0.970458</td>\n",
              "      <td>1.000000</td>\n",
              "    </tr>\n",
              "  </tbody>\n",
              "</table>\n",
              "</div>"
            ],
            "text/plain": [
              "          x         y\n",
              "x  1.000000 -0.970458\n",
              "y -0.970458  1.000000"
            ]
          },
          "metadata": {
            "tags": []
          },
          "execution_count": 10
        }
      ]
    },
    {
      "cell_type": "markdown",
      "metadata": {
        "id": "hompn8BDNPtd"
      },
      "source": [
        "### 2.5 `y` を目的変数、 `x` を説明変数として線形回帰によって分析し、係数と切片を表示してください。"
      ]
    },
    {
      "cell_type": "code",
      "metadata": {
        "colab": {
          "base_uri": "https://localhost:8080/"
        },
        "id": "50h7P3OIE-tk",
        "outputId": "fc421d5b-8c5a-43dd-fddb-bb1f96c3cfea"
      },
      "source": [
        "reg = LinearRegression()\n",
        "reg.fit(mydata_df[[\"x\"]], mydata_df[\"y\"])\n",
        "\n",
        "print(\"coef_:\", reg.coef_)\n",
        "print(\"intercept_:\", reg.intercept_)"
      ],
      "execution_count": null,
      "outputs": [
        {
          "output_type": "stream",
          "text": [
            "coef_: [-5.32121212]\n",
            "intercept_: 51.345454545454544\n"
          ],
          "name": "stdout"
        }
      ]
    },
    {
      "cell_type": "markdown",
      "metadata": {
        "id": "v_tFj6R_NW74"
      },
      "source": [
        "### 2.6 DataFrame（mydata_df） に 推論したyである `preg_y` を追加して表示してください。\n"
      ]
    },
    {
      "cell_type": "code",
      "metadata": {
        "colab": {
          "base_uri": "https://localhost:8080/",
          "height": 348
        },
        "id": "ob6CaY2uElOO",
        "outputId": "253082cd-36db-47c9-993e-9fd2549d430f"
      },
      "source": [
        "mydata_df[\"preg_y\"] = reg.predict(mydata_df[[\"x\"]])\n",
        "mydata_df"
      ],
      "execution_count": null,
      "outputs": [
        {
          "output_type": "execute_result",
          "data": {
            "text/html": [
              "<div>\n",
              "<style scoped>\n",
              "    .dataframe tbody tr th:only-of-type {\n",
              "        vertical-align: middle;\n",
              "    }\n",
              "\n",
              "    .dataframe tbody tr th {\n",
              "        vertical-align: top;\n",
              "    }\n",
              "\n",
              "    .dataframe thead th {\n",
              "        text-align: right;\n",
              "    }\n",
              "</style>\n",
              "<table border=\"1\" class=\"dataframe\">\n",
              "  <thead>\n",
              "    <tr style=\"text-align: right;\">\n",
              "      <th></th>\n",
              "      <th>x</th>\n",
              "      <th>y</th>\n",
              "      <th>preg_y</th>\n",
              "    </tr>\n",
              "  </thead>\n",
              "  <tbody>\n",
              "    <tr>\n",
              "      <th>0</th>\n",
              "      <td>0</td>\n",
              "      <td>55</td>\n",
              "      <td>51.345455</td>\n",
              "    </tr>\n",
              "    <tr>\n",
              "      <th>1</th>\n",
              "      <td>1</td>\n",
              "      <td>42</td>\n",
              "      <td>46.024242</td>\n",
              "    </tr>\n",
              "    <tr>\n",
              "      <th>2</th>\n",
              "      <td>2</td>\n",
              "      <td>45</td>\n",
              "      <td>40.703030</td>\n",
              "    </tr>\n",
              "    <tr>\n",
              "      <th>3</th>\n",
              "      <td>3</td>\n",
              "      <td>35</td>\n",
              "      <td>35.381818</td>\n",
              "    </tr>\n",
              "    <tr>\n",
              "      <th>4</th>\n",
              "      <td>4</td>\n",
              "      <td>26</td>\n",
              "      <td>30.060606</td>\n",
              "    </tr>\n",
              "    <tr>\n",
              "      <th>5</th>\n",
              "      <td>5</td>\n",
              "      <td>18</td>\n",
              "      <td>24.739394</td>\n",
              "    </tr>\n",
              "    <tr>\n",
              "      <th>6</th>\n",
              "      <td>6</td>\n",
              "      <td>24</td>\n",
              "      <td>19.418182</td>\n",
              "    </tr>\n",
              "    <tr>\n",
              "      <th>7</th>\n",
              "      <td>7</td>\n",
              "      <td>15</td>\n",
              "      <td>14.096970</td>\n",
              "    </tr>\n",
              "    <tr>\n",
              "      <th>8</th>\n",
              "      <td>8</td>\n",
              "      <td>12</td>\n",
              "      <td>8.775758</td>\n",
              "    </tr>\n",
              "    <tr>\n",
              "      <th>9</th>\n",
              "      <td>9</td>\n",
              "      <td>2</td>\n",
              "      <td>3.454545</td>\n",
              "    </tr>\n",
              "  </tbody>\n",
              "</table>\n",
              "</div>"
            ],
            "text/plain": [
              "   x   y     preg_y\n",
              "0  0  55  51.345455\n",
              "1  1  42  46.024242\n",
              "2  2  45  40.703030\n",
              "3  3  35  35.381818\n",
              "4  4  26  30.060606\n",
              "5  5  18  24.739394\n",
              "6  6  24  19.418182\n",
              "7  7  15  14.096970\n",
              "8  8  12   8.775758\n",
              "9  9   2   3.454545"
            ]
          },
          "metadata": {
            "tags": []
          },
          "execution_count": 12
        }
      ]
    },
    {
      "cell_type": "markdown",
      "metadata": {
        "id": "BdXeo5D7NvS0"
      },
      "source": [
        "### 2.7 DataFrame（mydata_df）の散布図に回帰式を表示してください。"
      ]
    },
    {
      "cell_type": "code",
      "metadata": {
        "colab": {
          "base_uri": "https://localhost:8080/",
          "height": 296
        },
        "id": "7iqsH2WdKVrl",
        "outputId": "42fb691a-589c-4b62-cd6c-733e025ac2af"
      },
      "source": [
        "ax = mydata_df.plot.scatter(\"x\", \"y\")\n",
        "# ax.plot(df[\"x\"], reg.predict(df[[\"x\"]]), color=\"red\")\n",
        "mydata_df.plot(\"x\", \"preg_y\", ax=ax, color=\"red\")"
      ],
      "execution_count": null,
      "outputs": [
        {
          "output_type": "execute_result",
          "data": {
            "text/plain": [
              "<matplotlib.axes._subplots.AxesSubplot at 0x7f92f605e9e8>"
            ]
          },
          "metadata": {
            "tags": []
          },
          "execution_count": 13
        },
        {
          "output_type": "display_data",
          "data": {
            "image/png": "[encoded data removed]",
            "text/plain": [
              "<Figure size 432x288 with 1 Axes>"
            ]
          },
          "metadata": {
            "tags": [],
            "needs_background": "light"
          }
        }
      ]
    },
    {
      "cell_type": "markdown",
      "metadata": {
        "id": "fkzbat0DO6e_"
      },
      "source": [
        "### 2.8 （参考）DataFrame(mydata_df) の y と preg_y から平均二乗誤差（MSE）を表示してみましょう。\n",
        "\n",
        "> 平均二乗誤差（MSE）とは、回帰分析の結果を評価する指標です。値が小さいほど推論値と実測値の差が小さいと言えます。"
      ]
    },
    {
      "cell_type": "markdown",
      "metadata": {
        "id": "qfloD3RaN9ev"
      },
      "source": [
        "#### 2.8.1 DataFrame(mydata_df) の y と preg_y の差分を求めて `diff` 列とし、DataFrameに追加して表示してください。"
      ]
    },
    {
      "cell_type": "code",
      "metadata": {
        "colab": {
          "base_uri": "https://localhost:8080/",
          "height": 348
        },
        "id": "eprOV-MkFnpu",
        "outputId": "2780d6ff-2c55-4552-f03a-cbc67cd96cc9"
      },
      "source": [
        "mydata_df[\"diff\"] = mydata_df[\"y\"] -  mydata_df[\"preg_y\"]\n",
        "mydata_df"
      ],
      "execution_count": null,
      "outputs": [
        {
          "output_type": "execute_result",
          "data": {
            "text/html": [
              "<div>\n",
              "<style scoped>\n",
              "    .dataframe tbody tr th:only-of-type {\n",
              "        vertical-align: middle;\n",
              "    }\n",
              "\n",
              "    .dataframe tbody tr th {\n",
              "        vertical-align: top;\n",
              "    }\n",
              "\n",
              "    .dataframe thead th {\n",
              "        text-align: right;\n",
              "    }\n",
              "</style>\n",
              "<table border=\"1\" class=\"dataframe\">\n",
              "  <thead>\n",
              "    <tr style=\"text-align: right;\">\n",
              "      <th></th>\n",
              "      <th>x</th>\n",
              "      <th>y</th>\n",
              "      <th>preg_y</th>\n",
              "      <th>diff</th>\n",
              "    </tr>\n",
              "  </thead>\n",
              "  <tbody>\n",
              "    <tr>\n",
              "      <th>0</th>\n",
              "      <td>0</td>\n",
              "      <td>55</td>\n",
              "      <td>51.345455</td>\n",
              "      <td>3.654545</td>\n",
              "    </tr>\n",
              "    <tr>\n",
              "      <th>1</th>\n",
              "      <td>1</td>\n",
              "      <td>42</td>\n",
              "      <td>46.024242</td>\n",
              "      <td>-4.024242</td>\n",
              "    </tr>\n",
              "    <tr>\n",
              "      <th>2</th>\n",
              "      <td>2</td>\n",
              "      <td>45</td>\n",
              "      <td>40.703030</td>\n",
              "      <td>4.296970</td>\n",
              "    </tr>\n",
              "    <tr>\n",
              "      <th>3</th>\n",
              "      <td>3</td>\n",
              "      <td>35</td>\n",
              "      <td>35.381818</td>\n",
              "      <td>-0.381818</td>\n",
              "    </tr>\n",
              "    <tr>\n",
              "      <th>4</th>\n",
              "      <td>4</td>\n",
              "      <td>26</td>\n",
              "      <td>30.060606</td>\n",
              "      <td>-4.060606</td>\n",
              "    </tr>\n",
              "    <tr>\n",
              "      <th>5</th>\n",
              "      <td>5</td>\n",
              "      <td>18</td>\n",
              "      <td>24.739394</td>\n",
              "      <td>-6.739394</td>\n",
              "    </tr>\n",
              "    <tr>\n",
              "      <th>6</th>\n",
              "      <td>6</td>\n",
              "      <td>24</td>\n",
              "      <td>19.418182</td>\n",
              "      <td>4.581818</td>\n",
              "    </tr>\n",
              "    <tr>\n",
              "      <th>7</th>\n",
              "      <td>7</td>\n",
              "      <td>15</td>\n",
              "      <td>14.096970</td>\n",
              "      <td>0.903030</td>\n",
              "    </tr>\n",
              "    <tr>\n",
              "      <th>8</th>\n",
              "      <td>8</td>\n",
              "      <td>12</td>\n",
              "      <td>8.775758</td>\n",
              "      <td>3.224242</td>\n",
              "    </tr>\n",
              "    <tr>\n",
              "      <th>9</th>\n",
              "      <td>9</td>\n",
              "      <td>2</td>\n",
              "      <td>3.454545</td>\n",
              "      <td>-1.454545</td>\n",
              "    </tr>\n",
              "  </tbody>\n",
              "</table>\n",
              "</div>"
            ],
            "text/plain": [
              "   x   y     preg_y      diff\n",
              "0  0  55  51.345455  3.654545\n",
              "1  1  42  46.024242 -4.024242\n",
              "2  2  45  40.703030  4.296970\n",
              "3  3  35  35.381818 -0.381818\n",
              "4  4  26  30.060606 -4.060606\n",
              "5  5  18  24.739394 -6.739394\n",
              "6  6  24  19.418182  4.581818\n",
              "7  7  15  14.096970  0.903030\n",
              "8  8  12   8.775758  3.224242\n",
              "9  9   2   3.454545 -1.454545"
            ]
          },
          "metadata": {
            "tags": []
          },
          "execution_count": 14
        }
      ]
    },
    {
      "cell_type": "markdown",
      "metadata": {
        "id": "bpSOhAUYOMlU"
      },
      "source": [
        "#### 2.8.2 DataFrame(mydata_df) の diff 列の二乗値を求めて `diff_square` 列とし、DataFrameに追加して表示してください。"
      ]
    },
    {
      "cell_type": "code",
      "metadata": {
        "colab": {
          "base_uri": "https://localhost:8080/",
          "height": 348
        },
        "id": "2aqgPvGqFxxI",
        "outputId": "66950e29-c465-44b3-85fa-0afac377237a"
      },
      "source": [
        "mydata_df[\"diff_square\"] =  mydata_df[\"diff\"] ** 2\n",
        "mydata_df"
      ],
      "execution_count": null,
      "outputs": [
        {
          "output_type": "execute_result",
          "data": {
            "text/html": [
              "<div>\n",
              "<style scoped>\n",
              "    .dataframe tbody tr th:only-of-type {\n",
              "        vertical-align: middle;\n",
              "    }\n",
              "\n",
              "    .dataframe tbody tr th {\n",
              "        vertical-align: top;\n",
              "    }\n",
              "\n",
              "    .dataframe thead th {\n",
              "        text-align: right;\n",
              "    }\n",
              "</style>\n",
              "<table border=\"1\" class=\"dataframe\">\n",
              "  <thead>\n",
              "    <tr style=\"text-align: right;\">\n",
              "      <th></th>\n",
              "      <th>x</th>\n",
              "      <th>y</th>\n",
              "      <th>preg_y</th>\n",
              "      <th>diff</th>\n",
              "      <th>diff_square</th>\n",
              "    </tr>\n",
              "  </thead>\n",
              "  <tbody>\n",
              "    <tr>\n",
              "      <th>0</th>\n",
              "      <td>0</td>\n",
              "      <td>55</td>\n",
              "      <td>51.345455</td>\n",
              "      <td>3.654545</td>\n",
              "      <td>13.355702</td>\n",
              "    </tr>\n",
              "    <tr>\n",
              "      <th>1</th>\n",
              "      <td>1</td>\n",
              "      <td>42</td>\n",
              "      <td>46.024242</td>\n",
              "      <td>-4.024242</td>\n",
              "      <td>16.194527</td>\n",
              "    </tr>\n",
              "    <tr>\n",
              "      <th>2</th>\n",
              "      <td>2</td>\n",
              "      <td>45</td>\n",
              "      <td>40.703030</td>\n",
              "      <td>4.296970</td>\n",
              "      <td>18.463949</td>\n",
              "    </tr>\n",
              "    <tr>\n",
              "      <th>3</th>\n",
              "      <td>3</td>\n",
              "      <td>35</td>\n",
              "      <td>35.381818</td>\n",
              "      <td>-0.381818</td>\n",
              "      <td>0.145785</td>\n",
              "    </tr>\n",
              "    <tr>\n",
              "      <th>4</th>\n",
              "      <td>4</td>\n",
              "      <td>26</td>\n",
              "      <td>30.060606</td>\n",
              "      <td>-4.060606</td>\n",
              "      <td>16.488522</td>\n",
              "    </tr>\n",
              "    <tr>\n",
              "      <th>5</th>\n",
              "      <td>5</td>\n",
              "      <td>18</td>\n",
              "      <td>24.739394</td>\n",
              "      <td>-6.739394</td>\n",
              "      <td>45.419431</td>\n",
              "    </tr>\n",
              "    <tr>\n",
              "      <th>6</th>\n",
              "      <td>6</td>\n",
              "      <td>24</td>\n",
              "      <td>19.418182</td>\n",
              "      <td>4.581818</td>\n",
              "      <td>20.993058</td>\n",
              "    </tr>\n",
              "    <tr>\n",
              "      <th>7</th>\n",
              "      <td>7</td>\n",
              "      <td>15</td>\n",
              "      <td>14.096970</td>\n",
              "      <td>0.903030</td>\n",
              "      <td>0.815464</td>\n",
              "    </tr>\n",
              "    <tr>\n",
              "      <th>8</th>\n",
              "      <td>8</td>\n",
              "      <td>12</td>\n",
              "      <td>8.775758</td>\n",
              "      <td>3.224242</td>\n",
              "      <td>10.395739</td>\n",
              "    </tr>\n",
              "    <tr>\n",
              "      <th>9</th>\n",
              "      <td>9</td>\n",
              "      <td>2</td>\n",
              "      <td>3.454545</td>\n",
              "      <td>-1.454545</td>\n",
              "      <td>2.115702</td>\n",
              "    </tr>\n",
              "  </tbody>\n",
              "</table>\n",
              "</div>"
            ],
            "text/plain": [
              "   x   y     preg_y      diff  diff_square\n",
              "0  0  55  51.345455  3.654545    13.355702\n",
              "1  1  42  46.024242 -4.024242    16.194527\n",
              "2  2  45  40.703030  4.296970    18.463949\n",
              "3  3  35  35.381818 -0.381818     0.145785\n",
              "4  4  26  30.060606 -4.060606    16.488522\n",
              "5  5  18  24.739394 -6.739394    45.419431\n",
              "6  6  24  19.418182  4.581818    20.993058\n",
              "7  7  15  14.096970  0.903030     0.815464\n",
              "8  8  12   8.775758  3.224242    10.395739\n",
              "9  9   2   3.454545 -1.454545     2.115702"
            ]
          },
          "metadata": {
            "tags": []
          },
          "execution_count": 15
        }
      ]
    },
    {
      "cell_type": "markdown",
      "metadata": {
        "id": "m5SbbRKyOecI"
      },
      "source": [
        "#### 2.8.3 DataFrame(mydata_df) の diff_square 列の平均値（MSE: 平均二乗誤差）を表示してください。"
      ]
    },
    {
      "cell_type": "code",
      "metadata": {
        "colab": {
          "base_uri": "https://localhost:8080/"
        },
        "id": "GodqbxzBGA_w",
        "outputId": "76cc2014-2d6f-4d7f-9627-a2e4592b8c59"
      },
      "source": [
        "mydata_df[\"diff_square\"].mean()\n"
      ],
      "execution_count": null,
      "outputs": [
        {
          "output_type": "execute_result",
          "data": {
            "text/plain": [
              "14.438787878787883"
            ]
          },
          "metadata": {
            "tags": []
          },
          "execution_count": 16
        }
      ]
    },
    {
      "cell_type": "markdown",
      "metadata": {
        "id": "vaf-k0zNPMLH"
      },
      "source": [
        "#### 2.8.4 以下のmean_squared_error関数で同等の結果が得られることを確認してください。"
      ]
    },
    {
      "cell_type": "code",
      "metadata": {
        "colab": {
          "base_uri": "https://localhost:8080/"
        },
        "id": "53nIvo6UGD97",
        "outputId": "fd943fb1-fb3a-4502-f53b-4d2216388757"
      },
      "source": [
        "from sklearn.metrics import mean_squared_error\n",
        "\n",
        "mean_squared_error(mydata_df[[\"y\"]], mydata_df[\"preg_y\"])"
      ],
      "execution_count": null,
      "outputs": [
        {
          "output_type": "execute_result",
          "data": {
            "text/plain": [
              "14.438787878787881"
            ]
          },
          "metadata": {
            "tags": []
          },
          "execution_count": 17
        }
      ]
    },
    {
      "cell_type": "markdown",
      "metadata": {
        "id": "CM81nM_URI0M"
      },
      "source": [
        "## 演習3"
      ]
    },
    {
      "cell_type": "markdown",
      "metadata": {
        "id": "yAD_8rZkY83Q"
      },
      "source": [
        "### 3.1 wgetコマンド以下のURLからでファイル（petal.csv）をダウンロードしてください。\n",
        "\n",
        "```\n",
        "https://gist.githubusercontent.com/murayama333/9822fd2d1c36d771d315c7790be77348/raw/cf1d40553c77841dd341c98f84d50aa9ef6fde96/petal.csv\n",
        "```"
      ]
    },
    {
      "cell_type": "code",
      "metadata": {
        "colab": {
          "base_uri": "https://localhost:8080/"
        },
        "id": "Mx3PrNlJUILZ",
        "outputId": "6f024a6a-b0ee-4583-9847-366e94920017"
      },
      "source": [
        "!wget https://gist.githubusercontent.com/murayama333/9822fd2d1c36d771d315c7790be77348/raw/cf1d40553c77841dd341c98f84d50aa9ef6fde96/petal.csv"
      ],
      "execution_count": null,
      "outputs": [
        {
          "output_type": "stream",
          "text": [
            "--2021-02-15 06:46:32--  https://gist.githubusercontent.com/murayama333/9822fd2d1c36d771d315c7790be77348/raw/cf1d40553c77841dd341c98f84d50aa9ef6fde96/petal.csv\n",
            "Resolving gist.githubusercontent.com (gist.githubusercontent.com)... 185.199.108.133, 185.199.109.133, 185.199.110.133, ...\n",
            "Connecting to gist.githubusercontent.com (gist.githubusercontent.com)|185.199.108.133|:443... connected.\n",
            "HTTP request sent, awaiting response... 200 OK\n",
            "Length: 813 [text/plain]\n",
            "Saving to: ‘petal.csv.2’\n",
            "\n",
            "\rpetal.csv.2           0%[                    ]       0  --.-KB/s               \rpetal.csv.2         100%[===================>]     813  --.-KB/s    in 0s      \n",
            "\n",
            "2021-02-15 06:46:33 (36.9 MB/s) - ‘petal.csv.2’ saved [813/813]\n",
            "\n"
          ],
          "name": "stdout"
        }
      ]
    },
    {
      "cell_type": "markdown",
      "metadata": {
        "id": "6cdWf8arY9jv"
      },
      "source": [
        "### 3.2 pandasのDataFrameで petal.csv を表示してください。\n",
        "\n",
        "> DataFrameを代入する変数名は petal_df とします。"
      ]
    },
    {
      "cell_type": "code",
      "metadata": {
        "colab": {
          "base_uri": "https://localhost:8080/",
          "height": 407
        },
        "id": "9NIJSv--VCP1",
        "outputId": "885d72fd-41ab-449f-a017-5905c5bf9d60"
      },
      "source": [
        "petal_df = pd.read_csv(\"petal.csv\")\n",
        "petal_df"
      ],
      "execution_count": null,
      "outputs": [
        {
          "output_type": "execute_result",
          "data": {
            "text/html": [
              "<div>\n",
              "<style scoped>\n",
              "    .dataframe tbody tr th:only-of-type {\n",
              "        vertical-align: middle;\n",
              "    }\n",
              "\n",
              "    .dataframe tbody tr th {\n",
              "        vertical-align: top;\n",
              "    }\n",
              "\n",
              "    .dataframe thead th {\n",
              "        text-align: right;\n",
              "    }\n",
              "</style>\n",
              "<table border=\"1\" class=\"dataframe\">\n",
              "  <thead>\n",
              "    <tr style=\"text-align: right;\">\n",
              "      <th></th>\n",
              "      <th>length</th>\n",
              "      <th>width</th>\n",
              "    </tr>\n",
              "  </thead>\n",
              "  <tbody>\n",
              "    <tr>\n",
              "      <th>0</th>\n",
              "      <td>4.7</td>\n",
              "      <td>1.4</td>\n",
              "    </tr>\n",
              "    <tr>\n",
              "      <th>1</th>\n",
              "      <td>4.5</td>\n",
              "      <td>1.5</td>\n",
              "    </tr>\n",
              "    <tr>\n",
              "      <th>2</th>\n",
              "      <td>4.9</td>\n",
              "      <td>1.5</td>\n",
              "    </tr>\n",
              "    <tr>\n",
              "      <th>3</th>\n",
              "      <td>4.0</td>\n",
              "      <td>1.3</td>\n",
              "    </tr>\n",
              "    <tr>\n",
              "      <th>4</th>\n",
              "      <td>4.6</td>\n",
              "      <td>1.5</td>\n",
              "    </tr>\n",
              "    <tr>\n",
              "      <th>...</th>\n",
              "      <td>...</td>\n",
              "      <td>...</td>\n",
              "    </tr>\n",
              "    <tr>\n",
              "      <th>95</th>\n",
              "      <td>5.2</td>\n",
              "      <td>2.3</td>\n",
              "    </tr>\n",
              "    <tr>\n",
              "      <th>96</th>\n",
              "      <td>5.0</td>\n",
              "      <td>1.9</td>\n",
              "    </tr>\n",
              "    <tr>\n",
              "      <th>97</th>\n",
              "      <td>5.2</td>\n",
              "      <td>2.0</td>\n",
              "    </tr>\n",
              "    <tr>\n",
              "      <th>98</th>\n",
              "      <td>5.4</td>\n",
              "      <td>2.3</td>\n",
              "    </tr>\n",
              "    <tr>\n",
              "      <th>99</th>\n",
              "      <td>5.1</td>\n",
              "      <td>1.8</td>\n",
              "    </tr>\n",
              "  </tbody>\n",
              "</table>\n",
              "<p>100 rows × 2 columns</p>\n",
              "</div>"
            ],
            "text/plain": [
              "    length  width\n",
              "0      4.7    1.4\n",
              "1      4.5    1.5\n",
              "2      4.9    1.5\n",
              "3      4.0    1.3\n",
              "4      4.6    1.5\n",
              "..     ...    ...\n",
              "95     5.2    2.3\n",
              "96     5.0    1.9\n",
              "97     5.2    2.0\n",
              "98     5.4    2.3\n",
              "99     5.1    1.8\n",
              "\n",
              "[100 rows x 2 columns]"
            ]
          },
          "metadata": {
            "tags": []
          },
          "execution_count": 19
        }
      ]
    },
    {
      "cell_type": "markdown",
      "metadata": {
        "id": "DPGHrmSrcWR9"
      },
      "source": [
        "> petal とは花びらを意味します。 ここでは花びらの縦幅（length） から横幅を推論するプログラムを作成します。"
      ]
    },
    {
      "cell_type": "markdown",
      "metadata": {
        "id": "XKLyUSdAY-Tu"
      },
      "source": [
        "### 3.3 DataFrame（petal_df）の概要を表示してください。"
      ]
    },
    {
      "cell_type": "code",
      "metadata": {
        "colab": {
          "base_uri": "https://localhost:8080/",
          "height": 288
        },
        "id": "uXdualnhVFMe",
        "outputId": "a0c41a8b-882a-41db-defd-e4b7f1b2f972"
      },
      "source": [
        "petal_df.describe()"
      ],
      "execution_count": null,
      "outputs": [
        {
          "output_type": "execute_result",
          "data": {
            "text/html": [
              "<div>\n",
              "<style scoped>\n",
              "    .dataframe tbody tr th:only-of-type {\n",
              "        vertical-align: middle;\n",
              "    }\n",
              "\n",
              "    .dataframe tbody tr th {\n",
              "        vertical-align: top;\n",
              "    }\n",
              "\n",
              "    .dataframe thead th {\n",
              "        text-align: right;\n",
              "    }\n",
              "</style>\n",
              "<table border=\"1\" class=\"dataframe\">\n",
              "  <thead>\n",
              "    <tr style=\"text-align: right;\">\n",
              "      <th></th>\n",
              "      <th>length</th>\n",
              "      <th>width</th>\n",
              "    </tr>\n",
              "  </thead>\n",
              "  <tbody>\n",
              "    <tr>\n",
              "      <th>count</th>\n",
              "      <td>100.000000</td>\n",
              "      <td>100.000000</td>\n",
              "    </tr>\n",
              "    <tr>\n",
              "      <th>mean</th>\n",
              "      <td>4.906000</td>\n",
              "      <td>1.676000</td>\n",
              "    </tr>\n",
              "    <tr>\n",
              "      <th>std</th>\n",
              "      <td>0.825578</td>\n",
              "      <td>0.424769</td>\n",
              "    </tr>\n",
              "    <tr>\n",
              "      <th>min</th>\n",
              "      <td>3.000000</td>\n",
              "      <td>1.000000</td>\n",
              "    </tr>\n",
              "    <tr>\n",
              "      <th>25%</th>\n",
              "      <td>4.375000</td>\n",
              "      <td>1.300000</td>\n",
              "    </tr>\n",
              "    <tr>\n",
              "      <th>50%</th>\n",
              "      <td>4.900000</td>\n",
              "      <td>1.600000</td>\n",
              "    </tr>\n",
              "    <tr>\n",
              "      <th>75%</th>\n",
              "      <td>5.525000</td>\n",
              "      <td>2.000000</td>\n",
              "    </tr>\n",
              "    <tr>\n",
              "      <th>max</th>\n",
              "      <td>6.900000</td>\n",
              "      <td>2.500000</td>\n",
              "    </tr>\n",
              "  </tbody>\n",
              "</table>\n",
              "</div>"
            ],
            "text/plain": [
              "           length       width\n",
              "count  100.000000  100.000000\n",
              "mean     4.906000    1.676000\n",
              "std      0.825578    0.424769\n",
              "min      3.000000    1.000000\n",
              "25%      4.375000    1.300000\n",
              "50%      4.900000    1.600000\n",
              "75%      5.525000    2.000000\n",
              "max      6.900000    2.500000"
            ]
          },
          "metadata": {
            "tags": []
          },
          "execution_count": 20
        }
      ]
    },
    {
      "cell_type": "markdown",
      "metadata": {
        "id": "_cuFpaMsY--B"
      },
      "source": [
        "### 3.4 DataFrame（petal_df）の `length` についてヒストグラムを表示してください。"
      ]
    },
    {
      "cell_type": "code",
      "metadata": {
        "colab": {
          "base_uri": "https://localhost:8080/",
          "height": 282
        },
        "id": "anaOhAVPVOAG",
        "outputId": "0af54c8d-b963-48eb-ccf0-d8f28f864cf5"
      },
      "source": [
        "petal_df[\"length\"].plot.hist()"
      ],
      "execution_count": null,
      "outputs": [
        {
          "output_type": "execute_result",
          "data": {
            "text/plain": [
              "<matplotlib.axes._subplots.AxesSubplot at 0x7f92f5fe6da0>"
            ]
          },
          "metadata": {
            "tags": []
          },
          "execution_count": 21
        },
        {
          "output_type": "display_data",
          "data": {
            "image/png": "[encoded data removed]",
            "text/plain": [
              "<Figure size 432x288 with 1 Axes>"
            ]
          },
          "metadata": {
            "tags": [],
            "needs_background": "light"
          }
        }
      ]
    },
    {
      "cell_type": "markdown",
      "metadata": {
        "id": "L5NqIveCY_li"
      },
      "source": [
        "### 3.5 DataFrame（petal_df）の `width` についてヒストグラムを表示してください。"
      ]
    },
    {
      "cell_type": "code",
      "metadata": {
        "colab": {
          "base_uri": "https://localhost:8080/",
          "height": 282
        },
        "id": "E139-wZ1VRy0",
        "outputId": "b675e2fe-4b44-45f6-bb1f-ffd7310b0133"
      },
      "source": [
        "petal_df[\"width\"].plot.hist()"
      ],
      "execution_count": null,
      "outputs": [
        {
          "output_type": "execute_result",
          "data": {
            "text/plain": [
              "<matplotlib.axes._subplots.AxesSubplot at 0x7f92f5fb9f28>"
            ]
          },
          "metadata": {
            "tags": []
          },
          "execution_count": 22
        },
        {
          "output_type": "display_data",
          "data": {
            "image/png": "[encoded data removed]",
            "text/plain": [
              "<Figure size 432x288 with 1 Axes>"
            ]
          },
          "metadata": {
            "tags": [],
            "needs_background": "light"
          }
        }
      ]
    },
    {
      "cell_type": "markdown",
      "metadata": {
        "id": "4I3z5GpqZAW4"
      },
      "source": [
        "### 3.6 DataFrame（petal_df）の `length` と `width` の散布図を表示してください。"
      ]
    },
    {
      "cell_type": "code",
      "metadata": {
        "colab": {
          "base_uri": "https://localhost:8080/",
          "height": 296
        },
        "id": "vKCZpFpFVZEo",
        "outputId": "f95bd94f-b995-4235-e4d7-2970779afd03"
      },
      "source": [
        "petal_df.plot.scatter(\"length\", \"width\")"
      ],
      "execution_count": null,
      "outputs": [
        {
          "output_type": "execute_result",
          "data": {
            "text/plain": [
              "<matplotlib.axes._subplots.AxesSubplot at 0x7f92f5451c88>"
            ]
          },
          "metadata": {
            "tags": []
          },
          "execution_count": 23
        },
        {
          "output_type": "display_data",
          "data": {
            "image/png": "[encoded data removed]",
            "text/plain": [
              "<Figure size 432x288 with 1 Axes>"
            ]
          },
          "metadata": {
            "tags": [],
            "needs_background": "light"
          }
        }
      ]
    },
    {
      "cell_type": "markdown",
      "metadata": {
        "id": "GEL6HOxDZBBC"
      },
      "source": [
        "### 3.6 DataFrame（petal_df）の `length` と `width` について相関係数を表示してください。"
      ]
    },
    {
      "cell_type": "code",
      "metadata": {
        "colab": {
          "base_uri": "https://localhost:8080/",
          "height": 108
        },
        "id": "Iyrl8c1BVIgb",
        "outputId": "f25b2417-16ca-47ba-f75c-49fd1c27e3cd"
      },
      "source": [
        "petal_df.corr()"
      ],
      "execution_count": null,
      "outputs": [
        {
          "output_type": "execute_result",
          "data": {
            "text/html": [
              "<div>\n",
              "<style scoped>\n",
              "    .dataframe tbody tr th:only-of-type {\n",
              "        vertical-align: middle;\n",
              "    }\n",
              "\n",
              "    .dataframe tbody tr th {\n",
              "        vertical-align: top;\n",
              "    }\n",
              "\n",
              "    .dataframe thead th {\n",
              "        text-align: right;\n",
              "    }\n",
              "</style>\n",
              "<table border=\"1\" class=\"dataframe\">\n",
              "  <thead>\n",
              "    <tr style=\"text-align: right;\">\n",
              "      <th></th>\n",
              "      <th>length</th>\n",
              "      <th>width</th>\n",
              "    </tr>\n",
              "  </thead>\n",
              "  <tbody>\n",
              "    <tr>\n",
              "      <th>length</th>\n",
              "      <td>1.000000</td>\n",
              "      <td>0.823348</td>\n",
              "    </tr>\n",
              "    <tr>\n",
              "      <th>width</th>\n",
              "      <td>0.823348</td>\n",
              "      <td>1.000000</td>\n",
              "    </tr>\n",
              "  </tbody>\n",
              "</table>\n",
              "</div>"
            ],
            "text/plain": [
              "          length     width\n",
              "length  1.000000  0.823348\n",
              "width   0.823348  1.000000"
            ]
          },
          "metadata": {
            "tags": []
          },
          "execution_count": 24
        }
      ]
    },
    {
      "cell_type": "markdown",
      "metadata": {
        "id": "y7kyRl9qZBXX"
      },
      "source": [
        "### 3.7 `width` を目的変数、`length` を説明変数として線形回帰によって分析し、係数と切片を表示してください。"
      ]
    },
    {
      "cell_type": "code",
      "metadata": {
        "colab": {
          "base_uri": "https://localhost:8080/"
        },
        "id": "7LI9qV68Vge6",
        "outputId": "ea162c9f-f3c2-4169-9992-3569a62540be"
      },
      "source": [
        "from sklearn.linear_model import LinearRegression\n",
        "\n",
        "reg = LinearRegression()\n",
        "reg.fit(petal_df[[\"length\"]], petal_df[\"width\"])\n",
        "\n",
        "print(\"coef_:\", reg.coef_)\n",
        "print(\"intercept_:\", reg.intercept_)"
      ],
      "execution_count": null,
      "outputs": [
        {
          "output_type": "stream",
          "text": [
            "coef_: [0.4236207]\n",
            "intercept_: -0.40228316863377334\n"
          ],
          "name": "stdout"
        }
      ]
    },
    {
      "cell_type": "markdown",
      "metadata": {
        "id": "OFigorVHZCTZ"
      },
      "source": [
        "### 3.8 DataFrame（petal_df）の散布図に回帰式を表示してください。"
      ]
    },
    {
      "cell_type": "code",
      "metadata": {
        "colab": {
          "base_uri": "https://localhost:8080/",
          "height": 296
        },
        "id": "ILgm1n1KVw9m",
        "outputId": "5a15e133-2c49-4ef9-ca9b-d8d560f8211e"
      },
      "source": [
        "x = np.arange(petal_df[\"length\"].min(), petal_df[\"length\"].max() + 0.1, 0.1).reshape(-1, 1)\n",
        "ax = petal_df.plot.scatter(\"length\", \"width\")\n",
        "ax.plot(x, reg.predict(x))"
      ],
      "execution_count": null,
      "outputs": [
        {
          "output_type": "execute_result",
          "data": {
            "text/plain": [
              "[<matplotlib.lines.Line2D at 0x7f92f540af98>]"
            ]
          },
          "metadata": {
            "tags": []
          },
          "execution_count": 26
        },
        {
          "output_type": "display_data",
          "data": {
            "image/png": "[encoded data removed]",
            "text/plain": [
              "<Figure size 432x288 with 1 Axes>"
            ]
          },
          "metadata": {
            "tags": [],
            "needs_background": "light"
          }
        }
      ]
    },
    {
      "cell_type": "markdown",
      "metadata": {
        "id": "pfUFvegsZDRF"
      },
      "source": [
        "### 3.9 DataFrame（petal_df）のデータを訓練データ70件、テストデータ30件に分割してください。"
      ]
    },
    {
      "cell_type": "code",
      "metadata": {
        "colab": {
          "base_uri": "https://localhost:8080/"
        },
        "id": "sGYeMeP1Wgbs",
        "outputId": "8e57208f-1f90-4fb5-b02e-9ca5ed7cad3d"
      },
      "source": [
        "from sklearn.model_selection import train_test_split\n",
        "\n",
        "x_train, x_test, y_train, y_test = train_test_split(petal_df[\"length\"].values, petal_df[\"width\"].values, train_size=0.7, random_state=3)\n",
        "\n",
        "print(x_train.shape)\n",
        "print(x_test.shape)\n",
        "print(y_train.shape)\n",
        "print(y_test.shape)"
      ],
      "execution_count": null,
      "outputs": [
        {
          "output_type": "stream",
          "text": [
            "(70,)\n",
            "(30,)\n",
            "(70,)\n",
            "(30,)\n"
          ],
          "name": "stdout"
        }
      ]
    },
    {
      "cell_type": "markdown",
      "metadata": {
        "id": "RndhooLNZDnH"
      },
      "source": [
        "### 3.10 DataFrame（petal_df）の訓練データで学習して、係数と切片を表示してください。\n",
        "> width を目的変数、length を説明変数として線形回帰によって分析します。"
      ]
    },
    {
      "cell_type": "code",
      "metadata": {
        "colab": {
          "base_uri": "https://localhost:8080/"
        },
        "id": "injKbEj1W6MQ",
        "outputId": "bae0f801-3503-4f1a-fb70-43e65635e815"
      },
      "source": [
        "from sklearn.linear_model import LinearRegression\n",
        "\n",
        "reg = LinearRegression()\n",
        "reg.fit(x_train.reshape(-1, 1), y_train)\n",
        "\n",
        "print(reg.coef_)\n",
        "print(reg.intercept_)"
      ],
      "execution_count": null,
      "outputs": [
        {
          "output_type": "stream",
          "text": [
            "[0.39082918]\n",
            "-0.2579357541822549\n"
          ],
          "name": "stdout"
        }
      ]
    },
    {
      "cell_type": "markdown",
      "metadata": {
        "id": "pbAkKZD1ZEVa"
      },
      "source": [
        "### 3.11 学習済みモデルについて、訓練データとテストデータの決定係数をそれぞれ表示してください。\n"
      ]
    },
    {
      "cell_type": "code",
      "metadata": {
        "colab": {
          "base_uri": "https://localhost:8080/"
        },
        "id": "ZelBMwXDXS_h",
        "outputId": "27e7b754-b11f-4770-ec52-b662874fa671"
      },
      "source": [
        "print(\"score - train:\", reg.score(x_train.reshape(-1, 1), y_train))\n",
        "print(\"score - tet:\", reg.score(x_test.reshape(-1, 1), y_test))"
      ],
      "execution_count": null,
      "outputs": [
        {
          "output_type": "stream",
          "text": [
            "score - train: 0.7107455156123341\n",
            "score - tet: 0.5942306119945272\n"
          ],
          "name": "stdout"
        }
      ]
    }
  ]
}