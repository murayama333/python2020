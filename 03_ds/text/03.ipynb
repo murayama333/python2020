{
  "nbformat": 4,
  "nbformat_minor": 0,
  "metadata": {
    "colab": {
      "name": "pandas_text1.ipynb",
      "provenance": []
    },
    "kernelspec": {
      "name": "python3",
      "display_name": "Python 3"
    }
  },
  "cells": [
    {
      "cell_type": "markdown",
      "metadata": {
        "id": "NTCTAnryZ0Oj"
      },
      "source": [
        "# pandas - part1 - DataFrameとSeries\n",
        "\n",
        "* `import pandas as pd` を記述してpandasをインポートする\n",
        "* `pd.DataFrame`関数によってDataFrame（表データ）を作成する\n",
        "* `pd.Series`関数によってSeries（列データなどの一連のデータ）を作成する\n",
        "\n",
        "> pandasではExcelのような１つの表データをDataFrameと呼びます。DataFrameを構成する１つの列データをSeriesと呼びます。"
      ]
    },
    {
      "cell_type": "markdown",
      "metadata": {
        "id": "IyUUVvJQq4e1"
      },
      "source": [
        "## DataFrame"
      ]
    },
    {
      "cell_type": "code",
      "metadata": {
        "colab": {
          "base_uri": "https://localhost:8080/",
          "height": 173
        },
        "id": "fY9MzmbUxQR8",
        "outputId": "e2219f7c-f1b9-420d-8f7a-ac3761f58be4"
      },
      "source": [
        "import pandas as pd\n",
        "\n",
        "data = {\"id\": [1, 2, 3, 4], \n",
        "        \"title\": [\"Python Book\", \"HTML Book\", \"PHP Book\", \"Hello English\"], \n",
        "        \"price\": [3000, 1000, 2000, 2000], \n",
        "        \"category\": [\"Programming\", \"Programming\", \"Programming\", \"English\"]}\n",
        "df = pd.DataFrame(data)\n",
        "df"
      ],
      "execution_count": 45,
      "outputs": [
        {
          "output_type": "execute_result",
          "data": {
            "text/html": [
              "<div>\n",
              "<style scoped>\n",
              "    .dataframe tbody tr th:only-of-type {\n",
              "        vertical-align: middle;\n",
              "    }\n",
              "\n",
              "    .dataframe tbody tr th {\n",
              "        vertical-align: top;\n",
              "    }\n",
              "\n",
              "    .dataframe thead th {\n",
              "        text-align: right;\n",
              "    }\n",
              "</style>\n",
              "<table border=\"1\" class=\"dataframe\">\n",
              "  <thead>\n",
              "    <tr style=\"text-align: right;\">\n",
              "      <th></th>\n",
              "      <th>id</th>\n",
              "      <th>title</th>\n",
              "      <th>price</th>\n",
              "      <th>category</th>\n",
              "    </tr>\n",
              "  </thead>\n",
              "  <tbody>\n",
              "    <tr>\n",
              "      <th>0</th>\n",
              "      <td>1</td>\n",
              "      <td>Python Book</td>\n",
              "      <td>3000</td>\n",
              "      <td>Programming</td>\n",
              "    </tr>\n",
              "    <tr>\n",
              "      <th>1</th>\n",
              "      <td>2</td>\n",
              "      <td>HTML Book</td>\n",
              "      <td>1000</td>\n",
              "      <td>Programming</td>\n",
              "    </tr>\n",
              "    <tr>\n",
              "      <th>2</th>\n",
              "      <td>3</td>\n",
              "      <td>PHP Book</td>\n",
              "      <td>2000</td>\n",
              "      <td>Programming</td>\n",
              "    </tr>\n",
              "    <tr>\n",
              "      <th>3</th>\n",
              "      <td>4</td>\n",
              "      <td>Hello English</td>\n",
              "      <td>2000</td>\n",
              "      <td>English</td>\n",
              "    </tr>\n",
              "  </tbody>\n",
              "</table>\n",
              "</div>"
            ],
            "text/plain": [
              "   id          title  price     category\n",
              "0   1    Python Book   3000  Programming\n",
              "1   2      HTML Book   1000  Programming\n",
              "2   3       PHP Book   2000  Programming\n",
              "3   4  Hello English   2000      English"
            ]
          },
          "metadata": {
            "tags": []
          },
          "execution_count": 45
        }
      ]
    },
    {
      "cell_type": "markdown",
      "metadata": {
        "id": "inFDJGq2oo4-"
      },
      "source": [
        "* `pd.DataFrame` の引数にディクショナリデータを渡すことでDataFrameを生成できる\n",
        "* Jupyter Notebook（Google Cloab）上でCellの最終行においてDataFrameを返すと表を表示できる"
      ]
    },
    {
      "cell_type": "code",
      "metadata": {
        "colab": {
          "base_uri": "https://localhost:8080/"
        },
        "id": "l7W6U1SZpjvi",
        "outputId": "b731e785-b838-4a52-91d2-9f3ae391e57e"
      },
      "source": [
        "df.count()"
      ],
      "execution_count": 46,
      "outputs": [
        {
          "output_type": "execute_result",
          "data": {
            "text/plain": [
              "id          4\n",
              "title       4\n",
              "price       4\n",
              "category    4\n",
              "dtype: int64"
            ]
          },
          "metadata": {
            "tags": []
          },
          "execution_count": 46
        }
      ]
    },
    {
      "cell_type": "code",
      "metadata": {
        "colab": {
          "base_uri": "https://localhost:8080/"
        },
        "id": "k54gg3yTpnhn",
        "outputId": "bb04b709-8882-4a21-c098-50192483ede0"
      },
      "source": [
        " df.max()"
      ],
      "execution_count": 47,
      "outputs": [
        {
          "output_type": "execute_result",
          "data": {
            "text/plain": [
              "id                    4\n",
              "title       Python Book\n",
              "price              3000\n",
              "category    Programming\n",
              "dtype: object"
            ]
          },
          "metadata": {
            "tags": []
          },
          "execution_count": 47
        }
      ]
    },
    {
      "cell_type": "code",
      "metadata": {
        "colab": {
          "base_uri": "https://localhost:8080/",
          "height": 297
        },
        "id": "63XB4U8v0fn7",
        "outputId": "e8c193cb-74c2-4d95-aded-c46944677b61"
      },
      "source": [
        "df.describe()"
      ],
      "execution_count": 48,
      "outputs": [
        {
          "output_type": "execute_result",
          "data": {
            "text/html": [
              "<div>\n",
              "<style scoped>\n",
              "    .dataframe tbody tr th:only-of-type {\n",
              "        vertical-align: middle;\n",
              "    }\n",
              "\n",
              "    .dataframe tbody tr th {\n",
              "        vertical-align: top;\n",
              "    }\n",
              "\n",
              "    .dataframe thead th {\n",
              "        text-align: right;\n",
              "    }\n",
              "</style>\n",
              "<table border=\"1\" class=\"dataframe\">\n",
              "  <thead>\n",
              "    <tr style=\"text-align: right;\">\n",
              "      <th></th>\n",
              "      <th>id</th>\n",
              "      <th>price</th>\n",
              "    </tr>\n",
              "  </thead>\n",
              "  <tbody>\n",
              "    <tr>\n",
              "      <th>count</th>\n",
              "      <td>4.000000</td>\n",
              "      <td>4.000000</td>\n",
              "    </tr>\n",
              "    <tr>\n",
              "      <th>mean</th>\n",
              "      <td>2.500000</td>\n",
              "      <td>2000.000000</td>\n",
              "    </tr>\n",
              "    <tr>\n",
              "      <th>std</th>\n",
              "      <td>1.290994</td>\n",
              "      <td>816.496581</td>\n",
              "    </tr>\n",
              "    <tr>\n",
              "      <th>min</th>\n",
              "      <td>1.000000</td>\n",
              "      <td>1000.000000</td>\n",
              "    </tr>\n",
              "    <tr>\n",
              "      <th>25%</th>\n",
              "      <td>1.750000</td>\n",
              "      <td>1750.000000</td>\n",
              "    </tr>\n",
              "    <tr>\n",
              "      <th>50%</th>\n",
              "      <td>2.500000</td>\n",
              "      <td>2000.000000</td>\n",
              "    </tr>\n",
              "    <tr>\n",
              "      <th>75%</th>\n",
              "      <td>3.250000</td>\n",
              "      <td>2250.000000</td>\n",
              "    </tr>\n",
              "    <tr>\n",
              "      <th>max</th>\n",
              "      <td>4.000000</td>\n",
              "      <td>3000.000000</td>\n",
              "    </tr>\n",
              "  </tbody>\n",
              "</table>\n",
              "</div>"
            ],
            "text/plain": [
              "             id        price\n",
              "count  4.000000     4.000000\n",
              "mean   2.500000  2000.000000\n",
              "std    1.290994   816.496581\n",
              "min    1.000000  1000.000000\n",
              "25%    1.750000  1750.000000\n",
              "50%    2.500000  2000.000000\n",
              "75%    3.250000  2250.000000\n",
              "max    4.000000  3000.000000"
            ]
          },
          "metadata": {
            "tags": []
          },
          "execution_count": 48
        }
      ]
    },
    {
      "cell_type": "markdown",
      "metadata": {
        "id": "0Aksd7kxqI10"
      },
      "source": [
        "* `DataFrame` には `count`関数や、`max`関数などデータを要約する関数が用意されている\n",
        "* `DataFrame` の `describe` 関数によって件数、最大値、標準偏差、最小値、パーセンタイル、最大値を表示できる\n",
        "\n",
        "> データを眺めるときは、一つひとつの細かな部分に注目する前に、データの傾向や全体像を確認するようにします。"
      ]
    },
    {
      "cell_type": "markdown",
      "metadata": {
        "id": "gocCkaERq8l3"
      },
      "source": [
        "## DataFrameとSeries"
      ]
    },
    {
      "cell_type": "code",
      "metadata": {
        "colab": {
          "base_uri": "https://localhost:8080/"
        },
        "id": "cNh5f0E-0W_d",
        "outputId": "d7d11fd1-822f-481e-ce05-87f67f6327a4"
      },
      "source": [
        "s = df[\"price\"]\n",
        "s"
      ],
      "execution_count": 49,
      "outputs": [
        {
          "output_type": "execute_result",
          "data": {
            "text/plain": [
              "0    3000\n",
              "1    1000\n",
              "2    2000\n",
              "3    2000\n",
              "Name: price, dtype: int64"
            ]
          },
          "metadata": {
            "tags": []
          },
          "execution_count": 49
        }
      ]
    },
    {
      "cell_type": "code",
      "metadata": {
        "colab": {
          "base_uri": "https://localhost:8080/"
        },
        "id": "zzQ5FC6izCNQ",
        "outputId": "e2d3fb5b-be9c-427c-9972-a4d98d1e388e"
      },
      "source": [
        "s.sum()"
      ],
      "execution_count": 50,
      "outputs": [
        {
          "output_type": "execute_result",
          "data": {
            "text/plain": [
              "8000"
            ]
          },
          "metadata": {
            "tags": []
          },
          "execution_count": 50
        }
      ]
    },
    {
      "cell_type": "code",
      "metadata": {
        "colab": {
          "base_uri": "https://localhost:8080/"
        },
        "id": "mvX_m11WzFjk",
        "outputId": "188e2035-b8d8-43f5-da4e-7cf9e21f7722"
      },
      "source": [
        "s.describe()"
      ],
      "execution_count": 51,
      "outputs": [
        {
          "output_type": "execute_result",
          "data": {
            "text/plain": [
              "count       4.000000\n",
              "mean     2000.000000\n",
              "std       816.496581\n",
              "min      1000.000000\n",
              "25%      1750.000000\n",
              "50%      2000.000000\n",
              "75%      2250.000000\n",
              "max      3000.000000\n",
              "Name: price, dtype: float64"
            ]
          },
          "metadata": {
            "tags": []
          },
          "execution_count": 51
        }
      ]
    },
    {
      "cell_type": "markdown",
      "metadata": {
        "id": "2DC5zUo2pNMX"
      },
      "source": [
        "* `DataFrame` に対してキーを指定して列データ（ `Series` ）にアクセスできる\n",
        "* `Series` も `DataFrame` と同様に様々な関数が用意されている"
      ]
    },
    {
      "cell_type": "code",
      "metadata": {
        "colab": {
          "base_uri": "https://localhost:8080/"
        },
        "id": "xC7cTFWl0GBW",
        "outputId": "3b9be8b4-ee87-4847-d670-b5d27be1cea3"
      },
      "source": [
        "taxes = [300, 100, 200, 200]\n",
        "s = pd.Series(taxes, name=\"tax\")\n",
        "s"
      ],
      "execution_count": 52,
      "outputs": [
        {
          "output_type": "execute_result",
          "data": {
            "text/plain": [
              "0    300\n",
              "1    100\n",
              "2    200\n",
              "3    200\n",
              "Name: tax, dtype: int64"
            ]
          },
          "metadata": {
            "tags": []
          },
          "execution_count": 52
        }
      ]
    },
    {
      "cell_type": "markdown",
      "metadata": {
        "id": "kpmdN6FdrFXu"
      },
      "source": [
        "* `pd.Series` によって列データを生成できる"
      ]
    },
    {
      "cell_type": "code",
      "metadata": {
        "colab": {
          "base_uri": "https://localhost:8080/",
          "height": 173
        },
        "id": "PoFigf5erKqI",
        "outputId": "002ca0c2-15fa-48b5-9f28-7c95e82a4c6a"
      },
      "source": [
        "df[\"tax\"] = s\n",
        "df"
      ],
      "execution_count": 53,
      "outputs": [
        {
          "output_type": "execute_result",
          "data": {
            "text/html": [
              "<div>\n",
              "<style scoped>\n",
              "    .dataframe tbody tr th:only-of-type {\n",
              "        vertical-align: middle;\n",
              "    }\n",
              "\n",
              "    .dataframe tbody tr th {\n",
              "        vertical-align: top;\n",
              "    }\n",
              "\n",
              "    .dataframe thead th {\n",
              "        text-align: right;\n",
              "    }\n",
              "</style>\n",
              "<table border=\"1\" class=\"dataframe\">\n",
              "  <thead>\n",
              "    <tr style=\"text-align: right;\">\n",
              "      <th></th>\n",
              "      <th>id</th>\n",
              "      <th>title</th>\n",
              "      <th>price</th>\n",
              "      <th>category</th>\n",
              "      <th>tax</th>\n",
              "    </tr>\n",
              "  </thead>\n",
              "  <tbody>\n",
              "    <tr>\n",
              "      <th>0</th>\n",
              "      <td>1</td>\n",
              "      <td>Python Book</td>\n",
              "      <td>3000</td>\n",
              "      <td>Programming</td>\n",
              "      <td>300</td>\n",
              "    </tr>\n",
              "    <tr>\n",
              "      <th>1</th>\n",
              "      <td>2</td>\n",
              "      <td>HTML Book</td>\n",
              "      <td>1000</td>\n",
              "      <td>Programming</td>\n",
              "      <td>100</td>\n",
              "    </tr>\n",
              "    <tr>\n",
              "      <th>2</th>\n",
              "      <td>3</td>\n",
              "      <td>PHP Book</td>\n",
              "      <td>2000</td>\n",
              "      <td>Programming</td>\n",
              "      <td>200</td>\n",
              "    </tr>\n",
              "    <tr>\n",
              "      <th>3</th>\n",
              "      <td>4</td>\n",
              "      <td>Hello English</td>\n",
              "      <td>2000</td>\n",
              "      <td>English</td>\n",
              "      <td>200</td>\n",
              "    </tr>\n",
              "  </tbody>\n",
              "</table>\n",
              "</div>"
            ],
            "text/plain": [
              "   id          title  price     category  tax\n",
              "0   1    Python Book   3000  Programming  300\n",
              "1   2      HTML Book   1000  Programming  100\n",
              "2   3       PHP Book   2000  Programming  200\n",
              "3   4  Hello English   2000      English  200"
            ]
          },
          "metadata": {
            "tags": []
          },
          "execution_count": 53
        }
      ]
    },
    {
      "cell_type": "markdown",
      "metadata": {
        "id": "4AyAUKwayaZ1"
      },
      "source": [
        "* DataFrameに`Series`を追加できる\n",
        "\n",
        "> DataFrameには `Series`以外にもスカラー値やリスト、NumPy配列なども追加できます。"
      ]
    },
    {
      "cell_type": "code",
      "metadata": {
        "colab": {
          "base_uri": "https://localhost:8080/",
          "height": 173
        },
        "id": "OYd6hqvPr9TS",
        "outputId": "c6772846-38ce-4b7a-eccd-db41ec57fb67"
      },
      "source": [
        "df[\"price_with_tax\"] = df[\"price\"] + df[\"tax\"]\n",
        "df"
      ],
      "execution_count": 54,
      "outputs": [
        {
          "output_type": "execute_result",
          "data": {
            "text/html": [
              "<div>\n",
              "<style scoped>\n",
              "    .dataframe tbody tr th:only-of-type {\n",
              "        vertical-align: middle;\n",
              "    }\n",
              "\n",
              "    .dataframe tbody tr th {\n",
              "        vertical-align: top;\n",
              "    }\n",
              "\n",
              "    .dataframe thead th {\n",
              "        text-align: right;\n",
              "    }\n",
              "</style>\n",
              "<table border=\"1\" class=\"dataframe\">\n",
              "  <thead>\n",
              "    <tr style=\"text-align: right;\">\n",
              "      <th></th>\n",
              "      <th>id</th>\n",
              "      <th>title</th>\n",
              "      <th>price</th>\n",
              "      <th>category</th>\n",
              "      <th>tax</th>\n",
              "      <th>price_with_tax</th>\n",
              "    </tr>\n",
              "  </thead>\n",
              "  <tbody>\n",
              "    <tr>\n",
              "      <th>0</th>\n",
              "      <td>1</td>\n",
              "      <td>Python Book</td>\n",
              "      <td>3000</td>\n",
              "      <td>Programming</td>\n",
              "      <td>300</td>\n",
              "      <td>3300</td>\n",
              "    </tr>\n",
              "    <tr>\n",
              "      <th>1</th>\n",
              "      <td>2</td>\n",
              "      <td>HTML Book</td>\n",
              "      <td>1000</td>\n",
              "      <td>Programming</td>\n",
              "      <td>100</td>\n",
              "      <td>1100</td>\n",
              "    </tr>\n",
              "    <tr>\n",
              "      <th>2</th>\n",
              "      <td>3</td>\n",
              "      <td>PHP Book</td>\n",
              "      <td>2000</td>\n",
              "      <td>Programming</td>\n",
              "      <td>200</td>\n",
              "      <td>2200</td>\n",
              "    </tr>\n",
              "    <tr>\n",
              "      <th>3</th>\n",
              "      <td>4</td>\n",
              "      <td>Hello English</td>\n",
              "      <td>2000</td>\n",
              "      <td>English</td>\n",
              "      <td>200</td>\n",
              "      <td>2200</td>\n",
              "    </tr>\n",
              "  </tbody>\n",
              "</table>\n",
              "</div>"
            ],
            "text/plain": [
              "   id          title  price     category  tax  price_with_tax\n",
              "0   1    Python Book   3000  Programming  300            3300\n",
              "1   2      HTML Book   1000  Programming  100            1100\n",
              "2   3       PHP Book   2000  Programming  200            2200\n",
              "3   4  Hello English   2000      English  200            2200"
            ]
          },
          "metadata": {
            "tags": []
          },
          "execution_count": 54
        }
      ]
    },
    {
      "cell_type": "markdown",
      "metadata": {
        "id": "UwFKcvgCzgZw"
      },
      "source": [
        "* 既存の`DataFrame` （ `Series` ）から新たな`Series`を追加できる"
      ]
    },
    {
      "cell_type": "code",
      "metadata": {
        "colab": {
          "base_uri": "https://localhost:8080/",
          "height": 173
        },
        "id": "EVv3hIFzyUXV",
        "outputId": "2e77864a-eb46-4892-a660-fdc9951668f5"
      },
      "source": [
        "df[[\"id\", \"title\"]]"
      ],
      "execution_count": 55,
      "outputs": [
        {
          "output_type": "execute_result",
          "data": {
            "text/html": [
              "<div>\n",
              "<style scoped>\n",
              "    .dataframe tbody tr th:only-of-type {\n",
              "        vertical-align: middle;\n",
              "    }\n",
              "\n",
              "    .dataframe tbody tr th {\n",
              "        vertical-align: top;\n",
              "    }\n",
              "\n",
              "    .dataframe thead th {\n",
              "        text-align: right;\n",
              "    }\n",
              "</style>\n",
              "<table border=\"1\" class=\"dataframe\">\n",
              "  <thead>\n",
              "    <tr style=\"text-align: right;\">\n",
              "      <th></th>\n",
              "      <th>id</th>\n",
              "      <th>title</th>\n",
              "    </tr>\n",
              "  </thead>\n",
              "  <tbody>\n",
              "    <tr>\n",
              "      <th>0</th>\n",
              "      <td>1</td>\n",
              "      <td>Python Book</td>\n",
              "    </tr>\n",
              "    <tr>\n",
              "      <th>1</th>\n",
              "      <td>2</td>\n",
              "      <td>HTML Book</td>\n",
              "    </tr>\n",
              "    <tr>\n",
              "      <th>2</th>\n",
              "      <td>3</td>\n",
              "      <td>PHP Book</td>\n",
              "    </tr>\n",
              "    <tr>\n",
              "      <th>3</th>\n",
              "      <td>4</td>\n",
              "      <td>Hello English</td>\n",
              "    </tr>\n",
              "  </tbody>\n",
              "</table>\n",
              "</div>"
            ],
            "text/plain": [
              "   id          title\n",
              "0   1    Python Book\n",
              "1   2      HTML Book\n",
              "2   3       PHP Book\n",
              "3   4  Hello English"
            ]
          },
          "metadata": {
            "tags": []
          },
          "execution_count": 55
        }
      ]
    },
    {
      "cell_type": "markdown",
      "metadata": {
        "id": "FpPt_xojyyFh"
      },
      "source": [
        "* `DataFrame` に複数のキーを指定して新たな`DataFrame`を作成できる\n",
        "\n",
        "> 結果が `Series` ではなく `DataFeame` となる点に注意します。"
      ]
    },
    {
      "cell_type": "markdown",
      "metadata": {
        "id": "WuD4qwQp0ue_"
      },
      "source": [
        "## インデックス"
      ]
    },
    {
      "cell_type": "code",
      "metadata": {
        "colab": {
          "base_uri": "https://localhost:8080/",
          "height": 142
        },
        "id": "gn_dYEOZ0MKk",
        "outputId": "0417251b-6fde-4b1b-edaa-0c8eb59e1ae3"
      },
      "source": [
        "data = {\"id\": [1, 2, 3], \"title\": [\"Python Book\", \"HTML Book\", \"PHP Book\"], \"price\": [3000, 1000, 2000]}\n",
        "df = pd.DataFrame(data)\n",
        "df"
      ],
      "execution_count": 56,
      "outputs": [
        {
          "output_type": "execute_result",
          "data": {
            "text/html": [
              "<div>\n",
              "<style scoped>\n",
              "    .dataframe tbody tr th:only-of-type {\n",
              "        vertical-align: middle;\n",
              "    }\n",
              "\n",
              "    .dataframe tbody tr th {\n",
              "        vertical-align: top;\n",
              "    }\n",
              "\n",
              "    .dataframe thead th {\n",
              "        text-align: right;\n",
              "    }\n",
              "</style>\n",
              "<table border=\"1\" class=\"dataframe\">\n",
              "  <thead>\n",
              "    <tr style=\"text-align: right;\">\n",
              "      <th></th>\n",
              "      <th>id</th>\n",
              "      <th>title</th>\n",
              "      <th>price</th>\n",
              "    </tr>\n",
              "  </thead>\n",
              "  <tbody>\n",
              "    <tr>\n",
              "      <th>0</th>\n",
              "      <td>1</td>\n",
              "      <td>Python Book</td>\n",
              "      <td>3000</td>\n",
              "    </tr>\n",
              "    <tr>\n",
              "      <th>1</th>\n",
              "      <td>2</td>\n",
              "      <td>HTML Book</td>\n",
              "      <td>1000</td>\n",
              "    </tr>\n",
              "    <tr>\n",
              "      <th>2</th>\n",
              "      <td>3</td>\n",
              "      <td>PHP Book</td>\n",
              "      <td>2000</td>\n",
              "    </tr>\n",
              "  </tbody>\n",
              "</table>\n",
              "</div>"
            ],
            "text/plain": [
              "   id        title  price\n",
              "0   1  Python Book   3000\n",
              "1   2    HTML Book   1000\n",
              "2   3     PHP Book   2000"
            ]
          },
          "metadata": {
            "tags": []
          },
          "execution_count": 56
        }
      ]
    },
    {
      "cell_type": "code",
      "metadata": {
        "colab": {
          "base_uri": "https://localhost:8080/"
        },
        "id": "CnZs_Q-H1FUf",
        "outputId": "07f38cda-4e14-4579-cb91-5db739ff3e29"
      },
      "source": [
        "df.index"
      ],
      "execution_count": 57,
      "outputs": [
        {
          "output_type": "execute_result",
          "data": {
            "text/plain": [
              "RangeIndex(start=0, stop=3, step=1)"
            ]
          },
          "metadata": {
            "tags": []
          },
          "execution_count": 57
        }
      ]
    },
    {
      "cell_type": "code",
      "metadata": {
        "colab": {
          "base_uri": "https://localhost:8080/"
        },
        "id": "7skgghp61PxZ",
        "outputId": "ac938df3-6d9e-4a97-b80b-cf15b685da95"
      },
      "source": [
        "df.index == 1"
      ],
      "execution_count": 58,
      "outputs": [
        {
          "output_type": "execute_result",
          "data": {
            "text/plain": [
              "array([False,  True, False])"
            ]
          },
          "metadata": {
            "tags": []
          },
          "execution_count": 58
        }
      ]
    },
    {
      "cell_type": "code",
      "metadata": {
        "colab": {
          "base_uri": "https://localhost:8080/",
          "height": 80
        },
        "id": "KqfifBvY1SbD",
        "outputId": "a476d233-f91d-49ff-938f-bc747b67c095"
      },
      "source": [
        "df[df.index == 1]"
      ],
      "execution_count": 59,
      "outputs": [
        {
          "output_type": "execute_result",
          "data": {
            "text/html": [
              "<div>\n",
              "<style scoped>\n",
              "    .dataframe tbody tr th:only-of-type {\n",
              "        vertical-align: middle;\n",
              "    }\n",
              "\n",
              "    .dataframe tbody tr th {\n",
              "        vertical-align: top;\n",
              "    }\n",
              "\n",
              "    .dataframe thead th {\n",
              "        text-align: right;\n",
              "    }\n",
              "</style>\n",
              "<table border=\"1\" class=\"dataframe\">\n",
              "  <thead>\n",
              "    <tr style=\"text-align: right;\">\n",
              "      <th></th>\n",
              "      <th>id</th>\n",
              "      <th>title</th>\n",
              "      <th>price</th>\n",
              "    </tr>\n",
              "  </thead>\n",
              "  <tbody>\n",
              "    <tr>\n",
              "      <th>1</th>\n",
              "      <td>2</td>\n",
              "      <td>HTML Book</td>\n",
              "      <td>1000</td>\n",
              "    </tr>\n",
              "  </tbody>\n",
              "</table>\n",
              "</div>"
            ],
            "text/plain": [
              "   id      title  price\n",
              "1   2  HTML Book   1000"
            ]
          },
          "metadata": {
            "tags": []
          },
          "execution_count": 59
        }
      ]
    },
    {
      "cell_type": "code",
      "metadata": {
        "colab": {
          "base_uri": "https://localhost:8080/"
        },
        "id": "6oYB-9NX40IW",
        "outputId": "3542d0c0-912a-46df-8a80-46e56f3f4890"
      },
      "source": [
        "df.iloc[1]"
      ],
      "execution_count": 60,
      "outputs": [
        {
          "output_type": "execute_result",
          "data": {
            "text/plain": [
              "id               2\n",
              "title    HTML Book\n",
              "price         1000\n",
              "Name: 1, dtype: object"
            ]
          },
          "metadata": {
            "tags": []
          },
          "execution_count": 60
        }
      ]
    },
    {
      "cell_type": "code",
      "metadata": {
        "colab": {
          "base_uri": "https://localhost:8080/",
          "height": 173
        },
        "id": "gSiyJZNp4kFe",
        "outputId": "53fd417f-c158-481f-871f-272ee05fc024"
      },
      "source": [
        "df2 = df.set_index(\"id\")\n",
        "df2"
      ],
      "execution_count": 61,
      "outputs": [
        {
          "output_type": "execute_result",
          "data": {
            "text/html": [
              "<div>\n",
              "<style scoped>\n",
              "    .dataframe tbody tr th:only-of-type {\n",
              "        vertical-align: middle;\n",
              "    }\n",
              "\n",
              "    .dataframe tbody tr th {\n",
              "        vertical-align: top;\n",
              "    }\n",
              "\n",
              "    .dataframe thead th {\n",
              "        text-align: right;\n",
              "    }\n",
              "</style>\n",
              "<table border=\"1\" class=\"dataframe\">\n",
              "  <thead>\n",
              "    <tr style=\"text-align: right;\">\n",
              "      <th></th>\n",
              "      <th>title</th>\n",
              "      <th>price</th>\n",
              "    </tr>\n",
              "    <tr>\n",
              "      <th>id</th>\n",
              "      <th></th>\n",
              "      <th></th>\n",
              "    </tr>\n",
              "  </thead>\n",
              "  <tbody>\n",
              "    <tr>\n",
              "      <th>1</th>\n",
              "      <td>Python Book</td>\n",
              "      <td>3000</td>\n",
              "    </tr>\n",
              "    <tr>\n",
              "      <th>2</th>\n",
              "      <td>HTML Book</td>\n",
              "      <td>1000</td>\n",
              "    </tr>\n",
              "    <tr>\n",
              "      <th>3</th>\n",
              "      <td>PHP Book</td>\n",
              "      <td>2000</td>\n",
              "    </tr>\n",
              "  </tbody>\n",
              "</table>\n",
              "</div>"
            ],
            "text/plain": [
              "          title  price\n",
              "id                    \n",
              "1   Python Book   3000\n",
              "2     HTML Book   1000\n",
              "3      PHP Book   2000"
            ]
          },
          "metadata": {
            "tags": []
          },
          "execution_count": 61
        }
      ]
    },
    {
      "cell_type": "code",
      "metadata": {
        "colab": {
          "base_uri": "https://localhost:8080/"
        },
        "id": "IZtEhJRI4poH",
        "outputId": "50388840-4b93-43bf-cad0-b3182ff5e626"
      },
      "source": [
        "df2.index"
      ],
      "execution_count": 62,
      "outputs": [
        {
          "output_type": "execute_result",
          "data": {
            "text/plain": [
              "Int64Index([1, 2, 3], dtype='int64', name='id')"
            ]
          },
          "metadata": {
            "tags": []
          },
          "execution_count": 62
        }
      ]
    },
    {
      "cell_type": "code",
      "metadata": {
        "colab": {
          "base_uri": "https://localhost:8080/"
        },
        "id": "OQX2XyJg4sui",
        "outputId": "cabaef11-c5a6-4d7b-abbe-7456d157d893"
      },
      "source": [
        "df2.index == 1"
      ],
      "execution_count": 63,
      "outputs": [
        {
          "output_type": "execute_result",
          "data": {
            "text/plain": [
              "array([ True, False, False])"
            ]
          },
          "metadata": {
            "tags": []
          },
          "execution_count": 63
        }
      ]
    },
    {
      "cell_type": "code",
      "metadata": {
        "colab": {
          "base_uri": "https://localhost:8080/",
          "height": 111
        },
        "id": "6RtzDJfE4vAx",
        "outputId": "c5981bd2-1f32-4ff2-e725-a456ecdbec5a"
      },
      "source": [
        "df2[df2.index == 1]"
      ],
      "execution_count": 64,
      "outputs": [
        {
          "output_type": "execute_result",
          "data": {
            "text/html": [
              "<div>\n",
              "<style scoped>\n",
              "    .dataframe tbody tr th:only-of-type {\n",
              "        vertical-align: middle;\n",
              "    }\n",
              "\n",
              "    .dataframe tbody tr th {\n",
              "        vertical-align: top;\n",
              "    }\n",
              "\n",
              "    .dataframe thead th {\n",
              "        text-align: right;\n",
              "    }\n",
              "</style>\n",
              "<table border=\"1\" class=\"dataframe\">\n",
              "  <thead>\n",
              "    <tr style=\"text-align: right;\">\n",
              "      <th></th>\n",
              "      <th>title</th>\n",
              "      <th>price</th>\n",
              "    </tr>\n",
              "    <tr>\n",
              "      <th>id</th>\n",
              "      <th></th>\n",
              "      <th></th>\n",
              "    </tr>\n",
              "  </thead>\n",
              "  <tbody>\n",
              "    <tr>\n",
              "      <th>1</th>\n",
              "      <td>Python Book</td>\n",
              "      <td>3000</td>\n",
              "    </tr>\n",
              "  </tbody>\n",
              "</table>\n",
              "</div>"
            ],
            "text/plain": [
              "          title  price\n",
              "id                    \n",
              "1   Python Book   3000"
            ]
          },
          "metadata": {
            "tags": []
          },
          "execution_count": 64
        }
      ]
    },
    {
      "cell_type": "markdown",
      "metadata": {
        "id": "56qTIb8znVxz"
      },
      "source": [
        "# pandas - part2 - データの表示\n",
        "\n",
        "* `DataFrame` オブジェクトにキー（カラム名）を指定して列を選択できる\n",
        "* `DataFrame` オブジェクトに条件（bool値のリスト）を指定して行を選択できる\n",
        "* `DataFrame`の `loc` プロパティ、`iloc` プロパティで必要なデータにアクセスできる\n"
      ]
    },
    {
      "cell_type": "code",
      "metadata": {
        "colab": {
          "base_uri": "https://localhost:8080/",
          "height": 173
        },
        "id": "N2ehek4I7atg",
        "outputId": "00cbe2e3-b444-4b2c-edb6-d9f51dd067ae"
      },
      "source": [
        "import pandas as pd\n",
        "\n",
        "data = {\"id\": [1, 2, 3, 4], \n",
        "        \"title\": [\"Python Book\", \"HTML Book\", \"PHP Book\", \"Hello English\"], \n",
        "        \"price\": [3000, 1000, 2000, 2000], \n",
        "        \"category\": [\"Programming\", \"Programming\", \"Programming\", \"English\"]}\n",
        "books = pd.DataFrame(data)\n",
        "books"
      ],
      "execution_count": 65,
      "outputs": [
        {
          "output_type": "execute_result",
          "data": {
            "text/html": [
              "<div>\n",
              "<style scoped>\n",
              "    .dataframe tbody tr th:only-of-type {\n",
              "        vertical-align: middle;\n",
              "    }\n",
              "\n",
              "    .dataframe tbody tr th {\n",
              "        vertical-align: top;\n",
              "    }\n",
              "\n",
              "    .dataframe thead th {\n",
              "        text-align: right;\n",
              "    }\n",
              "</style>\n",
              "<table border=\"1\" class=\"dataframe\">\n",
              "  <thead>\n",
              "    <tr style=\"text-align: right;\">\n",
              "      <th></th>\n",
              "      <th>id</th>\n",
              "      <th>title</th>\n",
              "      <th>price</th>\n",
              "      <th>category</th>\n",
              "    </tr>\n",
              "  </thead>\n",
              "  <tbody>\n",
              "    <tr>\n",
              "      <th>0</th>\n",
              "      <td>1</td>\n",
              "      <td>Python Book</td>\n",
              "      <td>3000</td>\n",
              "      <td>Programming</td>\n",
              "    </tr>\n",
              "    <tr>\n",
              "      <th>1</th>\n",
              "      <td>2</td>\n",
              "      <td>HTML Book</td>\n",
              "      <td>1000</td>\n",
              "      <td>Programming</td>\n",
              "    </tr>\n",
              "    <tr>\n",
              "      <th>2</th>\n",
              "      <td>3</td>\n",
              "      <td>PHP Book</td>\n",
              "      <td>2000</td>\n",
              "      <td>Programming</td>\n",
              "    </tr>\n",
              "    <tr>\n",
              "      <th>3</th>\n",
              "      <td>4</td>\n",
              "      <td>Hello English</td>\n",
              "      <td>2000</td>\n",
              "      <td>English</td>\n",
              "    </tr>\n",
              "  </tbody>\n",
              "</table>\n",
              "</div>"
            ],
            "text/plain": [
              "   id          title  price     category\n",
              "0   1    Python Book   3000  Programming\n",
              "1   2      HTML Book   1000  Programming\n",
              "2   3       PHP Book   2000  Programming\n",
              "3   4  Hello English   2000      English"
            ]
          },
          "metadata": {
            "tags": []
          },
          "execution_count": 65
        }
      ]
    },
    {
      "cell_type": "markdown",
      "metadata": {
        "id": "tMKqxNOO-ZXc"
      },
      "source": [
        "## 列の選択"
      ]
    },
    {
      "cell_type": "code",
      "metadata": {
        "colab": {
          "base_uri": "https://localhost:8080/",
          "height": 173
        },
        "id": "jGEWSuJ5aZuz",
        "outputId": "a7e44b5e-ca7d-438a-e2cf-5134d57c4c8b"
      },
      "source": [
        "books[[\"title\", \"price\"]]"
      ],
      "execution_count": 66,
      "outputs": [
        {
          "output_type": "execute_result",
          "data": {
            "text/html": [
              "<div>\n",
              "<style scoped>\n",
              "    .dataframe tbody tr th:only-of-type {\n",
              "        vertical-align: middle;\n",
              "    }\n",
              "\n",
              "    .dataframe tbody tr th {\n",
              "        vertical-align: top;\n",
              "    }\n",
              "\n",
              "    .dataframe thead th {\n",
              "        text-align: right;\n",
              "    }\n",
              "</style>\n",
              "<table border=\"1\" class=\"dataframe\">\n",
              "  <thead>\n",
              "    <tr style=\"text-align: right;\">\n",
              "      <th></th>\n",
              "      <th>title</th>\n",
              "      <th>price</th>\n",
              "    </tr>\n",
              "  </thead>\n",
              "  <tbody>\n",
              "    <tr>\n",
              "      <th>0</th>\n",
              "      <td>Python Book</td>\n",
              "      <td>3000</td>\n",
              "    </tr>\n",
              "    <tr>\n",
              "      <th>1</th>\n",
              "      <td>HTML Book</td>\n",
              "      <td>1000</td>\n",
              "    </tr>\n",
              "    <tr>\n",
              "      <th>2</th>\n",
              "      <td>PHP Book</td>\n",
              "      <td>2000</td>\n",
              "    </tr>\n",
              "    <tr>\n",
              "      <th>3</th>\n",
              "      <td>Hello English</td>\n",
              "      <td>2000</td>\n",
              "    </tr>\n",
              "  </tbody>\n",
              "</table>\n",
              "</div>"
            ],
            "text/plain": [
              "           title  price\n",
              "0    Python Book   3000\n",
              "1      HTML Book   1000\n",
              "2       PHP Book   2000\n",
              "3  Hello English   2000"
            ]
          },
          "metadata": {
            "tags": []
          },
          "execution_count": 66
        }
      ]
    },
    {
      "cell_type": "markdown",
      "metadata": {
        "id": "qLTQIj019K-7"
      },
      "source": [
        "* `books` 変数（`DataFrame` オブジェクト） に列名のリストを指定して表示する列を選択できる\n"
      ]
    },
    {
      "cell_type": "code",
      "metadata": {
        "colab": {
          "base_uri": "https://localhost:8080/"
        },
        "id": "ySq0tDsNakEf",
        "outputId": "2f329fd9-e38b-4058-8ef1-a08dfd014ac2"
      },
      "source": [
        "books[[\"title\", \"price\"]].shape"
      ],
      "execution_count": 67,
      "outputs": [
        {
          "output_type": "execute_result",
          "data": {
            "text/plain": [
              "(4, 2)"
            ]
          },
          "metadata": {
            "tags": []
          },
          "execution_count": 67
        }
      ]
    },
    {
      "cell_type": "markdown",
      "metadata": {
        "id": "0i7tPiXn9fHW"
      },
      "source": [
        "* DataFrame` の `shape` プロパティでデータの形状を確認できる"
      ]
    },
    {
      "cell_type": "markdown",
      "metadata": {
        "id": "eor4olRs-eSc"
      },
      "source": [
        "## 行の選択"
      ]
    },
    {
      "cell_type": "code",
      "metadata": {
        "colab": {
          "base_uri": "https://localhost:8080/"
        },
        "id": "2Jfdbk5KawIu",
        "outputId": "e85043fc-a545-4b6c-a283-f9cead42b7de"
      },
      "source": [
        "books[\"price\"] == 2000"
      ],
      "execution_count": 68,
      "outputs": [
        {
          "output_type": "execute_result",
          "data": {
            "text/plain": [
              "0    False\n",
              "1    False\n",
              "2     True\n",
              "3     True\n",
              "Name: price, dtype: bool"
            ]
          },
          "metadata": {
            "tags": []
          },
          "execution_count": 68
        }
      ]
    },
    {
      "cell_type": "markdown",
      "metadata": {
        "id": "332JEOol9otb"
      },
      "source": [
        "* `DataFrame` に列名を指定すると `Series` を取得できる\n",
        "* 取得した `Series` に対して比較演算子で条件式を作ると `bool` 値のはリストになる"
      ]
    },
    {
      "cell_type": "code",
      "metadata": {
        "colab": {
          "base_uri": "https://localhost:8080/",
          "height": 111
        },
        "id": "I0D61TxoaoEL",
        "outputId": "7c0d7ae5-169a-4ca9-bd81-7d9ac7072c70"
      },
      "source": [
        "books[books[\"price\"] == 2000]"
      ],
      "execution_count": 69,
      "outputs": [
        {
          "output_type": "execute_result",
          "data": {
            "text/html": [
              "<div>\n",
              "<style scoped>\n",
              "    .dataframe tbody tr th:only-of-type {\n",
              "        vertical-align: middle;\n",
              "    }\n",
              "\n",
              "    .dataframe tbody tr th {\n",
              "        vertical-align: top;\n",
              "    }\n",
              "\n",
              "    .dataframe thead th {\n",
              "        text-align: right;\n",
              "    }\n",
              "</style>\n",
              "<table border=\"1\" class=\"dataframe\">\n",
              "  <thead>\n",
              "    <tr style=\"text-align: right;\">\n",
              "      <th></th>\n",
              "      <th>id</th>\n",
              "      <th>title</th>\n",
              "      <th>price</th>\n",
              "      <th>category</th>\n",
              "    </tr>\n",
              "  </thead>\n",
              "  <tbody>\n",
              "    <tr>\n",
              "      <th>2</th>\n",
              "      <td>3</td>\n",
              "      <td>PHP Book</td>\n",
              "      <td>2000</td>\n",
              "      <td>Programming</td>\n",
              "    </tr>\n",
              "    <tr>\n",
              "      <th>3</th>\n",
              "      <td>4</td>\n",
              "      <td>Hello English</td>\n",
              "      <td>2000</td>\n",
              "      <td>English</td>\n",
              "    </tr>\n",
              "  </tbody>\n",
              "</table>\n",
              "</div>"
            ],
            "text/plain": [
              "   id          title  price     category\n",
              "2   3       PHP Book   2000  Programming\n",
              "3   4  Hello English   2000      English"
            ]
          },
          "metadata": {
            "tags": []
          },
          "execution_count": 69
        }
      ]
    },
    {
      "cell_type": "markdown",
      "metadata": {
        "id": "JDDTYFfy99oA"
      },
      "source": [
        "* `DataFrame` オブジェクトのキー `bool` 値のはリストを指定すると行選択できる"
      ]
    },
    {
      "cell_type": "markdown",
      "metadata": {
        "id": "-vLKvhse-WBn"
      },
      "source": [
        "### 行の選択 - 複雑な条件指定"
      ]
    },
    {
      "cell_type": "code",
      "metadata": {
        "colab": {
          "base_uri": "https://localhost:8080/",
          "height": 111
        },
        "id": "l0D6DgdbbRst",
        "outputId": "37c22f87-c8af-402d-e08a-4674cc2aa017"
      },
      "source": [
        "books[books[\"price\"].isin([1000, 3000])]"
      ],
      "execution_count": 70,
      "outputs": [
        {
          "output_type": "execute_result",
          "data": {
            "text/html": [
              "<div>\n",
              "<style scoped>\n",
              "    .dataframe tbody tr th:only-of-type {\n",
              "        vertical-align: middle;\n",
              "    }\n",
              "\n",
              "    .dataframe tbody tr th {\n",
              "        vertical-align: top;\n",
              "    }\n",
              "\n",
              "    .dataframe thead th {\n",
              "        text-align: right;\n",
              "    }\n",
              "</style>\n",
              "<table border=\"1\" class=\"dataframe\">\n",
              "  <thead>\n",
              "    <tr style=\"text-align: right;\">\n",
              "      <th></th>\n",
              "      <th>id</th>\n",
              "      <th>title</th>\n",
              "      <th>price</th>\n",
              "      <th>category</th>\n",
              "    </tr>\n",
              "  </thead>\n",
              "  <tbody>\n",
              "    <tr>\n",
              "      <th>0</th>\n",
              "      <td>1</td>\n",
              "      <td>Python Book</td>\n",
              "      <td>3000</td>\n",
              "      <td>Programming</td>\n",
              "    </tr>\n",
              "    <tr>\n",
              "      <th>1</th>\n",
              "      <td>2</td>\n",
              "      <td>HTML Book</td>\n",
              "      <td>1000</td>\n",
              "      <td>Programming</td>\n",
              "    </tr>\n",
              "  </tbody>\n",
              "</table>\n",
              "</div>"
            ],
            "text/plain": [
              "   id        title  price     category\n",
              "0   1  Python Book   3000  Programming\n",
              "1   2    HTML Book   1000  Programming"
            ]
          },
          "metadata": {
            "tags": []
          },
          "execution_count": 70
        }
      ]
    },
    {
      "cell_type": "markdown",
      "metadata": {
        "id": "NHpB0qqB-rLa"
      },
      "source": [
        "* `DataFrame` の `isin` メソッドで複数の値と比較できる"
      ]
    },
    {
      "cell_type": "code",
      "metadata": {
        "colab": {
          "base_uri": "https://localhost:8080/",
          "height": 111
        },
        "id": "xMtyxeYNbmE5",
        "outputId": "bfc7bb5b-6b1a-441b-d519-1c149f04ed2c"
      },
      "source": [
        "books[(books[\"price\"] == 1000) | (books[\"price\"] == 3000)]"
      ],
      "execution_count": 71,
      "outputs": [
        {
          "output_type": "execute_result",
          "data": {
            "text/html": [
              "<div>\n",
              "<style scoped>\n",
              "    .dataframe tbody tr th:only-of-type {\n",
              "        vertical-align: middle;\n",
              "    }\n",
              "\n",
              "    .dataframe tbody tr th {\n",
              "        vertical-align: top;\n",
              "    }\n",
              "\n",
              "    .dataframe thead th {\n",
              "        text-align: right;\n",
              "    }\n",
              "</style>\n",
              "<table border=\"1\" class=\"dataframe\">\n",
              "  <thead>\n",
              "    <tr style=\"text-align: right;\">\n",
              "      <th></th>\n",
              "      <th>id</th>\n",
              "      <th>title</th>\n",
              "      <th>price</th>\n",
              "      <th>category</th>\n",
              "    </tr>\n",
              "  </thead>\n",
              "  <tbody>\n",
              "    <tr>\n",
              "      <th>0</th>\n",
              "      <td>1</td>\n",
              "      <td>Python Book</td>\n",
              "      <td>3000</td>\n",
              "      <td>Programming</td>\n",
              "    </tr>\n",
              "    <tr>\n",
              "      <th>1</th>\n",
              "      <td>2</td>\n",
              "      <td>HTML Book</td>\n",
              "      <td>1000</td>\n",
              "      <td>Programming</td>\n",
              "    </tr>\n",
              "  </tbody>\n",
              "</table>\n",
              "</div>"
            ],
            "text/plain": [
              "   id        title  price     category\n",
              "0   1  Python Book   3000  Programming\n",
              "1   2    HTML Book   1000  Programming"
            ]
          },
          "metadata": {
            "tags": []
          },
          "execution_count": 71
        }
      ]
    },
    {
      "cell_type": "markdown",
      "metadata": {
        "id": "5fSxnsUV-9Sm"
      },
      "source": [
        "* `|` 演算子で or 条件を定義できる\n",
        "> `|` 演算子や `&` 演算子はもともとビット演算を行う演算子です。pandasでこれらを使う場合 `()` を使って評価の優先度を上げる必要があります。"
      ]
    },
    {
      "cell_type": "code",
      "metadata": {
        "colab": {
          "base_uri": "https://localhost:8080/",
          "height": 80
        },
        "id": "Ws0btgpjbtLI",
        "outputId": "a4de4f7d-0860-4eef-c0cb-ef93edba1690"
      },
      "source": [
        "books[(books[\"price\"] == 1000) & (books[\"category\"] == \"Programming\")]"
      ],
      "execution_count": 72,
      "outputs": [
        {
          "output_type": "execute_result",
          "data": {
            "text/html": [
              "<div>\n",
              "<style scoped>\n",
              "    .dataframe tbody tr th:only-of-type {\n",
              "        vertical-align: middle;\n",
              "    }\n",
              "\n",
              "    .dataframe tbody tr th {\n",
              "        vertical-align: top;\n",
              "    }\n",
              "\n",
              "    .dataframe thead th {\n",
              "        text-align: right;\n",
              "    }\n",
              "</style>\n",
              "<table border=\"1\" class=\"dataframe\">\n",
              "  <thead>\n",
              "    <tr style=\"text-align: right;\">\n",
              "      <th></th>\n",
              "      <th>id</th>\n",
              "      <th>title</th>\n",
              "      <th>price</th>\n",
              "      <th>category</th>\n",
              "    </tr>\n",
              "  </thead>\n",
              "  <tbody>\n",
              "    <tr>\n",
              "      <th>1</th>\n",
              "      <td>2</td>\n",
              "      <td>HTML Book</td>\n",
              "      <td>1000</td>\n",
              "      <td>Programming</td>\n",
              "    </tr>\n",
              "  </tbody>\n",
              "</table>\n",
              "</div>"
            ],
            "text/plain": [
              "   id      title  price     category\n",
              "1   2  HTML Book   1000  Programming"
            ]
          },
          "metadata": {
            "tags": []
          },
          "execution_count": 72
        }
      ]
    },
    {
      "cell_type": "markdown",
      "metadata": {
        "id": "iclewxfT_OkF"
      },
      "source": [
        "* `&` 演算子を使って and 条件を定義できる"
      ]
    },
    {
      "cell_type": "code",
      "metadata": {
        "colab": {
          "base_uri": "https://localhost:8080/",
          "height": 80
        },
        "id": "vd9-Le2Iby53",
        "outputId": "40652702-4a06-45f4-9b6b-125133c17f5d"
      },
      "source": [
        "books_1000 = books[books[\"price\"] == 1000]\n",
        "books_1000[books_1000[\"category\"] == \"Programming\"]"
      ],
      "execution_count": 73,
      "outputs": [
        {
          "output_type": "execute_result",
          "data": {
            "text/html": [
              "<div>\n",
              "<style scoped>\n",
              "    .dataframe tbody tr th:only-of-type {\n",
              "        vertical-align: middle;\n",
              "    }\n",
              "\n",
              "    .dataframe tbody tr th {\n",
              "        vertical-align: top;\n",
              "    }\n",
              "\n",
              "    .dataframe thead th {\n",
              "        text-align: right;\n",
              "    }\n",
              "</style>\n",
              "<table border=\"1\" class=\"dataframe\">\n",
              "  <thead>\n",
              "    <tr style=\"text-align: right;\">\n",
              "      <th></th>\n",
              "      <th>id</th>\n",
              "      <th>title</th>\n",
              "      <th>price</th>\n",
              "      <th>category</th>\n",
              "    </tr>\n",
              "  </thead>\n",
              "  <tbody>\n",
              "    <tr>\n",
              "      <th>1</th>\n",
              "      <td>2</td>\n",
              "      <td>HTML Book</td>\n",
              "      <td>1000</td>\n",
              "      <td>Programming</td>\n",
              "    </tr>\n",
              "  </tbody>\n",
              "</table>\n",
              "</div>"
            ],
            "text/plain": [
              "   id      title  price     category\n",
              "1   2  HTML Book   1000  Programming"
            ]
          },
          "metadata": {
            "tags": []
          },
          "execution_count": 73
        }
      ]
    },
    {
      "cell_type": "markdown",
      "metadata": {
        "id": "wwsaPzFt_jLn"
      },
      "source": [
        "* 段階的に条件を指定して同様の条件（and条件）を表現することもできる"
      ]
    },
    {
      "cell_type": "markdown",
      "metadata": {
        "id": "fNuVtggOAUim"
      },
      "source": [
        "## `loc` プロパティと `iloc` プロパティ"
      ]
    },
    {
      "cell_type": "code",
      "metadata": {
        "colab": {
          "base_uri": "https://localhost:8080/",
          "height": 173
        },
        "id": "cABfJnZDBH8d",
        "outputId": "c23b1fb5-03c3-4d91-c139-9f721b19980c"
      },
      "source": [
        "books"
      ],
      "execution_count": 74,
      "outputs": [
        {
          "output_type": "execute_result",
          "data": {
            "text/html": [
              "<div>\n",
              "<style scoped>\n",
              "    .dataframe tbody tr th:only-of-type {\n",
              "        vertical-align: middle;\n",
              "    }\n",
              "\n",
              "    .dataframe tbody tr th {\n",
              "        vertical-align: top;\n",
              "    }\n",
              "\n",
              "    .dataframe thead th {\n",
              "        text-align: right;\n",
              "    }\n",
              "</style>\n",
              "<table border=\"1\" class=\"dataframe\">\n",
              "  <thead>\n",
              "    <tr style=\"text-align: right;\">\n",
              "      <th></th>\n",
              "      <th>id</th>\n",
              "      <th>title</th>\n",
              "      <th>price</th>\n",
              "      <th>category</th>\n",
              "    </tr>\n",
              "  </thead>\n",
              "  <tbody>\n",
              "    <tr>\n",
              "      <th>0</th>\n",
              "      <td>1</td>\n",
              "      <td>Python Book</td>\n",
              "      <td>3000</td>\n",
              "      <td>Programming</td>\n",
              "    </tr>\n",
              "    <tr>\n",
              "      <th>1</th>\n",
              "      <td>2</td>\n",
              "      <td>HTML Book</td>\n",
              "      <td>1000</td>\n",
              "      <td>Programming</td>\n",
              "    </tr>\n",
              "    <tr>\n",
              "      <th>2</th>\n",
              "      <td>3</td>\n",
              "      <td>PHP Book</td>\n",
              "      <td>2000</td>\n",
              "      <td>Programming</td>\n",
              "    </tr>\n",
              "    <tr>\n",
              "      <th>3</th>\n",
              "      <td>4</td>\n",
              "      <td>Hello English</td>\n",
              "      <td>2000</td>\n",
              "      <td>English</td>\n",
              "    </tr>\n",
              "  </tbody>\n",
              "</table>\n",
              "</div>"
            ],
            "text/plain": [
              "   id          title  price     category\n",
              "0   1    Python Book   3000  Programming\n",
              "1   2      HTML Book   1000  Programming\n",
              "2   3       PHP Book   2000  Programming\n",
              "3   4  Hello English   2000      English"
            ]
          },
          "metadata": {
            "tags": []
          },
          "execution_count": 74
        }
      ]
    },
    {
      "cell_type": "code",
      "metadata": {
        "colab": {
          "base_uri": "https://localhost:8080/"
        },
        "id": "D77EAt0MBa44",
        "outputId": "7d737375-0107-4622-a9dc-87e514bd3f00"
      },
      "source": [
        "[books[\"price\"] >= 2000]"
      ],
      "execution_count": 75,
      "outputs": [
        {
          "output_type": "execute_result",
          "data": {
            "text/plain": [
              "[0     True\n",
              " 1    False\n",
              " 2     True\n",
              " 3     True\n",
              " Name: price, dtype: bool]"
            ]
          },
          "metadata": {
            "tags": []
          },
          "execution_count": 75
        }
      ]
    },
    {
      "cell_type": "code",
      "metadata": {
        "colab": {
          "base_uri": "https://localhost:8080/",
          "height": 142
        },
        "id": "JcubtA4OdFGT",
        "outputId": "20e0b6ee-4943-4fea-cc80-d000a818d4f3"
      },
      "source": [
        "books.loc[books[\"price\"] >= 2000, [\"title\", \"price\"]]"
      ],
      "execution_count": 76,
      "outputs": [
        {
          "output_type": "execute_result",
          "data": {
            "text/html": [
              "<div>\n",
              "<style scoped>\n",
              "    .dataframe tbody tr th:only-of-type {\n",
              "        vertical-align: middle;\n",
              "    }\n",
              "\n",
              "    .dataframe tbody tr th {\n",
              "        vertical-align: top;\n",
              "    }\n",
              "\n",
              "    .dataframe thead th {\n",
              "        text-align: right;\n",
              "    }\n",
              "</style>\n",
              "<table border=\"1\" class=\"dataframe\">\n",
              "  <thead>\n",
              "    <tr style=\"text-align: right;\">\n",
              "      <th></th>\n",
              "      <th>title</th>\n",
              "      <th>price</th>\n",
              "    </tr>\n",
              "  </thead>\n",
              "  <tbody>\n",
              "    <tr>\n",
              "      <th>0</th>\n",
              "      <td>Python Book</td>\n",
              "      <td>3000</td>\n",
              "    </tr>\n",
              "    <tr>\n",
              "      <th>2</th>\n",
              "      <td>PHP Book</td>\n",
              "      <td>2000</td>\n",
              "    </tr>\n",
              "    <tr>\n",
              "      <th>3</th>\n",
              "      <td>Hello English</td>\n",
              "      <td>2000</td>\n",
              "    </tr>\n",
              "  </tbody>\n",
              "</table>\n",
              "</div>"
            ],
            "text/plain": [
              "           title  price\n",
              "0    Python Book   3000\n",
              "2       PHP Book   2000\n",
              "3  Hello English   2000"
            ]
          },
          "metadata": {
            "tags": []
          },
          "execution_count": 76
        }
      ]
    },
    {
      "cell_type": "markdown",
      "metadata": {
        "id": "hLj6Dy8ZAdLY"
      },
      "source": [
        "* locプロパティはラベル（列名）を使ってデータにアクセスする\n",
        "\n",
        "> `loc`プロパティ、`iloc`プロパティには、行と列を指定する2つのリストデータを受け取ります。1つ目のリストデータ（この場合、`books[\"price\"] >= 2000`）は行を指定するためのもので、2つ目のリストデータ（この場合、`[\"title\", \"price\"]`）は列を指定するためのものです。"
      ]
    },
    {
      "cell_type": "code",
      "metadata": {
        "colab": {
          "base_uri": "https://localhost:8080/",
          "height": 111
        },
        "id": "JjLQQo19dbdk",
        "outputId": "28881f97-59c0-4167-c90a-b55573967562"
      },
      "source": [
        "books.iloc[[0, 2], 1:3]"
      ],
      "execution_count": 77,
      "outputs": [
        {
          "output_type": "execute_result",
          "data": {
            "text/html": [
              "<div>\n",
              "<style scoped>\n",
              "    .dataframe tbody tr th:only-of-type {\n",
              "        vertical-align: middle;\n",
              "    }\n",
              "\n",
              "    .dataframe tbody tr th {\n",
              "        vertical-align: top;\n",
              "    }\n",
              "\n",
              "    .dataframe thead th {\n",
              "        text-align: right;\n",
              "    }\n",
              "</style>\n",
              "<table border=\"1\" class=\"dataframe\">\n",
              "  <thead>\n",
              "    <tr style=\"text-align: right;\">\n",
              "      <th></th>\n",
              "      <th>title</th>\n",
              "      <th>price</th>\n",
              "    </tr>\n",
              "  </thead>\n",
              "  <tbody>\n",
              "    <tr>\n",
              "      <th>0</th>\n",
              "      <td>Python Book</td>\n",
              "      <td>3000</td>\n",
              "    </tr>\n",
              "    <tr>\n",
              "      <th>2</th>\n",
              "      <td>PHP Book</td>\n",
              "      <td>2000</td>\n",
              "    </tr>\n",
              "  </tbody>\n",
              "</table>\n",
              "</div>"
            ],
            "text/plain": [
              "         title  price\n",
              "0  Python Book   3000\n",
              "2     PHP Book   2000"
            ]
          },
          "metadata": {
            "tags": []
          },
          "execution_count": 77
        }
      ]
    },
    {
      "cell_type": "markdown",
      "metadata": {
        "id": "x7uWLNmTRjHF"
      },
      "source": [
        "* locプロパティは列番号を使ってデータにアクセスする"
      ]
    },
    {
      "cell_type": "markdown",
      "metadata": {
        "id": "W4n3mMHbZ4hm"
      },
      "source": [
        "# pandas - part3 - CSVファイルの処理\n",
        "\n",
        "* `pandas` にはCSVファイルなどの様々な形式のデータを読み込むメソッドが用意されている\n",
        "* `pd.read_csv` メソッドでCSVファイルを `DataDrame` として読み込むことができる\n",
        "* `DataFrame`の `to_csv` メソッドで `DataFrame` をCSVファイルとして出力できる"
      ]
    },
    {
      "cell_type": "code",
      "metadata": {
        "colab": {
          "base_uri": "https://localhost:8080/"
        },
        "id": "2GJ8h8n5aAf1",
        "outputId": "f832dcbd-059c-411d-9fb0-d48fb435db56"
      },
      "source": [
        "!wget https://gist.githubusercontent.com/murayama333/7498728296525a789ceb9df00c48f29f/raw/fdf91f8c44b03303cbf821be654428a5d51d4301/books.csv"
      ],
      "execution_count": 78,
      "outputs": [
        {
          "output_type": "stream",
          "text": [
            "--2021-01-04 02:45:38--  https://gist.githubusercontent.com/murayama333/7498728296525a789ceb9df00c48f29f/raw/fdf91f8c44b03303cbf821be654428a5d51d4301/books.csv\n",
            "Resolving gist.githubusercontent.com (gist.githubusercontent.com)... 151.101.0.133, 151.101.64.133, 151.101.128.133, ...\n",
            "Connecting to gist.githubusercontent.com (gist.githubusercontent.com)|151.101.0.133|:443... connected.\n",
            "HTTP request sent, awaiting response... 200 OK\n",
            "Length: 114 [text/plain]\n",
            "Saving to: ‘books.csv’\n",
            "\n",
            "books.csv           100%[===================>]     114  --.-KB/s    in 0s      \n",
            "\n",
            "2021-01-04 02:45:38 (4.67 MB/s) - ‘books.csv’ saved [114/114]\n",
            "\n"
          ],
          "name": "stdout"
        }
      ]
    },
    {
      "cell_type": "markdown",
      "metadata": {
        "id": "v-qcu3S5TLYt"
      },
      "source": [
        "* `wget` コマンドでWEB上で公開されているCSVファイルをダウンロードする"
      ]
    },
    {
      "cell_type": "code",
      "metadata": {
        "colab": {
          "base_uri": "https://localhost:8080/"
        },
        "id": "skffql3rSWcp",
        "outputId": "9fd78002-00a2-47bd-c740-58b09f554f88"
      },
      "source": [
        "!cat books.csv"
      ],
      "execution_count": 85,
      "outputs": [
        {
          "output_type": "stream",
          "text": [
            "ID,Title,Price,Category\n",
            "1,Python Book,3000,PG\n",
            "2,HTML Book,1000,PG\n",
            "3,PHP Book,2000,PG\n",
            "4,Hello English,1000,English\n"
          ],
          "name": "stdout"
        }
      ]
    },
    {
      "cell_type": "markdown",
      "metadata": {
        "id": "NQRcKz1xTZH3"
      },
      "source": [
        "* `cat` コマンドで `books.csv` の内容を確認する"
      ]
    },
    {
      "cell_type": "code",
      "metadata": {
        "colab": {
          "base_uri": "https://localhost:8080/",
          "height": 173
        },
        "id": "r2yL75gmZ7jf",
        "outputId": "2bb31ba8-73af-47f0-816a-7447d2fc239c"
      },
      "source": [
        "import pandas as pd\n",
        "books = pd.read_csv(\"books.csv\")\n",
        "books"
      ],
      "execution_count": 86,
      "outputs": [
        {
          "output_type": "execute_result",
          "data": {
            "text/html": [
              "<div>\n",
              "<style scoped>\n",
              "    .dataframe tbody tr th:only-of-type {\n",
              "        vertical-align: middle;\n",
              "    }\n",
              "\n",
              "    .dataframe tbody tr th {\n",
              "        vertical-align: top;\n",
              "    }\n",
              "\n",
              "    .dataframe thead th {\n",
              "        text-align: right;\n",
              "    }\n",
              "</style>\n",
              "<table border=\"1\" class=\"dataframe\">\n",
              "  <thead>\n",
              "    <tr style=\"text-align: right;\">\n",
              "      <th></th>\n",
              "      <th>ID</th>\n",
              "      <th>Title</th>\n",
              "      <th>Price</th>\n",
              "      <th>Category</th>\n",
              "    </tr>\n",
              "  </thead>\n",
              "  <tbody>\n",
              "    <tr>\n",
              "      <th>0</th>\n",
              "      <td>1</td>\n",
              "      <td>Python Book</td>\n",
              "      <td>3000</td>\n",
              "      <td>PG</td>\n",
              "    </tr>\n",
              "    <tr>\n",
              "      <th>1</th>\n",
              "      <td>2</td>\n",
              "      <td>HTML Book</td>\n",
              "      <td>1000</td>\n",
              "      <td>PG</td>\n",
              "    </tr>\n",
              "    <tr>\n",
              "      <th>2</th>\n",
              "      <td>3</td>\n",
              "      <td>PHP Book</td>\n",
              "      <td>2000</td>\n",
              "      <td>PG</td>\n",
              "    </tr>\n",
              "    <tr>\n",
              "      <th>3</th>\n",
              "      <td>4</td>\n",
              "      <td>Hello English</td>\n",
              "      <td>1000</td>\n",
              "      <td>English</td>\n",
              "    </tr>\n",
              "  </tbody>\n",
              "</table>\n",
              "</div>"
            ],
            "text/plain": [
              "   ID          Title  Price Category\n",
              "0   1    Python Book   3000       PG\n",
              "1   2      HTML Book   1000       PG\n",
              "2   3       PHP Book   2000       PG\n",
              "3   4  Hello English   1000  English"
            ]
          },
          "metadata": {
            "tags": []
          },
          "execution_count": 86
        }
      ]
    },
    {
      "cell_type": "markdown",
      "metadata": {
        "id": "cZ87MAdgTvV7"
      },
      "source": [
        "* `pd.read_csv(\"books.csv\")` メソッドで `books.csv` ファイルを読み込む\n",
        "> pandasには `read_` で始まるメソッドが複数用意されています。これらを使って外部リソース（CSVファイルやJSONファイル、Excelファイル、データベースなど）を処理できます。"
      ]
    },
    {
      "cell_type": "code",
      "metadata": {
        "colab": {
          "base_uri": "https://localhost:8080/"
        },
        "id": "g_Z-mQ4AaFCU",
        "outputId": "e6d10ef7-7dc1-4999-b074-d5e6bc1b9dba"
      },
      "source": [
        "books.shape"
      ],
      "execution_count": 80,
      "outputs": [
        {
          "output_type": "execute_result",
          "data": {
            "text/plain": [
              "(4, 4)"
            ]
          },
          "metadata": {
            "tags": []
          },
          "execution_count": 80
        }
      ]
    },
    {
      "cell_type": "code",
      "metadata": {
        "colab": {
          "base_uri": "https://localhost:8080/"
        },
        "id": "U5wPTqnqZdv4",
        "outputId": "a2f38168-31be-4db6-df34-7ee473ed317c"
      },
      "source": [
        "books.info()"
      ],
      "execution_count": 81,
      "outputs": [
        {
          "output_type": "stream",
          "text": [
            "<class 'pandas.core.frame.DataFrame'>\n",
            "RangeIndex: 4 entries, 0 to 3\n",
            "Data columns (total 4 columns):\n",
            " #   Column    Non-Null Count  Dtype \n",
            "---  ------    --------------  ----- \n",
            " 0   ID        4 non-null      int64 \n",
            " 1   Title     4 non-null      object\n",
            " 2   Price     4 non-null      int64 \n",
            " 3   Category  4 non-null      object\n",
            "dtypes: int64(2), object(2)\n",
            "memory usage: 256.0+ bytes\n"
          ],
          "name": "stdout"
        }
      ]
    },
    {
      "cell_type": "markdown",
      "metadata": {
        "id": "mUebPSEIThZA"
      },
      "source": [
        "* `DataFrame` の `shape` プロパティや` info` メソッドで `DataFrame` の概要を確認できる"
      ]
    },
    {
      "cell_type": "code",
      "metadata": {
        "id": "xVavPX_KUSlB"
      },
      "source": [
        "books.to_csv(\"output.csv\")"
      ],
      "execution_count": 87,
      "outputs": []
    },
    {
      "cell_type": "markdown",
      "metadata": {
        "id": "8i__sRDKUb41"
      },
      "source": [
        "* `DataFrame` の `to_csv` メソッドで `DataFrame` の内容をファイルに出力できる"
      ]
    },
    {
      "cell_type": "code",
      "metadata": {
        "colab": {
          "base_uri": "https://localhost:8080/"
        },
        "id": "AWNiJ6iBUX8b",
        "outputId": "776b5451-c878-4ef4-acd0-36b07219b712"
      },
      "source": [
        "!cat output.csv"
      ],
      "execution_count": 88,
      "outputs": [
        {
          "output_type": "stream",
          "text": [
            ",ID,Title,Price,Category\n",
            "0,1,Python Book,3000,PG\n",
            "1,2,HTML Book,1000,PG\n",
            "2,3,PHP Book,2000,PG\n",
            "3,4,Hello English,1000,English\n"
          ],
          "name": "stdout"
        }
      ]
    },
    {
      "cell_type": "code",
      "metadata": {
        "colab": {
          "base_uri": "https://localhost:8080/",
          "height": 17
        },
        "id": "ZmxwIqC5ZVwl",
        "outputId": "cb064945-b1f6-42e4-f5cc-6df310fc3678"
      },
      "source": [
        "from google.colab import files\n",
        "files.download(\"output.csv\")"
      ],
      "execution_count": 89,
      "outputs": [
        {
          "output_type": "display_data",
          "data": {
            "application/javascript": [
              "\n",
              "    async function download(id, filename, size) {\n",
              "      if (!google.colab.kernel.accessAllowed) {\n",
              "        return;\n",
              "      }\n",
              "      const div = document.createElement('div');\n",
              "      const label = document.createElement('label');\n",
              "      label.textContent = `Downloading \"${filename}\": `;\n",
              "      div.appendChild(label);\n",
              "      const progress = document.createElement('progress');\n",
              "      progress.max = size;\n",
              "      div.appendChild(progress);\n",
              "      document.body.appendChild(div);\n",
              "\n",
              "      const buffers = [];\n",
              "      let downloaded = 0;\n",
              "\n",
              "      const channel = await google.colab.kernel.comms.open(id);\n",
              "      // Send a message to notify the kernel that we're ready.\n",
              "      channel.send({})\n",
              "\n",
              "      for await (const message of channel.messages) {\n",
              "        // Send a message to notify the kernel that we're ready.\n",
              "        channel.send({})\n",
              "        if (message.buffers) {\n",
              "          for (const buffer of message.buffers) {\n",
              "            buffers.push(buffer);\n",
              "            downloaded += buffer.byteLength;\n",
              "            progress.value = downloaded;\n",
              "          }\n",
              "        }\n",
              "      }\n",
              "      const blob = new Blob(buffers, {type: 'application/binary'});\n",
              "      const a = document.createElement('a');\n",
              "      a.href = window.URL.createObjectURL(blob);\n",
              "      a.download = filename;\n",
              "      div.appendChild(a);\n",
              "      a.click();\n",
              "      div.remove();\n",
              "    }\n",
              "  "
            ],
            "text/plain": [
              "<IPython.core.display.Javascript object>"
            ]
          },
          "metadata": {
            "tags": []
          }
        },
        {
          "output_type": "display_data",
          "data": {
            "application/javascript": [
              "download(\"download_eb895f6c-b4cb-42e9-afd2-2b483c5cf2a0\", \"output.csv\", 123)"
            ],
            "text/plain": [
              "<IPython.core.display.Javascript object>"
            ]
          },
          "metadata": {
            "tags": []
          }
        }
      ]
    },
    {
      "cell_type": "markdown",
      "metadata": {
        "id": "IP_FG01FUldX"
      },
      "source": [
        "> Google Colab上からファイルをダウンロードするには以下のようなコードを実行します。"
      ]
    },
    {
      "cell_type": "markdown",
      "metadata": {
        "id": "Rtyyr-52eqNe"
      },
      "source": [
        "# pandas - part4 - グラフの描画\n",
        "\n",
        "* `pandas` は`matplotlib`によるグラフ描画をサポートしている\n",
        "* `DataFrame`のplotプロパティにはグラフを描画するメソッドが用意されている\n",
        "* `matplotlib`を直接操作して出力をカスタマイズできる"
      ]
    },
    {
      "cell_type": "code",
      "metadata": {
        "colab": {
          "base_uri": "https://localhost:8080/"
        },
        "id": "2qF9WJTuggyQ",
        "outputId": "8538e4a9-1e68-4bfa-a28e-1c661678ddf1"
      },
      "source": [
        "!wget https://gist.githubusercontent.com/murayama333/a5b7fb0e1c2a64ce910e35fb76518ac2/raw/e77ced7a7aa8e90684b4c922f47b4cd998f1dced/scores.csv"
      ],
      "execution_count": 91,
      "outputs": [
        {
          "output_type": "stream",
          "text": [
            "--2021-01-04 02:58:00--  https://gist.githubusercontent.com/murayama333/a5b7fb0e1c2a64ce910e35fb76518ac2/raw/e77ced7a7aa8e90684b4c922f47b4cd998f1dced/scores.csv\n",
            "Resolving gist.githubusercontent.com (gist.githubusercontent.com)... 151.101.0.133, 151.101.64.133, 151.101.128.133, ...\n",
            "Connecting to gist.githubusercontent.com (gist.githubusercontent.com)|151.101.0.133|:443... connected.\n",
            "HTTP request sent, awaiting response... 200 OK\n",
            "Length: 160 [text/plain]\n",
            "Saving to: ‘scores.csv’\n",
            "\n",
            "scores.csv          100%[===================>]     160  --.-KB/s    in 0s      \n",
            "\n",
            "2021-01-04 02:58:01 (7.83 MB/s) - ‘scores.csv’ saved [160/160]\n",
            "\n"
          ],
          "name": "stdout"
        }
      ]
    },
    {
      "cell_type": "code",
      "metadata": {
        "colab": {
          "base_uri": "https://localhost:8080/"
        },
        "id": "L_RENV4RVGSy",
        "outputId": "0154f0b5-532e-4dc5-d4db-f72a085cc792"
      },
      "source": [
        "!cat scores.csv"
      ],
      "execution_count": 92,
      "outputs": [
        {
          "output_type": "stream",
          "text": [
            "ID,Math,English,Science,Area\n",
            "1,93,72,95,A\n",
            "2,62,80,68,B\n",
            "3,65,50,62,C\n",
            "4,64,56,52,C\n",
            "5,82,58,99,A\n",
            "6,73,78,68,B\n",
            "7,82,82,80,B\n",
            "8,90,80,94,A\n",
            "9,94,88,98,A\n",
            "10,24,70,38,C\n"
          ],
          "name": "stdout"
        }
      ]
    },
    {
      "cell_type": "code",
      "metadata": {
        "colab": {
          "base_uri": "https://localhost:8080/",
          "height": 390
        },
        "id": "fj2fE0GAesNs",
        "outputId": "cba1f8c0-f266-4e4f-f267-f4997ec19ab3"
      },
      "source": [
        "scores = pd.read_csv(\"scores.csv\", index_col=0)\n",
        "scores"
      ],
      "execution_count": 93,
      "outputs": [
        {
          "output_type": "execute_result",
          "data": {
            "text/html": [
              "<div>\n",
              "<style scoped>\n",
              "    .dataframe tbody tr th:only-of-type {\n",
              "        vertical-align: middle;\n",
              "    }\n",
              "\n",
              "    .dataframe tbody tr th {\n",
              "        vertical-align: top;\n",
              "    }\n",
              "\n",
              "    .dataframe thead th {\n",
              "        text-align: right;\n",
              "    }\n",
              "</style>\n",
              "<table border=\"1\" class=\"dataframe\">\n",
              "  <thead>\n",
              "    <tr style=\"text-align: right;\">\n",
              "      <th></th>\n",
              "      <th>Math</th>\n",
              "      <th>English</th>\n",
              "      <th>Science</th>\n",
              "      <th>Area</th>\n",
              "    </tr>\n",
              "    <tr>\n",
              "      <th>ID</th>\n",
              "      <th></th>\n",
              "      <th></th>\n",
              "      <th></th>\n",
              "      <th></th>\n",
              "    </tr>\n",
              "  </thead>\n",
              "  <tbody>\n",
              "    <tr>\n",
              "      <th>1</th>\n",
              "      <td>93</td>\n",
              "      <td>72</td>\n",
              "      <td>95</td>\n",
              "      <td>A</td>\n",
              "    </tr>\n",
              "    <tr>\n",
              "      <th>2</th>\n",
              "      <td>62</td>\n",
              "      <td>80</td>\n",
              "      <td>68</td>\n",
              "      <td>B</td>\n",
              "    </tr>\n",
              "    <tr>\n",
              "      <th>3</th>\n",
              "      <td>65</td>\n",
              "      <td>50</td>\n",
              "      <td>62</td>\n",
              "      <td>C</td>\n",
              "    </tr>\n",
              "    <tr>\n",
              "      <th>4</th>\n",
              "      <td>64</td>\n",
              "      <td>56</td>\n",
              "      <td>52</td>\n",
              "      <td>C</td>\n",
              "    </tr>\n",
              "    <tr>\n",
              "      <th>5</th>\n",
              "      <td>82</td>\n",
              "      <td>58</td>\n",
              "      <td>99</td>\n",
              "      <td>A</td>\n",
              "    </tr>\n",
              "    <tr>\n",
              "      <th>6</th>\n",
              "      <td>73</td>\n",
              "      <td>78</td>\n",
              "      <td>68</td>\n",
              "      <td>B</td>\n",
              "    </tr>\n",
              "    <tr>\n",
              "      <th>7</th>\n",
              "      <td>82</td>\n",
              "      <td>82</td>\n",
              "      <td>80</td>\n",
              "      <td>B</td>\n",
              "    </tr>\n",
              "    <tr>\n",
              "      <th>8</th>\n",
              "      <td>90</td>\n",
              "      <td>80</td>\n",
              "      <td>94</td>\n",
              "      <td>A</td>\n",
              "    </tr>\n",
              "    <tr>\n",
              "      <th>9</th>\n",
              "      <td>94</td>\n",
              "      <td>88</td>\n",
              "      <td>98</td>\n",
              "      <td>A</td>\n",
              "    </tr>\n",
              "    <tr>\n",
              "      <th>10</th>\n",
              "      <td>24</td>\n",
              "      <td>70</td>\n",
              "      <td>38</td>\n",
              "      <td>C</td>\n",
              "    </tr>\n",
              "  </tbody>\n",
              "</table>\n",
              "</div>"
            ],
            "text/plain": [
              "    Math  English  Science Area\n",
              "ID                             \n",
              "1     93       72       95    A\n",
              "2     62       80       68    B\n",
              "3     65       50       62    C\n",
              "4     64       56       52    C\n",
              "5     82       58       99    A\n",
              "6     73       78       68    B\n",
              "7     82       82       80    B\n",
              "8     90       80       94    A\n",
              "9     94       88       98    A\n",
              "10    24       70       38    C"
            ]
          },
          "metadata": {
            "tags": []
          },
          "execution_count": 93
        }
      ]
    },
    {
      "cell_type": "code",
      "metadata": {
        "colab": {
          "base_uri": "https://localhost:8080/",
          "height": 282
        },
        "id": "DMkbH9dOg9Cv",
        "outputId": "5588d1c3-35f1-4b9e-a020-1f4c5e2cfbba"
      },
      "source": [
        "scores.plot.box()"
      ],
      "execution_count": 95,
      "outputs": [
        {
          "output_type": "execute_result",
          "data": {
            "text/plain": [
              "<matplotlib.axes._subplots.AxesSubplot at 0x7fe48f31ab70>"
            ]
          },
          "metadata": {
            "tags": []
          },
          "execution_count": 95
        },
        {
          "output_type": "display_data",
          "data": {
            "image/png": "[encoded data removed]",
            "text/plain": [
              "<Figure size 432x288 with 1 Axes>"
            ]
          },
          "metadata": {
            "tags": [],
            "needs_background": "light"
          }
        }
      ]
    },
    {
      "cell_type": "markdown",
      "metadata": {
        "id": "9WDmsvQ2VSr5"
      },
      "source": [
        "* `box` メソッドで箱ひげ図を出力できる"
      ]
    },
    {
      "cell_type": "code",
      "metadata": {
        "colab": {
          "base_uri": "https://localhost:8080/",
          "height": 296
        },
        "id": "KFkO6rXMVMtn",
        "outputId": "bd5a79b7-5de1-4a0b-e11e-661e58c86235"
      },
      "source": [
        "scores.plot.scatter(x=\"Math\", y=\"Science\")"
      ],
      "execution_count": 94,
      "outputs": [
        {
          "output_type": "execute_result",
          "data": {
            "text/plain": [
              "<matplotlib.axes._subplots.AxesSubplot at 0x7fe48f31ac18>"
            ]
          },
          "metadata": {
            "tags": []
          },
          "execution_count": 94
        },
        {
          "output_type": "display_data",
          "data": {
            "image/png": "[encoded data removed]",
            "text/plain": [
              "<Figure size 432x288 with 1 Axes>"
            ]
          },
          "metadata": {
            "tags": [],
            "needs_background": "light"
          }
        }
      ]
    },
    {
      "cell_type": "markdown",
      "metadata": {
        "id": "vBmTxMWwVXvk"
      },
      "source": [
        "* `scatter` メソッドで散布図を出力できる\n",
        "* `scatter` メソッドには引数でx軸、y軸に対応する列名を指定する"
      ]
    },
    {
      "cell_type": "code",
      "metadata": {
        "colab": {
          "base_uri": "https://localhost:8080/",
          "height": 731
        },
        "id": "SJ4R-mMzivUn",
        "outputId": "7153827a-8e36-4091-f824-f2375819e62e"
      },
      "source": [
        "import matplotlib.pyplot as plt\n",
        "plt.figure(figsize=(6, 12))\n",
        "ax1 = plt.subplot(3, 1, 1)\n",
        "scores.plot.scatter(x=\"Math\", y=\"Science\", ax=ax1)\n",
        "ax2 = plt.subplot(3, 1, 2)\n",
        "scores.plot.scatter(x=\"Math\", y=\"English\", ax=ax2)\n",
        "ax3 = plt.subplot(3, 1, 3)\n",
        "scores.plot.scatter(x=\"English\", y=\"Science\", ax=ax3)"
      ],
      "execution_count": 96,
      "outputs": [
        {
          "output_type": "execute_result",
          "data": {
            "text/plain": [
              "<matplotlib.axes._subplots.AxesSubplot at 0x7fe48ed9a438>"
            ]
          },
          "metadata": {
            "tags": []
          },
          "execution_count": 96
        },
        {
          "output_type": "display_data",
          "data": {
            "image/png": "[encoded data removed]",
            "text/plain": [
              "<Figure size 432x864 with 3 Axes>"
            ]
          },
          "metadata": {
            "tags": [],
            "needs_background": "light"
          }
        }
      ]
    },
    {
      "cell_type": "markdown",
      "metadata": {
        "id": "XlDy5cpGVjcX"
      },
      "source": [
        "* `matplotlib` を直接操作して出力をカスタマイズできる\n",
        "> ここでは`plt.figure(figsize=(6, 12))` メソッドによって表示サイズを横：6inch 、縦：12inchとしています。`ax1 = plt.subplot(3, 1, 1)` によって3行1列の表示区画の1つ目の区画を取得し、`scores.plot.scatter(x=\"Math\", y=\"Science\", ax=ax1)` によって散布図を出力しています。"
      ]
    }
  ]
}