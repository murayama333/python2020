{
  "nbformat": 4,
  "nbformat_minor": 0,
  "metadata": {
    "colab": {
      "name": "ml-classification-text.ipynb",
      "provenance": [],
      "collapsed_sections": [],
      "toc_visible": true
    },
    "kernelspec": {
      "name": "python3",
      "display_name": "Python 3"
    }
  },
  "cells": [
    {
      "cell_type": "markdown",
      "metadata": {
        "id": "HpcvfDXZmLaG"
      },
      "source": [
        "# 機械学習体験 - 教師あり学習 - 分類問題"
      ]
    },
    {
      "cell_type": "markdown",
      "metadata": {
        "id": "rhFZwN9DmGCS"
      },
      "source": [
        "## 例題1 - ロジスティック回帰"
      ]
    },
    {
      "cell_type": "markdown",
      "metadata": {
        "id": "9D_Y0qxOw3KL"
      },
      "source": [
        "次の売上データ（不動産の購入データ）について考えてみましょう。"
      ]
    },
    {
      "cell_type": "code",
      "metadata": {
        "colab": {
          "base_uri": "https://localhost:8080/",
          "height": 197
        },
        "id": "ByVnR0-ha9BC",
        "outputId": "0629424b-8a61-4ded-8dba-dcd4387af61c"
      },
      "source": [
        "import numpy as np\n",
        "import matplotlib.pyplot as plt\n",
        "import pandas as pd\n",
        "\n",
        "sales_df = pd.DataFrame({\n",
        "    \"buy\" : [0, 1, 0, 1, 0],\n",
        "    \"age\": [25, 35, 28, 40, 32]\n",
        "})\n",
        "sales_df"
      ],
      "execution_count": 1,
      "outputs": [
        {
          "output_type": "execute_result",
          "data": {
            "text/html": [
              "<div>\n",
              "<style scoped>\n",
              "    .dataframe tbody tr th:only-of-type {\n",
              "        vertical-align: middle;\n",
              "    }\n",
              "\n",
              "    .dataframe tbody tr th {\n",
              "        vertical-align: top;\n",
              "    }\n",
              "\n",
              "    .dataframe thead th {\n",
              "        text-align: right;\n",
              "    }\n",
              "</style>\n",
              "<table border=\"1\" class=\"dataframe\">\n",
              "  <thead>\n",
              "    <tr style=\"text-align: right;\">\n",
              "      <th></th>\n",
              "      <th>buy</th>\n",
              "      <th>age</th>\n",
              "    </tr>\n",
              "  </thead>\n",
              "  <tbody>\n",
              "    <tr>\n",
              "      <th>0</th>\n",
              "      <td>0</td>\n",
              "      <td>25</td>\n",
              "    </tr>\n",
              "    <tr>\n",
              "      <th>1</th>\n",
              "      <td>1</td>\n",
              "      <td>35</td>\n",
              "    </tr>\n",
              "    <tr>\n",
              "      <th>2</th>\n",
              "      <td>0</td>\n",
              "      <td>28</td>\n",
              "    </tr>\n",
              "    <tr>\n",
              "      <th>3</th>\n",
              "      <td>1</td>\n",
              "      <td>40</td>\n",
              "    </tr>\n",
              "    <tr>\n",
              "      <th>4</th>\n",
              "      <td>0</td>\n",
              "      <td>32</td>\n",
              "    </tr>\n",
              "  </tbody>\n",
              "</table>\n",
              "</div>"
            ],
            "text/plain": [
              "   buy  age\n",
              "0    0   25\n",
              "1    1   35\n",
              "2    0   28\n",
              "3    1   40\n",
              "4    0   32"
            ]
          },
          "metadata": {
            "tags": []
          },
          "execution_count": 1
        }
      ]
    },
    {
      "cell_type": "markdown",
      "metadata": {
        "id": "luvkzfrYxJVV"
      },
      "source": [
        "> `buy` が目的変数、 `age` が説明変数です。`buy` の値が `1` のものは`購入`、 `0` のものは`非購入` を意味します。 単純なケースですが、年齢（`age`） から 購入（`buy`） を予測するモデルを作成します。"
      ]
    },
    {
      "cell_type": "markdown",
      "metadata": {
        "id": "zxQYeAzLOA0Y"
      },
      "source": [
        "### ロジスティック回帰\n",
        "\n",
        "* ロジスティック回帰（ `LogisticRegression` ）は2値分類に利用できる\n",
        "* 線形回帰式にロジスティック関数（`1 / (1 + exp(-x))`）を適用する\n",
        "* ロジスティック回帰によって定義したモデルは 0〜1の範囲の結果（パーセンテージ）を返す\n",
        "\n",
        "> 結果が0.5以上の場合は真、0.5より下回る場合は偽のように、2値分類に利用できます。"
      ]
    },
    {
      "cell_type": "code",
      "metadata": {
        "colab": {
          "base_uri": "https://localhost:8080/",
          "height": 264
        },
        "id": "BVahqru0QIA2",
        "outputId": "5cba1067-4b1d-48c3-fd99-b4e4f614f724"
      },
      "source": [
        "def logistic(x):\n",
        "  return 1 / (1 + np.exp(-x))\n",
        "\n",
        "x = np.arange(-5, 5.1, 0.1)\n",
        "y = logistic(x)\n",
        "\n",
        "plt.grid()\n",
        "plt.plot(x, y)\n",
        "plt.show()"
      ],
      "execution_count": 2,
      "outputs": [
        {
          "output_type": "display_data",
          "data": {
            "image/png": "[encoded data removed]",
            "text/plain": [
              "<Figure size 432x288 with 1 Axes>"
            ]
          },
          "metadata": {
            "tags": [],
            "needs_background": "light"
          }
        }
      ]
    },
    {
      "cell_type": "markdown",
      "metadata": {
        "id": "baqvLSZ9RAah"
      },
      "source": [
        "#### ロジスティック関数\n",
        "\n",
        "* `x` が `0` のとき `y`は `0.5` となる\n",
        "* `x` が大きくなると `y` は `1` に近づく\n",
        "* `x` が小さくなると `y` は `-1` に近づく\n",
        "\n",
        "> ロジスティック関数はニューラルネットワーク（ディープラーニング）の文脈ではシグモイド関数と呼ばれることもある"
      ]
    },
    {
      "cell_type": "code",
      "metadata": {
        "id": "cqaQEjCrbk0R",
        "colab": {
          "base_uri": "https://localhost:8080/"
        },
        "outputId": "0b63d630-2ee8-45f6-a785-8e4bcc85e808"
      },
      "source": [
        "from sklearn.linear_model import LogisticRegression\n",
        "\n",
        "clf = LogisticRegression()\n",
        "clf.fit(sales_df[\"age\"].values.reshape(-1, 1), sales_df[\"buy\"].values) # 学習\n",
        "\n",
        "print(\"coef_:\", clf.coef_)\n",
        "print(\"intercept_:\", clf.intercept_)"
      ],
      "execution_count": 3,
      "outputs": [
        {
          "output_type": "stream",
          "text": [
            "coef_: [[0.80275059]]\n",
            "intercept_: [-26.91273974]\n"
          ],
          "name": "stdout"
        }
      ]
    },
    {
      "cell_type": "markdown",
      "metadata": {
        "id": "kay_TfuIRJEL"
      },
      "source": [
        "> ロジスティック回帰は、線形回帰と同様に、学習によって係数、切片を算出する `y = logistic(a * x + b)`"
      ]
    },
    {
      "cell_type": "code",
      "metadata": {
        "id": "q6xehuBcijSR",
        "colab": {
          "base_uri": "https://localhost:8080/"
        },
        "outputId": "c68611cf-e588-4206-9cc4-ec1142ff90f5"
      },
      "source": [
        "x = np.arange(30, 40).reshape(-1, 1)\n",
        "y = clf.predict(x)  # 推論\n",
        "proba_y = clf.predict_proba(x)  # 推論（確率）\n",
        "print(\"x:\", x.reshape(-1))\n",
        "print(\"y:\", y.reshape(-1))\n",
        "print(\"proba_y:\", proba_y)"
      ],
      "execution_count": 4,
      "outputs": [
        {
          "output_type": "stream",
          "text": [
            "x: [30 31 32 33 34 35 36 37 38 39]\n",
            "y: [0 0 0 0 1 1 1 1 1 1]\n",
            "proba_y: [[0.94428728 0.05571272]\n",
            " [0.88365136 0.11634864]\n",
            " [0.77289325 0.22710675]\n",
            " [0.6039546  0.3960454 ]\n",
            " [0.40593868 0.59406132]\n",
            " [0.2344179  0.7655821 ]\n",
            " [0.12065081 0.87934919]\n",
            " [0.05791974 0.94208026]\n",
            " [0.02681056 0.97318944]\n",
            " [0.01219411 0.98780589]]\n"
          ],
          "name": "stdout"
        }
      ]
    },
    {
      "cell_type": "markdown",
      "metadata": {
        "id": "JEFusj41Rb6F"
      },
      "source": [
        "> 学習済みのモデルで推論できる。`predict_proba` メソッドを使うと確率のまま出力できる"
      ]
    },
    {
      "cell_type": "code",
      "metadata": {
        "id": "V8xsg3HghH6y",
        "colab": {
          "base_uri": "https://localhost:8080/"
        },
        "outputId": "476d8278-fcbd-40da-dd17-c1bdacf442f3"
      },
      "source": [
        "my_x = 34\n",
        "print(clf.predict_proba([[my_x]]))\n",
        "\n",
        "my_y = logistic(clf.coef_[0] * my_x + clf.intercept_)\n",
        "print(my_y)"
      ],
      "execution_count": 5,
      "outputs": [
        {
          "output_type": "stream",
          "text": [
            "[[0.40593868 0.59406132]]\n",
            "[0.59406132]\n"
          ],
          "name": "stdout"
        }
      ]
    },
    {
      "cell_type": "markdown",
      "metadata": {
        "id": "UhOxGf5McScA"
      },
      "source": [
        "## 例題2 - k-NN法（k近傍法）"
      ]
    },
    {
      "cell_type": "markdown",
      "metadata": {
        "id": "L1lcU6T4TYJJ"
      },
      "source": [
        "次の売上データ（不動産の購入データ）について考えてみましょう。"
      ]
    },
    {
      "cell_type": "code",
      "metadata": {
        "id": "uHA1V6YPmOHH",
        "colab": {
          "base_uri": "https://localhost:8080/",
          "height": 347
        },
        "outputId": "70cd8b2e-c42f-4bb6-c014-190906022edc"
      },
      "source": [
        "import numpy as np\n",
        "import pandas as pd\n",
        "\n",
        "sales_df = pd.DataFrame({\n",
        "    \"buy\" : [0, 1, 0, 1, 0, 0, 1, 0, 1, 1],\n",
        "    \"age\": [25, 35, 28, 40, 32, 30, 31, 34, 36, 38],\n",
        "    \"family\": [2, 4, 2, 3, 3, 3, 4, 4, 3, 2]\n",
        "})\n",
        "sales_df"
      ],
      "execution_count": 6,
      "outputs": [
        {
          "output_type": "execute_result",
          "data": {
            "text/html": [
              "<div>\n",
              "<style scoped>\n",
              "    .dataframe tbody tr th:only-of-type {\n",
              "        vertical-align: middle;\n",
              "    }\n",
              "\n",
              "    .dataframe tbody tr th {\n",
              "        vertical-align: top;\n",
              "    }\n",
              "\n",
              "    .dataframe thead th {\n",
              "        text-align: right;\n",
              "    }\n",
              "</style>\n",
              "<table border=\"1\" class=\"dataframe\">\n",
              "  <thead>\n",
              "    <tr style=\"text-align: right;\">\n",
              "      <th></th>\n",
              "      <th>buy</th>\n",
              "      <th>age</th>\n",
              "      <th>family</th>\n",
              "    </tr>\n",
              "  </thead>\n",
              "  <tbody>\n",
              "    <tr>\n",
              "      <th>0</th>\n",
              "      <td>0</td>\n",
              "      <td>25</td>\n",
              "      <td>2</td>\n",
              "    </tr>\n",
              "    <tr>\n",
              "      <th>1</th>\n",
              "      <td>1</td>\n",
              "      <td>35</td>\n",
              "      <td>4</td>\n",
              "    </tr>\n",
              "    <tr>\n",
              "      <th>2</th>\n",
              "      <td>0</td>\n",
              "      <td>28</td>\n",
              "      <td>2</td>\n",
              "    </tr>\n",
              "    <tr>\n",
              "      <th>3</th>\n",
              "      <td>1</td>\n",
              "      <td>40</td>\n",
              "      <td>3</td>\n",
              "    </tr>\n",
              "    <tr>\n",
              "      <th>4</th>\n",
              "      <td>0</td>\n",
              "      <td>32</td>\n",
              "      <td>3</td>\n",
              "    </tr>\n",
              "    <tr>\n",
              "      <th>5</th>\n",
              "      <td>0</td>\n",
              "      <td>30</td>\n",
              "      <td>3</td>\n",
              "    </tr>\n",
              "    <tr>\n",
              "      <th>6</th>\n",
              "      <td>1</td>\n",
              "      <td>31</td>\n",
              "      <td>4</td>\n",
              "    </tr>\n",
              "    <tr>\n",
              "      <th>7</th>\n",
              "      <td>0</td>\n",
              "      <td>34</td>\n",
              "      <td>4</td>\n",
              "    </tr>\n",
              "    <tr>\n",
              "      <th>8</th>\n",
              "      <td>1</td>\n",
              "      <td>36</td>\n",
              "      <td>3</td>\n",
              "    </tr>\n",
              "    <tr>\n",
              "      <th>9</th>\n",
              "      <td>1</td>\n",
              "      <td>38</td>\n",
              "      <td>2</td>\n",
              "    </tr>\n",
              "  </tbody>\n",
              "</table>\n",
              "</div>"
            ],
            "text/plain": [
              "   buy  age  family\n",
              "0    0   25       2\n",
              "1    1   35       4\n",
              "2    0   28       2\n",
              "3    1   40       3\n",
              "4    0   32       3\n",
              "5    0   30       3\n",
              "6    1   31       4\n",
              "7    0   34       4\n",
              "8    1   36       3\n",
              "9    1   38       2"
            ]
          },
          "metadata": {
            "tags": []
          },
          "execution_count": 6
        }
      ]
    },
    {
      "cell_type": "markdown",
      "metadata": {
        "id": "g3URi3gmTa-N"
      },
      "source": [
        "> `buy` が目的変数、 `age` が `family` が説明変数です。`buy` の値が `1` のものは`購入`、 `0` のものは`非購入` を意味します。 年齢（`age`）、 家族数（`family`） から 購入（`buy`） を予測するモデルを作成します。"
      ]
    },
    {
      "cell_type": "markdown",
      "metadata": {
        "id": "FoAqfoBsTqKK"
      },
      "source": [
        "### k-NN法\n",
        "\n",
        "* k-NN法は最寄りのデータとの距離によって分類する\n",
        "* 最寄りの1点からデータを分類したり、3点からデータを分類したりできる\n",
        "* 非線形な分離が可能\n",
        "\n",
        "> 一般的に距離の算出にはユークリッド距離を使います。データ間の距離を扱うアルゴリズムではデータの単位に注意が必要です。\n"
      ]
    },
    {
      "cell_type": "code",
      "metadata": {
        "id": "sgAkMLlCmUta",
        "colab": {
          "base_uri": "https://localhost:8080/"
        },
        "outputId": "ca5a6dae-d708-4350-d6a9-cc23e2a31e02"
      },
      "source": [
        "from sklearn.neighbors import KNeighborsClassifier\n",
        "\n",
        "clf = KNeighborsClassifier(n_neighbors=1)\n",
        "clf.fit(sales_df[[\"age\", \"family\"]], sales_df[\"buy\"])"
      ],
      "execution_count": 7,
      "outputs": [
        {
          "output_type": "execute_result",
          "data": {
            "text/plain": [
              "KNeighborsClassifier(algorithm='auto', leaf_size=30, metric='minkowski',\n",
              "                     metric_params=None, n_jobs=None, n_neighbors=1, p=2,\n",
              "                     weights='uniform')"
            ]
          },
          "metadata": {
            "tags": []
          },
          "execution_count": 7
        }
      ]
    },
    {
      "cell_type": "markdown",
      "metadata": {
        "id": "vQ_M_RitmVcB"
      },
      "source": [
        "> `KNeighborsClassifier(n_neighbors=1)` のようにコンストラクタ引数で、最寄りのいくつの点から分類を行うかを決定します。"
      ]
    },
    {
      "cell_type": "code",
      "metadata": {
        "id": "_yas0JQKn1bU",
        "colab": {
          "base_uri": "https://localhost:8080/",
          "height": 312
        },
        "outputId": "69c911f0-dcd0-4745-ea91-32aaf756fe4f"
      },
      "source": [
        "samples = [28,  4]\n",
        "print(clf.predict([samples]))\n",
        "\n",
        "ax = sales_df[sales_df[\"buy\"]==0].plot.scatter(\"age\", \"family\", marker=\"x\", color=\"red\")\n",
        "sales_df[sales_df[\"buy\"]==1].plot.scatter(\"age\", \"family\",  marker=\"o\", color=\"blue\", ax=ax)\n",
        "ax.scatter(samples[0], samples[1], marker=\"^\", color=\"green\")"
      ],
      "execution_count": 8,
      "outputs": [
        {
          "output_type": "stream",
          "text": [
            "[0]\n"
          ],
          "name": "stdout"
        },
        {
          "output_type": "execute_result",
          "data": {
            "text/plain": [
              "<matplotlib.collections.PathCollection at 0x7f452536c080>"
            ]
          },
          "metadata": {
            "tags": []
          },
          "execution_count": 8
        },
        {
          "output_type": "display_data",
          "data": {
            "image/png": "[encoded data removed]",
            "text/plain": [
              "<Figure size 432x288 with 1 Axes>"
            ]
          },
          "metadata": {
            "tags": [],
            "needs_background": "light"
          }
        }
      ]
    },
    {
      "cell_type": "markdown",
      "metadata": {
        "id": "eQEMVcPimjm6"
      },
      "source": [
        "> 学習済みのモデルで `[28, 4]` というデータを推論すると `0` ：未購入となります。\n",
        "> 散布図では 青丸（ `1` ：購入）が近いように見えます。"
      ]
    },
    {
      "cell_type": "code",
      "metadata": {
        "id": "fB5SlVrJqgCy",
        "colab": {
          "base_uri": "https://localhost:8080/",
          "height": 347
        },
        "outputId": "f55b66c4-6599-4b04-a70b-471de6c2a253"
      },
      "source": [
        "from sklearn.preprocessing import StandardScaler\n",
        "\n",
        "sc = StandardScaler()\n",
        "sales_df[\"scaled_age\"] = sc.fit_transform(sales_df[\"age\"].values.reshape(-1,1))\n",
        "sales_df[\"scaled_family\"] = sc.fit_transform(sales_df[\"family\"].values.reshape(-1,1))\n",
        "sales_df"
      ],
      "execution_count": 9,
      "outputs": [
        {
          "output_type": "execute_result",
          "data": {
            "text/html": [
              "<div>\n",
              "<style scoped>\n",
              "    .dataframe tbody tr th:only-of-type {\n",
              "        vertical-align: middle;\n",
              "    }\n",
              "\n",
              "    .dataframe tbody tr th {\n",
              "        vertical-align: top;\n",
              "    }\n",
              "\n",
              "    .dataframe thead th {\n",
              "        text-align: right;\n",
              "    }\n",
              "</style>\n",
              "<table border=\"1\" class=\"dataframe\">\n",
              "  <thead>\n",
              "    <tr style=\"text-align: right;\">\n",
              "      <th></th>\n",
              "      <th>buy</th>\n",
              "      <th>age</th>\n",
              "      <th>family</th>\n",
              "      <th>scaled_age</th>\n",
              "      <th>scaled_family</th>\n",
              "    </tr>\n",
              "  </thead>\n",
              "  <tbody>\n",
              "    <tr>\n",
              "      <th>0</th>\n",
              "      <td>0</td>\n",
              "      <td>25</td>\n",
              "      <td>2</td>\n",
              "      <td>-1.808107</td>\n",
              "      <td>-1.290994</td>\n",
              "    </tr>\n",
              "    <tr>\n",
              "      <th>1</th>\n",
              "      <td>1</td>\n",
              "      <td>35</td>\n",
              "      <td>4</td>\n",
              "      <td>0.480636</td>\n",
              "      <td>1.290994</td>\n",
              "    </tr>\n",
              "    <tr>\n",
              "      <th>2</th>\n",
              "      <td>0</td>\n",
              "      <td>28</td>\n",
              "      <td>2</td>\n",
              "      <td>-1.121484</td>\n",
              "      <td>-1.290994</td>\n",
              "    </tr>\n",
              "    <tr>\n",
              "      <th>3</th>\n",
              "      <td>1</td>\n",
              "      <td>40</td>\n",
              "      <td>3</td>\n",
              "      <td>1.625008</td>\n",
              "      <td>0.000000</td>\n",
              "    </tr>\n",
              "    <tr>\n",
              "      <th>4</th>\n",
              "      <td>0</td>\n",
              "      <td>32</td>\n",
              "      <td>3</td>\n",
              "      <td>-0.205987</td>\n",
              "      <td>0.000000</td>\n",
              "    </tr>\n",
              "    <tr>\n",
              "      <th>5</th>\n",
              "      <td>0</td>\n",
              "      <td>30</td>\n",
              "      <td>3</td>\n",
              "      <td>-0.663735</td>\n",
              "      <td>0.000000</td>\n",
              "    </tr>\n",
              "    <tr>\n",
              "      <th>6</th>\n",
              "      <td>1</td>\n",
              "      <td>31</td>\n",
              "      <td>4</td>\n",
              "      <td>-0.434861</td>\n",
              "      <td>1.290994</td>\n",
              "    </tr>\n",
              "    <tr>\n",
              "      <th>7</th>\n",
              "      <td>0</td>\n",
              "      <td>34</td>\n",
              "      <td>4</td>\n",
              "      <td>0.251762</td>\n",
              "      <td>1.290994</td>\n",
              "    </tr>\n",
              "    <tr>\n",
              "      <th>8</th>\n",
              "      <td>1</td>\n",
              "      <td>36</td>\n",
              "      <td>3</td>\n",
              "      <td>0.709510</td>\n",
              "      <td>0.000000</td>\n",
              "    </tr>\n",
              "    <tr>\n",
              "      <th>9</th>\n",
              "      <td>1</td>\n",
              "      <td>38</td>\n",
              "      <td>2</td>\n",
              "      <td>1.167259</td>\n",
              "      <td>-1.290994</td>\n",
              "    </tr>\n",
              "  </tbody>\n",
              "</table>\n",
              "</div>"
            ],
            "text/plain": [
              "   buy  age  family  scaled_age  scaled_family\n",
              "0    0   25       2   -1.808107      -1.290994\n",
              "1    1   35       4    0.480636       1.290994\n",
              "2    0   28       2   -1.121484      -1.290994\n",
              "3    1   40       3    1.625008       0.000000\n",
              "4    0   32       3   -0.205987       0.000000\n",
              "5    0   30       3   -0.663735       0.000000\n",
              "6    1   31       4   -0.434861       1.290994\n",
              "7    0   34       4    0.251762       1.290994\n",
              "8    1   36       3    0.709510       0.000000\n",
              "9    1   38       2    1.167259      -1.290994"
            ]
          },
          "metadata": {
            "tags": []
          },
          "execution_count": 9
        }
      ]
    },
    {
      "cell_type": "markdown",
      "metadata": {
        "id": "dCWkYMg9m3_0"
      },
      "source": [
        "> `StandardScaler` 　によってデータを標準化（Z-スコア化）しています。 `z = (x - mean) / std`"
      ]
    },
    {
      "cell_type": "code",
      "metadata": {
        "id": "b0PbQfCPrKsX",
        "colab": {
          "base_uri": "https://localhost:8080/"
        },
        "outputId": "d598f188-b9ea-4cfb-ac8a-5e6e54adfc19"
      },
      "source": [
        "clf = KNeighborsClassifier(n_neighbors=1)\n",
        "clf.fit(sales_df[[\"scaled_age\", \"scaled_family\"]], sales_df[\"buy\"])"
      ],
      "execution_count": 10,
      "outputs": [
        {
          "output_type": "execute_result",
          "data": {
            "text/plain": [
              "KNeighborsClassifier(algorithm='auto', leaf_size=30, metric='minkowski',\n",
              "                     metric_params=None, n_jobs=None, n_neighbors=1, p=2,\n",
              "                     weights='uniform')"
            ]
          },
          "metadata": {
            "tags": []
          },
          "execution_count": 10
        }
      ]
    },
    {
      "cell_type": "markdown",
      "metadata": {
        "id": "ADs6bgE8nH95"
      },
      "source": [
        "> 標準化したデータで再度、学習します。"
      ]
    },
    {
      "cell_type": "code",
      "metadata": {
        "id": "6lJFneZGrRoB",
        "colab": {
          "base_uri": "https://localhost:8080/",
          "height": 313
        },
        "outputId": "3129dee0-94ba-4d9b-c04f-548f365bf126"
      },
      "source": [
        "samples = [-1.121484,  1.290994] # 28, 4\n",
        "print(clf.predict([samples]))\n",
        "\n",
        "ax = sales_df[sales_df[\"buy\"]==0].plot.scatter(\"scaled_age\", \"scaled_family\", marker=\"x\", color=\"red\")\n",
        "sales_df[sales_df[\"buy\"]==1].plot.scatter(\"scaled_age\", \"scaled_family\",  marker=\"o\", color=\"blue\", ax=ax)\n",
        "ax.scatter(samples[0], samples[1], marker=\"^\", color=\"green\")"
      ],
      "execution_count": 11,
      "outputs": [
        {
          "output_type": "stream",
          "text": [
            "[1]\n"
          ],
          "name": "stdout"
        },
        {
          "output_type": "execute_result",
          "data": {
            "text/plain": [
              "<matplotlib.collections.PathCollection at 0x7f452603dc50>"
            ]
          },
          "metadata": {
            "tags": []
          },
          "execution_count": 11
        },
        {
          "output_type": "display_data",
          "data": {
            "image/png": "[encoded data removed]",
            "text/plain": [
              "<Figure size 432x288 with 1 Axes>"
            ]
          },
          "metadata": {
            "tags": [],
            "needs_background": "light"
          }
        }
      ]
    },
    {
      "cell_type": "markdown",
      "metadata": {
        "id": "YyNTopZbnOVd"
      },
      "source": [
        "> `[-1.121484,  1.290994] # 28, 4` を示すデータは 1 ：購入となります。 "
      ]
    },
    {
      "cell_type": "code",
      "metadata": {
        "id": "oxQoluM2olh9",
        "colab": {
          "base_uri": "https://localhost:8080/",
          "height": 314
        },
        "outputId": "67f0ac35-b8bd-4d27-d4af-78147208a12f"
      },
      "source": [
        "from mlxtend.plotting import plot_decision_regions\n",
        "\n",
        "plot_decision_regions(sales_df[[\"scaled_age\", \"scaled_family\"]].values, sales_df[\"buy\"].values, clf=clf)"
      ],
      "execution_count": 12,
      "outputs": [
        {
          "output_type": "stream",
          "text": [
            "/usr/local/lib/python3.6/dist-packages/mlxtend/plotting/decision_regions.py:244: MatplotlibDeprecationWarning: Passing unsupported keyword arguments to axis() will raise a TypeError in 3.3.\n",
            "  ax.axis(xmin=xx.min(), xmax=xx.max(), y_min=yy.min(), y_max=yy.max())\n"
          ],
          "name": "stderr"
        },
        {
          "output_type": "execute_result",
          "data": {
            "text/plain": [
              "<matplotlib.axes._subplots.AxesSubplot at 0x7f452527ddd8>"
            ]
          },
          "metadata": {
            "tags": []
          },
          "execution_count": 12
        },
        {
          "output_type": "display_data",
          "data": {
            "image/png": "[encoded data removed]",
            "text/plain": [
              "<Figure size 432x288 with 1 Axes>"
            ]
          },
          "metadata": {
            "tags": [],
            "needs_background": "light"
          }
        }
      ]
    },
    {
      "cell_type": "markdown",
      "metadata": {
        "id": "wZ-8oGfkspAV"
      },
      "source": [
        "> `mlxtend` というライブラリを使うと分類モデルの推論した境界線を表示できます。"
      ]
    },
    {
      "cell_type": "markdown",
      "metadata": {
        "id": "8DGIG47sxNGz"
      },
      "source": [
        "## 例題3 - 分類問題の評価測定"
      ]
    },
    {
      "cell_type": "markdown",
      "metadata": {
        "id": "oLzTV0w5xSaB"
      },
      "source": [
        "sklearn を使ってサンプルデータを生成します。"
      ]
    },
    {
      "cell_type": "code",
      "metadata": {
        "colab": {
          "base_uri": "https://localhost:8080/",
          "height": 406
        },
        "id": "t-iRheOhtQ9v",
        "outputId": "b96ea388-1c1d-49fb-c33a-27a9a1f91553"
      },
      "source": [
        "from sklearn.datasets import make_blobs\n",
        "\n",
        "x, y = make_blobs(random_state=8,\n",
        "                  n_samples=500, \n",
        "                  n_features=2, \n",
        "                  cluster_std=1.5,\n",
        "                  centers=2,\n",
        "                  center_box=(0, 10)\n",
        "                  )\n",
        "\n",
        "df = pd.DataFrame(x, columns=[\"w\", \"h\"])\n",
        "df[\"answer\"] = y\n",
        "df"
      ],
      "execution_count": 13,
      "outputs": [
        {
          "output_type": "execute_result",
          "data": {
            "text/html": [
              "<div>\n",
              "<style scoped>\n",
              "    .dataframe tbody tr th:only-of-type {\n",
              "        vertical-align: middle;\n",
              "    }\n",
              "\n",
              "    .dataframe tbody tr th {\n",
              "        vertical-align: top;\n",
              "    }\n",
              "\n",
              "    .dataframe thead th {\n",
              "        text-align: right;\n",
              "    }\n",
              "</style>\n",
              "<table border=\"1\" class=\"dataframe\">\n",
              "  <thead>\n",
              "    <tr style=\"text-align: right;\">\n",
              "      <th></th>\n",
              "      <th>w</th>\n",
              "      <th>h</th>\n",
              "      <th>answer</th>\n",
              "    </tr>\n",
              "  </thead>\n",
              "  <tbody>\n",
              "    <tr>\n",
              "      <th>0</th>\n",
              "      <td>7.008658</td>\n",
              "      <td>4.920822</td>\n",
              "      <td>1</td>\n",
              "    </tr>\n",
              "    <tr>\n",
              "      <th>1</th>\n",
              "      <td>8.781190</td>\n",
              "      <td>9.958301</td>\n",
              "      <td>0</td>\n",
              "    </tr>\n",
              "    <tr>\n",
              "      <th>2</th>\n",
              "      <td>9.540405</td>\n",
              "      <td>9.930013</td>\n",
              "      <td>0</td>\n",
              "    </tr>\n",
              "    <tr>\n",
              "      <th>3</th>\n",
              "      <td>8.659880</td>\n",
              "      <td>8.513604</td>\n",
              "      <td>0</td>\n",
              "    </tr>\n",
              "    <tr>\n",
              "      <th>4</th>\n",
              "      <td>10.203574</td>\n",
              "      <td>7.244540</td>\n",
              "      <td>1</td>\n",
              "    </tr>\n",
              "    <tr>\n",
              "      <th>...</th>\n",
              "      <td>...</td>\n",
              "      <td>...</td>\n",
              "      <td>...</td>\n",
              "    </tr>\n",
              "    <tr>\n",
              "      <th>495</th>\n",
              "      <td>9.429335</td>\n",
              "      <td>8.372609</td>\n",
              "      <td>0</td>\n",
              "    </tr>\n",
              "    <tr>\n",
              "      <th>496</th>\n",
              "      <td>9.814982</td>\n",
              "      <td>11.514625</td>\n",
              "      <td>0</td>\n",
              "    </tr>\n",
              "    <tr>\n",
              "      <th>497</th>\n",
              "      <td>8.999855</td>\n",
              "      <td>7.984196</td>\n",
              "      <td>0</td>\n",
              "    </tr>\n",
              "    <tr>\n",
              "      <th>498</th>\n",
              "      <td>10.670994</td>\n",
              "      <td>9.323154</td>\n",
              "      <td>0</td>\n",
              "    </tr>\n",
              "    <tr>\n",
              "      <th>499</th>\n",
              "      <td>10.549387</td>\n",
              "      <td>7.286580</td>\n",
              "      <td>1</td>\n",
              "    </tr>\n",
              "  </tbody>\n",
              "</table>\n",
              "<p>500 rows × 3 columns</p>\n",
              "</div>"
            ],
            "text/plain": [
              "             w          h  answer\n",
              "0     7.008658   4.920822       1\n",
              "1     8.781190   9.958301       0\n",
              "2     9.540405   9.930013       0\n",
              "3     8.659880   8.513604       0\n",
              "4    10.203574   7.244540       1\n",
              "..         ...        ...     ...\n",
              "495   9.429335   8.372609       0\n",
              "496   9.814982  11.514625       0\n",
              "497   8.999855   7.984196       0\n",
              "498  10.670994   9.323154       0\n",
              "499  10.549387   7.286580       1\n",
              "\n",
              "[500 rows x 3 columns]"
            ]
          },
          "metadata": {
            "tags": []
          },
          "execution_count": 13
        }
      ]
    },
    {
      "cell_type": "markdown",
      "metadata": {
        "id": "C6roaOiQyVWP"
      },
      "source": [
        "> make_blobs 以外にも サンプルデータ生成用のユーティリティが用意されています。 https://scikit-learn.org/stable/modules/classes.html#samples-generator"
      ]
    },
    {
      "cell_type": "code",
      "metadata": {
        "colab": {
          "base_uri": "https://localhost:8080/",
          "height": 295
        },
        "id": "sk6LTgt0xbTx",
        "outputId": "3e96f4ca-a358-41f5-d8c7-7703f83e3961"
      },
      "source": [
        "ax = df[df[\"answer\"] == 0].plot.scatter(\"w\", \"h\", color=\"red\")\n",
        "df[df[\"answer\"] == 1].plot.scatter(\"w\", \"h\", ax=ax, color=\"blue\")"
      ],
      "execution_count": 14,
      "outputs": [
        {
          "output_type": "execute_result",
          "data": {
            "text/plain": [
              "<matplotlib.axes._subplots.AxesSubplot at 0x7f452441e860>"
            ]
          },
          "metadata": {
            "tags": []
          },
          "execution_count": 14
        },
        {
          "output_type": "display_data",
          "data": {
            "image/png": "[encoded data removed]",
            "text/plain": [
              "<Figure size 432x288 with 1 Axes>"
            ]
          },
          "metadata": {
            "tags": [],
            "needs_background": "light"
          }
        }
      ]
    },
    {
      "cell_type": "markdown",
      "metadata": {
        "id": "njVVbuF-yhxM"
      },
      "source": [
        "> 散布図を描画します。"
      ]
    },
    {
      "cell_type": "code",
      "metadata": {
        "colab": {
          "base_uri": "https://localhost:8080/"
        },
        "id": "G4hj4cluym9O",
        "outputId": "422bf1ac-7d15-4235-a976-445d509ee82b"
      },
      "source": [
        "from sklearn.model_selection import train_test_split\n",
        "\n",
        "x_train, x_test, y_train, y_test = train_test_split(df[[\"w\", \"h\"]].values, df[\"answer\"].values, random_state = 8)\n",
        "\n",
        "print(x_train.shape)\n",
        "print(x_test.shape)\n",
        "print(y_train.shape)\n",
        "print(y_test.shape)"
      ],
      "execution_count": 15,
      "outputs": [
        {
          "output_type": "stream",
          "text": [
            "(375, 2)\n",
            "(125, 2)\n",
            "(375,)\n",
            "(125,)\n"
          ],
          "name": "stdout"
        }
      ]
    },
    {
      "cell_type": "markdown",
      "metadata": {
        "id": "O3866o2dyq8s"
      },
      "source": [
        "> train_test_split で訓練データとテストデータを分割します。"
      ]
    },
    {
      "cell_type": "code",
      "metadata": {
        "colab": {
          "base_uri": "https://localhost:8080/"
        },
        "id": "E6Zb6gPTv1XC",
        "outputId": "13e1f7df-f01b-4e73-9305-0842bd12e9d3"
      },
      "source": [
        "from sklearn.neighbors import KNeighborsClassifier\n",
        "\n",
        "clf = KNeighborsClassifier(n_neighbors=1)\n",
        "clf.fit(x_train, y_train)\n",
        "\n",
        "print(\"p:\", clf.predict(x_test)[:30])\n",
        "print(\"a:\", y_test[:30])"
      ],
      "execution_count": 16,
      "outputs": [
        {
          "output_type": "stream",
          "text": [
            "p: [0 0 0 0 1 0 0 0 1 0 0 0 1 0 1 1 1 1 0 1 0 1 1 1 1 0 0 0 1 0]\n",
            "a: [0 0 0 0 1 0 0 0 1 0 1 0 1 0 1 1 1 1 0 0 0 1 1 1 1 0 0 0 1 0]\n"
          ],
          "name": "stdout"
        }
      ]
    },
    {
      "cell_type": "markdown",
      "metadata": {
        "id": "E1GQNAX9yw-y"
      },
      "source": [
        "> 推論値と期待値を比較しています。"
      ]
    },
    {
      "cell_type": "code",
      "metadata": {
        "colab": {
          "base_uri": "https://localhost:8080/"
        },
        "id": "HTDSlhyUwDIN",
        "outputId": "06889c73-4c5b-4efd-e0ea-28900a4b5dfa"
      },
      "source": [
        "print(\"Accuracy:\", clf.score(x_test, y_test))"
      ],
      "execution_count": 17,
      "outputs": [
        {
          "output_type": "stream",
          "text": [
            "Accuracy: 0.888\n"
          ],
          "name": "stdout"
        }
      ]
    },
    {
      "cell_type": "markdown",
      "metadata": {
        "id": "F3RMYIVvy3Oo"
      },
      "source": [
        "> 分類問題の場合はscoreメソッドで正答率（Accuracy） を表示できます。"
      ]
    },
    {
      "cell_type": "code",
      "metadata": {
        "colab": {
          "base_uri": "https://localhost:8080/",
          "height": 107
        },
        "id": "pr_xv9BSzO4L",
        "outputId": "592deab6-7f9f-4316-d67f-56b82ac4e651"
      },
      "source": [
        "from sklearn.metrics import confusion_matrix\n",
        "cm = confusion_matrix(y_test, clf.predict(x_test))\n",
        "pd.DataFrame(cm)"
      ],
      "execution_count": 18,
      "outputs": [
        {
          "output_type": "execute_result",
          "data": {
            "text/html": [
              "<div>\n",
              "<style scoped>\n",
              "    .dataframe tbody tr th:only-of-type {\n",
              "        vertical-align: middle;\n",
              "    }\n",
              "\n",
              "    .dataframe tbody tr th {\n",
              "        vertical-align: top;\n",
              "    }\n",
              "\n",
              "    .dataframe thead th {\n",
              "        text-align: right;\n",
              "    }\n",
              "</style>\n",
              "<table border=\"1\" class=\"dataframe\">\n",
              "  <thead>\n",
              "    <tr style=\"text-align: right;\">\n",
              "      <th></th>\n",
              "      <th>0</th>\n",
              "      <th>1</th>\n",
              "    </tr>\n",
              "  </thead>\n",
              "  <tbody>\n",
              "    <tr>\n",
              "      <th>0</th>\n",
              "      <td>55</td>\n",
              "      <td>10</td>\n",
              "    </tr>\n",
              "    <tr>\n",
              "      <th>1</th>\n",
              "      <td>4</td>\n",
              "      <td>56</td>\n",
              "    </tr>\n",
              "  </tbody>\n",
              "</table>\n",
              "</div>"
            ],
            "text/plain": [
              "    0   1\n",
              "0  55  10\n",
              "1   4  56"
            ]
          },
          "metadata": {
            "tags": []
          },
          "execution_count": 18
        }
      ]
    },
    {
      "cell_type": "markdown",
      "metadata": {
        "id": "9h083prc0UhJ"
      },
      "source": [
        "> 混同行列（confusion matrix）という評価方法もあります。"
      ]
    },
    {
      "cell_type": "code",
      "metadata": {
        "colab": {
          "base_uri": "https://localhost:8080/",
          "height": 314
        },
        "id": "EhCKWPNOwyoH",
        "outputId": "2bccc294-6ee5-4d33-9eef-0a9214f2eee2"
      },
      "source": [
        "from mlxtend.plotting import plot_decision_regions\n",
        "\n",
        "plot_decision_regions(df[[\"w\", \"h\"]].values, df[\"answer\"].values, clf=clf)"
      ],
      "execution_count": 19,
      "outputs": [
        {
          "output_type": "stream",
          "text": [
            "/usr/local/lib/python3.6/dist-packages/mlxtend/plotting/decision_regions.py:244: MatplotlibDeprecationWarning: Passing unsupported keyword arguments to axis() will raise a TypeError in 3.3.\n",
            "  ax.axis(xmin=xx.min(), xmax=xx.max(), y_min=yy.min(), y_max=yy.max())\n"
          ],
          "name": "stderr"
        },
        {
          "output_type": "execute_result",
          "data": {
            "text/plain": [
              "<matplotlib.axes._subplots.AxesSubplot at 0x7f4524394240>"
            ]
          },
          "metadata": {
            "tags": []
          },
          "execution_count": 19
        },
        {
          "output_type": "display_data",
          "data": {
            "image/png": "[encoded data removed]",
            "text/plain": [
              "<Figure size 432x288 with 1 Axes>"
            ]
          },
          "metadata": {
            "tags": [],
            "needs_background": "light"
          }
        }
      ]
    },
    {
      "cell_type": "markdown",
      "metadata": {
        "id": "epqAFW8v0tel"
      },
      "source": [
        "> 分類モデルの境界線は上記のようになります。"
      ]
    }
  ]
}