{
  "nbformat": 4,
  "nbformat_minor": 0,
  "metadata": {
    "colab": {
      "name": "anscombe-answer.ipynb",
      "provenance": [],
      "collapsed_sections": [],
      "toc_visible": true
    },
    "kernelspec": {
      "name": "python3",
      "display_name": "Python 3"
    }
  },
  "cells": [
    {
      "cell_type": "markdown",
      "metadata": {
        "id": "VNR-uFwu9JS0"
      },
      "source": [
        "## 総合演習1 - 相関と回帰直線\n"
      ]
    },
    {
      "cell_type": "markdown",
      "metadata": {
        "id": "81I8tWb99Wka"
      },
      "source": [
        "### 1.1 wgetコマンド以下のURLからでファイル（anscombe.csv）をダウンロードしてください。\n",
        "\n",
        "```\n",
        "https://gist.githubusercontent.com/murayama333/5b3cbe9ddbaadd2633b5a697242904bb/raw/bf3dd0fac6d945a8889ff3840ab0a3fa961618e9/anscombe.csv\n",
        "```"
      ]
    },
    {
      "cell_type": "code",
      "metadata": {
        "colab": {
          "base_uri": "https://localhost:8080/"
        },
        "id": "zLIL1-iAZpE6",
        "outputId": "f10b2659-b522-463f-9130-54026e0f8f13"
      },
      "source": [
        "!wget https://gist.githubusercontent.com/murayama333/5b3cbe9ddbaadd2633b5a697242904bb/raw/bf3dd0fac6d945a8889ff3840ab0a3fa961618e9/anscombe.csv"
      ],
      "execution_count": null,
      "outputs": [
        {
          "output_type": "stream",
          "text": [
            "--2021-03-09 22:17:14--  https://gist.githubusercontent.com/murayama333/5b3cbe9ddbaadd2633b5a697242904bb/raw/bf3dd0fac6d945a8889ff3840ab0a3fa961618e9/anscombe.csv\n",
            "Resolving gist.githubusercontent.com (gist.githubusercontent.com)... 185.199.109.133, 185.199.111.133, 185.199.108.133, ...\n",
            "Connecting to gist.githubusercontent.com (gist.githubusercontent.com)|185.199.109.133|:443... connected.\n",
            "HTTP request sent, awaiting response... 200 OK\n",
            "Length: 439 [text/plain]\n",
            "Saving to: ‘anscombe.csv’\n",
            "\n",
            "\ranscombe.csv          0%[                    ]       0  --.-KB/s               \ranscombe.csv        100%[===================>]     439  --.-KB/s    in 0s      \n",
            "\n",
            "2021-03-09 22:17:15 (21.7 MB/s) - ‘anscombe.csv’ saved [439/439]\n",
            "\n"
          ],
          "name": "stdout"
        }
      ]
    },
    {
      "cell_type": "markdown",
      "metadata": {
        "id": "2Y7v1EuN9iPc"
      },
      "source": [
        "### 1.2 pandasのDataFrameで anscombe.csv を表示してください。\n",
        "\n",
        "> DataFrameを扱う変数は `anscombe_df` とします。"
      ]
    },
    {
      "cell_type": "code",
      "metadata": {
        "colab": {
          "base_uri": "https://localhost:8080/",
          "height": 377
        },
        "id": "yhqU2ymhZBeh",
        "outputId": "01627d9b-863b-4baa-d0f2-9df65cf9698c"
      },
      "source": [
        "import numpy as np\n",
        "import pandas as pd\n",
        "from sklearn.linear_model import LinearRegression\n",
        "\n",
        "anscombe_df = pd.read_csv(\"anscombe.csv\")\n",
        "anscombe_df"
      ],
      "execution_count": null,
      "outputs": [
        {
          "output_type": "execute_result",
          "data": {
            "text/html": [
              "<div>\n",
              "<style scoped>\n",
              "    .dataframe tbody tr th:only-of-type {\n",
              "        vertical-align: middle;\n",
              "    }\n",
              "\n",
              "    .dataframe tbody tr th {\n",
              "        vertical-align: top;\n",
              "    }\n",
              "\n",
              "    .dataframe thead th {\n",
              "        text-align: right;\n",
              "    }\n",
              "</style>\n",
              "<table border=\"1\" class=\"dataframe\">\n",
              "  <thead>\n",
              "    <tr style=\"text-align: right;\">\n",
              "      <th></th>\n",
              "      <th>x1</th>\n",
              "      <th>y1</th>\n",
              "      <th>x2</th>\n",
              "      <th>y2</th>\n",
              "      <th>x3</th>\n",
              "      <th>y3</th>\n",
              "      <th>x4</th>\n",
              "      <th>y4</th>\n",
              "    </tr>\n",
              "  </thead>\n",
              "  <tbody>\n",
              "    <tr>\n",
              "      <th>0</th>\n",
              "      <td>10.0</td>\n",
              "      <td>8.04</td>\n",
              "      <td>10.0</td>\n",
              "      <td>9.14</td>\n",
              "      <td>10.0</td>\n",
              "      <td>7.46</td>\n",
              "      <td>8.0</td>\n",
              "      <td>6.58</td>\n",
              "    </tr>\n",
              "    <tr>\n",
              "      <th>1</th>\n",
              "      <td>8.0</td>\n",
              "      <td>6.95</td>\n",
              "      <td>8.0</td>\n",
              "      <td>8.14</td>\n",
              "      <td>8.0</td>\n",
              "      <td>6.77</td>\n",
              "      <td>8.0</td>\n",
              "      <td>5.76</td>\n",
              "    </tr>\n",
              "    <tr>\n",
              "      <th>2</th>\n",
              "      <td>13.0</td>\n",
              "      <td>7.58</td>\n",
              "      <td>13.0</td>\n",
              "      <td>8.74</td>\n",
              "      <td>13.0</td>\n",
              "      <td>12.74</td>\n",
              "      <td>8.0</td>\n",
              "      <td>7.71</td>\n",
              "    </tr>\n",
              "    <tr>\n",
              "      <th>3</th>\n",
              "      <td>9.0</td>\n",
              "      <td>8.81</td>\n",
              "      <td>9.0</td>\n",
              "      <td>8.77</td>\n",
              "      <td>9.0</td>\n",
              "      <td>7.11</td>\n",
              "      <td>8.0</td>\n",
              "      <td>8.84</td>\n",
              "    </tr>\n",
              "    <tr>\n",
              "      <th>4</th>\n",
              "      <td>11.0</td>\n",
              "      <td>8.33</td>\n",
              "      <td>11.0</td>\n",
              "      <td>9.26</td>\n",
              "      <td>11.0</td>\n",
              "      <td>7.81</td>\n",
              "      <td>8.0</td>\n",
              "      <td>8.47</td>\n",
              "    </tr>\n",
              "    <tr>\n",
              "      <th>5</th>\n",
              "      <td>14.0</td>\n",
              "      <td>9.96</td>\n",
              "      <td>14.0</td>\n",
              "      <td>8.10</td>\n",
              "      <td>14.0</td>\n",
              "      <td>8.84</td>\n",
              "      <td>8.0</td>\n",
              "      <td>7.04</td>\n",
              "    </tr>\n",
              "    <tr>\n",
              "      <th>6</th>\n",
              "      <td>6.0</td>\n",
              "      <td>7.24</td>\n",
              "      <td>6.0</td>\n",
              "      <td>6.13</td>\n",
              "      <td>6.0</td>\n",
              "      <td>6.08</td>\n",
              "      <td>8.0</td>\n",
              "      <td>5.25</td>\n",
              "    </tr>\n",
              "    <tr>\n",
              "      <th>7</th>\n",
              "      <td>4.0</td>\n",
              "      <td>4.26</td>\n",
              "      <td>4.0</td>\n",
              "      <td>3.10</td>\n",
              "      <td>4.0</td>\n",
              "      <td>5.39</td>\n",
              "      <td>19.0</td>\n",
              "      <td>12.50</td>\n",
              "    </tr>\n",
              "    <tr>\n",
              "      <th>8</th>\n",
              "      <td>12.0</td>\n",
              "      <td>10.84</td>\n",
              "      <td>12.0</td>\n",
              "      <td>9.13</td>\n",
              "      <td>12.0</td>\n",
              "      <td>8.15</td>\n",
              "      <td>8.0</td>\n",
              "      <td>5.56</td>\n",
              "    </tr>\n",
              "    <tr>\n",
              "      <th>9</th>\n",
              "      <td>7.0</td>\n",
              "      <td>4.82</td>\n",
              "      <td>7.0</td>\n",
              "      <td>7.26</td>\n",
              "      <td>7.0</td>\n",
              "      <td>6.42</td>\n",
              "      <td>8.0</td>\n",
              "      <td>7.91</td>\n",
              "    </tr>\n",
              "    <tr>\n",
              "      <th>10</th>\n",
              "      <td>5.0</td>\n",
              "      <td>5.68</td>\n",
              "      <td>5.0</td>\n",
              "      <td>4.74</td>\n",
              "      <td>5.0</td>\n",
              "      <td>5.73</td>\n",
              "      <td>8.0</td>\n",
              "      <td>6.89</td>\n",
              "    </tr>\n",
              "  </tbody>\n",
              "</table>\n",
              "</div>"
            ],
            "text/plain": [
              "      x1     y1    x2    y2    x3     y3    x4     y4\n",
              "0   10.0   8.04  10.0  9.14  10.0   7.46   8.0   6.58\n",
              "1    8.0   6.95   8.0  8.14   8.0   6.77   8.0   5.76\n",
              "2   13.0   7.58  13.0  8.74  13.0  12.74   8.0   7.71\n",
              "3    9.0   8.81   9.0  8.77   9.0   7.11   8.0   8.84\n",
              "4   11.0   8.33  11.0  9.26  11.0   7.81   8.0   8.47\n",
              "5   14.0   9.96  14.0  8.10  14.0   8.84   8.0   7.04\n",
              "6    6.0   7.24   6.0  6.13   6.0   6.08   8.0   5.25\n",
              "7    4.0   4.26   4.0  3.10   4.0   5.39  19.0  12.50\n",
              "8   12.0  10.84  12.0  9.13  12.0   8.15   8.0   5.56\n",
              "9    7.0   4.82   7.0  7.26   7.0   6.42   8.0   7.91\n",
              "10   5.0   5.68   5.0  4.74   5.0   5.73   8.0   6.89"
            ]
          },
          "metadata": {
            "tags": []
          },
          "execution_count": 2
        }
      ]
    },
    {
      "cell_type": "markdown",
      "metadata": {
        "id": "zwQ-2VTDBX2G"
      },
      "source": [
        "### 1.3 DataFrame(anscombe_df)の \"x1\" 列の平均値を出力してください。\n",
        "> ただし列の指定には変数 col_xを 使うものとします。"
      ]
    },
    {
      "cell_type": "code",
      "metadata": {
        "colab": {
          "base_uri": "https://localhost:8080/"
        },
        "id": "hmpQQRKm-BBc",
        "outputId": "151039fb-aa13-4f42-8b90-9ddfbcbe6c98"
      },
      "source": [
        "col_x = \"x1\"\n",
        "anscombe_df[col_x].values.mean()"
      ],
      "execution_count": null,
      "outputs": [
        {
          "output_type": "execute_result",
          "data": {
            "text/plain": [
              "9.0"
            ]
          },
          "metadata": {
            "tags": []
          },
          "execution_count": 3
        }
      ]
    },
    {
      "cell_type": "markdown",
      "metadata": {
        "id": "IcfPoP4wBqwn"
      },
      "source": [
        "### 1.4 DataFrame(anscombe_df)の \"x1\" 列の標準偏差を出力してください。\n",
        "> 標準偏差を出力するstdメソッドの引数に ddof=1 を指定します。また列の指定には変数 col_x を使うものとします。"
      ]
    },
    {
      "cell_type": "code",
      "metadata": {
        "colab": {
          "base_uri": "https://localhost:8080/"
        },
        "id": "IdBEiatH-nP-",
        "outputId": "987caa28-fbb7-4e39-e22d-29f452d25fb9"
      },
      "source": [
        "anscombe_df[col_x].values.std(ddof=1)"
      ],
      "execution_count": null,
      "outputs": [
        {
          "output_type": "execute_result",
          "data": {
            "text/plain": [
              "3.3166247903554"
            ]
          },
          "metadata": {
            "tags": []
          },
          "execution_count": 4
        }
      ]
    },
    {
      "cell_type": "markdown",
      "metadata": {
        "id": "q1I0lebFCLdw"
      },
      "source": [
        "### 1.5 DataFrame(anscombe_df)の \"y1\" 列の平均値を出力してください。\n",
        "> ただし列の指定には変数 col_y を 使うものとします。"
      ]
    },
    {
      "cell_type": "code",
      "metadata": {
        "colab": {
          "base_uri": "https://localhost:8080/"
        },
        "id": "UtgSu2De-w3s",
        "outputId": "495a66e9-2053-49c7-ebc7-59d6dc1b31e1"
      },
      "source": [
        "col_y = \"y1\"\n",
        "anscombe_df[col_y].values.mean()"
      ],
      "execution_count": null,
      "outputs": [
        {
          "output_type": "execute_result",
          "data": {
            "text/plain": [
              "7.500909090909093"
            ]
          },
          "metadata": {
            "tags": []
          },
          "execution_count": 5
        }
      ]
    },
    {
      "cell_type": "markdown",
      "metadata": {
        "id": "dV4YecbsCYM3"
      },
      "source": [
        "### 1.6 DataFrame(anscombe_df)の \"y1\" 列の標準偏差を出力してください。\n",
        "> 標準偏差を出力するstdメソッドの引数に ddof=1 を指定します。また列の指定には変数 col_y を使うものとします。"
      ]
    },
    {
      "cell_type": "code",
      "metadata": {
        "colab": {
          "base_uri": "https://localhost:8080/"
        },
        "id": "y-3Wlmra-2YQ",
        "outputId": "ab0bfe7a-3e37-4cc7-fa02-b65124886d54"
      },
      "source": [
        "anscombe_df[col_y].values.std(ddof=1)"
      ],
      "execution_count": null,
      "outputs": [
        {
          "output_type": "execute_result",
          "data": {
            "text/plain": [
              "2.031568135925815"
            ]
          },
          "metadata": {
            "tags": []
          },
          "execution_count": 6
        }
      ]
    },
    {
      "cell_type": "markdown",
      "metadata": {
        "id": "RqlFexV4ClF5"
      },
      "source": [
        "### 1.7 DataFrame(anscombe_df)の概要を出力してください。"
      ]
    },
    {
      "cell_type": "code",
      "metadata": {
        "colab": {
          "base_uri": "https://localhost:8080/",
          "height": 287
        },
        "id": "n3dL4TBq_hyc",
        "outputId": "63e669ce-64e9-41f3-e5e4-37a14c6b40e0"
      },
      "source": [
        "anscombe_df[[col_x, col_y]].describe()"
      ],
      "execution_count": null,
      "outputs": [
        {
          "output_type": "execute_result",
          "data": {
            "text/html": [
              "<div>\n",
              "<style scoped>\n",
              "    .dataframe tbody tr th:only-of-type {\n",
              "        vertical-align: middle;\n",
              "    }\n",
              "\n",
              "    .dataframe tbody tr th {\n",
              "        vertical-align: top;\n",
              "    }\n",
              "\n",
              "    .dataframe thead th {\n",
              "        text-align: right;\n",
              "    }\n",
              "</style>\n",
              "<table border=\"1\" class=\"dataframe\">\n",
              "  <thead>\n",
              "    <tr style=\"text-align: right;\">\n",
              "      <th></th>\n",
              "      <th>x1</th>\n",
              "      <th>y1</th>\n",
              "    </tr>\n",
              "  </thead>\n",
              "  <tbody>\n",
              "    <tr>\n",
              "      <th>count</th>\n",
              "      <td>11.000000</td>\n",
              "      <td>11.000000</td>\n",
              "    </tr>\n",
              "    <tr>\n",
              "      <th>mean</th>\n",
              "      <td>9.000000</td>\n",
              "      <td>7.500909</td>\n",
              "    </tr>\n",
              "    <tr>\n",
              "      <th>std</th>\n",
              "      <td>3.316625</td>\n",
              "      <td>2.031568</td>\n",
              "    </tr>\n",
              "    <tr>\n",
              "      <th>min</th>\n",
              "      <td>4.000000</td>\n",
              "      <td>4.260000</td>\n",
              "    </tr>\n",
              "    <tr>\n",
              "      <th>25%</th>\n",
              "      <td>6.500000</td>\n",
              "      <td>6.315000</td>\n",
              "    </tr>\n",
              "    <tr>\n",
              "      <th>50%</th>\n",
              "      <td>9.000000</td>\n",
              "      <td>7.580000</td>\n",
              "    </tr>\n",
              "    <tr>\n",
              "      <th>75%</th>\n",
              "      <td>11.500000</td>\n",
              "      <td>8.570000</td>\n",
              "    </tr>\n",
              "    <tr>\n",
              "      <th>max</th>\n",
              "      <td>14.000000</td>\n",
              "      <td>10.840000</td>\n",
              "    </tr>\n",
              "  </tbody>\n",
              "</table>\n",
              "</div>"
            ],
            "text/plain": [
              "              x1         y1\n",
              "count  11.000000  11.000000\n",
              "mean    9.000000   7.500909\n",
              "std     3.316625   2.031568\n",
              "min     4.000000   4.260000\n",
              "25%     6.500000   6.315000\n",
              "50%     9.000000   7.580000\n",
              "75%    11.500000   8.570000\n",
              "max    14.000000  10.840000"
            ]
          },
          "metadata": {
            "tags": []
          },
          "execution_count": 7
        }
      ]
    },
    {
      "cell_type": "markdown",
      "metadata": {
        "id": "xTPiKiP6Csfo"
      },
      "source": [
        "### 1.8 DataFrame(anscombe_df)の\"x1\"、\"x2\"の相関係数を出力してください。"
      ]
    },
    {
      "cell_type": "code",
      "metadata": {
        "colab": {
          "base_uri": "https://localhost:8080/",
          "height": 107
        },
        "id": "fzpMuXJ3_WOO",
        "outputId": "61a1b45f-ae9a-4065-8823-583254e0cfa7"
      },
      "source": [
        "anscombe_df[[col_x, col_y]].corr()"
      ],
      "execution_count": null,
      "outputs": [
        {
          "output_type": "execute_result",
          "data": {
            "text/html": [
              "<div>\n",
              "<style scoped>\n",
              "    .dataframe tbody tr th:only-of-type {\n",
              "        vertical-align: middle;\n",
              "    }\n",
              "\n",
              "    .dataframe tbody tr th {\n",
              "        vertical-align: top;\n",
              "    }\n",
              "\n",
              "    .dataframe thead th {\n",
              "        text-align: right;\n",
              "    }\n",
              "</style>\n",
              "<table border=\"1\" class=\"dataframe\">\n",
              "  <thead>\n",
              "    <tr style=\"text-align: right;\">\n",
              "      <th></th>\n",
              "      <th>x1</th>\n",
              "      <th>y1</th>\n",
              "    </tr>\n",
              "  </thead>\n",
              "  <tbody>\n",
              "    <tr>\n",
              "      <th>x1</th>\n",
              "      <td>1.000000</td>\n",
              "      <td>0.816421</td>\n",
              "    </tr>\n",
              "    <tr>\n",
              "      <th>y1</th>\n",
              "      <td>0.816421</td>\n",
              "      <td>1.000000</td>\n",
              "    </tr>\n",
              "  </tbody>\n",
              "</table>\n",
              "</div>"
            ],
            "text/plain": [
              "          x1        y1\n",
              "x1  1.000000  0.816421\n",
              "y1  0.816421  1.000000"
            ]
          },
          "metadata": {
            "tags": []
          },
          "execution_count": 8
        }
      ]
    },
    {
      "cell_type": "markdown",
      "metadata": {
        "id": "oDtQ32eSC1IV"
      },
      "source": [
        "### 1.9 DataFrame(anscombe_df)の\"x1\"、\"x2\"の散布図を出力してください。"
      ]
    },
    {
      "cell_type": "code",
      "metadata": {
        "colab": {
          "base_uri": "https://localhost:8080/",
          "height": 295
        },
        "id": "Qoyf7UGDZtuW",
        "outputId": "8336db45-81d3-44ff-837c-b821cd625db0"
      },
      "source": [
        "anscombe_df.plot.scatter(col_x, col_y)"
      ],
      "execution_count": null,
      "outputs": [
        {
          "output_type": "execute_result",
          "data": {
            "text/plain": [
              "<matplotlib.axes._subplots.AxesSubplot at 0x7f9e9b14e950>"
            ]
          },
          "metadata": {
            "tags": []
          },
          "execution_count": 9
        },
        {
          "output_type": "display_data",
          "data": {
            "image/png": "[encoded data removed]",
            "text/plain": [
              "<Figure size 432x288 with 1 Axes>"
            ]
          },
          "metadata": {
            "tags": [],
            "needs_background": "light"
          }
        }
      ]
    },
    {
      "cell_type": "markdown",
      "metadata": {
        "id": "cHMos8wNC6z-"
      },
      "source": [
        "### 1.10 DataFrame(anscombe_df)の\"x1\"、\"x2\"の回帰直線の係数、切片を出力してください。"
      ]
    },
    {
      "cell_type": "code",
      "metadata": {
        "colab": {
          "base_uri": "https://localhost:8080/"
        },
        "id": "NJEv5ezNara6",
        "outputId": "bdf85587-d6a5-49b1-d004-23e9394015ba"
      },
      "source": [
        "x = anscombe_df[[col_x]].values\n",
        "y = anscombe_df[col_y].values\n",
        "\n",
        "reg = LinearRegression()\n",
        "reg.fit(x, y)\n",
        "\n",
        "print(reg.coef_)\n",
        "print(reg.intercept_)\n"
      ],
      "execution_count": null,
      "outputs": [
        {
          "output_type": "stream",
          "text": [
            "[0.50009091]\n",
            "3.0000909090909094\n"
          ],
          "name": "stdout"
        }
      ]
    },
    {
      "cell_type": "markdown",
      "metadata": {
        "id": "Imh_cKptDExa"
      },
      "source": [
        "### 1.11 DataFrame(anscombe_df)の\"x1\"、\"x2\"の回帰直線の決定係数を出力してください。\n",
        "> 決定係数は reg 変数の score メソッドで出力できます。"
      ]
    },
    {
      "cell_type": "code",
      "metadata": {
        "colab": {
          "base_uri": "https://localhost:8080/"
        },
        "id": "UGmMmRKCDCSE",
        "outputId": "c6b633fb-b7ee-4713-d3f7-f52273638411"
      },
      "source": [
        "print(reg.score(x, y))"
      ],
      "execution_count": null,
      "outputs": [
        {
          "output_type": "stream",
          "text": [
            "0.6665424595087748\n"
          ],
          "name": "stdout"
        }
      ]
    },
    {
      "cell_type": "markdown",
      "metadata": {
        "id": "MEF35N3CDVXo"
      },
      "source": [
        "### 1.12 DataFrame(anscombe_df)の\"x1\"、\"x2\"の散布図、回帰直線を出力してください。\n",
        "> 決定係数は reg 変数の score メソッドで出力できます。"
      ]
    },
    {
      "cell_type": "code",
      "metadata": {
        "colab": {
          "base_uri": "https://localhost:8080/",
          "height": 295
        },
        "id": "5QNzhwkRbxaU",
        "outputId": "6f276cdb-b73c-4901-e5ae-4ea721a9823c"
      },
      "source": [
        "x_range = np.arange(x.min(), x.max() + 0.1, 0.1).reshape(-1, 1)\n",
        "ax = anscombe_df.plot.scatter(col_x, col_y)\n",
        "ax.plot(x_range, reg.predict(x_range))"
      ],
      "execution_count": null,
      "outputs": [
        {
          "output_type": "execute_result",
          "data": {
            "text/plain": [
              "[<matplotlib.lines.Line2D at 0x7f9e9b03a590>]"
            ]
          },
          "metadata": {
            "tags": []
          },
          "execution_count": 12
        },
        {
          "output_type": "display_data",
          "data": {
            "image/png": "[encoded data removed]",
            "text/plain": [
              "<Figure size 432x288 with 1 Axes>"
            ]
          },
          "metadata": {
            "tags": [],
            "needs_background": "light"
          }
        }
      ]
    },
    {
      "cell_type": "markdown",
      "metadata": {
        "id": "6M6UcFvd9vxF"
      },
      "source": [
        "### 1.13 変数 col_x col_y の値を変更してDataFrame（anscombe_df）の\"x2\"、\"y2\" 列について同様に考察してください。\n",
        "\n",
        "> \"x3\"、\"y3\" 列に組み合わせ、\"x4\"、\"y4\"の組み合わせについても同様に考察してください。\n"
      ]
    },
    {
      "cell_type": "markdown",
      "metadata": {
        "id": "o-fj8DONEECU"
      },
      "source": [
        "### 1.14 x1〜x4（y1〜y4）までの4つの事例から学べることを考察してください。"
      ]
    }
  ]
}