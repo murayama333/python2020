{
  "nbformat": 4,
  "nbformat_minor": 0,
  "metadata": {
    "colab": {
      "name": "pandas_text_tr1_preview.ipynb",
      "provenance": [],
      "toc_visible": true
    },
    "kernelspec": {
      "name": "python3",
      "display_name": "Python 3"
    }
  },
  "cells": [
    {
      "cell_type": "markdown",
      "metadata": {
        "id": "b6xYNf-cAzz8"
      },
      "source": [
        "# pandas - part1 - DataFrameとSeries - Training\n",
        "\n",
        "---"
      ]
    },
    {
      "cell_type": "markdown",
      "metadata": {
        "id": "R5nn27LZSYjw"
      },
      "source": [
        "## matplotlib 日本語表示（japanize-matplotlib をインストール）"
      ]
    },
    {
      "cell_type": "code",
      "metadata": {
        "id": "1dWDjwsPx22j"
      },
      "source": [
        "!pip install japanize-matplotlib"
      ],
      "execution_count": null,
      "outputs": []
    },
    {
      "cell_type": "markdown",
      "metadata": {
        "id": "LBtxSm-tEOnI"
      },
      "source": [
        "## baseball.csvのダウンロード"
      ]
    },
    {
      "cell_type": "code",
      "metadata": {
        "id": "0Hzcd-l7vDts"
      },
      "source": [
        "!wget https://gist.githubusercontent.com/murayama333/333b6102c87132d9e36caa24ce6e71b1/raw/f3eac958d8fa4f6985def30e9fc3e0019c63a74a/baseball.csv"
      ],
      "execution_count": null,
      "outputs": []
    },
    {
      "cell_type": "code",
      "metadata": {
        "colab": {
          "base_uri": "https://localhost:8080/",
          "height": 328
        },
        "id": "8yXnn-kawP6G",
        "outputId": "aaa4fb14-48b4-492f-dae4-0463d2617b0d"
      },
      "source": [
        "import pandas as pd\n",
        "import japanize_matplotlib\n",
        "\n",
        "pd.options.display.precision = 3\n",
        "pd.options.display.float_format = '{:.3f}'.format\n",
        "\n",
        "baseball = pd.read_csv(\"baseball.csv\")\n",
        "baseball"
      ],
      "execution_count": 3,
      "outputs": [
        {
          "output_type": "execute_result",
          "data": {
            "text/html": [
              "<div>\n",
              "<style scoped>\n",
              "    .dataframe tbody tr th:only-of-type {\n",
              "        vertical-align: middle;\n",
              "    }\n",
              "\n",
              "    .dataframe tbody tr th {\n",
              "        vertical-align: top;\n",
              "    }\n",
              "\n",
              "    .dataframe thead th {\n",
              "        text-align: right;\n",
              "    }\n",
              "</style>\n",
              "<table border=\"1\" class=\"dataframe\">\n",
              "  <thead>\n",
              "    <tr style=\"text-align: right;\">\n",
              "      <th></th>\n",
              "      <th>背番号</th>\n",
              "      <th>名前</th>\n",
              "      <th>打数</th>\n",
              "      <th>単打</th>\n",
              "      <th>二塁打</th>\n",
              "      <th>三塁打</th>\n",
              "      <th>本塁打</th>\n",
              "      <th>四球</th>\n",
              "      <th>死球</th>\n",
              "      <th>三振</th>\n",
              "      <th>犠打</th>\n",
              "      <th>犠飛</th>\n",
              "    </tr>\n",
              "  </thead>\n",
              "  <tbody>\n",
              "    <tr>\n",
              "      <th>0</th>\n",
              "      <td>3</td>\n",
              "      <td>A</td>\n",
              "      <td>533</td>\n",
              "      <td>75</td>\n",
              "      <td>25</td>\n",
              "      <td>3</td>\n",
              "      <td>20</td>\n",
              "      <td>50</td>\n",
              "      <td>5</td>\n",
              "      <td>84</td>\n",
              "      <td>0</td>\n",
              "      <td>18</td>\n",
              "    </tr>\n",
              "    <tr>\n",
              "      <th>1</th>\n",
              "      <td>44</td>\n",
              "      <td>B</td>\n",
              "      <td>552</td>\n",
              "      <td>68</td>\n",
              "      <td>28</td>\n",
              "      <td>4</td>\n",
              "      <td>34</td>\n",
              "      <td>48</td>\n",
              "      <td>5</td>\n",
              "      <td>92</td>\n",
              "      <td>0</td>\n",
              "      <td>26</td>\n",
              "    </tr>\n",
              "    <tr>\n",
              "      <th>2</th>\n",
              "      <td>8</td>\n",
              "      <td>C</td>\n",
              "      <td>578</td>\n",
              "      <td>120</td>\n",
              "      <td>32</td>\n",
              "      <td>8</td>\n",
              "      <td>12</td>\n",
              "      <td>62</td>\n",
              "      <td>7</td>\n",
              "      <td>98</td>\n",
              "      <td>15</td>\n",
              "      <td>6</td>\n",
              "    </tr>\n",
              "    <tr>\n",
              "      <th>3</th>\n",
              "      <td>6</td>\n",
              "      <td>D</td>\n",
              "      <td>501</td>\n",
              "      <td>90</td>\n",
              "      <td>18</td>\n",
              "      <td>2</td>\n",
              "      <td>25</td>\n",
              "      <td>37</td>\n",
              "      <td>5</td>\n",
              "      <td>72</td>\n",
              "      <td>1</td>\n",
              "      <td>20</td>\n",
              "    </tr>\n",
              "    <tr>\n",
              "      <th>4</th>\n",
              "      <td>31</td>\n",
              "      <td>E</td>\n",
              "      <td>492</td>\n",
              "      <td>98</td>\n",
              "      <td>24</td>\n",
              "      <td>4</td>\n",
              "      <td>24</td>\n",
              "      <td>56</td>\n",
              "      <td>3</td>\n",
              "      <td>54</td>\n",
              "      <td>0</td>\n",
              "      <td>22</td>\n",
              "    </tr>\n",
              "    <tr>\n",
              "      <th>5</th>\n",
              "      <td>9</td>\n",
              "      <td>F</td>\n",
              "      <td>454</td>\n",
              "      <td>96</td>\n",
              "      <td>11</td>\n",
              "      <td>2</td>\n",
              "      <td>6</td>\n",
              "      <td>33</td>\n",
              "      <td>0</td>\n",
              "      <td>42</td>\n",
              "      <td>10</td>\n",
              "      <td>6</td>\n",
              "    </tr>\n",
              "    <tr>\n",
              "      <th>6</th>\n",
              "      <td>55</td>\n",
              "      <td>G</td>\n",
              "      <td>413</td>\n",
              "      <td>82</td>\n",
              "      <td>7</td>\n",
              "      <td>1</td>\n",
              "      <td>16</td>\n",
              "      <td>35</td>\n",
              "      <td>1</td>\n",
              "      <td>64</td>\n",
              "      <td>3</td>\n",
              "      <td>4</td>\n",
              "    </tr>\n",
              "    <tr>\n",
              "      <th>7</th>\n",
              "      <td>2</td>\n",
              "      <td>H</td>\n",
              "      <td>412</td>\n",
              "      <td>107</td>\n",
              "      <td>14</td>\n",
              "      <td>2</td>\n",
              "      <td>5</td>\n",
              "      <td>25</td>\n",
              "      <td>0</td>\n",
              "      <td>39</td>\n",
              "      <td>4</td>\n",
              "      <td>2</td>\n",
              "    </tr>\n",
              "    <tr>\n",
              "      <th>8</th>\n",
              "      <td>33</td>\n",
              "      <td>F</td>\n",
              "      <td>402</td>\n",
              "      <td>99</td>\n",
              "      <td>5</td>\n",
              "      <td>0</td>\n",
              "      <td>8</td>\n",
              "      <td>22</td>\n",
              "      <td>0</td>\n",
              "      <td>44</td>\n",
              "      <td>2</td>\n",
              "      <td>1</td>\n",
              "    </tr>\n",
              "  </tbody>\n",
              "</table>\n",
              "</div>"
            ],
            "text/plain": [
              "   背番号 名前   打数   単打  二塁打  三塁打  本塁打  四球  死球  三振  犠打  犠飛\n",
              "0    3  A  533   75   25    3   20  50   5  84   0  18\n",
              "1   44  B  552   68   28    4   34  48   5  92   0  26\n",
              "2    8  C  578  120   32    8   12  62   7  98  15   6\n",
              "3    6  D  501   90   18    2   25  37   5  72   1  20\n",
              "4   31  E  492   98   24    4   24  56   3  54   0  22\n",
              "5    9  F  454   96   11    2    6  33   0  42  10   6\n",
              "6   55  G  413   82    7    1   16  35   1  64   3   4\n",
              "7    2  H  412  107   14    2    5  25   0  39   4   2\n",
              "8   33  F  402   99    5    0    8  22   0  44   2   1"
            ]
          },
          "metadata": {
            "tags": []
          },
          "execution_count": 3
        }
      ]
    },
    {
      "cell_type": "markdown",
      "metadata": {
        "id": "DYRhSaLWAL0Y"
      },
      "source": [
        "## 1.1 本塁打を出力してください。"
      ]
    },
    {
      "cell_type": "code",
      "metadata": {
        "colab": {
          "base_uri": "https://localhost:8080/"
        },
        "id": "Nts1c7PmAJac",
        "outputId": "ecc0d9ae-6835-41a8-c83f-d4eb927eb89d"
      },
      "source": [
        ""
      ],
      "execution_count": 4,
      "outputs": [
        {
          "output_type": "execute_result",
          "data": {
            "text/plain": [
              "0    20\n",
              "1    34\n",
              "2    12\n",
              "3    25\n",
              "4    24\n",
              "5     6\n",
              "6    16\n",
              "7     5\n",
              "8     8\n",
              "Name: 本塁打, dtype: int64"
            ]
          },
          "metadata": {
            "tags": []
          },
          "execution_count": 4
        }
      ]
    },
    {
      "cell_type": "markdown",
      "metadata": {
        "id": "5Y_kf_zcATiL"
      },
      "source": [
        "## 1.2 背番号と本塁打を出力してください。"
      ]
    },
    {
      "cell_type": "code",
      "metadata": {
        "colab": {
          "base_uri": "https://localhost:8080/",
          "height": 328
        },
        "id": "PhU_AAUpAsL7",
        "outputId": "6e75c304-ac53-4958-efc3-058a6e7cb5fa"
      },
      "source": [
        ""
      ],
      "execution_count": 5,
      "outputs": [
        {
          "output_type": "execute_result",
          "data": {
            "text/html": [
              "<div>\n",
              "<style scoped>\n",
              "    .dataframe tbody tr th:only-of-type {\n",
              "        vertical-align: middle;\n",
              "    }\n",
              "\n",
              "    .dataframe tbody tr th {\n",
              "        vertical-align: top;\n",
              "    }\n",
              "\n",
              "    .dataframe thead th {\n",
              "        text-align: right;\n",
              "    }\n",
              "</style>\n",
              "<table border=\"1\" class=\"dataframe\">\n",
              "  <thead>\n",
              "    <tr style=\"text-align: right;\">\n",
              "      <th></th>\n",
              "      <th>背番号</th>\n",
              "      <th>本塁打</th>\n",
              "    </tr>\n",
              "  </thead>\n",
              "  <tbody>\n",
              "    <tr>\n",
              "      <th>0</th>\n",
              "      <td>3</td>\n",
              "      <td>20</td>\n",
              "    </tr>\n",
              "    <tr>\n",
              "      <th>1</th>\n",
              "      <td>44</td>\n",
              "      <td>34</td>\n",
              "    </tr>\n",
              "    <tr>\n",
              "      <th>2</th>\n",
              "      <td>8</td>\n",
              "      <td>12</td>\n",
              "    </tr>\n",
              "    <tr>\n",
              "      <th>3</th>\n",
              "      <td>6</td>\n",
              "      <td>25</td>\n",
              "    </tr>\n",
              "    <tr>\n",
              "      <th>4</th>\n",
              "      <td>31</td>\n",
              "      <td>24</td>\n",
              "    </tr>\n",
              "    <tr>\n",
              "      <th>5</th>\n",
              "      <td>9</td>\n",
              "      <td>6</td>\n",
              "    </tr>\n",
              "    <tr>\n",
              "      <th>6</th>\n",
              "      <td>55</td>\n",
              "      <td>16</td>\n",
              "    </tr>\n",
              "    <tr>\n",
              "      <th>7</th>\n",
              "      <td>2</td>\n",
              "      <td>5</td>\n",
              "    </tr>\n",
              "    <tr>\n",
              "      <th>8</th>\n",
              "      <td>33</td>\n",
              "      <td>8</td>\n",
              "    </tr>\n",
              "  </tbody>\n",
              "</table>\n",
              "</div>"
            ],
            "text/plain": [
              "   背番号  本塁打\n",
              "0    3   20\n",
              "1   44   34\n",
              "2    8   12\n",
              "3    6   25\n",
              "4   31   24\n",
              "5    9    6\n",
              "6   55   16\n",
              "7    2    5\n",
              "8   33    8"
            ]
          },
          "metadata": {
            "tags": []
          },
          "execution_count": 5
        }
      ]
    },
    {
      "cell_type": "markdown",
      "metadata": {
        "id": "rqEfD6tmAW8V"
      },
      "source": [
        "## 1.3 単打、二塁打、三塁打、本塁打の概要を出力してください。"
      ]
    },
    {
      "cell_type": "code",
      "metadata": {
        "colab": {
          "base_uri": "https://localhost:8080/",
          "height": 297
        },
        "id": "ay8r7UAZA0sp",
        "outputId": "9ae52ab5-30d4-4b24-bbdf-2272453d5b2f"
      },
      "source": [
        ""
      ],
      "execution_count": 6,
      "outputs": [
        {
          "output_type": "execute_result",
          "data": {
            "text/html": [
              "<div>\n",
              "<style scoped>\n",
              "    .dataframe tbody tr th:only-of-type {\n",
              "        vertical-align: middle;\n",
              "    }\n",
              "\n",
              "    .dataframe tbody tr th {\n",
              "        vertical-align: top;\n",
              "    }\n",
              "\n",
              "    .dataframe thead th {\n",
              "        text-align: right;\n",
              "    }\n",
              "</style>\n",
              "<table border=\"1\" class=\"dataframe\">\n",
              "  <thead>\n",
              "    <tr style=\"text-align: right;\">\n",
              "      <th></th>\n",
              "      <th>単打</th>\n",
              "      <th>二塁打</th>\n",
              "      <th>三塁打</th>\n",
              "      <th>本塁打</th>\n",
              "    </tr>\n",
              "  </thead>\n",
              "  <tbody>\n",
              "    <tr>\n",
              "      <th>count</th>\n",
              "      <td>9.000</td>\n",
              "      <td>9.000</td>\n",
              "      <td>9.000</td>\n",
              "      <td>9.000</td>\n",
              "    </tr>\n",
              "    <tr>\n",
              "      <th>mean</th>\n",
              "      <td>92.778</td>\n",
              "      <td>18.222</td>\n",
              "      <td>2.889</td>\n",
              "      <td>16.667</td>\n",
              "    </tr>\n",
              "    <tr>\n",
              "      <th>std</th>\n",
              "      <td>16.100</td>\n",
              "      <td>9.589</td>\n",
              "      <td>2.315</td>\n",
              "      <td>9.887</td>\n",
              "    </tr>\n",
              "    <tr>\n",
              "      <th>min</th>\n",
              "      <td>68.000</td>\n",
              "      <td>5.000</td>\n",
              "      <td>0.000</td>\n",
              "      <td>5.000</td>\n",
              "    </tr>\n",
              "    <tr>\n",
              "      <th>25%</th>\n",
              "      <td>82.000</td>\n",
              "      <td>11.000</td>\n",
              "      <td>2.000</td>\n",
              "      <td>8.000</td>\n",
              "    </tr>\n",
              "    <tr>\n",
              "      <th>50%</th>\n",
              "      <td>96.000</td>\n",
              "      <td>18.000</td>\n",
              "      <td>2.000</td>\n",
              "      <td>16.000</td>\n",
              "    </tr>\n",
              "    <tr>\n",
              "      <th>75%</th>\n",
              "      <td>99.000</td>\n",
              "      <td>25.000</td>\n",
              "      <td>4.000</td>\n",
              "      <td>24.000</td>\n",
              "    </tr>\n",
              "    <tr>\n",
              "      <th>max</th>\n",
              "      <td>120.000</td>\n",
              "      <td>32.000</td>\n",
              "      <td>8.000</td>\n",
              "      <td>34.000</td>\n",
              "    </tr>\n",
              "  </tbody>\n",
              "</table>\n",
              "</div>"
            ],
            "text/plain": [
              "           単打    二塁打   三塁打    本塁打\n",
              "count   9.000  9.000 9.000  9.000\n",
              "mean   92.778 18.222 2.889 16.667\n",
              "std    16.100  9.589 2.315  9.887\n",
              "min    68.000  5.000 0.000  5.000\n",
              "25%    82.000 11.000 2.000  8.000\n",
              "50%    96.000 18.000 2.000 16.000\n",
              "75%    99.000 25.000 4.000 24.000\n",
              "max   120.000 32.000 8.000 34.000"
            ]
          },
          "metadata": {
            "tags": []
          },
          "execution_count": 6
        }
      ]
    },
    {
      "cell_type": "markdown",
      "metadata": {
        "id": "wLaUG3xuAdnO"
      },
      "source": [
        "## 1.4 インデックスが6の行を出力してください。"
      ]
    },
    {
      "cell_type": "code",
      "metadata": {
        "colab": {
          "base_uri": "https://localhost:8080/",
          "height": 80
        },
        "id": "RISvOJUTAhgr",
        "outputId": "cdbb972c-54c6-4371-b4b9-6d6ad54e6950"
      },
      "source": [
        ""
      ],
      "execution_count": 7,
      "outputs": [
        {
          "output_type": "execute_result",
          "data": {
            "text/html": [
              "<div>\n",
              "<style scoped>\n",
              "    .dataframe tbody tr th:only-of-type {\n",
              "        vertical-align: middle;\n",
              "    }\n",
              "\n",
              "    .dataframe tbody tr th {\n",
              "        vertical-align: top;\n",
              "    }\n",
              "\n",
              "    .dataframe thead th {\n",
              "        text-align: right;\n",
              "    }\n",
              "</style>\n",
              "<table border=\"1\" class=\"dataframe\">\n",
              "  <thead>\n",
              "    <tr style=\"text-align: right;\">\n",
              "      <th></th>\n",
              "      <th>背番号</th>\n",
              "      <th>名前</th>\n",
              "      <th>打数</th>\n",
              "      <th>単打</th>\n",
              "      <th>二塁打</th>\n",
              "      <th>三塁打</th>\n",
              "      <th>本塁打</th>\n",
              "      <th>四球</th>\n",
              "      <th>死球</th>\n",
              "      <th>三振</th>\n",
              "      <th>犠打</th>\n",
              "      <th>犠飛</th>\n",
              "    </tr>\n",
              "  </thead>\n",
              "  <tbody>\n",
              "    <tr>\n",
              "      <th>6</th>\n",
              "      <td>55</td>\n",
              "      <td>G</td>\n",
              "      <td>413</td>\n",
              "      <td>82</td>\n",
              "      <td>7</td>\n",
              "      <td>1</td>\n",
              "      <td>16</td>\n",
              "      <td>35</td>\n",
              "      <td>1</td>\n",
              "      <td>64</td>\n",
              "      <td>3</td>\n",
              "      <td>4</td>\n",
              "    </tr>\n",
              "  </tbody>\n",
              "</table>\n",
              "</div>"
            ],
            "text/plain": [
              "   背番号 名前   打数  単打  二塁打  三塁打  本塁打  四球  死球  三振  犠打  犠飛\n",
              "6   55  G  413  82    7    1   16  35   1  64   3   4"
            ]
          },
          "metadata": {
            "tags": []
          },
          "execution_count": 7
        }
      ]
    },
    {
      "cell_type": "markdown",
      "metadata": {
        "id": "KSyh3DVaAkgw"
      },
      "source": [
        "## 1.5 背番号をインデックスに変更して、結果を出力してください。"
      ]
    },
    {
      "cell_type": "code",
      "metadata": {
        "colab": {
          "base_uri": "https://localhost:8080/",
          "height": 359
        },
        "id": "ZyjHDoMJBKz5",
        "outputId": "d2e78ad9-2987-4d4d-8782-118db9e927e5"
      },
      "source": [
        ""
      ],
      "execution_count": 8,
      "outputs": [
        {
          "output_type": "execute_result",
          "data": {
            "text/html": [
              "<div>\n",
              "<style scoped>\n",
              "    .dataframe tbody tr th:only-of-type {\n",
              "        vertical-align: middle;\n",
              "    }\n",
              "\n",
              "    .dataframe tbody tr th {\n",
              "        vertical-align: top;\n",
              "    }\n",
              "\n",
              "    .dataframe thead th {\n",
              "        text-align: right;\n",
              "    }\n",
              "</style>\n",
              "<table border=\"1\" class=\"dataframe\">\n",
              "  <thead>\n",
              "    <tr style=\"text-align: right;\">\n",
              "      <th></th>\n",
              "      <th>名前</th>\n",
              "      <th>打数</th>\n",
              "      <th>単打</th>\n",
              "      <th>二塁打</th>\n",
              "      <th>三塁打</th>\n",
              "      <th>本塁打</th>\n",
              "      <th>四球</th>\n",
              "      <th>死球</th>\n",
              "      <th>三振</th>\n",
              "      <th>犠打</th>\n",
              "      <th>犠飛</th>\n",
              "    </tr>\n",
              "    <tr>\n",
              "      <th>背番号</th>\n",
              "      <th></th>\n",
              "      <th></th>\n",
              "      <th></th>\n",
              "      <th></th>\n",
              "      <th></th>\n",
              "      <th></th>\n",
              "      <th></th>\n",
              "      <th></th>\n",
              "      <th></th>\n",
              "      <th></th>\n",
              "      <th></th>\n",
              "    </tr>\n",
              "  </thead>\n",
              "  <tbody>\n",
              "    <tr>\n",
              "      <th>3</th>\n",
              "      <td>A</td>\n",
              "      <td>533</td>\n",
              "      <td>75</td>\n",
              "      <td>25</td>\n",
              "      <td>3</td>\n",
              "      <td>20</td>\n",
              "      <td>50</td>\n",
              "      <td>5</td>\n",
              "      <td>84</td>\n",
              "      <td>0</td>\n",
              "      <td>18</td>\n",
              "    </tr>\n",
              "    <tr>\n",
              "      <th>44</th>\n",
              "      <td>B</td>\n",
              "      <td>552</td>\n",
              "      <td>68</td>\n",
              "      <td>28</td>\n",
              "      <td>4</td>\n",
              "      <td>34</td>\n",
              "      <td>48</td>\n",
              "      <td>5</td>\n",
              "      <td>92</td>\n",
              "      <td>0</td>\n",
              "      <td>26</td>\n",
              "    </tr>\n",
              "    <tr>\n",
              "      <th>8</th>\n",
              "      <td>C</td>\n",
              "      <td>578</td>\n",
              "      <td>120</td>\n",
              "      <td>32</td>\n",
              "      <td>8</td>\n",
              "      <td>12</td>\n",
              "      <td>62</td>\n",
              "      <td>7</td>\n",
              "      <td>98</td>\n",
              "      <td>15</td>\n",
              "      <td>6</td>\n",
              "    </tr>\n",
              "    <tr>\n",
              "      <th>6</th>\n",
              "      <td>D</td>\n",
              "      <td>501</td>\n",
              "      <td>90</td>\n",
              "      <td>18</td>\n",
              "      <td>2</td>\n",
              "      <td>25</td>\n",
              "      <td>37</td>\n",
              "      <td>5</td>\n",
              "      <td>72</td>\n",
              "      <td>1</td>\n",
              "      <td>20</td>\n",
              "    </tr>\n",
              "    <tr>\n",
              "      <th>31</th>\n",
              "      <td>E</td>\n",
              "      <td>492</td>\n",
              "      <td>98</td>\n",
              "      <td>24</td>\n",
              "      <td>4</td>\n",
              "      <td>24</td>\n",
              "      <td>56</td>\n",
              "      <td>3</td>\n",
              "      <td>54</td>\n",
              "      <td>0</td>\n",
              "      <td>22</td>\n",
              "    </tr>\n",
              "    <tr>\n",
              "      <th>9</th>\n",
              "      <td>F</td>\n",
              "      <td>454</td>\n",
              "      <td>96</td>\n",
              "      <td>11</td>\n",
              "      <td>2</td>\n",
              "      <td>6</td>\n",
              "      <td>33</td>\n",
              "      <td>0</td>\n",
              "      <td>42</td>\n",
              "      <td>10</td>\n",
              "      <td>6</td>\n",
              "    </tr>\n",
              "    <tr>\n",
              "      <th>55</th>\n",
              "      <td>G</td>\n",
              "      <td>413</td>\n",
              "      <td>82</td>\n",
              "      <td>7</td>\n",
              "      <td>1</td>\n",
              "      <td>16</td>\n",
              "      <td>35</td>\n",
              "      <td>1</td>\n",
              "      <td>64</td>\n",
              "      <td>3</td>\n",
              "      <td>4</td>\n",
              "    </tr>\n",
              "    <tr>\n",
              "      <th>2</th>\n",
              "      <td>H</td>\n",
              "      <td>412</td>\n",
              "      <td>107</td>\n",
              "      <td>14</td>\n",
              "      <td>2</td>\n",
              "      <td>5</td>\n",
              "      <td>25</td>\n",
              "      <td>0</td>\n",
              "      <td>39</td>\n",
              "      <td>4</td>\n",
              "      <td>2</td>\n",
              "    </tr>\n",
              "    <tr>\n",
              "      <th>33</th>\n",
              "      <td>F</td>\n",
              "      <td>402</td>\n",
              "      <td>99</td>\n",
              "      <td>5</td>\n",
              "      <td>0</td>\n",
              "      <td>8</td>\n",
              "      <td>22</td>\n",
              "      <td>0</td>\n",
              "      <td>44</td>\n",
              "      <td>2</td>\n",
              "      <td>1</td>\n",
              "    </tr>\n",
              "  </tbody>\n",
              "</table>\n",
              "</div>"
            ],
            "text/plain": [
              "    名前   打数   単打  二塁打  三塁打  本塁打  四球  死球  三振  犠打  犠飛\n",
              "背番号                                                \n",
              "3    A  533   75   25    3   20  50   5  84   0  18\n",
              "44   B  552   68   28    4   34  48   5  92   0  26\n",
              "8    C  578  120   32    8   12  62   7  98  15   6\n",
              "6    D  501   90   18    2   25  37   5  72   1  20\n",
              "31   E  492   98   24    4   24  56   3  54   0  22\n",
              "9    F  454   96   11    2    6  33   0  42  10   6\n",
              "55   G  413   82    7    1   16  35   1  64   3   4\n",
              "2    H  412  107   14    2    5  25   0  39   4   2\n",
              "33   F  402   99    5    0    8  22   0  44   2   1"
            ]
          },
          "metadata": {
            "tags": []
          },
          "execution_count": 8
        }
      ]
    },
    {
      "cell_type": "markdown",
      "metadata": {
        "id": "3o75P0SjAq_7"
      },
      "source": [
        "## 1.6 インデックスが6の行を出力してください。"
      ]
    },
    {
      "cell_type": "code",
      "metadata": {
        "colab": {
          "base_uri": "https://localhost:8080/",
          "height": 111
        },
        "id": "Mppa8cLXBSPt",
        "outputId": "606b447d-0ce4-43ba-ad56-de4222fa001a"
      },
      "source": [
        ""
      ],
      "execution_count": 9,
      "outputs": [
        {
          "output_type": "execute_result",
          "data": {
            "text/html": [
              "<div>\n",
              "<style scoped>\n",
              "    .dataframe tbody tr th:only-of-type {\n",
              "        vertical-align: middle;\n",
              "    }\n",
              "\n",
              "    .dataframe tbody tr th {\n",
              "        vertical-align: top;\n",
              "    }\n",
              "\n",
              "    .dataframe thead th {\n",
              "        text-align: right;\n",
              "    }\n",
              "</style>\n",
              "<table border=\"1\" class=\"dataframe\">\n",
              "  <thead>\n",
              "    <tr style=\"text-align: right;\">\n",
              "      <th></th>\n",
              "      <th>名前</th>\n",
              "      <th>打数</th>\n",
              "      <th>単打</th>\n",
              "      <th>二塁打</th>\n",
              "      <th>三塁打</th>\n",
              "      <th>本塁打</th>\n",
              "      <th>四球</th>\n",
              "      <th>死球</th>\n",
              "      <th>三振</th>\n",
              "      <th>犠打</th>\n",
              "      <th>犠飛</th>\n",
              "    </tr>\n",
              "    <tr>\n",
              "      <th>背番号</th>\n",
              "      <th></th>\n",
              "      <th></th>\n",
              "      <th></th>\n",
              "      <th></th>\n",
              "      <th></th>\n",
              "      <th></th>\n",
              "      <th></th>\n",
              "      <th></th>\n",
              "      <th></th>\n",
              "      <th></th>\n",
              "      <th></th>\n",
              "    </tr>\n",
              "  </thead>\n",
              "  <tbody>\n",
              "    <tr>\n",
              "      <th>6</th>\n",
              "      <td>D</td>\n",
              "      <td>501</td>\n",
              "      <td>90</td>\n",
              "      <td>18</td>\n",
              "      <td>2</td>\n",
              "      <td>25</td>\n",
              "      <td>37</td>\n",
              "      <td>5</td>\n",
              "      <td>72</td>\n",
              "      <td>1</td>\n",
              "      <td>20</td>\n",
              "    </tr>\n",
              "  </tbody>\n",
              "</table>\n",
              "</div>"
            ],
            "text/plain": [
              "    名前   打数  単打  二塁打  三塁打  本塁打  四球  死球  三振  犠打  犠飛\n",
              "背番号                                               \n",
              "6    D  501  90   18    2   25  37   5  72   1  20"
            ]
          },
          "metadata": {
            "tags": []
          },
          "execution_count": 9
        }
      ]
    },
    {
      "cell_type": "markdown",
      "metadata": {
        "id": "neFp-oL0EY3n"
      },
      "source": [
        "# pandas - part2 - データの表示 - Training\n",
        "\n",
        "---"
      ]
    },
    {
      "cell_type": "code",
      "metadata": {
        "colab": {
          "base_uri": "https://localhost:8080/",
          "height": 359
        },
        "id": "B3VC2pbVsAq0",
        "outputId": "cc779a59-2bf8-4d8d-cdcb-1274c5face80"
      },
      "source": [
        "import pandas as pd\n",
        "import japanize_matplotlib\n",
        "\n",
        "pd.options.display.precision = 3\n",
        "pd.options.display.float_format = '{:.3f}'.format\n",
        "\n",
        "baseball = pd.read_csv(\"baseball.csv\", index_col=0)\n",
        "baseball"
      ],
      "execution_count": 10,
      "outputs": [
        {
          "output_type": "execute_result",
          "data": {
            "text/html": [
              "<div>\n",
              "<style scoped>\n",
              "    .dataframe tbody tr th:only-of-type {\n",
              "        vertical-align: middle;\n",
              "    }\n",
              "\n",
              "    .dataframe tbody tr th {\n",
              "        vertical-align: top;\n",
              "    }\n",
              "\n",
              "    .dataframe thead th {\n",
              "        text-align: right;\n",
              "    }\n",
              "</style>\n",
              "<table border=\"1\" class=\"dataframe\">\n",
              "  <thead>\n",
              "    <tr style=\"text-align: right;\">\n",
              "      <th></th>\n",
              "      <th>名前</th>\n",
              "      <th>打数</th>\n",
              "      <th>単打</th>\n",
              "      <th>二塁打</th>\n",
              "      <th>三塁打</th>\n",
              "      <th>本塁打</th>\n",
              "      <th>四球</th>\n",
              "      <th>死球</th>\n",
              "      <th>三振</th>\n",
              "      <th>犠打</th>\n",
              "      <th>犠飛</th>\n",
              "    </tr>\n",
              "    <tr>\n",
              "      <th>背番号</th>\n",
              "      <th></th>\n",
              "      <th></th>\n",
              "      <th></th>\n",
              "      <th></th>\n",
              "      <th></th>\n",
              "      <th></th>\n",
              "      <th></th>\n",
              "      <th></th>\n",
              "      <th></th>\n",
              "      <th></th>\n",
              "      <th></th>\n",
              "    </tr>\n",
              "  </thead>\n",
              "  <tbody>\n",
              "    <tr>\n",
              "      <th>3</th>\n",
              "      <td>A</td>\n",
              "      <td>533</td>\n",
              "      <td>75</td>\n",
              "      <td>25</td>\n",
              "      <td>3</td>\n",
              "      <td>20</td>\n",
              "      <td>50</td>\n",
              "      <td>5</td>\n",
              "      <td>84</td>\n",
              "      <td>0</td>\n",
              "      <td>18</td>\n",
              "    </tr>\n",
              "    <tr>\n",
              "      <th>44</th>\n",
              "      <td>B</td>\n",
              "      <td>552</td>\n",
              "      <td>68</td>\n",
              "      <td>28</td>\n",
              "      <td>4</td>\n",
              "      <td>34</td>\n",
              "      <td>48</td>\n",
              "      <td>5</td>\n",
              "      <td>92</td>\n",
              "      <td>0</td>\n",
              "      <td>26</td>\n",
              "    </tr>\n",
              "    <tr>\n",
              "      <th>8</th>\n",
              "      <td>C</td>\n",
              "      <td>578</td>\n",
              "      <td>120</td>\n",
              "      <td>32</td>\n",
              "      <td>8</td>\n",
              "      <td>12</td>\n",
              "      <td>62</td>\n",
              "      <td>7</td>\n",
              "      <td>98</td>\n",
              "      <td>15</td>\n",
              "      <td>6</td>\n",
              "    </tr>\n",
              "    <tr>\n",
              "      <th>6</th>\n",
              "      <td>D</td>\n",
              "      <td>501</td>\n",
              "      <td>90</td>\n",
              "      <td>18</td>\n",
              "      <td>2</td>\n",
              "      <td>25</td>\n",
              "      <td>37</td>\n",
              "      <td>5</td>\n",
              "      <td>72</td>\n",
              "      <td>1</td>\n",
              "      <td>20</td>\n",
              "    </tr>\n",
              "    <tr>\n",
              "      <th>31</th>\n",
              "      <td>E</td>\n",
              "      <td>492</td>\n",
              "      <td>98</td>\n",
              "      <td>24</td>\n",
              "      <td>4</td>\n",
              "      <td>24</td>\n",
              "      <td>56</td>\n",
              "      <td>3</td>\n",
              "      <td>54</td>\n",
              "      <td>0</td>\n",
              "      <td>22</td>\n",
              "    </tr>\n",
              "    <tr>\n",
              "      <th>9</th>\n",
              "      <td>F</td>\n",
              "      <td>454</td>\n",
              "      <td>96</td>\n",
              "      <td>11</td>\n",
              "      <td>2</td>\n",
              "      <td>6</td>\n",
              "      <td>33</td>\n",
              "      <td>0</td>\n",
              "      <td>42</td>\n",
              "      <td>10</td>\n",
              "      <td>6</td>\n",
              "    </tr>\n",
              "    <tr>\n",
              "      <th>55</th>\n",
              "      <td>G</td>\n",
              "      <td>413</td>\n",
              "      <td>82</td>\n",
              "      <td>7</td>\n",
              "      <td>1</td>\n",
              "      <td>16</td>\n",
              "      <td>35</td>\n",
              "      <td>1</td>\n",
              "      <td>64</td>\n",
              "      <td>3</td>\n",
              "      <td>4</td>\n",
              "    </tr>\n",
              "    <tr>\n",
              "      <th>2</th>\n",
              "      <td>H</td>\n",
              "      <td>412</td>\n",
              "      <td>107</td>\n",
              "      <td>14</td>\n",
              "      <td>2</td>\n",
              "      <td>5</td>\n",
              "      <td>25</td>\n",
              "      <td>0</td>\n",
              "      <td>39</td>\n",
              "      <td>4</td>\n",
              "      <td>2</td>\n",
              "    </tr>\n",
              "    <tr>\n",
              "      <th>33</th>\n",
              "      <td>F</td>\n",
              "      <td>402</td>\n",
              "      <td>99</td>\n",
              "      <td>5</td>\n",
              "      <td>0</td>\n",
              "      <td>8</td>\n",
              "      <td>22</td>\n",
              "      <td>0</td>\n",
              "      <td>44</td>\n",
              "      <td>2</td>\n",
              "      <td>1</td>\n",
              "    </tr>\n",
              "  </tbody>\n",
              "</table>\n",
              "</div>"
            ],
            "text/plain": [
              "    名前   打数   単打  二塁打  三塁打  本塁打  四球  死球  三振  犠打  犠飛\n",
              "背番号                                                \n",
              "3    A  533   75   25    3   20  50   5  84   0  18\n",
              "44   B  552   68   28    4   34  48   5  92   0  26\n",
              "8    C  578  120   32    8   12  62   7  98  15   6\n",
              "6    D  501   90   18    2   25  37   5  72   1  20\n",
              "31   E  492   98   24    4   24  56   3  54   0  22\n",
              "9    F  454   96   11    2    6  33   0  42  10   6\n",
              "55   G  413   82    7    1   16  35   1  64   3   4\n",
              "2    H  412  107   14    2    5  25   0  39   4   2\n",
              "33   F  402   99    5    0    8  22   0  44   2   1"
            ]
          },
          "metadata": {
            "tags": []
          },
          "execution_count": 10
        }
      ]
    },
    {
      "cell_type": "markdown",
      "metadata": {
        "id": "s3RlEtapBTOR"
      },
      "source": [
        "## 2.1 打数が500以上の行を出力してください。"
      ]
    },
    {
      "cell_type": "code",
      "metadata": {
        "colab": {
          "base_uri": "https://localhost:8080/",
          "height": 204
        },
        "id": "ffWSEiKmsIK9",
        "outputId": "7a2dd888-c4aa-46e3-8f6f-070f442001d7"
      },
      "source": [
        ""
      ],
      "execution_count": 11,
      "outputs": [
        {
          "output_type": "execute_result",
          "data": {
            "text/html": [
              "<div>\n",
              "<style scoped>\n",
              "    .dataframe tbody tr th:only-of-type {\n",
              "        vertical-align: middle;\n",
              "    }\n",
              "\n",
              "    .dataframe tbody tr th {\n",
              "        vertical-align: top;\n",
              "    }\n",
              "\n",
              "    .dataframe thead th {\n",
              "        text-align: right;\n",
              "    }\n",
              "</style>\n",
              "<table border=\"1\" class=\"dataframe\">\n",
              "  <thead>\n",
              "    <tr style=\"text-align: right;\">\n",
              "      <th></th>\n",
              "      <th>名前</th>\n",
              "      <th>打数</th>\n",
              "      <th>単打</th>\n",
              "      <th>二塁打</th>\n",
              "      <th>三塁打</th>\n",
              "      <th>本塁打</th>\n",
              "      <th>四球</th>\n",
              "      <th>死球</th>\n",
              "      <th>三振</th>\n",
              "      <th>犠打</th>\n",
              "      <th>犠飛</th>\n",
              "    </tr>\n",
              "    <tr>\n",
              "      <th>背番号</th>\n",
              "      <th></th>\n",
              "      <th></th>\n",
              "      <th></th>\n",
              "      <th></th>\n",
              "      <th></th>\n",
              "      <th></th>\n",
              "      <th></th>\n",
              "      <th></th>\n",
              "      <th></th>\n",
              "      <th></th>\n",
              "      <th></th>\n",
              "    </tr>\n",
              "  </thead>\n",
              "  <tbody>\n",
              "    <tr>\n",
              "      <th>3</th>\n",
              "      <td>A</td>\n",
              "      <td>533</td>\n",
              "      <td>75</td>\n",
              "      <td>25</td>\n",
              "      <td>3</td>\n",
              "      <td>20</td>\n",
              "      <td>50</td>\n",
              "      <td>5</td>\n",
              "      <td>84</td>\n",
              "      <td>0</td>\n",
              "      <td>18</td>\n",
              "    </tr>\n",
              "    <tr>\n",
              "      <th>44</th>\n",
              "      <td>B</td>\n",
              "      <td>552</td>\n",
              "      <td>68</td>\n",
              "      <td>28</td>\n",
              "      <td>4</td>\n",
              "      <td>34</td>\n",
              "      <td>48</td>\n",
              "      <td>5</td>\n",
              "      <td>92</td>\n",
              "      <td>0</td>\n",
              "      <td>26</td>\n",
              "    </tr>\n",
              "    <tr>\n",
              "      <th>8</th>\n",
              "      <td>C</td>\n",
              "      <td>578</td>\n",
              "      <td>120</td>\n",
              "      <td>32</td>\n",
              "      <td>8</td>\n",
              "      <td>12</td>\n",
              "      <td>62</td>\n",
              "      <td>7</td>\n",
              "      <td>98</td>\n",
              "      <td>15</td>\n",
              "      <td>6</td>\n",
              "    </tr>\n",
              "    <tr>\n",
              "      <th>6</th>\n",
              "      <td>D</td>\n",
              "      <td>501</td>\n",
              "      <td>90</td>\n",
              "      <td>18</td>\n",
              "      <td>2</td>\n",
              "      <td>25</td>\n",
              "      <td>37</td>\n",
              "      <td>5</td>\n",
              "      <td>72</td>\n",
              "      <td>1</td>\n",
              "      <td>20</td>\n",
              "    </tr>\n",
              "  </tbody>\n",
              "</table>\n",
              "</div>"
            ],
            "text/plain": [
              "    名前   打数   単打  二塁打  三塁打  本塁打  四球  死球  三振  犠打  犠飛\n",
              "背番号                                                \n",
              "3    A  533   75   25    3   20  50   5  84   0  18\n",
              "44   B  552   68   28    4   34  48   5  92   0  26\n",
              "8    C  578  120   32    8   12  62   7  98  15   6\n",
              "6    D  501   90   18    2   25  37   5  72   1  20"
            ]
          },
          "metadata": {
            "tags": []
          },
          "execution_count": 11
        }
      ]
    },
    {
      "cell_type": "markdown",
      "metadata": {
        "id": "-mQH8tYnBbTj"
      },
      "source": [
        "## 2.2 打数が500以上の行について、四球、死球、三振の平均値を出力してください。"
      ]
    },
    {
      "cell_type": "code",
      "metadata": {
        "colab": {
          "base_uri": "https://localhost:8080/"
        },
        "id": "-Lc47GqBveH7",
        "outputId": "ddd3d13b-2157-42d7-8771-a6e1c64fdef3"
      },
      "source": [
        ""
      ],
      "execution_count": 12,
      "outputs": [
        {
          "output_type": "execute_result",
          "data": {
            "text/plain": [
              "四球   49.250\n",
              "死球    5.500\n",
              "三振   86.500\n",
              "dtype: float64"
            ]
          },
          "metadata": {
            "tags": []
          },
          "execution_count": 12
        }
      ]
    },
    {
      "cell_type": "markdown",
      "metadata": {
        "id": "EEpMfTiEBlq2"
      },
      "source": [
        "## 2.3 打数が500以上の行について、四球、死球、三振の標準偏差を出力してください。"
      ]
    },
    {
      "cell_type": "code",
      "metadata": {
        "id": "SbOFaN20xCe6",
        "colab": {
          "base_uri": "https://localhost:8080/"
        },
        "outputId": "3c484065-7c98-4f27-9f00-ab28ea6e3569"
      },
      "source": [
        ""
      ],
      "execution_count": 13,
      "outputs": [
        {
          "output_type": "execute_result",
          "data": {
            "text/plain": [
              "四球   10.243\n",
              "死球    1.000\n",
              "三振   11.240\n",
              "dtype: float64"
            ]
          },
          "metadata": {
            "tags": []
          },
          "execution_count": 13
        }
      ]
    },
    {
      "cell_type": "markdown",
      "metadata": {
        "id": "KeSToOqUBlMS"
      },
      "source": [
        "## 2.4 本塁打が10以上の行について、名前、本塁打を出力してください。"
      ]
    },
    {
      "cell_type": "code",
      "metadata": {
        "colab": {
          "base_uri": "https://localhost:8080/",
          "height": 266
        },
        "id": "rfXoEdBesT1R",
        "outputId": "8f25fa3f-e908-48c6-d5f0-05a0e59b224b"
      },
      "source": [
        ""
      ],
      "execution_count": 14,
      "outputs": [
        {
          "output_type": "execute_result",
          "data": {
            "text/html": [
              "<div>\n",
              "<style scoped>\n",
              "    .dataframe tbody tr th:only-of-type {\n",
              "        vertical-align: middle;\n",
              "    }\n",
              "\n",
              "    .dataframe tbody tr th {\n",
              "        vertical-align: top;\n",
              "    }\n",
              "\n",
              "    .dataframe thead th {\n",
              "        text-align: right;\n",
              "    }\n",
              "</style>\n",
              "<table border=\"1\" class=\"dataframe\">\n",
              "  <thead>\n",
              "    <tr style=\"text-align: right;\">\n",
              "      <th></th>\n",
              "      <th>名前</th>\n",
              "      <th>本塁打</th>\n",
              "    </tr>\n",
              "    <tr>\n",
              "      <th>背番号</th>\n",
              "      <th></th>\n",
              "      <th></th>\n",
              "    </tr>\n",
              "  </thead>\n",
              "  <tbody>\n",
              "    <tr>\n",
              "      <th>3</th>\n",
              "      <td>A</td>\n",
              "      <td>20</td>\n",
              "    </tr>\n",
              "    <tr>\n",
              "      <th>44</th>\n",
              "      <td>B</td>\n",
              "      <td>34</td>\n",
              "    </tr>\n",
              "    <tr>\n",
              "      <th>8</th>\n",
              "      <td>C</td>\n",
              "      <td>12</td>\n",
              "    </tr>\n",
              "    <tr>\n",
              "      <th>6</th>\n",
              "      <td>D</td>\n",
              "      <td>25</td>\n",
              "    </tr>\n",
              "    <tr>\n",
              "      <th>31</th>\n",
              "      <td>E</td>\n",
              "      <td>24</td>\n",
              "    </tr>\n",
              "    <tr>\n",
              "      <th>55</th>\n",
              "      <td>G</td>\n",
              "      <td>16</td>\n",
              "    </tr>\n",
              "  </tbody>\n",
              "</table>\n",
              "</div>"
            ],
            "text/plain": [
              "    名前  本塁打\n",
              "背番号        \n",
              "3    A   20\n",
              "44   B   34\n",
              "8    C   12\n",
              "6    D   25\n",
              "31   E   24\n",
              "55   G   16"
            ]
          },
          "metadata": {
            "tags": []
          },
          "execution_count": 14
        }
      ]
    },
    {
      "cell_type": "markdown",
      "metadata": {
        "id": "j5oejPnoB7wB"
      },
      "source": [
        "## 2.5 本塁打が10以上、あるいは、犠打が10以上の行について、名前、本塁打、犠打を出力してください。"
      ]
    },
    {
      "cell_type": "code",
      "metadata": {
        "colab": {
          "base_uri": "https://localhost:8080/",
          "height": 297
        },
        "id": "sBGteXGtsdxX",
        "outputId": "b95087b7-9fc2-4f5f-9d00-a10d84fcd2ba"
      },
      "source": [
        ""
      ],
      "execution_count": 15,
      "outputs": [
        {
          "output_type": "execute_result",
          "data": {
            "text/html": [
              "<div>\n",
              "<style scoped>\n",
              "    .dataframe tbody tr th:only-of-type {\n",
              "        vertical-align: middle;\n",
              "    }\n",
              "\n",
              "    .dataframe tbody tr th {\n",
              "        vertical-align: top;\n",
              "    }\n",
              "\n",
              "    .dataframe thead th {\n",
              "        text-align: right;\n",
              "    }\n",
              "</style>\n",
              "<table border=\"1\" class=\"dataframe\">\n",
              "  <thead>\n",
              "    <tr style=\"text-align: right;\">\n",
              "      <th></th>\n",
              "      <th>名前</th>\n",
              "      <th>本塁打</th>\n",
              "      <th>犠打</th>\n",
              "    </tr>\n",
              "    <tr>\n",
              "      <th>背番号</th>\n",
              "      <th></th>\n",
              "      <th></th>\n",
              "      <th></th>\n",
              "    </tr>\n",
              "  </thead>\n",
              "  <tbody>\n",
              "    <tr>\n",
              "      <th>3</th>\n",
              "      <td>A</td>\n",
              "      <td>20</td>\n",
              "      <td>0</td>\n",
              "    </tr>\n",
              "    <tr>\n",
              "      <th>44</th>\n",
              "      <td>B</td>\n",
              "      <td>34</td>\n",
              "      <td>0</td>\n",
              "    </tr>\n",
              "    <tr>\n",
              "      <th>8</th>\n",
              "      <td>C</td>\n",
              "      <td>12</td>\n",
              "      <td>15</td>\n",
              "    </tr>\n",
              "    <tr>\n",
              "      <th>6</th>\n",
              "      <td>D</td>\n",
              "      <td>25</td>\n",
              "      <td>1</td>\n",
              "    </tr>\n",
              "    <tr>\n",
              "      <th>31</th>\n",
              "      <td>E</td>\n",
              "      <td>24</td>\n",
              "      <td>0</td>\n",
              "    </tr>\n",
              "    <tr>\n",
              "      <th>9</th>\n",
              "      <td>F</td>\n",
              "      <td>6</td>\n",
              "      <td>10</td>\n",
              "    </tr>\n",
              "    <tr>\n",
              "      <th>55</th>\n",
              "      <td>G</td>\n",
              "      <td>16</td>\n",
              "      <td>3</td>\n",
              "    </tr>\n",
              "  </tbody>\n",
              "</table>\n",
              "</div>"
            ],
            "text/plain": [
              "    名前  本塁打  犠打\n",
              "背番号            \n",
              "3    A   20   0\n",
              "44   B   34   0\n",
              "8    C   12  15\n",
              "6    D   25   1\n",
              "31   E   24   0\n",
              "9    F    6  10\n",
              "55   G   16   3"
            ]
          },
          "metadata": {
            "tags": []
          },
          "execution_count": 15
        }
      ]
    },
    {
      "cell_type": "markdown",
      "metadata": {
        "id": "m6t1d_yKB7UF"
      },
      "source": [
        "## 2.6 本塁打が10以上、かつ、犠打が10以上の行について、名前、本塁打、犠打を出力してください。"
      ]
    },
    {
      "cell_type": "code",
      "metadata": {
        "colab": {
          "base_uri": "https://localhost:8080/",
          "height": 111
        },
        "id": "LKXP-Mx0tenE",
        "outputId": "60d1252c-a8d5-4385-e942-4997b81bacd0"
      },
      "source": [
        ""
      ],
      "execution_count": 16,
      "outputs": [
        {
          "output_type": "execute_result",
          "data": {
            "text/html": [
              "<div>\n",
              "<style scoped>\n",
              "    .dataframe tbody tr th:only-of-type {\n",
              "        vertical-align: middle;\n",
              "    }\n",
              "\n",
              "    .dataframe tbody tr th {\n",
              "        vertical-align: top;\n",
              "    }\n",
              "\n",
              "    .dataframe thead th {\n",
              "        text-align: right;\n",
              "    }\n",
              "</style>\n",
              "<table border=\"1\" class=\"dataframe\">\n",
              "  <thead>\n",
              "    <tr style=\"text-align: right;\">\n",
              "      <th></th>\n",
              "      <th>名前</th>\n",
              "      <th>本塁打</th>\n",
              "      <th>犠打</th>\n",
              "    </tr>\n",
              "    <tr>\n",
              "      <th>背番号</th>\n",
              "      <th></th>\n",
              "      <th></th>\n",
              "      <th></th>\n",
              "    </tr>\n",
              "  </thead>\n",
              "  <tbody>\n",
              "    <tr>\n",
              "      <th>8</th>\n",
              "      <td>C</td>\n",
              "      <td>12</td>\n",
              "      <td>15</td>\n",
              "    </tr>\n",
              "  </tbody>\n",
              "</table>\n",
              "</div>"
            ],
            "text/plain": [
              "    名前  本塁打  犠打\n",
              "背番号            \n",
              "8    C   12  15"
            ]
          },
          "metadata": {
            "tags": []
          },
          "execution_count": 16
        }
      ]
    },
    {
      "cell_type": "markdown",
      "metadata": {
        "id": "Eed9WdNoCHEK"
      },
      "source": [
        "## 2.7 背番号（インデックス）が31,44,55の行について、単打、二塁打、三塁打、本塁打を出力してください。\n",
        "\n",
        "> `loc` プロパティを使って出力します。"
      ]
    },
    {
      "cell_type": "code",
      "metadata": {
        "colab": {
          "base_uri": "https://localhost:8080/",
          "height": 173
        },
        "id": "05Ta0hbAttha",
        "outputId": "90328ca6-f881-4ae4-e591-ffc68015949a"
      },
      "source": [
        ""
      ],
      "execution_count": 17,
      "outputs": [
        {
          "output_type": "execute_result",
          "data": {
            "text/html": [
              "<div>\n",
              "<style scoped>\n",
              "    .dataframe tbody tr th:only-of-type {\n",
              "        vertical-align: middle;\n",
              "    }\n",
              "\n",
              "    .dataframe tbody tr th {\n",
              "        vertical-align: top;\n",
              "    }\n",
              "\n",
              "    .dataframe thead th {\n",
              "        text-align: right;\n",
              "    }\n",
              "</style>\n",
              "<table border=\"1\" class=\"dataframe\">\n",
              "  <thead>\n",
              "    <tr style=\"text-align: right;\">\n",
              "      <th></th>\n",
              "      <th>単打</th>\n",
              "      <th>二塁打</th>\n",
              "      <th>三塁打</th>\n",
              "      <th>本塁打</th>\n",
              "    </tr>\n",
              "    <tr>\n",
              "      <th>背番号</th>\n",
              "      <th></th>\n",
              "      <th></th>\n",
              "      <th></th>\n",
              "      <th></th>\n",
              "    </tr>\n",
              "  </thead>\n",
              "  <tbody>\n",
              "    <tr>\n",
              "      <th>31</th>\n",
              "      <td>98</td>\n",
              "      <td>24</td>\n",
              "      <td>4</td>\n",
              "      <td>24</td>\n",
              "    </tr>\n",
              "    <tr>\n",
              "      <th>44</th>\n",
              "      <td>68</td>\n",
              "      <td>28</td>\n",
              "      <td>4</td>\n",
              "      <td>34</td>\n",
              "    </tr>\n",
              "    <tr>\n",
              "      <th>55</th>\n",
              "      <td>82</td>\n",
              "      <td>7</td>\n",
              "      <td>1</td>\n",
              "      <td>16</td>\n",
              "    </tr>\n",
              "  </tbody>\n",
              "</table>\n",
              "</div>"
            ],
            "text/plain": [
              "     単打  二塁打  三塁打  本塁打\n",
              "背番号                   \n",
              "31   98   24    4   24\n",
              "44   68   28    4   34\n",
              "55   82    7    1   16"
            ]
          },
          "metadata": {
            "tags": []
          },
          "execution_count": 17
        }
      ]
    },
    {
      "cell_type": "markdown",
      "metadata": {
        "id": "qH5sYoi2CGo4"
      },
      "source": [
        "## 2.8 行番号が1,4,6の行について、単打、二塁打、三塁打、本塁打を出力してください。\n",
        "\n",
        "> `iloc` プロパティを使って出力します。"
      ]
    },
    {
      "cell_type": "code",
      "metadata": {
        "colab": {
          "base_uri": "https://localhost:8080/",
          "height": 173
        },
        "id": "B5bNIsait61R",
        "outputId": "0badea43-7477-4f14-ce5f-9a4560bccde8"
      },
      "source": [
        ""
      ],
      "execution_count": 18,
      "outputs": [
        {
          "output_type": "execute_result",
          "data": {
            "text/html": [
              "<div>\n",
              "<style scoped>\n",
              "    .dataframe tbody tr th:only-of-type {\n",
              "        vertical-align: middle;\n",
              "    }\n",
              "\n",
              "    .dataframe tbody tr th {\n",
              "        vertical-align: top;\n",
              "    }\n",
              "\n",
              "    .dataframe thead th {\n",
              "        text-align: right;\n",
              "    }\n",
              "</style>\n",
              "<table border=\"1\" class=\"dataframe\">\n",
              "  <thead>\n",
              "    <tr style=\"text-align: right;\">\n",
              "      <th></th>\n",
              "      <th>単打</th>\n",
              "      <th>二塁打</th>\n",
              "      <th>三塁打</th>\n",
              "      <th>本塁打</th>\n",
              "    </tr>\n",
              "    <tr>\n",
              "      <th>背番号</th>\n",
              "      <th></th>\n",
              "      <th></th>\n",
              "      <th></th>\n",
              "      <th></th>\n",
              "    </tr>\n",
              "  </thead>\n",
              "  <tbody>\n",
              "    <tr>\n",
              "      <th>44</th>\n",
              "      <td>68</td>\n",
              "      <td>28</td>\n",
              "      <td>4</td>\n",
              "      <td>34</td>\n",
              "    </tr>\n",
              "    <tr>\n",
              "      <th>31</th>\n",
              "      <td>98</td>\n",
              "      <td>24</td>\n",
              "      <td>4</td>\n",
              "      <td>24</td>\n",
              "    </tr>\n",
              "    <tr>\n",
              "      <th>55</th>\n",
              "      <td>82</td>\n",
              "      <td>7</td>\n",
              "      <td>1</td>\n",
              "      <td>16</td>\n",
              "    </tr>\n",
              "  </tbody>\n",
              "</table>\n",
              "</div>"
            ],
            "text/plain": [
              "     単打  二塁打  三塁打  本塁打\n",
              "背番号                   \n",
              "44   68   28    4   34\n",
              "31   98   24    4   24\n",
              "55   82    7    1   16"
            ]
          },
          "metadata": {
            "tags": []
          },
          "execution_count": 18
        }
      ]
    },
    {
      "cell_type": "markdown",
      "metadata": {
        "id": "g3kllwbxChW1"
      },
      "source": [
        "## 2.9 四死球：四球 ＋ 死球 を追加して、結果を出力してください。\n"
      ]
    },
    {
      "cell_type": "code",
      "metadata": {
        "id": "mBNthXlLN6pV",
        "colab": {
          "base_uri": "https://localhost:8080/",
          "height": 359
        },
        "outputId": "9ba1b9ce-ab89-49ea-cccb-6b0ffe00889e"
      },
      "source": [
        ""
      ],
      "execution_count": 19,
      "outputs": [
        {
          "output_type": "execute_result",
          "data": {
            "text/html": [
              "<div>\n",
              "<style scoped>\n",
              "    .dataframe tbody tr th:only-of-type {\n",
              "        vertical-align: middle;\n",
              "    }\n",
              "\n",
              "    .dataframe tbody tr th {\n",
              "        vertical-align: top;\n",
              "    }\n",
              "\n",
              "    .dataframe thead th {\n",
              "        text-align: right;\n",
              "    }\n",
              "</style>\n",
              "<table border=\"1\" class=\"dataframe\">\n",
              "  <thead>\n",
              "    <tr style=\"text-align: right;\">\n",
              "      <th></th>\n",
              "      <th>名前</th>\n",
              "      <th>打数</th>\n",
              "      <th>単打</th>\n",
              "      <th>二塁打</th>\n",
              "      <th>三塁打</th>\n",
              "      <th>本塁打</th>\n",
              "      <th>四球</th>\n",
              "      <th>死球</th>\n",
              "      <th>三振</th>\n",
              "      <th>犠打</th>\n",
              "      <th>犠飛</th>\n",
              "      <th>四死球</th>\n",
              "    </tr>\n",
              "    <tr>\n",
              "      <th>背番号</th>\n",
              "      <th></th>\n",
              "      <th></th>\n",
              "      <th></th>\n",
              "      <th></th>\n",
              "      <th></th>\n",
              "      <th></th>\n",
              "      <th></th>\n",
              "      <th></th>\n",
              "      <th></th>\n",
              "      <th></th>\n",
              "      <th></th>\n",
              "      <th></th>\n",
              "    </tr>\n",
              "  </thead>\n",
              "  <tbody>\n",
              "    <tr>\n",
              "      <th>3</th>\n",
              "      <td>A</td>\n",
              "      <td>533</td>\n",
              "      <td>75</td>\n",
              "      <td>25</td>\n",
              "      <td>3</td>\n",
              "      <td>20</td>\n",
              "      <td>50</td>\n",
              "      <td>5</td>\n",
              "      <td>84</td>\n",
              "      <td>0</td>\n",
              "      <td>18</td>\n",
              "      <td>55</td>\n",
              "    </tr>\n",
              "    <tr>\n",
              "      <th>44</th>\n",
              "      <td>B</td>\n",
              "      <td>552</td>\n",
              "      <td>68</td>\n",
              "      <td>28</td>\n",
              "      <td>4</td>\n",
              "      <td>34</td>\n",
              "      <td>48</td>\n",
              "      <td>5</td>\n",
              "      <td>92</td>\n",
              "      <td>0</td>\n",
              "      <td>26</td>\n",
              "      <td>53</td>\n",
              "    </tr>\n",
              "    <tr>\n",
              "      <th>8</th>\n",
              "      <td>C</td>\n",
              "      <td>578</td>\n",
              "      <td>120</td>\n",
              "      <td>32</td>\n",
              "      <td>8</td>\n",
              "      <td>12</td>\n",
              "      <td>62</td>\n",
              "      <td>7</td>\n",
              "      <td>98</td>\n",
              "      <td>15</td>\n",
              "      <td>6</td>\n",
              "      <td>69</td>\n",
              "    </tr>\n",
              "    <tr>\n",
              "      <th>6</th>\n",
              "      <td>D</td>\n",
              "      <td>501</td>\n",
              "      <td>90</td>\n",
              "      <td>18</td>\n",
              "      <td>2</td>\n",
              "      <td>25</td>\n",
              "      <td>37</td>\n",
              "      <td>5</td>\n",
              "      <td>72</td>\n",
              "      <td>1</td>\n",
              "      <td>20</td>\n",
              "      <td>42</td>\n",
              "    </tr>\n",
              "    <tr>\n",
              "      <th>31</th>\n",
              "      <td>E</td>\n",
              "      <td>492</td>\n",
              "      <td>98</td>\n",
              "      <td>24</td>\n",
              "      <td>4</td>\n",
              "      <td>24</td>\n",
              "      <td>56</td>\n",
              "      <td>3</td>\n",
              "      <td>54</td>\n",
              "      <td>0</td>\n",
              "      <td>22</td>\n",
              "      <td>59</td>\n",
              "    </tr>\n",
              "    <tr>\n",
              "      <th>9</th>\n",
              "      <td>F</td>\n",
              "      <td>454</td>\n",
              "      <td>96</td>\n",
              "      <td>11</td>\n",
              "      <td>2</td>\n",
              "      <td>6</td>\n",
              "      <td>33</td>\n",
              "      <td>0</td>\n",
              "      <td>42</td>\n",
              "      <td>10</td>\n",
              "      <td>6</td>\n",
              "      <td>33</td>\n",
              "    </tr>\n",
              "    <tr>\n",
              "      <th>55</th>\n",
              "      <td>G</td>\n",
              "      <td>413</td>\n",
              "      <td>82</td>\n",
              "      <td>7</td>\n",
              "      <td>1</td>\n",
              "      <td>16</td>\n",
              "      <td>35</td>\n",
              "      <td>1</td>\n",
              "      <td>64</td>\n",
              "      <td>3</td>\n",
              "      <td>4</td>\n",
              "      <td>36</td>\n",
              "    </tr>\n",
              "    <tr>\n",
              "      <th>2</th>\n",
              "      <td>H</td>\n",
              "      <td>412</td>\n",
              "      <td>107</td>\n",
              "      <td>14</td>\n",
              "      <td>2</td>\n",
              "      <td>5</td>\n",
              "      <td>25</td>\n",
              "      <td>0</td>\n",
              "      <td>39</td>\n",
              "      <td>4</td>\n",
              "      <td>2</td>\n",
              "      <td>25</td>\n",
              "    </tr>\n",
              "    <tr>\n",
              "      <th>33</th>\n",
              "      <td>F</td>\n",
              "      <td>402</td>\n",
              "      <td>99</td>\n",
              "      <td>5</td>\n",
              "      <td>0</td>\n",
              "      <td>8</td>\n",
              "      <td>22</td>\n",
              "      <td>0</td>\n",
              "      <td>44</td>\n",
              "      <td>2</td>\n",
              "      <td>1</td>\n",
              "      <td>22</td>\n",
              "    </tr>\n",
              "  </tbody>\n",
              "</table>\n",
              "</div>"
            ],
            "text/plain": [
              "    名前   打数   単打  二塁打  三塁打  本塁打  四球  死球  三振  犠打  犠飛  四死球\n",
              "背番号                                                     \n",
              "3    A  533   75   25    3   20  50   5  84   0  18   55\n",
              "44   B  552   68   28    4   34  48   5  92   0  26   53\n",
              "8    C  578  120   32    8   12  62   7  98  15   6   69\n",
              "6    D  501   90   18    2   25  37   5  72   1  20   42\n",
              "31   E  492   98   24    4   24  56   3  54   0  22   59\n",
              "9    F  454   96   11    2    6  33   0  42  10   6   33\n",
              "55   G  413   82    7    1   16  35   1  64   3   4   36\n",
              "2    H  412  107   14    2    5  25   0  39   4   2   25\n",
              "33   F  402   99    5    0    8  22   0  44   2   1   22"
            ]
          },
          "metadata": {
            "tags": []
          },
          "execution_count": 19
        }
      ]
    },
    {
      "cell_type": "markdown",
      "metadata": {
        "id": "SyEXE1QwCx8Q"
      },
      "source": [
        "## 2.9 安打：単打 ＋ 二塁打 ＋ 三塁打 ＋ 本塁打 を追加して、結果を出力してください。\n"
      ]
    },
    {
      "cell_type": "code",
      "metadata": {
        "id": "53SmbAL7EmhK",
        "colab": {
          "base_uri": "https://localhost:8080/",
          "height": 359
        },
        "outputId": "61f51a28-c6f3-47fd-bee1-05069783bbfe"
      },
      "source": [
        ""
      ],
      "execution_count": 20,
      "outputs": [
        {
          "output_type": "execute_result",
          "data": {
            "text/html": [
              "<div>\n",
              "<style scoped>\n",
              "    .dataframe tbody tr th:only-of-type {\n",
              "        vertical-align: middle;\n",
              "    }\n",
              "\n",
              "    .dataframe tbody tr th {\n",
              "        vertical-align: top;\n",
              "    }\n",
              "\n",
              "    .dataframe thead th {\n",
              "        text-align: right;\n",
              "    }\n",
              "</style>\n",
              "<table border=\"1\" class=\"dataframe\">\n",
              "  <thead>\n",
              "    <tr style=\"text-align: right;\">\n",
              "      <th></th>\n",
              "      <th>名前</th>\n",
              "      <th>打数</th>\n",
              "      <th>単打</th>\n",
              "      <th>二塁打</th>\n",
              "      <th>三塁打</th>\n",
              "      <th>本塁打</th>\n",
              "      <th>四球</th>\n",
              "      <th>死球</th>\n",
              "      <th>三振</th>\n",
              "      <th>犠打</th>\n",
              "      <th>犠飛</th>\n",
              "      <th>四死球</th>\n",
              "      <th>安打</th>\n",
              "    </tr>\n",
              "    <tr>\n",
              "      <th>背番号</th>\n",
              "      <th></th>\n",
              "      <th></th>\n",
              "      <th></th>\n",
              "      <th></th>\n",
              "      <th></th>\n",
              "      <th></th>\n",
              "      <th></th>\n",
              "      <th></th>\n",
              "      <th></th>\n",
              "      <th></th>\n",
              "      <th></th>\n",
              "      <th></th>\n",
              "      <th></th>\n",
              "    </tr>\n",
              "  </thead>\n",
              "  <tbody>\n",
              "    <tr>\n",
              "      <th>3</th>\n",
              "      <td>A</td>\n",
              "      <td>533</td>\n",
              "      <td>75</td>\n",
              "      <td>25</td>\n",
              "      <td>3</td>\n",
              "      <td>20</td>\n",
              "      <td>50</td>\n",
              "      <td>5</td>\n",
              "      <td>84</td>\n",
              "      <td>0</td>\n",
              "      <td>18</td>\n",
              "      <td>55</td>\n",
              "      <td>123</td>\n",
              "    </tr>\n",
              "    <tr>\n",
              "      <th>44</th>\n",
              "      <td>B</td>\n",
              "      <td>552</td>\n",
              "      <td>68</td>\n",
              "      <td>28</td>\n",
              "      <td>4</td>\n",
              "      <td>34</td>\n",
              "      <td>48</td>\n",
              "      <td>5</td>\n",
              "      <td>92</td>\n",
              "      <td>0</td>\n",
              "      <td>26</td>\n",
              "      <td>53</td>\n",
              "      <td>134</td>\n",
              "    </tr>\n",
              "    <tr>\n",
              "      <th>8</th>\n",
              "      <td>C</td>\n",
              "      <td>578</td>\n",
              "      <td>120</td>\n",
              "      <td>32</td>\n",
              "      <td>8</td>\n",
              "      <td>12</td>\n",
              "      <td>62</td>\n",
              "      <td>7</td>\n",
              "      <td>98</td>\n",
              "      <td>15</td>\n",
              "      <td>6</td>\n",
              "      <td>69</td>\n",
              "      <td>172</td>\n",
              "    </tr>\n",
              "    <tr>\n",
              "      <th>6</th>\n",
              "      <td>D</td>\n",
              "      <td>501</td>\n",
              "      <td>90</td>\n",
              "      <td>18</td>\n",
              "      <td>2</td>\n",
              "      <td>25</td>\n",
              "      <td>37</td>\n",
              "      <td>5</td>\n",
              "      <td>72</td>\n",
              "      <td>1</td>\n",
              "      <td>20</td>\n",
              "      <td>42</td>\n",
              "      <td>135</td>\n",
              "    </tr>\n",
              "    <tr>\n",
              "      <th>31</th>\n",
              "      <td>E</td>\n",
              "      <td>492</td>\n",
              "      <td>98</td>\n",
              "      <td>24</td>\n",
              "      <td>4</td>\n",
              "      <td>24</td>\n",
              "      <td>56</td>\n",
              "      <td>3</td>\n",
              "      <td>54</td>\n",
              "      <td>0</td>\n",
              "      <td>22</td>\n",
              "      <td>59</td>\n",
              "      <td>150</td>\n",
              "    </tr>\n",
              "    <tr>\n",
              "      <th>9</th>\n",
              "      <td>F</td>\n",
              "      <td>454</td>\n",
              "      <td>96</td>\n",
              "      <td>11</td>\n",
              "      <td>2</td>\n",
              "      <td>6</td>\n",
              "      <td>33</td>\n",
              "      <td>0</td>\n",
              "      <td>42</td>\n",
              "      <td>10</td>\n",
              "      <td>6</td>\n",
              "      <td>33</td>\n",
              "      <td>115</td>\n",
              "    </tr>\n",
              "    <tr>\n",
              "      <th>55</th>\n",
              "      <td>G</td>\n",
              "      <td>413</td>\n",
              "      <td>82</td>\n",
              "      <td>7</td>\n",
              "      <td>1</td>\n",
              "      <td>16</td>\n",
              "      <td>35</td>\n",
              "      <td>1</td>\n",
              "      <td>64</td>\n",
              "      <td>3</td>\n",
              "      <td>4</td>\n",
              "      <td>36</td>\n",
              "      <td>106</td>\n",
              "    </tr>\n",
              "    <tr>\n",
              "      <th>2</th>\n",
              "      <td>H</td>\n",
              "      <td>412</td>\n",
              "      <td>107</td>\n",
              "      <td>14</td>\n",
              "      <td>2</td>\n",
              "      <td>5</td>\n",
              "      <td>25</td>\n",
              "      <td>0</td>\n",
              "      <td>39</td>\n",
              "      <td>4</td>\n",
              "      <td>2</td>\n",
              "      <td>25</td>\n",
              "      <td>128</td>\n",
              "    </tr>\n",
              "    <tr>\n",
              "      <th>33</th>\n",
              "      <td>F</td>\n",
              "      <td>402</td>\n",
              "      <td>99</td>\n",
              "      <td>5</td>\n",
              "      <td>0</td>\n",
              "      <td>8</td>\n",
              "      <td>22</td>\n",
              "      <td>0</td>\n",
              "      <td>44</td>\n",
              "      <td>2</td>\n",
              "      <td>1</td>\n",
              "      <td>22</td>\n",
              "      <td>112</td>\n",
              "    </tr>\n",
              "  </tbody>\n",
              "</table>\n",
              "</div>"
            ],
            "text/plain": [
              "    名前   打数   単打  二塁打  三塁打  本塁打  四球  死球  三振  犠打  犠飛  四死球   安打\n",
              "背番号                                                          \n",
              "3    A  533   75   25    3   20  50   5  84   0  18   55  123\n",
              "44   B  552   68   28    4   34  48   5  92   0  26   53  134\n",
              "8    C  578  120   32    8   12  62   7  98  15   6   69  172\n",
              "6    D  501   90   18    2   25  37   5  72   1  20   42  135\n",
              "31   E  492   98   24    4   24  56   3  54   0  22   59  150\n",
              "9    F  454   96   11    2    6  33   0  42  10   6   33  115\n",
              "55   G  413   82    7    1   16  35   1  64   3   4   36  106\n",
              "2    H  412  107   14    2    5  25   0  39   4   2   25  128\n",
              "33   F  402   99    5    0    8  22   0  44   2   1   22  112"
            ]
          },
          "metadata": {
            "tags": []
          },
          "execution_count": 20
        }
      ]
    },
    {
      "cell_type": "markdown",
      "metadata": {
        "id": "wljYSEsSDGzJ"
      },
      "source": [
        "## 2.10 打率：安打 ÷ 打数 を追加して、結果を出力してください。\n"
      ]
    },
    {
      "cell_type": "code",
      "metadata": {
        "id": "grrgl1UELqXN",
        "colab": {
          "base_uri": "https://localhost:8080/",
          "height": 359
        },
        "outputId": "99a4f7eb-6302-478f-fbf3-6dd05326786e"
      },
      "source": [
        ""
      ],
      "execution_count": 21,
      "outputs": [
        {
          "output_type": "execute_result",
          "data": {
            "text/html": [
              "<div>\n",
              "<style scoped>\n",
              "    .dataframe tbody tr th:only-of-type {\n",
              "        vertical-align: middle;\n",
              "    }\n",
              "\n",
              "    .dataframe tbody tr th {\n",
              "        vertical-align: top;\n",
              "    }\n",
              "\n",
              "    .dataframe thead th {\n",
              "        text-align: right;\n",
              "    }\n",
              "</style>\n",
              "<table border=\"1\" class=\"dataframe\">\n",
              "  <thead>\n",
              "    <tr style=\"text-align: right;\">\n",
              "      <th></th>\n",
              "      <th>名前</th>\n",
              "      <th>打数</th>\n",
              "      <th>単打</th>\n",
              "      <th>二塁打</th>\n",
              "      <th>三塁打</th>\n",
              "      <th>本塁打</th>\n",
              "      <th>四球</th>\n",
              "      <th>死球</th>\n",
              "      <th>三振</th>\n",
              "      <th>犠打</th>\n",
              "      <th>犠飛</th>\n",
              "      <th>四死球</th>\n",
              "      <th>安打</th>\n",
              "      <th>打率</th>\n",
              "    </tr>\n",
              "    <tr>\n",
              "      <th>背番号</th>\n",
              "      <th></th>\n",
              "      <th></th>\n",
              "      <th></th>\n",
              "      <th></th>\n",
              "      <th></th>\n",
              "      <th></th>\n",
              "      <th></th>\n",
              "      <th></th>\n",
              "      <th></th>\n",
              "      <th></th>\n",
              "      <th></th>\n",
              "      <th></th>\n",
              "      <th></th>\n",
              "      <th></th>\n",
              "    </tr>\n",
              "  </thead>\n",
              "  <tbody>\n",
              "    <tr>\n",
              "      <th>3</th>\n",
              "      <td>A</td>\n",
              "      <td>533</td>\n",
              "      <td>75</td>\n",
              "      <td>25</td>\n",
              "      <td>3</td>\n",
              "      <td>20</td>\n",
              "      <td>50</td>\n",
              "      <td>5</td>\n",
              "      <td>84</td>\n",
              "      <td>0</td>\n",
              "      <td>18</td>\n",
              "      <td>55</td>\n",
              "      <td>123</td>\n",
              "      <td>0.231</td>\n",
              "    </tr>\n",
              "    <tr>\n",
              "      <th>44</th>\n",
              "      <td>B</td>\n",
              "      <td>552</td>\n",
              "      <td>68</td>\n",
              "      <td>28</td>\n",
              "      <td>4</td>\n",
              "      <td>34</td>\n",
              "      <td>48</td>\n",
              "      <td>5</td>\n",
              "      <td>92</td>\n",
              "      <td>0</td>\n",
              "      <td>26</td>\n",
              "      <td>53</td>\n",
              "      <td>134</td>\n",
              "      <td>0.243</td>\n",
              "    </tr>\n",
              "    <tr>\n",
              "      <th>8</th>\n",
              "      <td>C</td>\n",
              "      <td>578</td>\n",
              "      <td>120</td>\n",
              "      <td>32</td>\n",
              "      <td>8</td>\n",
              "      <td>12</td>\n",
              "      <td>62</td>\n",
              "      <td>7</td>\n",
              "      <td>98</td>\n",
              "      <td>15</td>\n",
              "      <td>6</td>\n",
              "      <td>69</td>\n",
              "      <td>172</td>\n",
              "      <td>0.298</td>\n",
              "    </tr>\n",
              "    <tr>\n",
              "      <th>6</th>\n",
              "      <td>D</td>\n",
              "      <td>501</td>\n",
              "      <td>90</td>\n",
              "      <td>18</td>\n",
              "      <td>2</td>\n",
              "      <td>25</td>\n",
              "      <td>37</td>\n",
              "      <td>5</td>\n",
              "      <td>72</td>\n",
              "      <td>1</td>\n",
              "      <td>20</td>\n",
              "      <td>42</td>\n",
              "      <td>135</td>\n",
              "      <td>0.269</td>\n",
              "    </tr>\n",
              "    <tr>\n",
              "      <th>31</th>\n",
              "      <td>E</td>\n",
              "      <td>492</td>\n",
              "      <td>98</td>\n",
              "      <td>24</td>\n",
              "      <td>4</td>\n",
              "      <td>24</td>\n",
              "      <td>56</td>\n",
              "      <td>3</td>\n",
              "      <td>54</td>\n",
              "      <td>0</td>\n",
              "      <td>22</td>\n",
              "      <td>59</td>\n",
              "      <td>150</td>\n",
              "      <td>0.305</td>\n",
              "    </tr>\n",
              "    <tr>\n",
              "      <th>9</th>\n",
              "      <td>F</td>\n",
              "      <td>454</td>\n",
              "      <td>96</td>\n",
              "      <td>11</td>\n",
              "      <td>2</td>\n",
              "      <td>6</td>\n",
              "      <td>33</td>\n",
              "      <td>0</td>\n",
              "      <td>42</td>\n",
              "      <td>10</td>\n",
              "      <td>6</td>\n",
              "      <td>33</td>\n",
              "      <td>115</td>\n",
              "      <td>0.253</td>\n",
              "    </tr>\n",
              "    <tr>\n",
              "      <th>55</th>\n",
              "      <td>G</td>\n",
              "      <td>413</td>\n",
              "      <td>82</td>\n",
              "      <td>7</td>\n",
              "      <td>1</td>\n",
              "      <td>16</td>\n",
              "      <td>35</td>\n",
              "      <td>1</td>\n",
              "      <td>64</td>\n",
              "      <td>3</td>\n",
              "      <td>4</td>\n",
              "      <td>36</td>\n",
              "      <td>106</td>\n",
              "      <td>0.257</td>\n",
              "    </tr>\n",
              "    <tr>\n",
              "      <th>2</th>\n",
              "      <td>H</td>\n",
              "      <td>412</td>\n",
              "      <td>107</td>\n",
              "      <td>14</td>\n",
              "      <td>2</td>\n",
              "      <td>5</td>\n",
              "      <td>25</td>\n",
              "      <td>0</td>\n",
              "      <td>39</td>\n",
              "      <td>4</td>\n",
              "      <td>2</td>\n",
              "      <td>25</td>\n",
              "      <td>128</td>\n",
              "      <td>0.311</td>\n",
              "    </tr>\n",
              "    <tr>\n",
              "      <th>33</th>\n",
              "      <td>F</td>\n",
              "      <td>402</td>\n",
              "      <td>99</td>\n",
              "      <td>5</td>\n",
              "      <td>0</td>\n",
              "      <td>8</td>\n",
              "      <td>22</td>\n",
              "      <td>0</td>\n",
              "      <td>44</td>\n",
              "      <td>2</td>\n",
              "      <td>1</td>\n",
              "      <td>22</td>\n",
              "      <td>112</td>\n",
              "      <td>0.279</td>\n",
              "    </tr>\n",
              "  </tbody>\n",
              "</table>\n",
              "</div>"
            ],
            "text/plain": [
              "    名前   打数   単打  二塁打  三塁打  本塁打  四球  死球  三振  犠打  犠飛  四死球   安打    打率\n",
              "背番号                                                                \n",
              "3    A  533   75   25    3   20  50   5  84   0  18   55  123 0.231\n",
              "44   B  552   68   28    4   34  48   5  92   0  26   53  134 0.243\n",
              "8    C  578  120   32    8   12  62   7  98  15   6   69  172 0.298\n",
              "6    D  501   90   18    2   25  37   5  72   1  20   42  135 0.269\n",
              "31   E  492   98   24    4   24  56   3  54   0  22   59  150 0.305\n",
              "9    F  454   96   11    2    6  33   0  42  10   6   33  115 0.253\n",
              "55   G  413   82    7    1   16  35   1  64   3   4   36  106 0.257\n",
              "2    H  412  107   14    2    5  25   0  39   4   2   25  128 0.311\n",
              "33   F  402   99    5    0    8  22   0  44   2   1   22  112 0.279"
            ]
          },
          "metadata": {
            "tags": []
          },
          "execution_count": 21
        }
      ]
    },
    {
      "cell_type": "markdown",
      "metadata": {
        "id": "kVDQEwAmNp8P"
      },
      "source": [
        "## 2.11 出塁率 : (安打＋四死球) ÷ (打数+四死球数+犠飛) を追加して、結果を出力してください。"
      ]
    },
    {
      "cell_type": "code",
      "metadata": {
        "id": "A5jvB4jxNzIv",
        "colab": {
          "base_uri": "https://localhost:8080/",
          "height": 359
        },
        "outputId": "dd7cd55c-e67c-4fa0-f893-22dbe96b5126"
      },
      "source": [
        ""
      ],
      "execution_count": 22,
      "outputs": [
        {
          "output_type": "execute_result",
          "data": {
            "text/html": [
              "<div>\n",
              "<style scoped>\n",
              "    .dataframe tbody tr th:only-of-type {\n",
              "        vertical-align: middle;\n",
              "    }\n",
              "\n",
              "    .dataframe tbody tr th {\n",
              "        vertical-align: top;\n",
              "    }\n",
              "\n",
              "    .dataframe thead th {\n",
              "        text-align: right;\n",
              "    }\n",
              "</style>\n",
              "<table border=\"1\" class=\"dataframe\">\n",
              "  <thead>\n",
              "    <tr style=\"text-align: right;\">\n",
              "      <th></th>\n",
              "      <th>名前</th>\n",
              "      <th>打数</th>\n",
              "      <th>単打</th>\n",
              "      <th>二塁打</th>\n",
              "      <th>三塁打</th>\n",
              "      <th>本塁打</th>\n",
              "      <th>四球</th>\n",
              "      <th>死球</th>\n",
              "      <th>三振</th>\n",
              "      <th>犠打</th>\n",
              "      <th>犠飛</th>\n",
              "      <th>四死球</th>\n",
              "      <th>安打</th>\n",
              "      <th>打率</th>\n",
              "      <th>出塁率</th>\n",
              "    </tr>\n",
              "    <tr>\n",
              "      <th>背番号</th>\n",
              "      <th></th>\n",
              "      <th></th>\n",
              "      <th></th>\n",
              "      <th></th>\n",
              "      <th></th>\n",
              "      <th></th>\n",
              "      <th></th>\n",
              "      <th></th>\n",
              "      <th></th>\n",
              "      <th></th>\n",
              "      <th></th>\n",
              "      <th></th>\n",
              "      <th></th>\n",
              "      <th></th>\n",
              "      <th></th>\n",
              "    </tr>\n",
              "  </thead>\n",
              "  <tbody>\n",
              "    <tr>\n",
              "      <th>3</th>\n",
              "      <td>A</td>\n",
              "      <td>533</td>\n",
              "      <td>75</td>\n",
              "      <td>25</td>\n",
              "      <td>3</td>\n",
              "      <td>20</td>\n",
              "      <td>50</td>\n",
              "      <td>5</td>\n",
              "      <td>84</td>\n",
              "      <td>0</td>\n",
              "      <td>18</td>\n",
              "      <td>55</td>\n",
              "      <td>123</td>\n",
              "      <td>0.231</td>\n",
              "      <td>0.294</td>\n",
              "    </tr>\n",
              "    <tr>\n",
              "      <th>44</th>\n",
              "      <td>B</td>\n",
              "      <td>552</td>\n",
              "      <td>68</td>\n",
              "      <td>28</td>\n",
              "      <td>4</td>\n",
              "      <td>34</td>\n",
              "      <td>48</td>\n",
              "      <td>5</td>\n",
              "      <td>92</td>\n",
              "      <td>0</td>\n",
              "      <td>26</td>\n",
              "      <td>53</td>\n",
              "      <td>134</td>\n",
              "      <td>0.243</td>\n",
              "      <td>0.296</td>\n",
              "    </tr>\n",
              "    <tr>\n",
              "      <th>8</th>\n",
              "      <td>C</td>\n",
              "      <td>578</td>\n",
              "      <td>120</td>\n",
              "      <td>32</td>\n",
              "      <td>8</td>\n",
              "      <td>12</td>\n",
              "      <td>62</td>\n",
              "      <td>7</td>\n",
              "      <td>98</td>\n",
              "      <td>15</td>\n",
              "      <td>6</td>\n",
              "      <td>69</td>\n",
              "      <td>172</td>\n",
              "      <td>0.298</td>\n",
              "      <td>0.369</td>\n",
              "    </tr>\n",
              "    <tr>\n",
              "      <th>6</th>\n",
              "      <td>D</td>\n",
              "      <td>501</td>\n",
              "      <td>90</td>\n",
              "      <td>18</td>\n",
              "      <td>2</td>\n",
              "      <td>25</td>\n",
              "      <td>37</td>\n",
              "      <td>5</td>\n",
              "      <td>72</td>\n",
              "      <td>1</td>\n",
              "      <td>20</td>\n",
              "      <td>42</td>\n",
              "      <td>135</td>\n",
              "      <td>0.269</td>\n",
              "      <td>0.314</td>\n",
              "    </tr>\n",
              "    <tr>\n",
              "      <th>31</th>\n",
              "      <td>E</td>\n",
              "      <td>492</td>\n",
              "      <td>98</td>\n",
              "      <td>24</td>\n",
              "      <td>4</td>\n",
              "      <td>24</td>\n",
              "      <td>56</td>\n",
              "      <td>3</td>\n",
              "      <td>54</td>\n",
              "      <td>0</td>\n",
              "      <td>22</td>\n",
              "      <td>59</td>\n",
              "      <td>150</td>\n",
              "      <td>0.305</td>\n",
              "      <td>0.365</td>\n",
              "    </tr>\n",
              "    <tr>\n",
              "      <th>9</th>\n",
              "      <td>F</td>\n",
              "      <td>454</td>\n",
              "      <td>96</td>\n",
              "      <td>11</td>\n",
              "      <td>2</td>\n",
              "      <td>6</td>\n",
              "      <td>33</td>\n",
              "      <td>0</td>\n",
              "      <td>42</td>\n",
              "      <td>10</td>\n",
              "      <td>6</td>\n",
              "      <td>33</td>\n",
              "      <td>115</td>\n",
              "      <td>0.253</td>\n",
              "      <td>0.300</td>\n",
              "    </tr>\n",
              "    <tr>\n",
              "      <th>55</th>\n",
              "      <td>G</td>\n",
              "      <td>413</td>\n",
              "      <td>82</td>\n",
              "      <td>7</td>\n",
              "      <td>1</td>\n",
              "      <td>16</td>\n",
              "      <td>35</td>\n",
              "      <td>1</td>\n",
              "      <td>64</td>\n",
              "      <td>3</td>\n",
              "      <td>4</td>\n",
              "      <td>36</td>\n",
              "      <td>106</td>\n",
              "      <td>0.257</td>\n",
              "      <td>0.313</td>\n",
              "    </tr>\n",
              "    <tr>\n",
              "      <th>2</th>\n",
              "      <td>H</td>\n",
              "      <td>412</td>\n",
              "      <td>107</td>\n",
              "      <td>14</td>\n",
              "      <td>2</td>\n",
              "      <td>5</td>\n",
              "      <td>25</td>\n",
              "      <td>0</td>\n",
              "      <td>39</td>\n",
              "      <td>4</td>\n",
              "      <td>2</td>\n",
              "      <td>25</td>\n",
              "      <td>128</td>\n",
              "      <td>0.311</td>\n",
              "      <td>0.349</td>\n",
              "    </tr>\n",
              "    <tr>\n",
              "      <th>33</th>\n",
              "      <td>F</td>\n",
              "      <td>402</td>\n",
              "      <td>99</td>\n",
              "      <td>5</td>\n",
              "      <td>0</td>\n",
              "      <td>8</td>\n",
              "      <td>22</td>\n",
              "      <td>0</td>\n",
              "      <td>44</td>\n",
              "      <td>2</td>\n",
              "      <td>1</td>\n",
              "      <td>22</td>\n",
              "      <td>112</td>\n",
              "      <td>0.279</td>\n",
              "      <td>0.315</td>\n",
              "    </tr>\n",
              "  </tbody>\n",
              "</table>\n",
              "</div>"
            ],
            "text/plain": [
              "    名前   打数   単打  二塁打  三塁打  本塁打  四球  死球  三振  犠打  犠飛  四死球   安打    打率   出塁率\n",
              "背番号                                                                      \n",
              "3    A  533   75   25    3   20  50   5  84   0  18   55  123 0.231 0.294\n",
              "44   B  552   68   28    4   34  48   5  92   0  26   53  134 0.243 0.296\n",
              "8    C  578  120   32    8   12  62   7  98  15   6   69  172 0.298 0.369\n",
              "6    D  501   90   18    2   25  37   5  72   1  20   42  135 0.269 0.314\n",
              "31   E  492   98   24    4   24  56   3  54   0  22   59  150 0.305 0.365\n",
              "9    F  454   96   11    2    6  33   0  42  10   6   33  115 0.253 0.300\n",
              "55   G  413   82    7    1   16  35   1  64   3   4   36  106 0.257 0.313\n",
              "2    H  412  107   14    2    5  25   0  39   4   2   25  128 0.311 0.349\n",
              "33   F  402   99    5    0    8  22   0  44   2   1   22  112 0.279 0.315"
            ]
          },
          "metadata": {
            "tags": []
          },
          "execution_count": 22
        }
      ]
    },
    {
      "cell_type": "markdown",
      "metadata": {
        "id": "_rH44_E5O3Ez"
      },
      "source": [
        "## 2.12 長打率 : (単打 + 二塁打 x 2 + 三塁打 x 3 + 本塁打 x 4) ÷ 打数 を追加して、結果を出力してください。"
      ]
    },
    {
      "cell_type": "code",
      "metadata": {
        "id": "Uc_hS74GO7Ec",
        "colab": {
          "base_uri": "https://localhost:8080/",
          "height": 359
        },
        "outputId": "3d57af12-7b60-4490-a42e-a178e50f4fc9"
      },
      "source": [
        ""
      ],
      "execution_count": 23,
      "outputs": [
        {
          "output_type": "execute_result",
          "data": {
            "text/html": [
              "<div>\n",
              "<style scoped>\n",
              "    .dataframe tbody tr th:only-of-type {\n",
              "        vertical-align: middle;\n",
              "    }\n",
              "\n",
              "    .dataframe tbody tr th {\n",
              "        vertical-align: top;\n",
              "    }\n",
              "\n",
              "    .dataframe thead th {\n",
              "        text-align: right;\n",
              "    }\n",
              "</style>\n",
              "<table border=\"1\" class=\"dataframe\">\n",
              "  <thead>\n",
              "    <tr style=\"text-align: right;\">\n",
              "      <th></th>\n",
              "      <th>名前</th>\n",
              "      <th>打数</th>\n",
              "      <th>単打</th>\n",
              "      <th>二塁打</th>\n",
              "      <th>三塁打</th>\n",
              "      <th>本塁打</th>\n",
              "      <th>四球</th>\n",
              "      <th>死球</th>\n",
              "      <th>三振</th>\n",
              "      <th>犠打</th>\n",
              "      <th>犠飛</th>\n",
              "      <th>四死球</th>\n",
              "      <th>安打</th>\n",
              "      <th>打率</th>\n",
              "      <th>出塁率</th>\n",
              "      <th>長打率</th>\n",
              "    </tr>\n",
              "    <tr>\n",
              "      <th>背番号</th>\n",
              "      <th></th>\n",
              "      <th></th>\n",
              "      <th></th>\n",
              "      <th></th>\n",
              "      <th></th>\n",
              "      <th></th>\n",
              "      <th></th>\n",
              "      <th></th>\n",
              "      <th></th>\n",
              "      <th></th>\n",
              "      <th></th>\n",
              "      <th></th>\n",
              "      <th></th>\n",
              "      <th></th>\n",
              "      <th></th>\n",
              "      <th></th>\n",
              "    </tr>\n",
              "  </thead>\n",
              "  <tbody>\n",
              "    <tr>\n",
              "      <th>3</th>\n",
              "      <td>A</td>\n",
              "      <td>533</td>\n",
              "      <td>75</td>\n",
              "      <td>25</td>\n",
              "      <td>3</td>\n",
              "      <td>20</td>\n",
              "      <td>50</td>\n",
              "      <td>5</td>\n",
              "      <td>84</td>\n",
              "      <td>0</td>\n",
              "      <td>18</td>\n",
              "      <td>55</td>\n",
              "      <td>123</td>\n",
              "      <td>0.231</td>\n",
              "      <td>0.294</td>\n",
              "      <td>0.402</td>\n",
              "    </tr>\n",
              "    <tr>\n",
              "      <th>44</th>\n",
              "      <td>B</td>\n",
              "      <td>552</td>\n",
              "      <td>68</td>\n",
              "      <td>28</td>\n",
              "      <td>4</td>\n",
              "      <td>34</td>\n",
              "      <td>48</td>\n",
              "      <td>5</td>\n",
              "      <td>92</td>\n",
              "      <td>0</td>\n",
              "      <td>26</td>\n",
              "      <td>53</td>\n",
              "      <td>134</td>\n",
              "      <td>0.243</td>\n",
              "      <td>0.296</td>\n",
              "      <td>0.493</td>\n",
              "    </tr>\n",
              "    <tr>\n",
              "      <th>8</th>\n",
              "      <td>C</td>\n",
              "      <td>578</td>\n",
              "      <td>120</td>\n",
              "      <td>32</td>\n",
              "      <td>8</td>\n",
              "      <td>12</td>\n",
              "      <td>62</td>\n",
              "      <td>7</td>\n",
              "      <td>98</td>\n",
              "      <td>15</td>\n",
              "      <td>6</td>\n",
              "      <td>69</td>\n",
              "      <td>172</td>\n",
              "      <td>0.298</td>\n",
              "      <td>0.369</td>\n",
              "      <td>0.443</td>\n",
              "    </tr>\n",
              "    <tr>\n",
              "      <th>6</th>\n",
              "      <td>D</td>\n",
              "      <td>501</td>\n",
              "      <td>90</td>\n",
              "      <td>18</td>\n",
              "      <td>2</td>\n",
              "      <td>25</td>\n",
              "      <td>37</td>\n",
              "      <td>5</td>\n",
              "      <td>72</td>\n",
              "      <td>1</td>\n",
              "      <td>20</td>\n",
              "      <td>42</td>\n",
              "      <td>135</td>\n",
              "      <td>0.269</td>\n",
              "      <td>0.314</td>\n",
              "      <td>0.463</td>\n",
              "    </tr>\n",
              "    <tr>\n",
              "      <th>31</th>\n",
              "      <td>E</td>\n",
              "      <td>492</td>\n",
              "      <td>98</td>\n",
              "      <td>24</td>\n",
              "      <td>4</td>\n",
              "      <td>24</td>\n",
              "      <td>56</td>\n",
              "      <td>3</td>\n",
              "      <td>54</td>\n",
              "      <td>0</td>\n",
              "      <td>22</td>\n",
              "      <td>59</td>\n",
              "      <td>150</td>\n",
              "      <td>0.305</td>\n",
              "      <td>0.365</td>\n",
              "      <td>0.516</td>\n",
              "    </tr>\n",
              "    <tr>\n",
              "      <th>9</th>\n",
              "      <td>F</td>\n",
              "      <td>454</td>\n",
              "      <td>96</td>\n",
              "      <td>11</td>\n",
              "      <td>2</td>\n",
              "      <td>6</td>\n",
              "      <td>33</td>\n",
              "      <td>0</td>\n",
              "      <td>42</td>\n",
              "      <td>10</td>\n",
              "      <td>6</td>\n",
              "      <td>33</td>\n",
              "      <td>115</td>\n",
              "      <td>0.253</td>\n",
              "      <td>0.300</td>\n",
              "      <td>0.326</td>\n",
              "    </tr>\n",
              "    <tr>\n",
              "      <th>55</th>\n",
              "      <td>G</td>\n",
              "      <td>413</td>\n",
              "      <td>82</td>\n",
              "      <td>7</td>\n",
              "      <td>1</td>\n",
              "      <td>16</td>\n",
              "      <td>35</td>\n",
              "      <td>1</td>\n",
              "      <td>64</td>\n",
              "      <td>3</td>\n",
              "      <td>4</td>\n",
              "      <td>36</td>\n",
              "      <td>106</td>\n",
              "      <td>0.257</td>\n",
              "      <td>0.313</td>\n",
              "      <td>0.395</td>\n",
              "    </tr>\n",
              "    <tr>\n",
              "      <th>2</th>\n",
              "      <td>H</td>\n",
              "      <td>412</td>\n",
              "      <td>107</td>\n",
              "      <td>14</td>\n",
              "      <td>2</td>\n",
              "      <td>5</td>\n",
              "      <td>25</td>\n",
              "      <td>0</td>\n",
              "      <td>39</td>\n",
              "      <td>4</td>\n",
              "      <td>2</td>\n",
              "      <td>25</td>\n",
              "      <td>128</td>\n",
              "      <td>0.311</td>\n",
              "      <td>0.349</td>\n",
              "      <td>0.391</td>\n",
              "    </tr>\n",
              "    <tr>\n",
              "      <th>33</th>\n",
              "      <td>F</td>\n",
              "      <td>402</td>\n",
              "      <td>99</td>\n",
              "      <td>5</td>\n",
              "      <td>0</td>\n",
              "      <td>8</td>\n",
              "      <td>22</td>\n",
              "      <td>0</td>\n",
              "      <td>44</td>\n",
              "      <td>2</td>\n",
              "      <td>1</td>\n",
              "      <td>22</td>\n",
              "      <td>112</td>\n",
              "      <td>0.279</td>\n",
              "      <td>0.315</td>\n",
              "      <td>0.351</td>\n",
              "    </tr>\n",
              "  </tbody>\n",
              "</table>\n",
              "</div>"
            ],
            "text/plain": [
              "    名前   打数   単打  二塁打  三塁打  本塁打  四球  死球  三振  犠打  犠飛  四死球   安打    打率   出塁率   長打率\n",
              "背番号                                                                            \n",
              "3    A  533   75   25    3   20  50   5  84   0  18   55  123 0.231 0.294 0.402\n",
              "44   B  552   68   28    4   34  48   5  92   0  26   53  134 0.243 0.296 0.493\n",
              "8    C  578  120   32    8   12  62   7  98  15   6   69  172 0.298 0.369 0.443\n",
              "6    D  501   90   18    2   25  37   5  72   1  20   42  135 0.269 0.314 0.463\n",
              "31   E  492   98   24    4   24  56   3  54   0  22   59  150 0.305 0.365 0.516\n",
              "9    F  454   96   11    2    6  33   0  42  10   6   33  115 0.253 0.300 0.326\n",
              "55   G  413   82    7    1   16  35   1  64   3   4   36  106 0.257 0.313 0.395\n",
              "2    H  412  107   14    2    5  25   0  39   4   2   25  128 0.311 0.349 0.391\n",
              "33   F  402   99    5    0    8  22   0  44   2   1   22  112 0.279 0.315 0.351"
            ]
          },
          "metadata": {
            "tags": []
          },
          "execution_count": 23
        }
      ]
    },
    {
      "cell_type": "markdown",
      "metadata": {
        "id": "J3RRDZjqEA_J"
      },
      "source": [
        "## 2.13 OPS：（出塁率 ＋ 長打率）を追加して、結果を出力してください。"
      ]
    },
    {
      "cell_type": "code",
      "metadata": {
        "id": "oNKWn678POnf",
        "colab": {
          "base_uri": "https://localhost:8080/",
          "height": 359
        },
        "outputId": "73f9e967-f432-484f-b7c7-92924aa2560a"
      },
      "source": [
        ""
      ],
      "execution_count": 24,
      "outputs": [
        {
          "output_type": "execute_result",
          "data": {
            "text/html": [
              "<div>\n",
              "<style scoped>\n",
              "    .dataframe tbody tr th:only-of-type {\n",
              "        vertical-align: middle;\n",
              "    }\n",
              "\n",
              "    .dataframe tbody tr th {\n",
              "        vertical-align: top;\n",
              "    }\n",
              "\n",
              "    .dataframe thead th {\n",
              "        text-align: right;\n",
              "    }\n",
              "</style>\n",
              "<table border=\"1\" class=\"dataframe\">\n",
              "  <thead>\n",
              "    <tr style=\"text-align: right;\">\n",
              "      <th></th>\n",
              "      <th>名前</th>\n",
              "      <th>打数</th>\n",
              "      <th>単打</th>\n",
              "      <th>二塁打</th>\n",
              "      <th>三塁打</th>\n",
              "      <th>本塁打</th>\n",
              "      <th>四球</th>\n",
              "      <th>死球</th>\n",
              "      <th>三振</th>\n",
              "      <th>犠打</th>\n",
              "      <th>犠飛</th>\n",
              "      <th>四死球</th>\n",
              "      <th>安打</th>\n",
              "      <th>打率</th>\n",
              "      <th>出塁率</th>\n",
              "      <th>長打率</th>\n",
              "      <th>OPS</th>\n",
              "    </tr>\n",
              "    <tr>\n",
              "      <th>背番号</th>\n",
              "      <th></th>\n",
              "      <th></th>\n",
              "      <th></th>\n",
              "      <th></th>\n",
              "      <th></th>\n",
              "      <th></th>\n",
              "      <th></th>\n",
              "      <th></th>\n",
              "      <th></th>\n",
              "      <th></th>\n",
              "      <th></th>\n",
              "      <th></th>\n",
              "      <th></th>\n",
              "      <th></th>\n",
              "      <th></th>\n",
              "      <th></th>\n",
              "      <th></th>\n",
              "    </tr>\n",
              "  </thead>\n",
              "  <tbody>\n",
              "    <tr>\n",
              "      <th>3</th>\n",
              "      <td>A</td>\n",
              "      <td>533</td>\n",
              "      <td>75</td>\n",
              "      <td>25</td>\n",
              "      <td>3</td>\n",
              "      <td>20</td>\n",
              "      <td>50</td>\n",
              "      <td>5</td>\n",
              "      <td>84</td>\n",
              "      <td>0</td>\n",
              "      <td>18</td>\n",
              "      <td>55</td>\n",
              "      <td>123</td>\n",
              "      <td>0.231</td>\n",
              "      <td>0.294</td>\n",
              "      <td>0.402</td>\n",
              "      <td>0.695</td>\n",
              "    </tr>\n",
              "    <tr>\n",
              "      <th>44</th>\n",
              "      <td>B</td>\n",
              "      <td>552</td>\n",
              "      <td>68</td>\n",
              "      <td>28</td>\n",
              "      <td>4</td>\n",
              "      <td>34</td>\n",
              "      <td>48</td>\n",
              "      <td>5</td>\n",
              "      <td>92</td>\n",
              "      <td>0</td>\n",
              "      <td>26</td>\n",
              "      <td>53</td>\n",
              "      <td>134</td>\n",
              "      <td>0.243</td>\n",
              "      <td>0.296</td>\n",
              "      <td>0.493</td>\n",
              "      <td>0.789</td>\n",
              "    </tr>\n",
              "    <tr>\n",
              "      <th>8</th>\n",
              "      <td>C</td>\n",
              "      <td>578</td>\n",
              "      <td>120</td>\n",
              "      <td>32</td>\n",
              "      <td>8</td>\n",
              "      <td>12</td>\n",
              "      <td>62</td>\n",
              "      <td>7</td>\n",
              "      <td>98</td>\n",
              "      <td>15</td>\n",
              "      <td>6</td>\n",
              "      <td>69</td>\n",
              "      <td>172</td>\n",
              "      <td>0.298</td>\n",
              "      <td>0.369</td>\n",
              "      <td>0.443</td>\n",
              "      <td>0.812</td>\n",
              "    </tr>\n",
              "    <tr>\n",
              "      <th>6</th>\n",
              "      <td>D</td>\n",
              "      <td>501</td>\n",
              "      <td>90</td>\n",
              "      <td>18</td>\n",
              "      <td>2</td>\n",
              "      <td>25</td>\n",
              "      <td>37</td>\n",
              "      <td>5</td>\n",
              "      <td>72</td>\n",
              "      <td>1</td>\n",
              "      <td>20</td>\n",
              "      <td>42</td>\n",
              "      <td>135</td>\n",
              "      <td>0.269</td>\n",
              "      <td>0.314</td>\n",
              "      <td>0.463</td>\n",
              "      <td>0.777</td>\n",
              "    </tr>\n",
              "    <tr>\n",
              "      <th>31</th>\n",
              "      <td>E</td>\n",
              "      <td>492</td>\n",
              "      <td>98</td>\n",
              "      <td>24</td>\n",
              "      <td>4</td>\n",
              "      <td>24</td>\n",
              "      <td>56</td>\n",
              "      <td>3</td>\n",
              "      <td>54</td>\n",
              "      <td>0</td>\n",
              "      <td>22</td>\n",
              "      <td>59</td>\n",
              "      <td>150</td>\n",
              "      <td>0.305</td>\n",
              "      <td>0.365</td>\n",
              "      <td>0.516</td>\n",
              "      <td>0.881</td>\n",
              "    </tr>\n",
              "    <tr>\n",
              "      <th>9</th>\n",
              "      <td>F</td>\n",
              "      <td>454</td>\n",
              "      <td>96</td>\n",
              "      <td>11</td>\n",
              "      <td>2</td>\n",
              "      <td>6</td>\n",
              "      <td>33</td>\n",
              "      <td>0</td>\n",
              "      <td>42</td>\n",
              "      <td>10</td>\n",
              "      <td>6</td>\n",
              "      <td>33</td>\n",
              "      <td>115</td>\n",
              "      <td>0.253</td>\n",
              "      <td>0.300</td>\n",
              "      <td>0.326</td>\n",
              "      <td>0.626</td>\n",
              "    </tr>\n",
              "    <tr>\n",
              "      <th>55</th>\n",
              "      <td>G</td>\n",
              "      <td>413</td>\n",
              "      <td>82</td>\n",
              "      <td>7</td>\n",
              "      <td>1</td>\n",
              "      <td>16</td>\n",
              "      <td>35</td>\n",
              "      <td>1</td>\n",
              "      <td>64</td>\n",
              "      <td>3</td>\n",
              "      <td>4</td>\n",
              "      <td>36</td>\n",
              "      <td>106</td>\n",
              "      <td>0.257</td>\n",
              "      <td>0.313</td>\n",
              "      <td>0.395</td>\n",
              "      <td>0.708</td>\n",
              "    </tr>\n",
              "    <tr>\n",
              "      <th>2</th>\n",
              "      <td>H</td>\n",
              "      <td>412</td>\n",
              "      <td>107</td>\n",
              "      <td>14</td>\n",
              "      <td>2</td>\n",
              "      <td>5</td>\n",
              "      <td>25</td>\n",
              "      <td>0</td>\n",
              "      <td>39</td>\n",
              "      <td>4</td>\n",
              "      <td>2</td>\n",
              "      <td>25</td>\n",
              "      <td>128</td>\n",
              "      <td>0.311</td>\n",
              "      <td>0.349</td>\n",
              "      <td>0.391</td>\n",
              "      <td>0.739</td>\n",
              "    </tr>\n",
              "    <tr>\n",
              "      <th>33</th>\n",
              "      <td>F</td>\n",
              "      <td>402</td>\n",
              "      <td>99</td>\n",
              "      <td>5</td>\n",
              "      <td>0</td>\n",
              "      <td>8</td>\n",
              "      <td>22</td>\n",
              "      <td>0</td>\n",
              "      <td>44</td>\n",
              "      <td>2</td>\n",
              "      <td>1</td>\n",
              "      <td>22</td>\n",
              "      <td>112</td>\n",
              "      <td>0.279</td>\n",
              "      <td>0.315</td>\n",
              "      <td>0.351</td>\n",
              "      <td>0.666</td>\n",
              "    </tr>\n",
              "  </tbody>\n",
              "</table>\n",
              "</div>"
            ],
            "text/plain": [
              "    名前   打数   単打  二塁打  三塁打  本塁打  四球  ...  犠飛  四死球   安打    打率   出塁率   長打率   OPS\n",
              "背番号                                  ...                                      \n",
              "3    A  533   75   25    3   20  50  ...  18   55  123 0.231 0.294 0.402 0.695\n",
              "44   B  552   68   28    4   34  48  ...  26   53  134 0.243 0.296 0.493 0.789\n",
              "8    C  578  120   32    8   12  62  ...   6   69  172 0.298 0.369 0.443 0.812\n",
              "6    D  501   90   18    2   25  37  ...  20   42  135 0.269 0.314 0.463 0.777\n",
              "31   E  492   98   24    4   24  56  ...  22   59  150 0.305 0.365 0.516 0.881\n",
              "9    F  454   96   11    2    6  33  ...   6   33  115 0.253 0.300 0.326 0.626\n",
              "55   G  413   82    7    1   16  35  ...   4   36  106 0.257 0.313 0.395 0.708\n",
              "2    H  412  107   14    2    5  25  ...   2   25  128 0.311 0.349 0.391 0.739\n",
              "33   F  402   99    5    0    8  22  ...   1   22  112 0.279 0.315 0.351 0.666\n",
              "\n",
              "[9 rows x 17 columns]"
            ]
          },
          "metadata": {
            "tags": []
          },
          "execution_count": 24
        }
      ]
    },
    {
      "cell_type": "markdown",
      "metadata": {
        "id": "L9HQJVNlpWlb"
      },
      "source": [
        "# pandas - part3 - ファイルの出力 - Training\n",
        "\n",
        "---"
      ]
    },
    {
      "cell_type": "markdown",
      "metadata": {
        "id": "eg_nBtYTEfOs"
      },
      "source": [
        "## 3.1 baseball データフレーム を baseball_ops.csvとして出力してください。"
      ]
    },
    {
      "cell_type": "code",
      "metadata": {
        "id": "5Xzh0XcUp2vw"
      },
      "source": [
        ""
      ],
      "execution_count": 25,
      "outputs": []
    },
    {
      "cell_type": "markdown",
      "metadata": {
        "id": "DR7dTcH3EqY9"
      },
      "source": [
        "## 3.2 baseball データフレーム を baseball_ops.jsonとして出力してください。"
      ]
    },
    {
      "cell_type": "code",
      "metadata": {
        "id": "dMsQhbGuv9J-"
      },
      "source": [
        ""
      ],
      "execution_count": 26,
      "outputs": []
    },
    {
      "cell_type": "markdown",
      "metadata": {
        "id": "b2SRgZzMVJs0"
      },
      "source": [
        "# pandas - part4 - グラフの描画 - Training\n",
        "\n",
        "---"
      ]
    },
    {
      "cell_type": "markdown",
      "metadata": {
        "id": "Nq1dq6dzExa6"
      },
      "source": [
        "## 4.1 四球を箱ひげ図で出力してください。"
      ]
    },
    {
      "cell_type": "code",
      "metadata": {
        "id": "77qleTVwYN5x",
        "colab": {
          "base_uri": "https://localhost:8080/",
          "height": 281
        },
        "outputId": "73dcbdf7-d3bc-42fe-b1d3-1339039fe3ca"
      },
      "source": [
        ""
      ],
      "execution_count": 27,
      "outputs": [
        {
          "output_type": "execute_result",
          "data": {
            "text/plain": [
              "<matplotlib.axes._subplots.AxesSubplot at 0x7effc9c93898>"
            ]
          },
          "metadata": {
            "tags": []
          },
          "execution_count": 27
        },
        {
          "output_type": "display_data",
          "data": {
            "image/png": "[encoded data removed]",
            "text/plain": [
              "<Figure size 432x288 with 1 Axes>"
            ]
          },
          "metadata": {
            "tags": [],
            "needs_background": "light"
          }
        }
      ]
    },
    {
      "cell_type": "markdown",
      "metadata": {
        "id": "goq2o8gkE2uD"
      },
      "source": [
        "## 4.2 二塁打、三塁打、本塁打を箱ひげ図で出力してください。"
      ]
    },
    {
      "cell_type": "code",
      "metadata": {
        "id": "FkEhuw0XX2xp",
        "colab": {
          "base_uri": "https://localhost:8080/",
          "height": 281
        },
        "outputId": "176c013b-b1a0-4f20-8aa1-b578e1d13720"
      },
      "source": [
        ""
      ],
      "execution_count": 28,
      "outputs": [
        {
          "output_type": "execute_result",
          "data": {
            "text/plain": [
              "<matplotlib.axes._subplots.AxesSubplot at 0x7effc9bdd4e0>"
            ]
          },
          "metadata": {
            "tags": []
          },
          "execution_count": 28
        },
        {
          "output_type": "display_data",
          "data": {
            "image/png": "[encoded data removed]",
            "text/plain": [
              "<Figure size 432x288 with 1 Axes>"
            ]
          },
          "metadata": {
            "tags": [],
            "needs_background": "light"
          }
        }
      ]
    },
    {
      "cell_type": "markdown",
      "metadata": {
        "id": "TW5bbUpRE7zj"
      },
      "source": [
        "## 4.3 三振と本塁打の散布図を出力してください。"
      ]
    },
    {
      "cell_type": "code",
      "metadata": {
        "id": "eyGvpHKeWWeN",
        "colab": {
          "base_uri": "https://localhost:8080/",
          "height": 295
        },
        "outputId": "73ad2510-1542-445b-e82d-926177833eda"
      },
      "source": [
        ""
      ],
      "execution_count": 29,
      "outputs": [
        {
          "output_type": "execute_result",
          "data": {
            "text/plain": [
              "<matplotlib.axes._subplots.AxesSubplot at 0x7effc973ad30>"
            ]
          },
          "metadata": {
            "tags": []
          },
          "execution_count": 29
        },
        {
          "output_type": "display_data",
          "data": {
            "image/png": "[encoded data removed]",
            "text/plain": [
              "<Figure size 432x288 with 1 Axes>"
            ]
          },
          "metadata": {
            "tags": [],
            "needs_background": "light"
          }
        }
      ]
    },
    {
      "cell_type": "markdown",
      "metadata": {
        "id": "xudcrVngFALS"
      },
      "source": [
        "## 4.4 出塁率と長打率の棒グラフを出力してください。"
      ]
    },
    {
      "cell_type": "code",
      "metadata": {
        "id": "acwhc_t5VKyU",
        "colab": {
          "base_uri": "https://localhost:8080/",
          "height": 298
        },
        "outputId": "df5f509e-e921-491a-9c8c-e91bcd48565d"
      },
      "source": [
        ""
      ],
      "execution_count": 30,
      "outputs": [
        {
          "output_type": "execute_result",
          "data": {
            "text/plain": [
              "<matplotlib.axes._subplots.AxesSubplot at 0x7effc970a550>"
            ]
          },
          "metadata": {
            "tags": []
          },
          "execution_count": 30
        },
        {
          "output_type": "display_data",
          "data": {
            "image/png": "[encoded data removed]",
            "text/plain": [
              "<Figure size 432x288 with 1 Axes>"
            ]
          },
          "metadata": {
            "tags": [],
            "needs_background": "light"
          }
        }
      ]
    },
    {
      "cell_type": "markdown",
      "metadata": {
        "id": "BtxmJUZfFHXh"
      },
      "source": [
        "## 4.5 背番号44の単打、二塁打、三塁打、本塁打の円グラフを出力してください。"
      ]
    },
    {
      "cell_type": "code",
      "metadata": {
        "id": "thtbjS0VYnHD",
        "colab": {
          "base_uri": "https://localhost:8080/",
          "height": 265
        },
        "outputId": "116fb01c-0bc7-47df-e3f3-a13ecafe5b8d"
      },
      "source": [
        ""
      ],
      "execution_count": 31,
      "outputs": [
        {
          "output_type": "execute_result",
          "data": {
            "text/plain": [
              "<matplotlib.axes._subplots.AxesSubplot at 0x7effc95d6c50>"
            ]
          },
          "metadata": {
            "tags": []
          },
          "execution_count": 31
        },
        {
          "output_type": "display_data",
          "data": {
            "image/png": "[encoded data removed]",
            "text/plain": [
              "<Figure size 432x288 with 1 Axes>"
            ]
          },
          "metadata": {
            "tags": []
          }
        }
      ]
    }
  ]
}